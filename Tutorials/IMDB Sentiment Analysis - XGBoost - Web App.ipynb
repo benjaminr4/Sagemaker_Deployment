{
 "cells": [
  {
   "cell_type": "markdown",
   "metadata": {},
   "source": [
    "# Sentiment Analysis Web App\n",
    "\n",
    "_Deep Learning Nanodegree Program | Deployment_\n",
    "\n",
    "---\n",
    "\n",
    "In this notebook we will use Amazon's SageMaker service to construct a random tree model to predict the sentiment of a movie review. In addition, we will deploy this model to an endpoint and construct a very simple web app which will interact with our model's deployed endpoint.\n",
    "\n",
    "## General Outline\n",
    "\n",
    "Typically, when using a notebook instance with SageMaker, you will proceed through the following steps. Of course, not every step will need to be done with each project. Also, there is quite a lot of room for variation in many of the steps, as you will see throughout these lessons.\n",
    "\n",
    "1. Download or otherwise retrieve the data.\n",
    "2. Process / Prepare the data.\n",
    "3. Upload the processed data to S3.\n",
    "4. Train a chosen model.\n",
    "5. Test the trained model (typically using a batch transform job).\n",
    "6. Deploy the trained model.\n",
    "7. Use the deployed model.\n",
    "\n",
    "In this notebook we will progress through each of the steps above. We will also see that the final step, using the deployed model, can be quite challenging."
   ]
  },
  {
   "cell_type": "code",
   "execution_count": 1,
   "metadata": {},
   "outputs": [
    {
     "name": "stdout",
     "output_type": "stream",
     "text": [
      "Collecting package metadata (current_repodata.json): done\n",
      "Solving environment: - \n",
      "The environment is inconsistent, please check the package plan carefully\n",
      "The following packages are causing the inconsistency:\n",
      "\n",
      "  - defaults/linux-64::pandas==1.0.1=py36h0573a6f_0\n",
      "  - defaults/noarch::jupyterlab==1.2.6=pyhf63ae98_0\n",
      "  - defaults/linux-64::scikit-learn==0.22.1=py36hd81dba3_0\n",
      "  - defaults/linux-64::python-language-server==0.31.7=py36_0\n",
      "  - defaults/linux-64::bkcharts==0.2=py36_0\n",
      "  - defaults/linux-64::nb_conda==2.2.1=py36_0\n",
      "  - defaults/noarch::numpydoc==0.9.2=py_0\n",
      "  - defaults/linux-64::pytest-arraydiff==0.3=py36h39e3cac_0\n",
      "  - defaults/linux-64::bottleneck==1.3.2=py36heb32a55_0\n",
      "  - defaults/linux-64::pywavelets==1.1.1=py36h7b6447c_0\n",
      "  - defaults/noarch::pytest-astropy==0.8.0=py_0\n",
      "  - defaults/linux-64::numexpr==2.7.1=py36h423224d_0\n",
      "  - defaults/noarch::anaconda-project==0.8.4=py_0\n",
      "  - defaults/linux-64::nbconvert==5.6.1=py36_0\n",
      "  - defaults/linux-64::h5py==2.10.0=py36h7918eee_0\n",
      "  - defaults/linux-64::bokeh==1.4.0=py36_0\n",
      "  - defaults/noarch::jupyterlab_server==1.0.6=py_0\n",
      "  - defaults/linux-64::numpy-base==1.18.1=py36hde5b4d6_1\n",
      "  - defaults/linux-64::jupyter==1.0.0=py36_7\n",
      "  - defaults/linux-64::astropy==4.0=py36h7b6447c_0\n",
      "  - defaults/linux-64::patsy==0.5.1=py36_0\n",
      "  - defaults/linux-64::scikit-image==0.16.2=py36h0573a6f_0\n",
      "  - defaults/linux-64::matplotlib-base==3.1.3=py36hef1b27d_0\n",
      "  - defaults/linux-64::imageio==2.6.1=py36_0\n",
      "  - defaults/linux-64::pytables==3.6.1=py36h71ec239_0\n",
      "  - defaults/linux-64::nb_conda_kernels==2.2.4=py36_0\n",
      "  - defaults/linux-64::mkl_fft==1.0.15=py36ha843d7b_0\n",
      "  - defaults/linux-64::statsmodels==0.11.0=py36h7b6447c_0\n",
      "  - defaults/linux-64::spyder==4.0.1=py36_0\n",
      "  - defaults/noarch::seaborn==0.10.0=py_0\n",
      "  - defaults/linux-64::requests==2.22.0=py36_1\n",
      "  - defaults/linux-64::numba==0.48.0=py36h0573a6f_0\n",
      "  - defaults/linux-64::scipy==1.4.1=py36h0b6359f_0\n",
      "  - defaults/noarch::pytest-doctestplus==0.5.0=py_0\n",
      "  - defaults/linux-64::mkl_random==1.1.0=py36hd6b4f25_0\n",
      "  - defaults/noarch::dask==2.11.0=py_0\n",
      "  - defaults/noarch::ipywidgets==7.5.1=py_0\n",
      "  - defaults/linux-64::widgetsnbextension==3.5.1=py36_0\n",
      "  - defaults/noarch::s3fs==0.4.2=py_0\n",
      "  - defaults/linux-64::notebook==6.0.3=py36_0\n",
      "  - defaults/linux-64::matplotlib==3.1.3=py36_0\n",
      "  - defaults/linux-64::anaconda-client==1.7.2=py36_0\n",
      "  - defaults/linux-64::numpy==1.18.1=py36h4f9e942_0\n",
      "failed with initial frozen solve. Retrying with flexible solve.\n",
      "Solving environment: failed with repodata from current_repodata.json, will retry with next repodata source.\n",
      "Collecting package metadata (repodata.json): done\n",
      "Solving environment: / \n",
      "The environment is inconsistent, please check the package plan carefully\n",
      "The following packages are causing the inconsistency:\n",
      "\n",
      "  - defaults/noarch::jupyterlab==1.2.6=pyhf63ae98_0\n",
      "  - defaults/linux-64::python-language-server==0.31.7=py36_0\n",
      "  - defaults/linux-64::nb_conda==2.2.1=py36_0\n",
      "  - defaults/noarch::numpydoc==0.9.2=py_0\n",
      "  - defaults/noarch::anaconda-project==0.8.4=py_0\n",
      "  - defaults/linux-64::nbconvert==5.6.1=py36_0\n",
      "  - defaults/linux-64::bokeh==1.4.0=py36_0\n",
      "  - defaults/noarch::jupyterlab_server==1.0.6=py_0\n",
      "  - defaults/linux-64::jupyter==1.0.0=py36_7\n",
      "  - defaults/linux-64::scikit-image==0.16.2=py36h0573a6f_0\n",
      "  - defaults/linux-64::imageio==2.6.1=py36_0\n",
      "  - defaults/linux-64::nb_conda_kernels==2.2.4=py36_0\n",
      "  - defaults/linux-64::spyder==4.0.1=py36_0\n",
      "  - defaults/linux-64::requests==2.22.0=py36_1\n",
      "  - defaults/noarch::dask==2.11.0=py_0\n",
      "  - defaults/noarch::ipywidgets==7.5.1=py_0\n",
      "  - defaults/linux-64::widgetsnbextension==3.5.1=py36_0\n",
      "  - defaults/noarch::s3fs==0.4.2=py_0\n",
      "  - defaults/linux-64::notebook==6.0.3=py36_0\n",
      "  - defaults/linux-64::anaconda-client==1.7.2=py36_0\n",
      "done\n",
      "\n",
      "\n",
      "==> WARNING: A newer version of conda exists. <==\n",
      "  current version: 4.8.3\n",
      "  latest version: 4.9.2\n",
      "\n",
      "Please update conda by running\n",
      "\n",
      "    $ conda update -n base conda\n",
      "\n",
      "\n",
      "\n",
      "## Package Plan ##\n",
      "\n",
      "  environment location: /home/ec2-user/anaconda3/envs/python3\n",
      "\n",
      "  added / updated specs:\n",
      "    - xgboost\n",
      "\n",
      "\n",
      "The following packages will be downloaded:\n",
      "\n",
      "    package                    |            build\n",
      "    ---------------------------|-----------------\n",
      "    _py-xgboost-mutex-2.0      |            cpu_0           8 KB  conda-forge\n",
      "    astroid-2.4.2              |   py36h9f0ad1d_1         297 KB  conda-forge\n",
      "    boto3-1.16.22              |     pyhd8ed1ab_0          70 KB  conda-forge\n",
      "    botocore-1.19.22           |     pyhd8ed1ab_0         4.2 MB  conda-forge\n",
      "    ca-certificates-2020.11.8  |       ha878542_0         145 KB  conda-forge\n",
      "    certifi-2020.11.8          |   py36h5fab9bb_0         150 KB  conda-forge\n",
      "    docutils-0.16              |   py36h9880bd3_2         736 KB  conda-forge\n",
      "    libxgboost-1.2.0           |       he1b5a44_0         3.1 MB  conda-forge\n",
      "    pillow-7.1.2               |   py36hb39fc2d_0         604 KB\n",
      "    py-xgboost-1.2.0           |   py36h9f0ad1d_0         1.7 MB  conda-forge\n",
      "    pylint-2.6.0               |   py36h9f0ad1d_1         446 KB  conda-forge\n",
      "    sphinx-3.3.1               |     pyhd8ed1ab_0         1.5 MB  conda-forge\n",
      "    toml-0.10.2                |     pyhd8ed1ab_0          18 KB  conda-forge\n",
      "    xgboost-1.2.0              |   py36h831f99a_0          11 KB  conda-forge\n",
      "    ------------------------------------------------------------\n",
      "                                           Total:        12.8 MB\n",
      "\n",
      "The following NEW packages will be INSTALLED:\n",
      "\n",
      "  _py-xgboost-mutex  conda-forge/linux-64::_py-xgboost-mutex-2.0-cpu_0\n",
      "  astroid            conda-forge/linux-64::astroid-2.4.2-py36h9f0ad1d_1\n",
      "  bleach             conda-forge/noarch::bleach-3.2.1-pyh9f0ad1d_0\n",
      "  boto3              conda-forge/noarch::boto3-1.16.22-pyhd8ed1ab_0\n",
      "  botocore           conda-forge/noarch::botocore-1.19.22-pyhd8ed1ab_0\n",
      "  brotlipy           conda-forge/linux-64::brotlipy-0.7.0-py36he6145b8_1001\n",
      "  docutils           conda-forge/linux-64::docutils-0.16-py36h9880bd3_2\n",
      "  libxgboost         conda-forge/linux-64::libxgboost-1.2.0-he1b5a44_0\n",
      "  pillow             pkgs/main/linux-64::pillow-7.1.2-py36hb39fc2d_0\n",
      "  py-xgboost         conda-forge/linux-64::py-xgboost-1.2.0-py36h9f0ad1d_0\n",
      "  pylint             conda-forge/linux-64::pylint-2.6.0-py36h9f0ad1d_1\n",
      "  s3transfer         conda-forge/noarch::s3transfer-0.3.3-py_3\n",
      "  sphinx             conda-forge/noarch::sphinx-3.3.1-pyhd8ed1ab_0\n",
      "  toml               conda-forge/noarch::toml-0.10.2-pyhd8ed1ab_0\n",
      "  urllib3            conda-forge/noarch::urllib3-1.25.11-py_0\n",
      "  xgboost            conda-forge/linux-64::xgboost-1.2.0-py36h831f99a_0\n",
      "\n",
      "The following packages will be UPDATED:\n",
      "\n",
      "  ca-certificates                      2020.6.20-hecda079_0 --> 2020.11.8-ha878542_0\n",
      "  certifi                          2020.6.20-py36h9880bd3_2 --> 2020.11.8-py36h5fab9bb_0\n",
      "\n",
      "\n",
      "\n",
      "Downloading and Extracting Packages\n",
      "libxgboost-1.2.0     | 3.1 MB    | ##################################### | 100% \n",
      "docutils-0.16        | 736 KB    | ##################################### | 100% \n",
      "pillow-7.1.2         | 604 KB    | ##################################### | 100% \n",
      "sphinx-3.3.1         | 1.5 MB    | ##################################### | 100% \n",
      "xgboost-1.2.0        | 11 KB     | ##################################### | 100% \n",
      "botocore-1.19.22     | 4.2 MB    | ##################################### | 100% \n",
      "ca-certificates-2020 | 145 KB    | ##################################### | 100% \n",
      "_py-xgboost-mutex-2. | 8 KB      | ##################################### | 100% \n",
      "py-xgboost-1.2.0     | 1.7 MB    | ##################################### | 100% \n",
      "astroid-2.4.2        | 297 KB    | ##################################### | 100% \n",
      "certifi-2020.11.8    | 150 KB    | ##################################### | 100% \n",
      "toml-0.10.2          | 18 KB     | ##################################### | 100% \n",
      "boto3-1.16.22        | 70 KB     | ##################################### | 100% \n",
      "pylint-2.6.0         | 446 KB    | ##################################### | 100% \n",
      "Preparing transaction: done\n",
      "Verifying transaction: done\n",
      "Executing transaction: done\n"
     ]
    }
   ],
   "source": [
    "#Benjamin\n",
    "!conda install -y -c conda-forge xgboost"
   ]
  },
  {
   "cell_type": "code",
   "execution_count": 48,
   "metadata": {},
   "outputs": [
    {
     "ename": "SyntaxError",
     "evalue": "invalid syntax (<ipython-input-48-3712fda9adc4>, line 2)",
     "output_type": "error",
     "traceback": [
      "\u001b[0;36m  File \u001b[0;32m\"<ipython-input-48-3712fda9adc4>\"\u001b[0;36m, line \u001b[0;32m2\u001b[0m\n\u001b[0;31m    conda update -n base conda\u001b[0m\n\u001b[0m               ^\u001b[0m\n\u001b[0;31mSyntaxError\u001b[0m\u001b[0;31m:\u001b[0m invalid syntax\n"
     ]
    }
   ],
   "source": [
    "#Benjamin\n",
    "#conda update -n base conda"
   ]
  },
  {
   "cell_type": "markdown",
   "metadata": {},
   "source": []
  },
  {
   "cell_type": "markdown",
   "metadata": {},
   "source": [
    "## Step 1: Downloading the data\n",
    "\n",
    "The dataset we are going to use is very popular among researchers in Natural Language Processing, usually referred to as the [IMDb dataset](http://ai.stanford.edu/~amaas/data/sentiment/). It consists of movie reviews from the website [imdb.com](http://www.imdb.com/), each labeled as either '**pos**itive', if the reviewer enjoyed the film, or '**neg**ative' otherwise.\n",
    "\n",
    "> Maas, Andrew L., et al. [Learning Word Vectors for Sentiment Analysis](http://ai.stanford.edu/~amaas/data/sentiment/). In _Proceedings of the 49th Annual Meeting of the Association for Computational Linguistics: Human Language Technologies_. Association for Computational Linguistics, 2011.\n",
    "\n",
    "We begin by using some Jupyter Notebook magic to download and extract the dataset."
   ]
  },
  {
   "cell_type": "code",
   "execution_count": 2,
   "metadata": {},
   "outputs": [
    {
     "name": "stdout",
     "output_type": "stream",
     "text": [
      "mkdir: cannot create directory ‘../data’: File exists\n",
      "--2020-11-20 21:14:06--  http://ai.stanford.edu/~amaas/data/sentiment/aclImdb_v1.tar.gz\n",
      "Resolving ai.stanford.edu (ai.stanford.edu)... 171.64.68.10\n",
      "Connecting to ai.stanford.edu (ai.stanford.edu)|171.64.68.10|:80... connected.\n",
      "HTTP request sent, awaiting response... 200 OK\n",
      "Length: 84125825 (80M) [application/x-gzip]\n",
      "Saving to: ‘../data/aclImdb_v1.tar.gz’\n",
      "\n",
      "../data/aclImdb_v1. 100%[===================>]  80.23M  10.4MB/s    in 9.0s    \n",
      "\n",
      "2020-11-20 21:14:15 (8.94 MB/s) - ‘../data/aclImdb_v1.tar.gz’ saved [84125825/84125825]\n",
      "\n"
     ]
    }
   ],
   "source": [
    "%mkdir ../data\n",
    "!wget -O ../data/aclImdb_v1.tar.gz http://ai.stanford.edu/~amaas/data/sentiment/aclImdb_v1.tar.gz\n",
    "!tar -zxf ../data/aclImdb_v1.tar.gz -C ../data"
   ]
  },
  {
   "cell_type": "markdown",
   "metadata": {},
   "source": [
    "## Step 2: Preparing and Processing the data\n",
    "\n",
    "The data we have downloaded is split into various files, each of which contains a single review. It will be much easier going forward if we combine these individual files into two large files, one for training and one for testing."
   ]
  },
  {
   "cell_type": "code",
   "execution_count": 3,
   "metadata": {},
   "outputs": [],
   "source": [
    "import os\n",
    "import glob\n",
    "\n",
    "def read_imdb_data(data_dir='../data/aclImdb'):\n",
    "    data = {}\n",
    "    labels = {}\n",
    "    \n",
    "    for data_type in ['train', 'test']:\n",
    "        data[data_type] = {}\n",
    "        labels[data_type] = {}\n",
    "        \n",
    "        for sentiment in ['pos', 'neg']:\n",
    "            data[data_type][sentiment] = []\n",
    "            labels[data_type][sentiment] = []\n",
    "            \n",
    "            path = os.path.join(data_dir, data_type, sentiment, '*.txt')\n",
    "            files = glob.glob(path)\n",
    "            \n",
    "            for f in files:\n",
    "                with open(f) as review:\n",
    "                    data[data_type][sentiment].append(review.read())\n",
    "                    # Here we represent a positive review by '1' and a negative review by '0'\n",
    "                    labels[data_type][sentiment].append(1 if sentiment == 'pos' else 0)\n",
    "                    \n",
    "            assert len(data[data_type][sentiment]) == len(labels[data_type][sentiment]), \\\n",
    "                    \"{}/{} data size does not match labels size\".format(data_type, sentiment)\n",
    "                \n",
    "    return data, labels"
   ]
  },
  {
   "cell_type": "code",
   "execution_count": 4,
   "metadata": {},
   "outputs": [
    {
     "name": "stdout",
     "output_type": "stream",
     "text": [
      "IMDB reviews: train = 12500 pos / 12500 neg, test = 12500 pos / 12500 neg\n"
     ]
    }
   ],
   "source": [
    "data, labels = read_imdb_data()\n",
    "print(\"IMDB reviews: train = {} pos / {} neg, test = {} pos / {} neg\".format(\n",
    "            len(data['train']['pos']), len(data['train']['neg']),\n",
    "            len(data['test']['pos']), len(data['test']['neg'])))"
   ]
  },
  {
   "cell_type": "code",
   "execution_count": 5,
   "metadata": {},
   "outputs": [],
   "source": [
    "from sklearn.utils import shuffle\n",
    "\n",
    "def prepare_imdb_data(data, labels):\n",
    "    \"\"\"Prepare training and test sets from IMDb movie reviews.\"\"\"\n",
    "    \n",
    "    #Combine positive and negative reviews and labels\n",
    "    data_train = data['train']['pos'] + data['train']['neg']\n",
    "    data_test = data['test']['pos'] + data['test']['neg']\n",
    "    labels_train = labels['train']['pos'] + labels['train']['neg']\n",
    "    labels_test = labels['test']['pos'] + labels['test']['neg']\n",
    "    \n",
    "    #Shuffle reviews and corresponding labels within training and test sets\n",
    "    data_train, labels_train = shuffle(data_train, labels_train)\n",
    "    data_test, labels_test = shuffle(data_test, labels_test)\n",
    "    \n",
    "    # Return a unified training data, test data, training labels, test labets\n",
    "    return data_train, data_test, labels_train, labels_test"
   ]
  },
  {
   "cell_type": "code",
   "execution_count": 6,
   "metadata": {},
   "outputs": [
    {
     "name": "stdout",
     "output_type": "stream",
     "text": [
      "IMDb reviews (combined): train = 25000, test = 25000\n"
     ]
    }
   ],
   "source": [
    "train_X, test_X, train_y, test_y = prepare_imdb_data(data, labels)\n",
    "print(\"IMDb reviews (combined): train = {}, test = {}\".format(len(train_X), len(test_X)))"
   ]
  },
  {
   "cell_type": "code",
   "execution_count": 7,
   "metadata": {},
   "outputs": [
    {
     "data": {
      "text/plain": [
       "'This is loosely based on the ideas of the original 80\\'s hit . It\\'s set in the modern day as we see a base in Afghanistan get destroyed by a UAV right at the start.<br /><br />And that\\'s exactly where the movie jumps the shark. UAV\\'s aren\\'t armed. They could be but I don\\'t think it\\'s ever been tried for real. We get to see the computer that has masterminded this operation, called R.I.P.L.E.Y. We are introduced to \"hacker\" Will Farmer (he\\'s good at chemistry & electronics which doesn\\'t make him a computer hacker) & his love interest, Annie) & Will\\'s 1st attempt at hacking is not only a complete failure his IP address is also logged and Annie guessed who it was. We also meet Wills mom who works for a chemical company.<br /><br />Wills taking money from his neighbours bank account (Mr Massude) isn\\'t a hack (he helped him set up the account), we then get a nod back to the original movie where they decide against playing Global Thermonuclear War & they play The Dead Code. The trace the RIPLEY office are running is NOT on Will but on Massude\\'s pc so all the evidence they were gathering was useless against Will.<br /><br />Exactly why RIPLEY shut Will\\'s machine down isn\\'t explained (he\\'s only playing an online game?) & also why it felt the need to have to shut down all the electricity in the entire block he lived in as well. Why a counter terrorism agency would see this as a viable target is extremely questionable. As for RIPLEY activating his mobile phone? I think not, it wasn\\'t connected to the pc and the message wouldn\\'t play unless he actually answered the phone so there\\'s more bad \"hacking\" science there too.<br /><br />RIPLEY agents arrive at Massude\\'s home, take him away & Will is given a envelope which turns out to contain a lot of money. Will searching for the licence plate of the car that took Massude isn\\'t a \"hack\" as you never see him break into the DMV computer. The RIPLEY agents who grab Dennis in the airport as he\\'s looking for Will have no authority to arrest or detain him. Will\\'s mother hadn\\'t \"been stealing chemicals & Bio agents\" either. And even if she did they had no right to arrest or detain Dennis. Patriot Act or not.<br /><br />I don\\'t know why Will was worried about being arrested for any crime in Canada as its a totally different country with different laws to the US.<br /><br />The computer has gone rogue and all the action its taken against Will, his mother & Dennis wasn\\'t sanctioned by a Government agency. The phone phreak we see Will do is the 1st show of any hacking skill in the movie, we also get a hack into RIPLEY which seemed too easy for such a powerful system.<br /><br />The \"guy\" who ran into Annie at the airport & was also watching them in the street was nothing to do with RIPLEY & the laughable notion that RIPLEY could track a cellphone whilst underground was as stupid as the idea that a computer reads lips.<br /><br />Another reference to the original movie when they mention Stephen Falken as the designer of the system RIPLEY replaced, the Joshua Project. We discover that the \"guy\" who ran into Annie is Falken (not played by the original actor sadly) who faked his own death.<br /><br />We also get to see WOPR as \"what\\'s going to help\" them beat RIPLEY and they kept the same voice used back then. Falken & WOPR are destroyed too quickly after being hardly used at all (the same explosion should kill Will, Annie & the Russian. It\\'s also unlikely they\\'d create a self-contained computer system that has the ability to nuke or drop chemical weapons on the country it operates out of.<br /><br />The whole \"Decontamination\" plot & idea are totally unbelievable. Those kinds of orders would have to go through the President or Joint Chiefs Of Staff. So yet another laughable & unbelievable idea.<br /><br />The IP hacks against RIPLEY aren\\'t done by Will, he just contacts one of his friends who suggests & implements the idea. It\\'s excessively laughable that Will would get a login just from increasing RIPLEY\\'s operating temperature. Having Joshua as a backdoor into RIPLEY (especially after it had been blown to bits) is an incredible cop-out and screams of a very desperate writer who had no ideas left and wanted to get this movie over and done with.<br /><br />There is an awful good where RIPLEY is playing Dead Code and we see a countdown (saying 17 minutes) then RIPLEY says \"Decontamination in 30 minutes\", how crap is that when they can\\'t even keep up with their own timer? RIPLEY\\'s attack mission against Philadelphia is halted (far too easily in my opinion) and it decides to attack Joshua in its internal circuits and reroutes the missile aimed a Philly to Washington where RIPLEY is stationed. The idea of the Nuclear exchange to make RIPLEY realise what she\\'s doing won\\'t work (surely she\\'d already know if she had Joshua insider her as he\\'d already learnt this lesson in the original movie?) is yet another nod back to the original movie.<br /><br />Their cop-out at having RIPLEY repeat Joshua\\'s exact same words form the end of the original movie just goes to show how many original ideas they were unable to come up with.<br /><br />If you want to point fingers for bad & stolen ideas the men to blame are Randall Badat & Rob Kerchner. This is an awful movie and is best avoided.'"
      ]
     },
     "execution_count": 7,
     "metadata": {},
     "output_type": "execute_result"
    }
   ],
   "source": [
    "train_X[100]"
   ]
  },
  {
   "cell_type": "markdown",
   "metadata": {},
   "source": [
    "## Processing the data\n",
    "\n",
    "Now that we have our training and testing datasets merged and ready to use, we need to start processing the raw data into something that will be useable by our machine learning algorithm. To begin with, we remove any html formatting and any non-alpha numeric characters that may appear in the reviews. We will do this in a very simplistic way using Python's regular expression module. We will discuss the reason for this rather simplistic pre-processing later on."
   ]
  },
  {
   "cell_type": "code",
   "execution_count": 8,
   "metadata": {},
   "outputs": [],
   "source": [
    "import re\n",
    "\n",
    "REPLACE_NO_SPACE = re.compile(\"(\\.)|(\\;)|(\\:)|(\\!)|(\\')|(\\?)|(\\,)|(\\\")|(\\()|(\\))|(\\[)|(\\])\")\n",
    "REPLACE_WITH_SPACE = re.compile(\"(<br\\s*/><br\\s*/>)|(\\-)|(\\/)\")\n",
    "\n",
    "def review_to_words(review):\n",
    "    words = REPLACE_NO_SPACE.sub(\"\", review.lower())\n",
    "    words = REPLACE_WITH_SPACE.sub(\" \", words)\n",
    "    return words"
   ]
  },
  {
   "cell_type": "code",
   "execution_count": 9,
   "metadata": {},
   "outputs": [
    {
     "data": {
      "text/plain": [
       "'this is loosely based on the ideas of the original 80s hit  its set in the modern day as we see a base in afghanistan get destroyed by a uav right at the start and thats exactly where the movie jumps the shark uavs arent armed they could be but i dont think its ever been tried for real we get to see the computer that has masterminded this operation called ripley we are introduced to hacker will farmer hes good at chemistry & electronics which doesnt make him a computer hacker & his love interest annie & wills 1st attempt at hacking is not only a complete failure his ip address is also logged and annie guessed who it was we also meet wills mom who works for a chemical company wills taking money from his neighbours bank account mr massude isnt a hack he helped him set up the account we then get a nod back to the original movie where they decide against playing global thermonuclear war & they play the dead code the trace the ripley office are running is not on will but on massudes pc so all the evidence they were gathering was useless against will exactly why ripley shut wills machine down isnt explained hes only playing an online game & also why it felt the need to have to shut down all the electricity in the entire block he lived in as well why a counter terrorism agency would see this as a viable target is extremely questionable as for ripley activating his mobile phone i think not it wasnt connected to the pc and the message wouldnt play unless he actually answered the phone so theres more bad hacking science there too ripley agents arrive at massudes home take him away & will is given a envelope which turns out to contain a lot of money will searching for the licence plate of the car that took massude isnt a hack as you never see him break into the dmv computer the ripley agents who grab dennis in the airport as hes looking for will have no authority to arrest or detain him wills mother hadnt been stealing chemicals & bio agents either and even if she did they had no right to arrest or detain dennis patriot act or not i dont know why will was worried about being arrested for any crime in canada as its a totally different country with different laws to the us the computer has gone rogue and all the action its taken against will his mother & dennis wasnt sanctioned by a government agency the phone phreak we see will do is the 1st show of any hacking skill in the movie we also get a hack into ripley which seemed too easy for such a powerful system the guy who ran into annie at the airport & was also watching them in the street was nothing to do with ripley & the laughable notion that ripley could track a cellphone whilst underground was as stupid as the idea that a computer reads lips another reference to the original movie when they mention stephen falken as the designer of the system ripley replaced the joshua project we discover that the guy who ran into annie is falken not played by the original actor sadly who faked his own death we also get to see wopr as whats going to help them beat ripley and they kept the same voice used back then falken & wopr are destroyed too quickly after being hardly used at all the same explosion should kill will annie & the russian its also unlikely theyd create a self contained computer system that has the ability to nuke or drop chemical weapons on the country it operates out of the whole decontamination plot & idea are totally unbelievable those kinds of orders would have to go through the president or joint chiefs of staff so yet another laughable & unbelievable idea the ip hacks against ripley arent done by will he just contacts one of his friends who suggests & implements the idea its excessively laughable that will would get a login just from increasing ripleys operating temperature having joshua as a backdoor into ripley especially after it had been blown to bits is an incredible cop out and screams of a very desperate writer who had no ideas left and wanted to get this movie over and done with there is an awful good where ripley is playing dead code and we see a countdown saying 17 minutes then ripley says decontamination in 30 minutes how crap is that when they cant even keep up with their own timer ripleys attack mission against philadelphia is halted far too easily in my opinion and it decides to attack joshua in its internal circuits and reroutes the missile aimed a philly to washington where ripley is stationed the idea of the nuclear exchange to make ripley realise what shes doing wont work surely shed already know if she had joshua insider her as hed already learnt this lesson in the original movie is yet another nod back to the original movie their cop out at having ripley repeat joshuas exact same words form the end of the original movie just goes to show how many original ideas they were unable to come up with if you want to point fingers for bad & stolen ideas the men to blame are randall badat & rob kerchner this is an awful movie and is best avoided'"
      ]
     },
     "execution_count": 9,
     "metadata": {},
     "output_type": "execute_result"
    }
   ],
   "source": [
    "review_to_words(train_X[100])"
   ]
  },
  {
   "cell_type": "code",
   "execution_count": 10,
   "metadata": {},
   "outputs": [],
   "source": [
    "import pickle\n",
    "\n",
    "cache_dir = os.path.join(\"../cache\", \"sentiment_web_app\")  # where to store cache files\n",
    "#Benjamin commenting this out\n",
    "os.makedirs(cache_dir,  exist_ok=True)  # ensure cache directory exists\n",
    "\n",
    "def preprocess_data(data_train, data_test, labels_train, labels_test,\n",
    "                    cache_dir=cache_dir, cache_file=\"preprocessed_data.pkl\"):\n",
    "    \"\"\"Convert each review to words; read from cache if available.\"\"\"\n",
    "\n",
    "    # If cache_file is not None, try to read from it first\n",
    "    cache_data = None\n",
    "    if cache_file is not None:\n",
    "        try:\n",
    "            with open(os.path.join(cache_dir, cache_file), \"rb\") as f:\n",
    "                cache_data = pickle.load(f)\n",
    "            print(\"Read preprocessed data from cache file:\", cache_file)\n",
    "        except:\n",
    "            pass  # unable to read from cache, but that's okay\n",
    "    \n",
    "    # If cache is missing, then do the heavy lifting\n",
    "    if cache_data is None:\n",
    "        # Preprocess training and test data to obtain words for each review\n",
    "        #words_train = list(map(review_to_words, data_train))\n",
    "        #words_test = list(map(review_to_words, data_test))\n",
    "        words_train = [review_to_words(review) for review in data_train]\n",
    "        words_test = [review_to_words(review) for review in data_test]\n",
    "        \n",
    "        # Write to cache file for future runs\n",
    "        if cache_file is not None:\n",
    "            cache_data = dict(words_train=words_train, words_test=words_test,\n",
    "                              labels_train=labels_train, labels_test=labels_test)\n",
    "            with open(os.path.join(cache_dir, cache_file), \"wb\") as f:\n",
    "                pickle.dump(cache_data, f)\n",
    "            print(\"Wrote preprocessed data to cache file:\", cache_file)\n",
    "    else:\n",
    "        # Unpack data loaded from cache file\n",
    "        words_train, words_test, labels_train, labels_test = (cache_data['words_train'],\n",
    "                cache_data['words_test'], cache_data['labels_train'], cache_data['labels_test'])\n",
    "    \n",
    "    return words_train, words_test, labels_train, labels_test"
   ]
  },
  {
   "cell_type": "code",
   "execution_count": 11,
   "metadata": {},
   "outputs": [],
   "source": [
    "#conda_python3"
   ]
  },
  {
   "cell_type": "code",
   "execution_count": 12,
   "metadata": {},
   "outputs": [
    {
     "name": "stdout",
     "output_type": "stream",
     "text": [
      "Wrote preprocessed data to cache file: preprocessed_data.pkl\n"
     ]
    }
   ],
   "source": [
    "# Preprocess data\n",
    "train_X, test_X, train_y, test_y = preprocess_data(train_X, test_X, train_y, test_y)"
   ]
  },
  {
   "cell_type": "markdown",
   "metadata": {},
   "source": [
    "### Extract Bag-of-Words features\n",
    "\n",
    "For the model we will be implementing, rather than using the reviews directly, we are going to transform each review into a Bag-of-Words feature representation. Keep in mind that 'in the wild' we will only have access to the training set so our transformer can only use the training set to construct a representation."
   ]
  },
  {
   "cell_type": "code",
   "execution_count": 13,
   "metadata": {},
   "outputs": [],
   "source": [
    "import numpy as np\n",
    "from sklearn.feature_extraction.text import CountVectorizer\n",
    "\n",
    "# sklearn.externals.joblib is deprecated in 0.21 and will be removed in 0.23. \n",
    "# from sklearn.externals import joblib\n",
    "\n",
    "# Import joblib package directly\n",
    "import joblib\n",
    "# joblib is an enhanced version of pickle that is more efficient for storing NumPy arrays\n",
    "\n",
    "def extract_BoW_features(words_train, words_test, vocabulary_size=5000,\n",
    "                         cache_dir=cache_dir, cache_file=\"bow_features.pkl\"):\n",
    "    \"\"\"Extract Bag-of-Words for a given set of documents, already preprocessed into words.\"\"\"\n",
    "    \n",
    "    # If cache_file is not None, try to read from it first\n",
    "    cache_data = None\n",
    "    if cache_file is not None:\n",
    "        try:\n",
    "            with open(os.path.join(cache_dir, cache_file), \"rb\") as f:\n",
    "                cache_data = joblib.load(f)\n",
    "            print(\"Read features from cache file:\", cache_file)\n",
    "        except:\n",
    "            pass  # unable to read from cache, but that's okay\n",
    "    \n",
    "    # If cache is missing, then do the heavy lifting\n",
    "    if cache_data is None:\n",
    "        # Fit a vectorizer to training documents and use it to transform them\n",
    "        # NOTE: Training documents have already been preprocessed and tokenized into words;\n",
    "        #       pass in dummy functions to skip those steps, e.g. preprocessor=lambda x: x\n",
    "        vectorizer = CountVectorizer(max_features=vocabulary_size)\n",
    "        features_train = vectorizer.fit_transform(words_train).toarray()\n",
    "\n",
    "        # Apply the same vectorizer to transform the test documents (ignore unknown words)\n",
    "        features_test = vectorizer.transform(words_test).toarray()\n",
    "        \n",
    "        # NOTE: Remember to convert the features using .toarray() for a compact representation\n",
    "        \n",
    "        # Write to cache file for future runs (store vocabulary as well)\n",
    "        if cache_file is not None:\n",
    "            vocabulary = vectorizer.vocabulary_\n",
    "            cache_data = dict(features_train=features_train, features_test=features_test,\n",
    "                             vocabulary=vocabulary)\n",
    "            with open(os.path.join(cache_dir, cache_file), \"wb\") as f:\n",
    "                joblib.dump(cache_data, f)\n",
    "            print(\"Wrote features to cache file:\", cache_file)\n",
    "    else:\n",
    "        # Unpack data loaded from cache file\n",
    "        features_train, features_test, vocabulary = (cache_data['features_train'],\n",
    "                cache_data['features_test'], cache_data['vocabulary'])\n",
    "    \n",
    "    # Return both the extracted features as well as the vocabulary\n",
    "    return features_train, features_test, vocabulary"
   ]
  },
  {
   "cell_type": "code",
   "execution_count": 14,
   "metadata": {},
   "outputs": [
    {
     "name": "stdout",
     "output_type": "stream",
     "text": [
      "Wrote features to cache file: bow_features.pkl\n"
     ]
    }
   ],
   "source": [
    "# Extract Bag of Words features for both training and test datasets\n",
    "train_X, test_X, vocabulary = extract_BoW_features(train_X, test_X)"
   ]
  },
  {
   "cell_type": "code",
   "execution_count": 15,
   "metadata": {},
   "outputs": [
    {
     "data": {
      "text/plain": [
       "5000"
      ]
     },
     "execution_count": 15,
     "metadata": {},
     "output_type": "execute_result"
    }
   ],
   "source": [
    "len(train_X[101])"
   ]
  },
  {
   "cell_type": "markdown",
   "metadata": {},
   "source": [
    "## Step 3: Upload data to S3\n",
    "\n",
    "Now that we have created the feature representation of our training (and testing) data, it is time to start setting up and using the XGBoost classifier provided by SageMaker.\n",
    "\n",
    "### Writing the datasets\n",
    "\n",
    "The XGBoost classifier that we will be using requires the dataset to be written to a file and stored using Amazon S3. To do this, we will start by splitting the training dataset into two parts, the data we will train the model with and a validation set. Then, we will write those datasets to a file locally and then upload the files to S3. In addition, we will write the test set to a file and upload that file to S3. This is so that we can use SageMakers Batch Transform functionality to test our model once we've fit it."
   ]
  },
  {
   "cell_type": "code",
   "execution_count": 16,
   "metadata": {},
   "outputs": [],
   "source": [
    "import pandas as pd\n",
    "\n",
    "# Earlier we shuffled the training dataset so to make things simple we can just assign\n",
    "# the first 10 000 reviews to the validation set and use the remaining reviews for training.\n",
    "val_X = pd.DataFrame(train_X[:10000])\n",
    "train_X = pd.DataFrame(train_X[10000:])\n",
    "\n",
    "val_y = pd.DataFrame(train_y[:10000])\n",
    "train_y = pd.DataFrame(train_y[10000:])"
   ]
  },
  {
   "cell_type": "markdown",
   "metadata": {},
   "source": [
    "The documentation for the XGBoost algorithm in SageMaker requires that the training and validation datasets should contain no headers or index and that the label should occur first for each sample.\n",
    "\n",
    "For more information about this and other algorithms, the SageMaker developer documentation can be found on __[Amazon's website.](https://docs.aws.amazon.com/sagemaker/latest/dg/)__"
   ]
  },
  {
   "cell_type": "code",
   "execution_count": 17,
   "metadata": {},
   "outputs": [],
   "source": [
    "# First we make sure that the local directory in which we'd like to store the training and validation csv files exists.\n",
    "data_dir = '../data/sentiment_web_app'\n",
    "if not os.path.exists(data_dir):\n",
    "    os.makedirs(data_dir)"
   ]
  },
  {
   "cell_type": "code",
   "execution_count": 18,
   "metadata": {},
   "outputs": [],
   "source": [
    "pd.DataFrame(test_X).to_csv(os.path.join(data_dir, 'test.csv'), header=False, index=False)\n",
    "\n",
    "pd.concat([val_y, val_X], axis=1).to_csv(os.path.join(data_dir, 'validation.csv'), header=False, index=False)\n",
    "pd.concat([train_y, train_X], axis=1).to_csv(os.path.join(data_dir, 'train.csv'), header=False, index=False)"
   ]
  },
  {
   "cell_type": "code",
   "execution_count": 19,
   "metadata": {},
   "outputs": [],
   "source": [
    "# To save a bit of memory we can set text_X, train_X, val_X, train_y and val_y to None.\n",
    "\n",
    "test_X = train_X = val_X = train_y = val_y = None"
   ]
  },
  {
   "cell_type": "markdown",
   "metadata": {},
   "source": [
    "### Uploading Training / Validation files to S3\n",
    "\n",
    "Amazon's S3 service allows us to store files that can be accessed by both the built-in training models such as the XGBoost model we will be using as well as custom models such as the one we will see a little later.\n",
    "\n",
    "For this and most other tasks we will be doing using SageMaker, there are two methods we could use. The first is to use the low level functionality of SageMaker which requires knowing each of the objects involved in the SageMaker environment. The second is to use the high level functionality in which certain choices have been made on the user's behalf. The low level approach benefits from allowing the user a great deal of flexibility while the high level approach makes development much quicker. For our purposes we will opt to use the high level approach although using the low-level approach is certainly an option.\n",
    "\n",
    "Recall the method `upload_data()` which is a member of the object representing our current SageMaker session. What this method does is upload the data to the default bucket (which is created if it does not exist) into the path described by the key_prefix variable. To see this for yourself, once you have uploaded the data files, go to the S3 console and look to see where the files have been uploaded.\n",
    "\n",
    "For additional resources, see the __[SageMaker API documentation](http://sagemaker.readthedocs.io/en/latest/)__ and in addition the __[SageMaker Developer Guide.](https://docs.aws.amazon.com/sagemaker/latest/dg/)__"
   ]
  },
  {
   "cell_type": "code",
   "execution_count": 20,
   "metadata": {},
   "outputs": [],
   "source": [
    "import sagemaker\n",
    "\n",
    "session = sagemaker.Session() # Store the current SageMaker session\n",
    "\n",
    "# S3 prefix (which folder will we use)\n",
    "prefix = 'sentiment-web-app'\n",
    "\n",
    "test_location = session.upload_data(os.path.join(data_dir, 'test.csv'), key_prefix=prefix)\n",
    "val_location = session.upload_data(os.path.join(data_dir, 'validation.csv'), key_prefix=prefix)\n",
    "train_location = session.upload_data(os.path.join(data_dir, 'train.csv'), key_prefix=prefix)"
   ]
  },
  {
   "cell_type": "markdown",
   "metadata": {},
   "source": [
    "## Step 4: Creating the XGBoost model\n",
    "\n",
    "Now that the data has been uploaded it is time to create the XGBoost model. To begin with, we need to do some setup. At this point it is worth discussing what a model is in SageMaker. It is easiest to think of a model of comprising three different objects in the SageMaker ecosystem, which interact with one another.\n",
    "\n",
    "- Model Artifacts\n",
    "- Training Code (Container)\n",
    "- Inference Code (Container)\n",
    "\n",
    "The Model Artifacts are what you might think of as the actual model itself. For example, if you were building a neural network, the model artifacts would be the weights of the various layers. In our case, for an XGBoost model, the artifacts are the actual trees that are created during training.\n",
    "\n",
    "The other two objects, the training code and the inference code are then used to manipulate the training artifacts. More precisely, the training code uses the training data that is provided and creates the model artifacts, while the inference code uses the model artifacts to make predictions on new data.\n",
    "\n",
    "The way that SageMaker runs the training and inference code is by making use of Docker containers. For now, think of a container as being a way of packaging code up so that dependencies aren't an issue."
   ]
  },
  {
   "cell_type": "code",
   "execution_count": 21,
   "metadata": {},
   "outputs": [],
   "source": [
    "from sagemaker import get_execution_role\n",
    "\n",
    "# Our current execution role is required when creating the model as the training\n",
    "# and inference code will need to access the model artifacts.\n",
    "role = get_execution_role()"
   ]
  },
  {
   "cell_type": "code",
   "execution_count": 22,
   "metadata": {},
   "outputs": [],
   "source": [
    "from sagemaker.amazon.amazon_estimator import get_image_uri\n",
    "\n",
    "#Benjamin\n",
    "#container = get_image_uri(session.boto_region_name, 'xgboost')\n",
    "#container = get_image_uri(session.boto_region_name, 'xgboost','1.2-1')\n",
    "container = sagemaker.image_uris.retrieve(\"xgboost\", session.boto_region_name, \"1.2-1\")"
   ]
  },
  {
   "cell_type": "code",
   "execution_count": 23,
   "metadata": {},
   "outputs": [],
   "source": [
    "#pip install -U sagemaker"
   ]
  },
  {
   "cell_type": "code",
   "execution_count": 28,
   "metadata": {},
   "outputs": [],
   "source": [
    "# First we create a SageMaker estimator object for our model.\n",
    "xgb = sagemaker.estimator.Estimator(container, # The location of the container we wish to use\n",
    "                                    role,                                    # What is our current IAM Role\n",
    "                                    #Benjamin\n",
    "                                    #train_instance_count=1,                  # instance_count=1,  How many compute instances\n",
    "                                    instance_count=1, \n",
    "                                    #train_instance_type='ml.m4.xlarge',      # instance_type='ml.m4.xlarge', What kind of compute instances\n",
    "                                    instance_type='ml.m4.xlarge',\n",
    "                                    output_path='s3://{}/{}/output'.format(session.default_bucket(), prefix),\n",
    "                                    sagemaker_session=session)\n",
    "\n",
    "# And then set the algorithm specific parameters.\n",
    "xgb.set_hyperparameters(max_depth=5,\n",
    "                        eta=0.2,\n",
    "                        gamma=4,\n",
    "                        min_child_weight=6,\n",
    "                        subsample=0.8,\n",
    "                        #silent=0, #Benjamin commented this out\n",
    "                        objective='binary:logistic',\n",
    "                        early_stopping_rounds=10,\n",
    "                        num_round=500)"
   ]
  },
  {
   "cell_type": "markdown",
   "metadata": {},
   "source": [
    "### Fit the XGBoost model\n",
    "\n",
    "Now that our model has been set up we simply need to attach the training and validation datasets and then ask SageMaker to set up the computation."
   ]
  },
  {
   "cell_type": "code",
   "execution_count": 29,
   "metadata": {},
   "outputs": [],
   "source": [
    "#Benjamin comment\n",
    "#s3_input_train = sagemaker.s3_input(s3_data=train_location, content_type='csv')\n",
    "#s3_input_validation = sagemaker.s3_input(s3_data=val_location, content_type='csv')\n",
    "\n",
    "s3_input_train = sagemaker.TrainingInput(s3_data=train_location, content_type='csv')\n",
    "s3_input_validation = sagemaker.TrainingInput(s3_data=val_location, content_type='csv')\n",
    "\n"
   ]
  },
  {
   "cell_type": "code",
   "execution_count": 30,
   "metadata": {},
   "outputs": [
    {
     "name": "stdout",
     "output_type": "stream",
     "text": [
      "2020-11-20 21:21:45 Starting - Starting the training job...\n",
      "2020-11-20 21:21:47 Starting - Launching requested ML instances......\n",
      "2020-11-20 21:22:55 Starting - Preparing the instances for training......\n",
      "2020-11-20 21:24:16 Downloading - Downloading input data\n",
      "2020-11-20 21:24:16 Training - Downloading the training image.....\u001b[34mINFO:sagemaker-containers:Imported framework sagemaker_xgboost_container.training\u001b[0m\n",
      "\u001b[34mINFO:sagemaker-containers:Failed to parse hyperparameter objective value binary:logistic to Json.\u001b[0m\n",
      "\u001b[34mReturning the value itself\u001b[0m\n",
      "\u001b[34mINFO:sagemaker-containers:No GPUs detected (normal if no gpus installed)\u001b[0m\n",
      "\u001b[34mINFO:sagemaker_xgboost_container.training:Running XGBoost Sagemaker in algorithm mode\u001b[0m\n",
      "\u001b[34mINFO:root:Determined delimiter of CSV input is ','\u001b[0m\n",
      "\u001b[34mINFO:root:Determined delimiter of CSV input is ','\u001b[0m\n",
      "\u001b[34mINFO:root:Determined delimiter of CSV input is ','\u001b[0m\n",
      "\u001b[34mINFO:root:Determined delimiter of CSV input is ','\u001b[0m\n",
      "\u001b[34mINFO:root:Single node training.\u001b[0m\n",
      "\u001b[34mINFO:root:Train matrix has 15000 rows\u001b[0m\n",
      "\u001b[34mINFO:root:Validation matrix has 10000 rows\u001b[0m\n",
      "\u001b[34m[21:24:58] WARNING: ../src/learner.cc:516: \u001b[0m\n",
      "\u001b[34mParameters: { early_stopping_rounds } might not be used.\n",
      "\n",
      "  This may not be accurate due to some parameters are only used in language bindings but\n",
      "  passed down to XGBoost core.  Or some parameters are not used but slip through this\n",
      "  verification. Please open an issue if you find above cases.\n",
      "\n",
      "\u001b[0m\n",
      "\u001b[34m[0]#011train-error:0.30553#011validation-error:0.31240\u001b[0m\n",
      "\u001b[34m[1]#011train-error:0.28867#011validation-error:0.29790\u001b[0m\n",
      "\u001b[34m[2]#011train-error:0.27553#011validation-error:0.28360\u001b[0m\n",
      "\u001b[34m[3]#011train-error:0.27840#011validation-error:0.28780\u001b[0m\n",
      "\u001b[34m[4]#011train-error:0.26447#011validation-error:0.27640\u001b[0m\n",
      "\n",
      "2020-11-20 21:24:51 Training - Training image download completed. Training in progress.\u001b[34m[5]#011train-error:0.25860#011validation-error:0.27030\u001b[0m\n",
      "\u001b[34m[6]#011train-error:0.25587#011validation-error:0.26790\u001b[0m\n",
      "\u001b[34m[7]#011train-error:0.24513#011validation-error:0.25610\u001b[0m\n",
      "\u001b[34m[8]#011train-error:0.23480#011validation-error:0.24970\u001b[0m\n",
      "\u001b[34m[9]#011train-error:0.22927#011validation-error:0.24400\u001b[0m\n",
      "\u001b[34m[10]#011train-error:0.22560#011validation-error:0.24130\u001b[0m\n",
      "\u001b[34m[11]#011train-error:0.21787#011validation-error:0.23690\u001b[0m\n",
      "\u001b[34m[12]#011train-error:0.21407#011validation-error:0.23360\u001b[0m\n",
      "\u001b[34m[13]#011train-error:0.21020#011validation-error:0.22900\u001b[0m\n",
      "\u001b[34m[14]#011train-error:0.20827#011validation-error:0.22360\u001b[0m\n",
      "\u001b[34m[15]#011train-error:0.20487#011validation-error:0.21990\u001b[0m\n",
      "\u001b[34m[16]#011train-error:0.19860#011validation-error:0.21750\u001b[0m\n",
      "\u001b[34m[17]#011train-error:0.19520#011validation-error:0.21680\u001b[0m\n",
      "\u001b[34m[18]#011train-error:0.19547#011validation-error:0.21230\u001b[0m\n",
      "\u001b[34m[19]#011train-error:0.19180#011validation-error:0.21010\u001b[0m\n",
      "\u001b[34m[20]#011train-error:0.18820#011validation-error:0.20790\u001b[0m\n",
      "\u001b[34m[21]#011train-error:0.18540#011validation-error:0.20710\u001b[0m\n",
      "\u001b[34m[22]#011train-error:0.18233#011validation-error:0.20440\u001b[0m\n",
      "\u001b[34m[23]#011train-error:0.18020#011validation-error:0.20290\u001b[0m\n",
      "\u001b[34m[24]#011train-error:0.17720#011validation-error:0.20050\u001b[0m\n",
      "\u001b[34m[25]#011train-error:0.17680#011validation-error:0.19700\u001b[0m\n",
      "\u001b[34m[26]#011train-error:0.17500#011validation-error:0.19530\u001b[0m\n",
      "\u001b[34m[27]#011train-error:0.17340#011validation-error:0.19260\u001b[0m\n",
      "\u001b[34m[28]#011train-error:0.17193#011validation-error:0.19260\u001b[0m\n",
      "\u001b[34m[29]#011train-error:0.17040#011validation-error:0.19190\u001b[0m\n",
      "\u001b[34m[30]#011train-error:0.16760#011validation-error:0.18890\u001b[0m\n",
      "\u001b[34m[31]#011train-error:0.16700#011validation-error:0.18730\u001b[0m\n",
      "\u001b[34m[32]#011train-error:0.16620#011validation-error:0.18760\u001b[0m\n",
      "\u001b[34m[33]#011train-error:0.16393#011validation-error:0.18780\u001b[0m\n",
      "\u001b[34m[34]#011train-error:0.16200#011validation-error:0.18620\u001b[0m\n",
      "\u001b[34m[35]#011train-error:0.15933#011validation-error:0.18570\u001b[0m\n",
      "\u001b[34m[36]#011train-error:0.15753#011validation-error:0.18490\u001b[0m\n",
      "\u001b[34m[37]#011train-error:0.15613#011validation-error:0.18410\u001b[0m\n",
      "\u001b[34m[38]#011train-error:0.15307#011validation-error:0.18310\u001b[0m\n",
      "\u001b[34m[39]#011train-error:0.15160#011validation-error:0.18210\u001b[0m\n",
      "\u001b[34m[40]#011train-error:0.15000#011validation-error:0.18120\u001b[0m\n",
      "\u001b[34m[41]#011train-error:0.14873#011validation-error:0.18070\u001b[0m\n",
      "\u001b[34m[42]#011train-error:0.14760#011validation-error:0.17760\u001b[0m\n",
      "\u001b[34m[43]#011train-error:0.14627#011validation-error:0.17710\u001b[0m\n",
      "\u001b[34m[44]#011train-error:0.14487#011validation-error:0.17700\u001b[0m\n",
      "\u001b[34m[45]#011train-error:0.14393#011validation-error:0.17450\u001b[0m\n",
      "\u001b[34m[46]#011train-error:0.14207#011validation-error:0.17460\u001b[0m\n",
      "\u001b[34m[47]#011train-error:0.14147#011validation-error:0.17370\u001b[0m\n",
      "\u001b[34m[48]#011train-error:0.13960#011validation-error:0.17410\u001b[0m\n",
      "\u001b[34m[49]#011train-error:0.13873#011validation-error:0.17310\u001b[0m\n",
      "\u001b[34m[50]#011train-error:0.13700#011validation-error:0.17270\u001b[0m\n",
      "\u001b[34m[51]#011train-error:0.13533#011validation-error:0.17090\u001b[0m\n",
      "\u001b[34m[52]#011train-error:0.13453#011validation-error:0.17130\u001b[0m\n",
      "\u001b[34m[53]#011train-error:0.13380#011validation-error:0.17050\u001b[0m\n",
      "\u001b[34m[54]#011train-error:0.13333#011validation-error:0.16900\u001b[0m\n",
      "\u001b[34m[55]#011train-error:0.13273#011validation-error:0.16810\u001b[0m\n",
      "\u001b[34m[56]#011train-error:0.13227#011validation-error:0.16720\u001b[0m\n",
      "\u001b[34m[57]#011train-error:0.13113#011validation-error:0.16590\u001b[0m\n",
      "\u001b[34m[58]#011train-error:0.13087#011validation-error:0.16550\u001b[0m\n",
      "\u001b[34m[59]#011train-error:0.12960#011validation-error:0.16580\u001b[0m\n",
      "\u001b[34m[60]#011train-error:0.12927#011validation-error:0.16520\u001b[0m\n",
      "\u001b[34m[61]#011train-error:0.12753#011validation-error:0.16470\u001b[0m\n",
      "\u001b[34m[62]#011train-error:0.12700#011validation-error:0.16430\u001b[0m\n",
      "\u001b[34m[63]#011train-error:0.12620#011validation-error:0.16440\u001b[0m\n",
      "\u001b[34m[64]#011train-error:0.12420#011validation-error:0.16260\u001b[0m\n",
      "\u001b[34m[65]#011train-error:0.12327#011validation-error:0.16170\u001b[0m\n",
      "\u001b[34m[66]#011train-error:0.12180#011validation-error:0.16170\u001b[0m\n",
      "\u001b[34m[67]#011train-error:0.12133#011validation-error:0.16160\u001b[0m\n",
      "\u001b[34m[68]#011train-error:0.12133#011validation-error:0.16220\u001b[0m\n",
      "\u001b[34m[69]#011train-error:0.12087#011validation-error:0.16110\u001b[0m\n",
      "\u001b[34m[70]#011train-error:0.12000#011validation-error:0.15920\u001b[0m\n",
      "\u001b[34m[71]#011train-error:0.11933#011validation-error:0.15870\u001b[0m\n",
      "\u001b[34m[72]#011train-error:0.11947#011validation-error:0.15710\u001b[0m\n",
      "\u001b[34m[73]#011train-error:0.11887#011validation-error:0.15630\u001b[0m\n",
      "\u001b[34m[74]#011train-error:0.11880#011validation-error:0.15640\u001b[0m\n",
      "\u001b[34m[75]#011train-error:0.11820#011validation-error:0.15520\u001b[0m\n",
      "\u001b[34m[76]#011train-error:0.11593#011validation-error:0.15580\u001b[0m\n",
      "\u001b[34m[77]#011train-error:0.11567#011validation-error:0.15500\u001b[0m\n",
      "\u001b[34m[78]#011train-error:0.11487#011validation-error:0.15340\u001b[0m\n",
      "\u001b[34m[79]#011train-error:0.11480#011validation-error:0.15300\u001b[0m\n",
      "\u001b[34m[80]#011train-error:0.11327#011validation-error:0.15270\u001b[0m\n",
      "\u001b[34m[81]#011train-error:0.11300#011validation-error:0.15280\u001b[0m\n",
      "\u001b[34m[82]#011train-error:0.11287#011validation-error:0.15230\u001b[0m\n",
      "\u001b[34m[83]#011train-error:0.11200#011validation-error:0.15220\u001b[0m\n",
      "\u001b[34m[84]#011train-error:0.11133#011validation-error:0.15140\u001b[0m\n",
      "\u001b[34m[85]#011train-error:0.11093#011validation-error:0.15150\u001b[0m\n",
      "\u001b[34m[86]#011train-error:0.10987#011validation-error:0.15070\u001b[0m\n",
      "\u001b[34m[87]#011train-error:0.10960#011validation-error:0.15150\u001b[0m\n",
      "\u001b[34m[88]#011train-error:0.10893#011validation-error:0.14960\u001b[0m\n",
      "\u001b[34m[89]#011train-error:0.10893#011validation-error:0.14990\u001b[0m\n",
      "\u001b[34m[90]#011train-error:0.10807#011validation-error:0.15000\u001b[0m\n",
      "\u001b[34m[91]#011train-error:0.10753#011validation-error:0.15130\u001b[0m\n",
      "\u001b[34m[92]#011train-error:0.10753#011validation-error:0.15000\u001b[0m\n",
      "\u001b[34m[93]#011train-error:0.10713#011validation-error:0.15020\u001b[0m\n",
      "\u001b[34m[94]#011train-error:0.10653#011validation-error:0.14900\u001b[0m\n",
      "\u001b[34m[95]#011train-error:0.10633#011validation-error:0.14730\u001b[0m\n",
      "\u001b[34m[96]#011train-error:0.10533#011validation-error:0.14810\u001b[0m\n",
      "\u001b[34m[97]#011train-error:0.10420#011validation-error:0.14760\u001b[0m\n",
      "\u001b[34m[98]#011train-error:0.10353#011validation-error:0.14870\u001b[0m\n",
      "\u001b[34m[99]#011train-error:0.10360#011validation-error:0.14880\u001b[0m\n",
      "\u001b[34m[100]#011train-error:0.10360#011validation-error:0.14890\u001b[0m\n",
      "\u001b[34m[101]#011train-error:0.10247#011validation-error:0.14750\u001b[0m\n",
      "\u001b[34m[102]#011train-error:0.10253#011validation-error:0.14720\u001b[0m\n",
      "\u001b[34m[103]#011train-error:0.10207#011validation-error:0.14750\u001b[0m\n",
      "\u001b[34m[104]#011train-error:0.10220#011validation-error:0.14630\u001b[0m\n",
      "\u001b[34m[105]#011train-error:0.10173#011validation-error:0.14660\u001b[0m\n",
      "\u001b[34m[106]#011train-error:0.10127#011validation-error:0.14690\u001b[0m\n",
      "\u001b[34m[107]#011train-error:0.10053#011validation-error:0.14660\u001b[0m\n"
     ]
    },
    {
     "name": "stdout",
     "output_type": "stream",
     "text": [
      "\u001b[34m[108]#011train-error:0.09993#011validation-error:0.14660\u001b[0m\n",
      "\u001b[34m[109]#011train-error:0.09967#011validation-error:0.14690\u001b[0m\n",
      "\u001b[34m[110]#011train-error:0.09873#011validation-error:0.14740\u001b[0m\n",
      "\u001b[34m[111]#011train-error:0.09847#011validation-error:0.14770\u001b[0m\n",
      "\u001b[34m[112]#011train-error:0.09820#011validation-error:0.14710\u001b[0m\n",
      "\u001b[34m[113]#011train-error:0.09787#011validation-error:0.14570\u001b[0m\n",
      "\u001b[34m[114]#011train-error:0.09720#011validation-error:0.14580\u001b[0m\n",
      "\u001b[34m[115]#011train-error:0.09653#011validation-error:0.14560\u001b[0m\n",
      "\u001b[34m[116]#011train-error:0.09620#011validation-error:0.14460\u001b[0m\n",
      "\u001b[34m[117]#011train-error:0.09513#011validation-error:0.14460\u001b[0m\n",
      "\u001b[34m[118]#011train-error:0.09487#011validation-error:0.14370\u001b[0m\n",
      "\u001b[34m[119]#011train-error:0.09493#011validation-error:0.14390\u001b[0m\n",
      "\u001b[34m[120]#011train-error:0.09453#011validation-error:0.14370\u001b[0m\n",
      "\u001b[34m[121]#011train-error:0.09427#011validation-error:0.14350\u001b[0m\n",
      "\u001b[34m[122]#011train-error:0.09413#011validation-error:0.14400\u001b[0m\n",
      "\u001b[34m[123]#011train-error:0.09360#011validation-error:0.14330\u001b[0m\n",
      "\u001b[34m[124]#011train-error:0.09333#011validation-error:0.14330\u001b[0m\n",
      "\u001b[34m[125]#011train-error:0.09180#011validation-error:0.14340\u001b[0m\n",
      "\u001b[34m[126]#011train-error:0.09200#011validation-error:0.14330\u001b[0m\n",
      "\u001b[34m[127]#011train-error:0.09220#011validation-error:0.14240\u001b[0m\n",
      "\u001b[34m[128]#011train-error:0.09173#011validation-error:0.14230\u001b[0m\n",
      "\u001b[34m[129]#011train-error:0.09167#011validation-error:0.14150\u001b[0m\n",
      "\u001b[34m[130]#011train-error:0.09133#011validation-error:0.14190\u001b[0m\n",
      "\u001b[34m[131]#011train-error:0.09080#011validation-error:0.14240\u001b[0m\n",
      "\u001b[34m[132]#011train-error:0.09047#011validation-error:0.14160\u001b[0m\n",
      "\u001b[34m[133]#011train-error:0.08980#011validation-error:0.14150\u001b[0m\n",
      "\u001b[34m[134]#011train-error:0.08907#011validation-error:0.14110\u001b[0m\n",
      "\u001b[34m[135]#011train-error:0.08840#011validation-error:0.14080\u001b[0m\n",
      "\u001b[34m[136]#011train-error:0.08787#011validation-error:0.13990\u001b[0m\n",
      "\u001b[34m[137]#011train-error:0.08760#011validation-error:0.13980\u001b[0m\n",
      "\u001b[34m[138]#011train-error:0.08740#011validation-error:0.13980\u001b[0m\n",
      "\u001b[34m[139]#011train-error:0.08767#011validation-error:0.13960\u001b[0m\n",
      "\u001b[34m[140]#011train-error:0.08640#011validation-error:0.14000\u001b[0m\n",
      "\u001b[34m[141]#011train-error:0.08647#011validation-error:0.13970\u001b[0m\n",
      "\u001b[34m[142]#011train-error:0.08687#011validation-error:0.14010\u001b[0m\n",
      "\u001b[34m[143]#011train-error:0.08660#011validation-error:0.14020\u001b[0m\n",
      "\u001b[34m[144]#011train-error:0.08580#011validation-error:0.14020\u001b[0m\n",
      "\u001b[34m[145]#011train-error:0.08493#011validation-error:0.13990\u001b[0m\n",
      "\u001b[34m[146]#011train-error:0.08427#011validation-error:0.13960\u001b[0m\n",
      "\u001b[34m[147]#011train-error:0.08400#011validation-error:0.13970\u001b[0m\n",
      "\u001b[34m[148]#011train-error:0.08287#011validation-error:0.13880\u001b[0m\n",
      "\u001b[34m[149]#011train-error:0.08247#011validation-error:0.13900\u001b[0m\n",
      "\u001b[34m[150]#011train-error:0.08227#011validation-error:0.13880\u001b[0m\n",
      "\u001b[34m[151]#011train-error:0.08220#011validation-error:0.13950\u001b[0m\n",
      "\u001b[34m[152]#011train-error:0.08160#011validation-error:0.13970\u001b[0m\n",
      "\u001b[34m[153]#011train-error:0.08160#011validation-error:0.14030\u001b[0m\n",
      "\u001b[34m[154]#011train-error:0.08073#011validation-error:0.13970\u001b[0m\n",
      "\u001b[34m[155]#011train-error:0.08020#011validation-error:0.13980\u001b[0m\n",
      "\u001b[34m[156]#011train-error:0.08013#011validation-error:0.13900\u001b[0m\n",
      "\u001b[34m[157]#011train-error:0.07973#011validation-error:0.13930\u001b[0m\n",
      "\u001b[34m[158]#011train-error:0.07927#011validation-error:0.13910\u001b[0m\n",
      "\n",
      "2020-11-20 21:28:09 Uploading - Uploading generated training model\n",
      "2020-11-20 21:28:09 Completed - Training job completed\n",
      "Training seconds: 257\n",
      "Billable seconds: 257\n"
     ]
    }
   ],
   "source": [
    "xgb.fit({'train': s3_input_train, 'validation': s3_input_validation})"
   ]
  },
  {
   "cell_type": "markdown",
   "metadata": {},
   "source": [
    "## Step 5: Testing the model\n",
    "\n",
    "Now that we've fit our XGBoost model, it's time to see how well it performs. To do this we will use SageMakers Batch Transform functionality. Batch Transform is a convenient way to perform inference on a large dataset in a way that is not realtime. That is, we don't necessarily need to use our model's results immediately and instead we can perform inference on a large number of samples. An example of this in industry might be performing an end of month report. This method of inference can also be useful to us as it means that we can perform inference on our entire test set. \n",
    "\n",
    "To perform a Batch Transformation we need to first create a transformer objects from our trained estimator object."
   ]
  },
  {
   "cell_type": "code",
   "execution_count": 31,
   "metadata": {},
   "outputs": [],
   "source": [
    "xgb_transformer = xgb.transformer(instance_count = 1, instance_type = 'ml.m4.xlarge')"
   ]
  },
  {
   "cell_type": "markdown",
   "metadata": {},
   "source": [
    "Next we actually perform the transform job. When doing so we need to make sure to specify the type of data we are sending so that it is serialized correctly in the background. In our case we are providing our model with csv data so we specify `text/csv`. Also, if the test data that we have provided is too large to process all at once then we need to specify how the data file should be split up. Since each line is a single entry in our data set we tell SageMaker that it can split the input on each line."
   ]
  },
  {
   "cell_type": "code",
   "execution_count": 32,
   "metadata": {},
   "outputs": [
    {
     "name": "stdout",
     "output_type": "stream",
     "text": [
      ".............................................................\u001b[32m2020-11-20T21:38:38.615:[sagemaker logs]: MaxConcurrentTransforms=4, MaxPayloadInMB=6, BatchStrategy=MULTI_RECORD\u001b[0m\n",
      "\u001b[34m[2020-11-20:21:38:36:INFO] No GPUs detected (normal if no gpus installed)\u001b[0m\n",
      "\u001b[34m[2020-11-20:21:38:36:INFO] No GPUs detected (normal if no gpus installed)\u001b[0m\n",
      "\u001b[34m[2020-11-20:21:38:36:INFO] nginx config: \u001b[0m\n",
      "\u001b[34mworker_processes auto;\u001b[0m\n",
      "\u001b[34mdaemon off;\u001b[0m\n",
      "\u001b[34mpid /tmp/nginx.pid;\u001b[0m\n",
      "\u001b[34merror_log  /dev/stderr;\n",
      "\u001b[0m\n",
      "\u001b[35m[2020-11-20:21:38:36:INFO] No GPUs detected (normal if no gpus installed)\u001b[0m\n",
      "\u001b[35m[2020-11-20:21:38:36:INFO] No GPUs detected (normal if no gpus installed)\u001b[0m\n",
      "\u001b[35m[2020-11-20:21:38:36:INFO] nginx config: \u001b[0m\n",
      "\u001b[35mworker_processes auto;\u001b[0m\n",
      "\u001b[35mdaemon off;\u001b[0m\n",
      "\u001b[35mpid /tmp/nginx.pid;\u001b[0m\n",
      "\u001b[35merror_log  /dev/stderr;\n",
      "\u001b[0m\n",
      "\u001b[34mworker_rlimit_nofile 4096;\n",
      "\u001b[0m\n",
      "\u001b[34mevents {\n",
      "  worker_connections 2048;\u001b[0m\n",
      "\u001b[34m}\n",
      "\u001b[0m\n",
      "\u001b[34mhttp {\n",
      "  include /etc/nginx/mime.types;\n",
      "  default_type application/octet-stream;\n",
      "  access_log /dev/stdout combined;\n",
      "\n",
      "  upstream gunicorn {\n",
      "    server unix:/tmp/gunicorn.sock;\n",
      "  }\n",
      "\n",
      "  server {\n",
      "    listen 8080 deferred;\n",
      "    client_max_body_size 0;\n",
      "\n",
      "    keepalive_timeout 3;\n",
      "\n",
      "    location ~ ^/(ping|invocations|execution-parameters) {\n",
      "      proxy_set_header X-Forwarded-For $proxy_add_x_forwarded_for;\n",
      "      proxy_set_header Host $http_host;\n",
      "      proxy_redirect off;\n",
      "      proxy_read_timeout 60s;\n",
      "      proxy_pass http://gunicorn;\n",
      "    }\n",
      "\n",
      "    location / {\n",
      "      return 404 \"{}\";\n",
      "    }\n",
      "\n",
      "  }\u001b[0m\n",
      "\u001b[34m}\n",
      "\n",
      "\u001b[0m\n",
      "\u001b[35mworker_rlimit_nofile 4096;\n",
      "\u001b[0m\n",
      "\u001b[35mevents {\n",
      "  worker_connections 2048;\u001b[0m\n",
      "\u001b[35m}\n",
      "\u001b[0m\n",
      "\u001b[35mhttp {\n",
      "  include /etc/nginx/mime.types;\n",
      "  default_type application/octet-stream;\n",
      "  access_log /dev/stdout combined;\n",
      "\n",
      "  upstream gunicorn {\n",
      "    server unix:/tmp/gunicorn.sock;\n",
      "  }\n",
      "\n",
      "  server {\n",
      "    listen 8080 deferred;\n",
      "    client_max_body_size 0;\n",
      "\n",
      "    keepalive_timeout 3;\n",
      "\n",
      "    location ~ ^/(ping|invocations|execution-parameters) {\n",
      "      proxy_set_header X-Forwarded-For $proxy_add_x_forwarded_for;\n",
      "      proxy_set_header Host $http_host;\n",
      "      proxy_redirect off;\n",
      "      proxy_read_timeout 60s;\n",
      "      proxy_pass http://gunicorn;\n",
      "    }\n",
      "\n",
      "    location / {\n",
      "      return 404 \"{}\";\n",
      "    }\n",
      "\n",
      "  }\u001b[0m\n",
      "\u001b[35m}\n",
      "\n",
      "\u001b[0m\n",
      "\u001b[34m2020/11/20 21:38:36 [crit] 19#19: *1 connect() to unix:/tmp/gunicorn.sock failed (2: No such file or directory) while connecting to upstream, client: 169.254.255.130, server: , request: \"GET /ping HTTP/1.1\", upstream: \"http://unix:/tmp/gunicorn.sock:/ping\", host: \"169.254.255.131:8080\"\u001b[0m\n",
      "\u001b[34m169.254.255.130 - - [20/Nov/2020:21:38:36 +0000] \"GET /ping HTTP/1.1\" 502 182 \"-\" \"Go-http-client/1.1\"\u001b[0m\n",
      "\u001b[34m2020/11/20 21:38:36 [crit] 19#19: *3 connect() to unix:/tmp/gunicorn.sock failed (2: No such file or directory) while connecting to upstream, client: 169.254.255.130, server: , request: \"GET /ping HTTP/1.1\", upstream: \"http://unix:/tmp/gunicorn.sock:/ping\", host: \"169.254.255.131:8080\"\u001b[0m\n",
      "\u001b[34m169.254.255.130 - - [20/Nov/2020:21:38:36 +0000] \"GET /ping HTTP/1.1\" 502 182 \"-\" \"Go-http-client/1.1\"\u001b[0m\n",
      "\u001b[34m[2020-11-20 21:38:36 +0000] [18] [INFO] Starting gunicorn 19.10.0\u001b[0m\n",
      "\u001b[34m[2020-11-20 21:38:36 +0000] [18] [INFO] Listening at: unix:/tmp/gunicorn.sock (18)\u001b[0m\n",
      "\u001b[34m[2020-11-20 21:38:36 +0000] [18] [INFO] Using worker: gevent\u001b[0m\n",
      "\u001b[34m[2020-11-20 21:38:36 +0000] [25] [INFO] Booting worker with pid: 25\u001b[0m\n",
      "\u001b[34m[2020-11-20 21:38:36 +0000] [26] [INFO] Booting worker with pid: 26\u001b[0m\n",
      "\u001b[34m[2020-11-20 21:38:36 +0000] [27] [INFO] Booting worker with pid: 27\u001b[0m\n",
      "\u001b[34m[2020-11-20 21:38:36 +0000] [28] [INFO] Booting worker with pid: 28\u001b[0m\n",
      "\u001b[34m[2020-11-20:21:38:38:INFO] No GPUs detected (normal if no gpus installed)\u001b[0m\n",
      "\u001b[34m169.254.255.130 - - [20/Nov/2020:21:38:38 +0000] \"GET /ping HTTP/1.1\" 200 0 \"-\" \"Go-http-client/1.1\"\u001b[0m\n",
      "\u001b[34m169.254.255.130 - - [20/Nov/2020:21:38:38 +0000] \"GET /execution-parameters HTTP/1.1\" 200 84 \"-\" \"Go-http-client/1.1\"\u001b[0m\n",
      "\u001b[34m[2020-11-20:21:38:38:INFO] Determined delimiter of CSV input is ','\u001b[0m\n",
      "\u001b[34m[2020-11-20:21:38:38:INFO] No GPUs detected (normal if no gpus installed)\u001b[0m\n",
      "\u001b[34m[2020-11-20:21:38:38:INFO] No GPUs detected (normal if no gpus installed)\u001b[0m\n",
      "\u001b[34m[2020-11-20:21:38:38:INFO] Determined delimiter of CSV input is ','\u001b[0m\n",
      "\u001b[35m2020/11/20 21:38:36 [crit] 19#19: *1 connect() to unix:/tmp/gunicorn.sock failed (2: No such file or directory) while connecting to upstream, client: 169.254.255.130, server: , request: \"GET /ping HTTP/1.1\", upstream: \"http://unix:/tmp/gunicorn.sock:/ping\", host: \"169.254.255.131:8080\"\u001b[0m\n",
      "\u001b[35m169.254.255.130 - - [20/Nov/2020:21:38:36 +0000] \"GET /ping HTTP/1.1\" 502 182 \"-\" \"Go-http-client/1.1\"\u001b[0m\n",
      "\u001b[35m2020/11/20 21:38:36 [crit] 19#19: *3 connect() to unix:/tmp/gunicorn.sock failed (2: No such file or directory) while connecting to upstream, client: 169.254.255.130, server: , request: \"GET /ping HTTP/1.1\", upstream: \"http://unix:/tmp/gunicorn.sock:/ping\", host: \"169.254.255.131:8080\"\u001b[0m\n",
      "\u001b[35m169.254.255.130 - - [20/Nov/2020:21:38:36 +0000] \"GET /ping HTTP/1.1\" 502 182 \"-\" \"Go-http-client/1.1\"\u001b[0m\n",
      "\u001b[35m[2020-11-20 21:38:36 +0000] [18] [INFO] Starting gunicorn 19.10.0\u001b[0m\n",
      "\u001b[35m[2020-11-20 21:38:36 +0000] [18] [INFO] Listening at: unix:/tmp/gunicorn.sock (18)\u001b[0m\n",
      "\u001b[35m[2020-11-20 21:38:36 +0000] [18] [INFO] Using worker: gevent\u001b[0m\n",
      "\u001b[35m[2020-11-20 21:38:36 +0000] [25] [INFO] Booting worker with pid: 25\u001b[0m\n",
      "\u001b[35m[2020-11-20 21:38:36 +0000] [26] [INFO] Booting worker with pid: 26\u001b[0m\n",
      "\u001b[35m[2020-11-20 21:38:36 +0000] [27] [INFO] Booting worker with pid: 27\u001b[0m\n",
      "\u001b[35m[2020-11-20 21:38:36 +0000] [28] [INFO] Booting worker with pid: 28\u001b[0m\n",
      "\u001b[35m[2020-11-20:21:38:38:INFO] No GPUs detected (normal if no gpus installed)\u001b[0m\n",
      "\u001b[35m169.254.255.130 - - [20/Nov/2020:21:38:38 +0000] \"GET /ping HTTP/1.1\" 200 0 \"-\" \"Go-http-client/1.1\"\u001b[0m\n",
      "\u001b[35m169.254.255.130 - - [20/Nov/2020:21:38:38 +0000] \"GET /execution-parameters HTTP/1.1\" 200 84 \"-\" \"Go-http-client/1.1\"\u001b[0m\n",
      "\u001b[35m[2020-11-20:21:38:38:INFO] Determined delimiter of CSV input is ','\u001b[0m\n",
      "\u001b[35m[2020-11-20:21:38:38:INFO] No GPUs detected (normal if no gpus installed)\u001b[0m\n",
      "\u001b[35m[2020-11-20:21:38:38:INFO] No GPUs detected (normal if no gpus installed)\u001b[0m\n",
      "\u001b[35m[2020-11-20:21:38:38:INFO] Determined delimiter of CSV input is ','\u001b[0m\n",
      "\u001b[34m[2020-11-20:21:38:39:INFO] No GPUs detected (normal if no gpus installed)\u001b[0m\n",
      "\u001b[34m[2020-11-20:21:38:39:INFO] Determined delimiter of CSV input is ','\u001b[0m\n",
      "\u001b[34m[2020-11-20:21:38:39:INFO] Determined delimiter of CSV input is ','\u001b[0m\n",
      "\u001b[35m[2020-11-20:21:38:39:INFO] No GPUs detected (normal if no gpus installed)\u001b[0m\n",
      "\u001b[35m[2020-11-20:21:38:39:INFO] Determined delimiter of CSV input is ','\u001b[0m\n",
      "\u001b[35m[2020-11-20:21:38:39:INFO] Determined delimiter of CSV input is ','\u001b[0m\n",
      "\u001b[34m169.254.255.130 - - [20/Nov/2020:21:38:41 +0000] \"POST /invocations HTTP/1.1\" 200 12166 \"-\" \"Go-http-client/1.1\"\u001b[0m\n",
      "\u001b[34m169.254.255.130 - - [20/Nov/2020:21:38:41 +0000] \"POST /invocations HTTP/1.1\" 200 12198 \"-\" \"Go-http-client/1.1\"\u001b[0m\n",
      "\u001b[34m169.254.255.130 - - [20/Nov/2020:21:38:41 +0000] \"POST /invocations HTTP/1.1\" 200 12162 \"-\" \"Go-http-client/1.1\"\u001b[0m\n",
      "\u001b[34m[2020-11-20:21:38:42:INFO] Determined delimiter of CSV input is ','\u001b[0m\n",
      "\u001b[34m169.254.255.130 - - [20/Nov/2020:21:38:42 +0000] \"POST /invocations HTTP/1.1\" 200 12201 \"-\" \"Go-http-client/1.1\"\u001b[0m\n",
      "\u001b[34m[2020-11-20:21:38:42:INFO] Determined delimiter of CSV input is ','\u001b[0m\n",
      "\u001b[34m[2020-11-20:21:38:42:INFO] Determined delimiter of CSV input is ','\u001b[0m\n",
      "\u001b[34m[2020-11-20:21:38:42:INFO] Determined delimiter of CSV input is ','\u001b[0m\n",
      "\u001b[35m169.254.255.130 - - [20/Nov/2020:21:38:41 +0000] \"POST /invocations HTTP/1.1\" 200 12166 \"-\" \"Go-http-client/1.1\"\u001b[0m\n",
      "\u001b[35m169.254.255.130 - - [20/Nov/2020:21:38:41 +0000] \"POST /invocations HTTP/1.1\" 200 12198 \"-\" \"Go-http-client/1.1\"\u001b[0m\n",
      "\u001b[35m169.254.255.130 - - [20/Nov/2020:21:38:41 +0000] \"POST /invocations HTTP/1.1\" 200 12162 \"-\" \"Go-http-client/1.1\"\u001b[0m\n",
      "\u001b[35m[2020-11-20:21:38:42:INFO] Determined delimiter of CSV input is ','\u001b[0m\n",
      "\u001b[35m169.254.255.130 - - [20/Nov/2020:21:38:42 +0000] \"POST /invocations HTTP/1.1\" 200 12201 \"-\" \"Go-http-client/1.1\"\u001b[0m\n",
      "\u001b[35m[2020-11-20:21:38:42:INFO] Determined delimiter of CSV input is ','\u001b[0m\n",
      "\u001b[35m[2020-11-20:21:38:42:INFO] Determined delimiter of CSV input is ','\u001b[0m\n",
      "\u001b[35m[2020-11-20:21:38:42:INFO] Determined delimiter of CSV input is ','\u001b[0m\n"
     ]
    },
    {
     "name": "stdout",
     "output_type": "stream",
     "text": [
      "\u001b[34m169.254.255.130 - - [20/Nov/2020:21:38:47 +0000] \"POST /invocations HTTP/1.1\" 200 12185 \"-\" \"Go-http-client/1.1\"\u001b[0m\n",
      "\u001b[35m169.254.255.130 - - [20/Nov/2020:21:38:47 +0000] \"POST /invocations HTTP/1.1\" 200 12185 \"-\" \"Go-http-client/1.1\"\u001b[0m\n",
      "\u001b[34m[2020-11-20:21:38:47:INFO] Determined delimiter of CSV input is ','\u001b[0m\n",
      "\u001b[34m169.254.255.130 - - [20/Nov/2020:21:38:47 +0000] \"POST /invocations HTTP/1.1\" 200 12181 \"-\" \"Go-http-client/1.1\"\u001b[0m\n",
      "\u001b[34m[2020-11-20:21:38:47:INFO] Determined delimiter of CSV input is ','\u001b[0m\n",
      "\u001b[35m[2020-11-20:21:38:47:INFO] Determined delimiter of CSV input is ','\u001b[0m\n",
      "\u001b[35m169.254.255.130 - - [20/Nov/2020:21:38:47 +0000] \"POST /invocations HTTP/1.1\" 200 12181 \"-\" \"Go-http-client/1.1\"\u001b[0m\n",
      "\u001b[35m[2020-11-20:21:38:47:INFO] Determined delimiter of CSV input is ','\u001b[0m\n",
      "\u001b[34m169.254.255.130 - - [20/Nov/2020:21:38:48 +0000] \"POST /invocations HTTP/1.1\" 200 12171 \"-\" \"Go-http-client/1.1\"\u001b[0m\n",
      "\u001b[34m[2020-11-20:21:38:49:INFO] Determined delimiter of CSV input is ','\u001b[0m\n",
      "\u001b[35m169.254.255.130 - - [20/Nov/2020:21:38:48 +0000] \"POST /invocations HTTP/1.1\" 200 12171 \"-\" \"Go-http-client/1.1\"\u001b[0m\n",
      "\u001b[35m[2020-11-20:21:38:49:INFO] Determined delimiter of CSV input is ','\u001b[0m\n",
      "\u001b[34m169.254.255.130 - - [20/Nov/2020:21:38:49 +0000] \"POST /invocations HTTP/1.1\" 200 12177 \"-\" \"Go-http-client/1.1\"\u001b[0m\n",
      "\u001b[34m[2020-11-20:21:38:49:INFO] Determined delimiter of CSV input is ','\u001b[0m\n",
      "\u001b[34m[2020-11-20:21:38:49:INFO] Determined delimiter of CSV input is ','\u001b[0m\n",
      "\u001b[34m[2020-11-20:21:38:49:INFO] Determined delimiter of CSV input is ','\u001b[0m\n",
      "\u001b[35m169.254.255.130 - - [20/Nov/2020:21:38:49 +0000] \"POST /invocations HTTP/1.1\" 200 12177 \"-\" \"Go-http-client/1.1\"\u001b[0m\n",
      "\u001b[35m[2020-11-20:21:38:49:INFO] Determined delimiter of CSV input is ','\u001b[0m\n",
      "\u001b[35m[2020-11-20:21:38:49:INFO] Determined delimiter of CSV input is ','\u001b[0m\n",
      "\u001b[35m[2020-11-20:21:38:49:INFO] Determined delimiter of CSV input is ','\u001b[0m\n",
      "\u001b[34m169.254.255.130 - - [20/Nov/2020:21:38:52 +0000] \"POST /invocations HTTP/1.1\" 200 12198 \"-\" \"Go-http-client/1.1\"\u001b[0m\n",
      "\u001b[34m[2020-11-20:21:38:52:INFO] Determined delimiter of CSV input is ','\u001b[0m\n",
      "\u001b[34m[2020-11-20:21:38:52:INFO] Determined delimiter of CSV input is ','\u001b[0m\n",
      "\u001b[34m[2020-11-20:21:38:52:INFO] Determined delimiter of CSV input is ','\u001b[0m\n",
      "\u001b[35m169.254.255.130 - - [20/Nov/2020:21:38:52 +0000] \"POST /invocations HTTP/1.1\" 200 12198 \"-\" \"Go-http-client/1.1\"\u001b[0m\n",
      "\u001b[35m[2020-11-20:21:38:52:INFO] Determined delimiter of CSV input is ','\u001b[0m\n",
      "\u001b[35m[2020-11-20:21:38:52:INFO] Determined delimiter of CSV input is ','\u001b[0m\n",
      "\u001b[35m[2020-11-20:21:38:52:INFO] Determined delimiter of CSV input is ','\u001b[0m\n",
      "\u001b[34m169.254.255.130 - - [20/Nov/2020:21:38:55 +0000] \"POST /invocations HTTP/1.1\" 200 12206 \"-\" \"Go-http-client/1.1\"\u001b[0m\n",
      "\u001b[34m169.254.255.130 - - [20/Nov/2020:21:38:55 +0000] \"POST /invocations HTTP/1.1\" 200 12190 \"-\" \"Go-http-client/1.1\"\u001b[0m\n",
      "\u001b[34m169.254.255.130 - - [20/Nov/2020:21:38:55 +0000] \"POST /invocations HTTP/1.1\" 200 12197 \"-\" \"Go-http-client/1.1\"\u001b[0m\n",
      "\u001b[34m169.254.255.130 - - [20/Nov/2020:21:38:55 +0000] \"POST /invocations HTTP/1.1\" 200 12204 \"-\" \"Go-http-client/1.1\"\u001b[0m\n",
      "\u001b[34m[2020-11-20:21:38:55:INFO] Determined delimiter of CSV input is ','\u001b[0m\n",
      "\u001b[34m[2020-11-20:21:38:55:INFO] Determined delimiter of CSV input is ','\u001b[0m\n",
      "\u001b[34m[2020-11-20:21:38:55:INFO] Determined delimiter of CSV input is ','\u001b[0m\n",
      "\u001b[34m[2020-11-20:21:38:55:INFO] Determined delimiter of CSV input is ','\u001b[0m\n",
      "\u001b[35m169.254.255.130 - - [20/Nov/2020:21:38:55 +0000] \"POST /invocations HTTP/1.1\" 200 12206 \"-\" \"Go-http-client/1.1\"\u001b[0m\n",
      "\u001b[35m169.254.255.130 - - [20/Nov/2020:21:38:55 +0000] \"POST /invocations HTTP/1.1\" 200 12190 \"-\" \"Go-http-client/1.1\"\u001b[0m\n",
      "\u001b[35m169.254.255.130 - - [20/Nov/2020:21:38:55 +0000] \"POST /invocations HTTP/1.1\" 200 12197 \"-\" \"Go-http-client/1.1\"\u001b[0m\n",
      "\u001b[35m169.254.255.130 - - [20/Nov/2020:21:38:55 +0000] \"POST /invocations HTTP/1.1\" 200 12204 \"-\" \"Go-http-client/1.1\"\u001b[0m\n",
      "\u001b[35m[2020-11-20:21:38:55:INFO] Determined delimiter of CSV input is ','\u001b[0m\n",
      "\u001b[35m[2020-11-20:21:38:55:INFO] Determined delimiter of CSV input is ','\u001b[0m\n",
      "\u001b[35m[2020-11-20:21:38:55:INFO] Determined delimiter of CSV input is ','\u001b[0m\n",
      "\u001b[35m[2020-11-20:21:38:55:INFO] Determined delimiter of CSV input is ','\u001b[0m\n",
      "\u001b[34m169.254.255.130 - - [20/Nov/2020:21:38:58 +0000] \"POST /invocations HTTP/1.1\" 200 12209 \"-\" \"Go-http-client/1.1\"\u001b[0m\n",
      "\u001b[34m169.254.255.130 - - [20/Nov/2020:21:38:58 +0000] \"POST /invocations HTTP/1.1\" 200 12177 \"-\" \"Go-http-client/1.1\"\u001b[0m\n",
      "\u001b[35m169.254.255.130 - - [20/Nov/2020:21:38:58 +0000] \"POST /invocations HTTP/1.1\" 200 12209 \"-\" \"Go-http-client/1.1\"\u001b[0m\n",
      "\u001b[35m169.254.255.130 - - [20/Nov/2020:21:38:58 +0000] \"POST /invocations HTTP/1.1\" 200 12177 \"-\" \"Go-http-client/1.1\"\u001b[0m\n",
      "\u001b[34m169.254.255.130 - - [20/Nov/2020:21:38:58 +0000] \"POST /invocations HTTP/1.1\" 200 12190 \"-\" \"Go-http-client/1.1\"\u001b[0m\n",
      "\u001b[34m169.254.255.130 - - [20/Nov/2020:21:38:58 +0000] \"POST /invocations HTTP/1.1\" 200 12233 \"-\" \"Go-http-client/1.1\"\u001b[0m\n",
      "\u001b[34m[2020-11-20:21:38:58:INFO] Determined delimiter of CSV input is ','\u001b[0m\n",
      "\u001b[34m[2020-11-20:21:38:58:INFO] Determined delimiter of CSV input is ','\u001b[0m\n",
      "\u001b[34m[2020-11-20:21:38:58:INFO] Determined delimiter of CSV input is ','\u001b[0m\n",
      "\u001b[34m[2020-11-20:21:38:58:INFO] Determined delimiter of CSV input is ','\u001b[0m\n",
      "\u001b[35m169.254.255.130 - - [20/Nov/2020:21:38:58 +0000] \"POST /invocations HTTP/1.1\" 200 12190 \"-\" \"Go-http-client/1.1\"\u001b[0m\n",
      "\u001b[35m169.254.255.130 - - [20/Nov/2020:21:38:58 +0000] \"POST /invocations HTTP/1.1\" 200 12233 \"-\" \"Go-http-client/1.1\"\u001b[0m\n",
      "\u001b[35m[2020-11-20:21:38:58:INFO] Determined delimiter of CSV input is ','\u001b[0m\n",
      "\u001b[35m[2020-11-20:21:38:58:INFO] Determined delimiter of CSV input is ','\u001b[0m\n",
      "\u001b[35m[2020-11-20:21:38:58:INFO] Determined delimiter of CSV input is ','\u001b[0m\n",
      "\u001b[35m[2020-11-20:21:38:58:INFO] Determined delimiter of CSV input is ','\u001b[0m\n",
      "\u001b[34m169.254.255.130 - - [20/Nov/2020:21:39:01 +0000] \"POST /invocations HTTP/1.1\" 200 12202 \"-\" \"Go-http-client/1.1\"\u001b[0m\n",
      "\u001b[34m169.254.255.130 - - [20/Nov/2020:21:39:01 +0000] \"POST /invocations HTTP/1.1\" 200 12182 \"-\" \"Go-http-client/1.1\"\u001b[0m\n",
      "\u001b[34m169.254.255.130 - - [20/Nov/2020:21:39:01 +0000] \"POST /invocations HTTP/1.1\" 200 12166 \"-\" \"Go-http-client/1.1\"\u001b[0m\n",
      "\u001b[34m[2020-11-20:21:39:01:INFO] Determined delimiter of CSV input is ','\u001b[0m\n",
      "\u001b[34m[2020-11-20:21:39:01:INFO] Determined delimiter of CSV input is ','\u001b[0m\n",
      "\u001b[34m169.254.255.130 - - [20/Nov/2020:21:39:01 +0000] \"POST /invocations HTTP/1.1\" 200 12190 \"-\" \"Go-http-client/1.1\"\u001b[0m\n",
      "\u001b[34m[2020-11-20:21:39:01:INFO] Determined delimiter of CSV input is ','\u001b[0m\n",
      "\u001b[35m169.254.255.130 - - [20/Nov/2020:21:39:01 +0000] \"POST /invocations HTTP/1.1\" 200 12202 \"-\" \"Go-http-client/1.1\"\u001b[0m\n",
      "\u001b[35m169.254.255.130 - - [20/Nov/2020:21:39:01 +0000] \"POST /invocations HTTP/1.1\" 200 12182 \"-\" \"Go-http-client/1.1\"\u001b[0m\n",
      "\u001b[35m169.254.255.130 - - [20/Nov/2020:21:39:01 +0000] \"POST /invocations HTTP/1.1\" 200 12166 \"-\" \"Go-http-client/1.1\"\u001b[0m\n",
      "\u001b[35m[2020-11-20:21:39:01:INFO] Determined delimiter of CSV input is ','\u001b[0m\n",
      "\u001b[35m[2020-11-20:21:39:01:INFO] Determined delimiter of CSV input is ','\u001b[0m\n",
      "\u001b[35m169.254.255.130 - - [20/Nov/2020:21:39:01 +0000] \"POST /invocations HTTP/1.1\" 200 12190 \"-\" \"Go-http-client/1.1\"\u001b[0m\n",
      "\u001b[35m[2020-11-20:21:39:01:INFO] Determined delimiter of CSV input is ','\u001b[0m\n",
      "\u001b[34m[2020-11-20:21:39:01:INFO] Determined delimiter of CSV input is ','\u001b[0m\n",
      "\u001b[35m[2020-11-20:21:39:01:INFO] Determined delimiter of CSV input is ','\u001b[0m\n",
      "\u001b[34m169.254.255.130 - - [20/Nov/2020:21:39:04 +0000] \"POST /invocations HTTP/1.1\" 200 12178 \"-\" \"Go-http-client/1.1\"\u001b[0m\n",
      "\u001b[34m169.254.255.130 - - [20/Nov/2020:21:39:04 +0000] \"POST /invocations HTTP/1.1\" 200 12203 \"-\" \"Go-http-client/1.1\"\u001b[0m\n",
      "\u001b[34m[2020-11-20:21:39:04:INFO] Determined delimiter of CSV input is ','\u001b[0m\n",
      "\u001b[34m[2020-11-20:21:39:04:INFO] Determined delimiter of CSV input is ','\u001b[0m\n",
      "\u001b[34m169.254.255.130 - - [20/Nov/2020:21:39:04 +0000] \"POST /invocations HTTP/1.1\" 200 12207 \"-\" \"Go-http-client/1.1\"\u001b[0m\n",
      "\u001b[34m[2020-11-20:21:39:04:INFO] Determined delimiter of CSV input is ','\u001b[0m\n",
      "\u001b[35m169.254.255.130 - - [20/Nov/2020:21:39:04 +0000] \"POST /invocations HTTP/1.1\" 200 12178 \"-\" \"Go-http-client/1.1\"\u001b[0m\n",
      "\u001b[35m169.254.255.130 - - [20/Nov/2020:21:39:04 +0000] \"POST /invocations HTTP/1.1\" 200 12203 \"-\" \"Go-http-client/1.1\"\u001b[0m\n",
      "\u001b[35m[2020-11-20:21:39:04:INFO] Determined delimiter of CSV input is ','\u001b[0m\n",
      "\u001b[35m[2020-11-20:21:39:04:INFO] Determined delimiter of CSV input is ','\u001b[0m\n",
      "\u001b[35m169.254.255.130 - - [20/Nov/2020:21:39:04 +0000] \"POST /invocations HTTP/1.1\" 200 12207 \"-\" \"Go-http-client/1.1\"\u001b[0m\n",
      "\u001b[35m[2020-11-20:21:39:04:INFO] Determined delimiter of CSV input is ','\u001b[0m\n",
      "\u001b[34m[2020-11-20:21:39:04:INFO] Determined delimiter of CSV input is ','\u001b[0m\n",
      "\u001b[35m[2020-11-20:21:39:04:INFO] Determined delimiter of CSV input is ','\u001b[0m\n",
      "\u001b[34m169.254.255.130 - - [20/Nov/2020:21:39:07 +0000] \"POST /invocations HTTP/1.1\" 200 12188 \"-\" \"Go-http-client/1.1\"\u001b[0m\n",
      "\u001b[34m169.254.255.130 - - [20/Nov/2020:21:39:07 +0000] \"POST /invocations HTTP/1.1\" 200 12220 \"-\" \"Go-http-client/1.1\"\u001b[0m\n",
      "\u001b[34m169.254.255.130 - - [20/Nov/2020:21:39:07 +0000] \"POST /invocations HTTP/1.1\" 200 12176 \"-\" \"Go-http-client/1.1\"\u001b[0m\n",
      "\u001b[34m[2020-11-20:21:39:07:INFO] Determined delimiter of CSV input is ','\u001b[0m\n",
      "\u001b[34m169.254.255.130 - - [20/Nov/2020:21:39:07 +0000] \"POST /invocations HTTP/1.1\" 200 12218 \"-\" \"Go-http-client/1.1\"\u001b[0m\n",
      "\u001b[34m[2020-11-20:21:39:07:INFO] Determined delimiter of CSV input is ','\u001b[0m\n",
      "\u001b[35m169.254.255.130 - - [20/Nov/2020:21:39:07 +0000] \"POST /invocations HTTP/1.1\" 200 12188 \"-\" \"Go-http-client/1.1\"\u001b[0m\n",
      "\u001b[35m169.254.255.130 - - [20/Nov/2020:21:39:07 +0000] \"POST /invocations HTTP/1.1\" 200 12220 \"-\" \"Go-http-client/1.1\"\u001b[0m\n",
      "\u001b[35m169.254.255.130 - - [20/Nov/2020:21:39:07 +0000] \"POST /invocations HTTP/1.1\" 200 12176 \"-\" \"Go-http-client/1.1\"\u001b[0m\n",
      "\u001b[35m[2020-11-20:21:39:07:INFO] Determined delimiter of CSV input is ','\u001b[0m\n",
      "\u001b[35m169.254.255.130 - - [20/Nov/2020:21:39:07 +0000] \"POST /invocations HTTP/1.1\" 200 12218 \"-\" \"Go-http-client/1.1\"\u001b[0m\n",
      "\u001b[35m[2020-11-20:21:39:07:INFO] Determined delimiter of CSV input is ','\u001b[0m\n",
      "\u001b[34m[2020-11-20:21:39:07:INFO] Determined delimiter of CSV input is ','\u001b[0m\n",
      "\u001b[35m[2020-11-20:21:39:07:INFO] Determined delimiter of CSV input is ','\u001b[0m\n",
      "\u001b[34m169.254.255.130 - - [20/Nov/2020:21:39:09 +0000] \"POST /invocations HTTP/1.1\" 200 12212 \"-\" \"Go-http-client/1.1\"\u001b[0m\n",
      "\u001b[34m169.254.255.130 - - [20/Nov/2020:21:39:09 +0000] \"POST /invocations HTTP/1.1\" 200 9081 \"-\" \"Go-http-client/1.1\"\u001b[0m\n",
      "\u001b[35m169.254.255.130 - - [20/Nov/2020:21:39:09 +0000] \"POST /invocations HTTP/1.1\" 200 12212 \"-\" \"Go-http-client/1.1\"\u001b[0m\n",
      "\u001b[35m169.254.255.130 - - [20/Nov/2020:21:39:09 +0000] \"POST /invocations HTTP/1.1\" 200 9081 \"-\" \"Go-http-client/1.1\"\u001b[0m\n",
      "\u001b[34m169.254.255.130 - - [20/Nov/2020:21:39:09 +0000] \"POST /invocations HTTP/1.1\" 200 12164 \"-\" \"Go-http-client/1.1\"\u001b[0m\n",
      "\u001b[35m169.254.255.130 - - [20/Nov/2020:21:39:09 +0000] \"POST /invocations HTTP/1.1\" 200 12164 \"-\" \"Go-http-client/1.1\"\u001b[0m\n"
     ]
    },
    {
     "name": "stdout",
     "output_type": "stream",
     "text": [
      "\n"
     ]
    }
   ],
   "source": [
    "xgb_transformer.transform(test_location, content_type='text/csv', split_type='Line')"
   ]
  },
  {
   "cell_type": "markdown",
   "metadata": {},
   "source": [
    "Currently the transform job is running but it is doing so in the background. Since we wish to wait until the transform job is done and we would like a bit of feedback we can run the `wait()` method."
   ]
  },
  {
   "cell_type": "code",
   "execution_count": 33,
   "metadata": {},
   "outputs": [
    {
     "name": "stdout",
     "output_type": "stream",
     "text": [
      "\u001b[32m2020-11-20T21:38:38.615:[sagemaker logs]: MaxConcurrentTransforms=4, MaxPayloadInMB=6, BatchStrategy=MULTI_RECORD\u001b[0m\n",
      "\u001b[34m[2020-11-20:21:38:36:INFO] No GPUs detected (normal if no gpus installed)\u001b[0m\n",
      "\u001b[34m[2020-11-20:21:38:36:INFO] No GPUs detected (normal if no gpus installed)\u001b[0m\n",
      "\u001b[34m[2020-11-20:21:38:36:INFO] nginx config: \u001b[0m\n",
      "\u001b[34mworker_processes auto;\u001b[0m\n",
      "\u001b[34mdaemon off;\u001b[0m\n",
      "\u001b[34mpid /tmp/nginx.pid;\u001b[0m\n",
      "\u001b[34merror_log  /dev/stderr;\n",
      "\u001b[0m\n",
      "\u001b[35m[2020-11-20:21:38:36:INFO] No GPUs detected (normal if no gpus installed)\u001b[0m\n",
      "\u001b[35m[2020-11-20:21:38:36:INFO] No GPUs detected (normal if no gpus installed)\u001b[0m\n",
      "\u001b[35m[2020-11-20:21:38:36:INFO] nginx config: \u001b[0m\n",
      "\u001b[35mworker_processes auto;\u001b[0m\n",
      "\u001b[35mdaemon off;\u001b[0m\n",
      "\u001b[35mpid /tmp/nginx.pid;\u001b[0m\n",
      "\u001b[35merror_log  /dev/stderr;\n",
      "\u001b[0m\n",
      "\u001b[34mworker_rlimit_nofile 4096;\n",
      "\u001b[0m\n",
      "\u001b[34mevents {\n",
      "  worker_connections 2048;\u001b[0m\n",
      "\u001b[34m}\n",
      "\u001b[0m\n",
      "\u001b[34mhttp {\n",
      "  include /etc/nginx/mime.types;\n",
      "  default_type application/octet-stream;\n",
      "  access_log /dev/stdout combined;\n",
      "\n",
      "  upstream gunicorn {\n",
      "    server unix:/tmp/gunicorn.sock;\n",
      "  }\n",
      "\n",
      "  server {\n",
      "    listen 8080 deferred;\n",
      "    client_max_body_size 0;\n",
      "\n",
      "    keepalive_timeout 3;\n",
      "\n",
      "    location ~ ^/(ping|invocations|execution-parameters) {\n",
      "      proxy_set_header X-Forwarded-For $proxy_add_x_forwarded_for;\n",
      "      proxy_set_header Host $http_host;\n",
      "      proxy_redirect off;\n",
      "      proxy_read_timeout 60s;\n",
      "      proxy_pass http://gunicorn;\n",
      "    }\n",
      "\n",
      "    location / {\n",
      "      return 404 \"{}\";\n",
      "    }\n",
      "\n",
      "  }\u001b[0m\n",
      "\u001b[34m}\n",
      "\n",
      "\u001b[0m\n",
      "\u001b[35mworker_rlimit_nofile 4096;\n",
      "\u001b[0m\n",
      "\u001b[35mevents {\n",
      "  worker_connections 2048;\u001b[0m\n",
      "\u001b[35m}\n",
      "\u001b[0m\n",
      "\u001b[35mhttp {\n",
      "  include /etc/nginx/mime.types;\n",
      "  default_type application/octet-stream;\n",
      "  access_log /dev/stdout combined;\n",
      "\n",
      "  upstream gunicorn {\n",
      "    server unix:/tmp/gunicorn.sock;\n",
      "  }\n",
      "\n",
      "  server {\n",
      "    listen 8080 deferred;\n",
      "    client_max_body_size 0;\n",
      "\n",
      "    keepalive_timeout 3;\n",
      "\n",
      "    location ~ ^/(ping|invocations|execution-parameters) {\n",
      "      proxy_set_header X-Forwarded-For $proxy_add_x_forwarded_for;\n",
      "      proxy_set_header Host $http_host;\n",
      "      proxy_redirect off;\n",
      "      proxy_read_timeout 60s;\n",
      "      proxy_pass http://gunicorn;\n",
      "    }\n",
      "\n",
      "    location / {\n",
      "      return 404 \"{}\";\n",
      "    }\n",
      "\n",
      "  }\u001b[0m\n",
      "\u001b[35m}\n",
      "\n",
      "\u001b[0m\n",
      "\u001b[34m2020/11/20 21:38:36 [crit] 19#19: *1 connect() to unix:/tmp/gunicorn.sock failed (2: No such file or directory) while connecting to upstream, client: 169.254.255.130, server: , request: \"GET /ping HTTP/1.1\", upstream: \"http://unix:/tmp/gunicorn.sock:/ping\", host: \"169.254.255.131:8080\"\u001b[0m\n",
      "\u001b[34m169.254.255.130 - - [20/Nov/2020:21:38:36 +0000] \"GET /ping HTTP/1.1\" 502 182 \"-\" \"Go-http-client/1.1\"\u001b[0m\n",
      "\u001b[34m2020/11/20 21:38:36 [crit] 19#19: *3 connect() to unix:/tmp/gunicorn.sock failed (2: No such file or directory) while connecting to upstream, client: 169.254.255.130, server: , request: \"GET /ping HTTP/1.1\", upstream: \"http://unix:/tmp/gunicorn.sock:/ping\", host: \"169.254.255.131:8080\"\u001b[0m\n",
      "\u001b[34m169.254.255.130 - - [20/Nov/2020:21:38:36 +0000] \"GET /ping HTTP/1.1\" 502 182 \"-\" \"Go-http-client/1.1\"\u001b[0m\n",
      "\u001b[34m[2020-11-20 21:38:36 +0000] [18] [INFO] Starting gunicorn 19.10.0\u001b[0m\n",
      "\u001b[34m[2020-11-20 21:38:36 +0000] [18] [INFO] Listening at: unix:/tmp/gunicorn.sock (18)\u001b[0m\n",
      "\u001b[34m[2020-11-20 21:38:36 +0000] [18] [INFO] Using worker: gevent\u001b[0m\n",
      "\u001b[34m[2020-11-20 21:38:36 +0000] [25] [INFO] Booting worker with pid: 25\u001b[0m\n",
      "\u001b[34m[2020-11-20 21:38:36 +0000] [26] [INFO] Booting worker with pid: 26\u001b[0m\n",
      "\u001b[34m[2020-11-20 21:38:36 +0000] [27] [INFO] Booting worker with pid: 27\u001b[0m\n",
      "\u001b[34m[2020-11-20 21:38:36 +0000] [28] [INFO] Booting worker with pid: 28\u001b[0m\n",
      "\u001b[34m[2020-11-20:21:38:38:INFO] No GPUs detected (normal if no gpus installed)\u001b[0m\n",
      "\u001b[34m169.254.255.130 - - [20/Nov/2020:21:38:38 +0000] \"GET /ping HTTP/1.1\" 200 0 \"-\" \"Go-http-client/1.1\"\u001b[0m\n",
      "\u001b[34m169.254.255.130 - - [20/Nov/2020:21:38:38 +0000] \"GET /execution-parameters HTTP/1.1\" 200 84 \"-\" \"Go-http-client/1.1\"\u001b[0m\n",
      "\u001b[34m[2020-11-20:21:38:38:INFO] Determined delimiter of CSV input is ','\u001b[0m\n",
      "\u001b[34m[2020-11-20:21:38:38:INFO] No GPUs detected (normal if no gpus installed)\u001b[0m\n",
      "\u001b[34m[2020-11-20:21:38:38:INFO] No GPUs detected (normal if no gpus installed)\u001b[0m\n",
      "\u001b[34m[2020-11-20:21:38:38:INFO] Determined delimiter of CSV input is ','\u001b[0m\n",
      "\u001b[35m2020/11/20 21:38:36 [crit] 19#19: *1 connect() to unix:/tmp/gunicorn.sock failed (2: No such file or directory) while connecting to upstream, client: 169.254.255.130, server: , request: \"GET /ping HTTP/1.1\", upstream: \"http://unix:/tmp/gunicorn.sock:/ping\", host: \"169.254.255.131:8080\"\u001b[0m\n",
      "\u001b[35m169.254.255.130 - - [20/Nov/2020:21:38:36 +0000] \"GET /ping HTTP/1.1\" 502 182 \"-\" \"Go-http-client/1.1\"\u001b[0m\n",
      "\u001b[35m2020/11/20 21:38:36 [crit] 19#19: *3 connect() to unix:/tmp/gunicorn.sock failed (2: No such file or directory) while connecting to upstream, client: 169.254.255.130, server: , request: \"GET /ping HTTP/1.1\", upstream: \"http://unix:/tmp/gunicorn.sock:/ping\", host: \"169.254.255.131:8080\"\u001b[0m\n",
      "\u001b[35m169.254.255.130 - - [20/Nov/2020:21:38:36 +0000] \"GET /ping HTTP/1.1\" 502 182 \"-\" \"Go-http-client/1.1\"\u001b[0m\n",
      "\u001b[35m[2020-11-20 21:38:36 +0000] [18] [INFO] Starting gunicorn 19.10.0\u001b[0m\n",
      "\u001b[35m[2020-11-20 21:38:36 +0000] [18] [INFO] Listening at: unix:/tmp/gunicorn.sock (18)\u001b[0m\n",
      "\u001b[35m[2020-11-20 21:38:36 +0000] [18] [INFO] Using worker: gevent\u001b[0m\n",
      "\u001b[35m[2020-11-20 21:38:36 +0000] [25] [INFO] Booting worker with pid: 25\u001b[0m\n",
      "\u001b[35m[2020-11-20 21:38:36 +0000] [26] [INFO] Booting worker with pid: 26\u001b[0m\n",
      "\u001b[35m[2020-11-20 21:38:36 +0000] [27] [INFO] Booting worker with pid: 27\u001b[0m\n",
      "\u001b[35m[2020-11-20 21:38:36 +0000] [28] [INFO] Booting worker with pid: 28\u001b[0m\n",
      "\u001b[35m[2020-11-20:21:38:38:INFO] No GPUs detected (normal if no gpus installed)\u001b[0m\n",
      "\u001b[35m169.254.255.130 - - [20/Nov/2020:21:38:38 +0000] \"GET /ping HTTP/1.1\" 200 0 \"-\" \"Go-http-client/1.1\"\u001b[0m\n",
      "\u001b[35m169.254.255.130 - - [20/Nov/2020:21:38:38 +0000] \"GET /execution-parameters HTTP/1.1\" 200 84 \"-\" \"Go-http-client/1.1\"\u001b[0m\n",
      "\u001b[35m[2020-11-20:21:38:38:INFO] Determined delimiter of CSV input is ','\u001b[0m\n",
      "\u001b[35m[2020-11-20:21:38:38:INFO] No GPUs detected (normal if no gpus installed)\u001b[0m\n",
      "\u001b[35m[2020-11-20:21:38:38:INFO] No GPUs detected (normal if no gpus installed)\u001b[0m\n",
      "\u001b[35m[2020-11-20:21:38:38:INFO] Determined delimiter of CSV input is ','\u001b[0m\n",
      "\u001b[34m[2020-11-20:21:38:39:INFO] No GPUs detected (normal if no gpus installed)\u001b[0m\n",
      "\u001b[34m[2020-11-20:21:38:39:INFO] Determined delimiter of CSV input is ','\u001b[0m\n",
      "\u001b[34m[2020-11-20:21:38:39:INFO] Determined delimiter of CSV input is ','\u001b[0m\n",
      "\u001b[35m[2020-11-20:21:38:39:INFO] No GPUs detected (normal if no gpus installed)\u001b[0m\n",
      "\u001b[35m[2020-11-20:21:38:39:INFO] Determined delimiter of CSV input is ','\u001b[0m\n",
      "\u001b[35m[2020-11-20:21:38:39:INFO] Determined delimiter of CSV input is ','\u001b[0m\n",
      "\u001b[34m169.254.255.130 - - [20/Nov/2020:21:38:41 +0000] \"POST /invocations HTTP/1.1\" 200 12166 \"-\" \"Go-http-client/1.1\"\u001b[0m\n",
      "\u001b[34m169.254.255.130 - - [20/Nov/2020:21:38:41 +0000] \"POST /invocations HTTP/1.1\" 200 12198 \"-\" \"Go-http-client/1.1\"\u001b[0m\n",
      "\u001b[34m169.254.255.130 - - [20/Nov/2020:21:38:41 +0000] \"POST /invocations HTTP/1.1\" 200 12162 \"-\" \"Go-http-client/1.1\"\u001b[0m\n",
      "\u001b[34m[2020-11-20:21:38:42:INFO] Determined delimiter of CSV input is ','\u001b[0m\n",
      "\u001b[34m169.254.255.130 - - [20/Nov/2020:21:38:42 +0000] \"POST /invocations HTTP/1.1\" 200 12201 \"-\" \"Go-http-client/1.1\"\u001b[0m\n",
      "\u001b[34m[2020-11-20:21:38:42:INFO] Determined delimiter of CSV input is ','\u001b[0m\n",
      "\u001b[34m[2020-11-20:21:38:42:INFO] Determined delimiter of CSV input is ','\u001b[0m\n",
      "\u001b[34m[2020-11-20:21:38:42:INFO] Determined delimiter of CSV input is ','\u001b[0m\n",
      "\u001b[35m169.254.255.130 - - [20/Nov/2020:21:38:41 +0000] \"POST /invocations HTTP/1.1\" 200 12166 \"-\" \"Go-http-client/1.1\"\u001b[0m\n",
      "\u001b[35m169.254.255.130 - - [20/Nov/2020:21:38:41 +0000] \"POST /invocations HTTP/1.1\" 200 12198 \"-\" \"Go-http-client/1.1\"\u001b[0m\n",
      "\u001b[35m169.254.255.130 - - [20/Nov/2020:21:38:41 +0000] \"POST /invocations HTTP/1.1\" 200 12162 \"-\" \"Go-http-client/1.1\"\u001b[0m\n",
      "\u001b[35m[2020-11-20:21:38:42:INFO] Determined delimiter of CSV input is ','\u001b[0m\n",
      "\u001b[35m169.254.255.130 - - [20/Nov/2020:21:38:42 +0000] \"POST /invocations HTTP/1.1\" 200 12201 \"-\" \"Go-http-client/1.1\"\u001b[0m\n",
      "\u001b[35m[2020-11-20:21:38:42:INFO] Determined delimiter of CSV input is ','\u001b[0m\n",
      "\u001b[35m[2020-11-20:21:38:42:INFO] Determined delimiter of CSV input is ','\u001b[0m\n",
      "\u001b[35m[2020-11-20:21:38:42:INFO] Determined delimiter of CSV input is ','\u001b[0m\n",
      "\u001b[34m169.254.255.130 - - [20/Nov/2020:21:38:44 +0000] \"POST /invocations HTTP/1.1\" 200 12208 \"-\" \"Go-http-client/1.1\"\u001b[0m\n",
      "\u001b[34m169.254.255.130 - - [20/Nov/2020:21:38:44 +0000] \"POST /invocations HTTP/1.1\" 200 12201 \"-\" \"Go-http-client/1.1\"\u001b[0m\n",
      "\u001b[34m169.254.255.130 - - [20/Nov/2020:21:38:45 +0000] \"POST /invocations HTTP/1.1\" 200 12181 \"-\" \"Go-http-client/1.1\"\u001b[0m\n",
      "\u001b[34m169.254.255.130 - - [20/Nov/2020:21:38:45 +0000] \"POST /invocations HTTP/1.1\" 200 12213 \"-\" \"Go-http-client/1.1\"\u001b[0m\n",
      "\u001b[35m169.254.255.130 - - [20/Nov/2020:21:38:44 +0000] \"POST /invocations HTTP/1.1\" 200 12208 \"-\" \"Go-http-client/1.1\"\u001b[0m\n",
      "\u001b[35m169.254.255.130 - - [20/Nov/2020:21:38:44 +0000] \"POST /invocations HTTP/1.1\" 200 12201 \"-\" \"Go-http-client/1.1\"\u001b[0m\n",
      "\u001b[35m169.254.255.130 - - [20/Nov/2020:21:38:45 +0000] \"POST /invocations HTTP/1.1\" 200 12181 \"-\" \"Go-http-client/1.1\"\u001b[0m\n",
      "\u001b[35m169.254.255.130 - - [20/Nov/2020:21:38:45 +0000] \"POST /invocations HTTP/1.1\" 200 12213 \"-\" \"Go-http-client/1.1\"\u001b[0m\n",
      "\u001b[34m[2020-11-20:21:38:45:INFO] Determined delimiter of CSV input is ','\u001b[0m\n",
      "\u001b[34m[2020-11-20:21:38:45:INFO] Determined delimiter of CSV input is ','\u001b[0m\n",
      "\u001b[34m[2020-11-20:21:38:45:INFO] Determined delimiter of CSV input is ','\u001b[0m\n",
      "\u001b[35m[2020-11-20:21:38:45:INFO] Determined delimiter of CSV input is ','\u001b[0m\n",
      "\u001b[35m[2020-11-20:21:38:45:INFO] Determined delimiter of CSV input is ','\u001b[0m\n",
      "\u001b[35m[2020-11-20:21:38:45:INFO] Determined delimiter of CSV input is ','\u001b[0m\n",
      "\u001b[34m169.254.255.130 - - [20/Nov/2020:21:38:47 +0000] \"POST /invocations HTTP/1.1\" 200 12214 \"-\" \"Go-http-client/1.1\"\u001b[0m\n",
      "\u001b[34m169.254.255.130 - - [20/Nov/2020:21:38:47 +0000] \"POST /invocations HTTP/1.1\" 200 12185 \"-\" \"Go-http-client/1.1\"\u001b[0m\n",
      "\u001b[35m169.254.255.130 - - [20/Nov/2020:21:38:47 +0000] \"POST /invocations HTTP/1.1\" 200 12214 \"-\" \"Go-http-client/1.1\"\u001b[0m\n",
      "\u001b[35m169.254.255.130 - - [20/Nov/2020:21:38:47 +0000] \"POST /invocations HTTP/1.1\" 200 12185 \"-\" \"Go-http-client/1.1\"\u001b[0m\n",
      "\u001b[34m[2020-11-20:21:38:47:INFO] Determined delimiter of CSV input is ','\u001b[0m\n",
      "\u001b[34m169.254.255.130 - - [20/Nov/2020:21:38:47 +0000] \"POST /invocations HTTP/1.1\" 200 12181 \"-\" \"Go-http-client/1.1\"\u001b[0m\n",
      "\u001b[34m[2020-11-20:21:38:47:INFO] Determined delimiter of CSV input is ','\u001b[0m\n",
      "\u001b[35m[2020-11-20:21:38:47:INFO] Determined delimiter of CSV input is ','\u001b[0m\n",
      "\u001b[35m169.254.255.130 - - [20/Nov/2020:21:38:47 +0000] \"POST /invocations HTTP/1.1\" 200 12181 \"-\" \"Go-http-client/1.1\"\u001b[0m\n",
      "\u001b[35m[2020-11-20:21:38:47:INFO] Determined delimiter of CSV input is ','\u001b[0m\n",
      "\u001b[34m169.254.255.130 - - [20/Nov/2020:21:38:48 +0000] \"POST /invocations HTTP/1.1\" 200 12171 \"-\" \"Go-http-client/1.1\"\u001b[0m\n",
      "\u001b[34m[2020-11-20:21:38:49:INFO] Determined delimiter of CSV input is ','\u001b[0m\n",
      "\u001b[35m169.254.255.130 - - [20/Nov/2020:21:38:48 +0000] \"POST /invocations HTTP/1.1\" 200 12171 \"-\" \"Go-http-client/1.1\"\u001b[0m\n",
      "\u001b[35m[2020-11-20:21:38:49:INFO] Determined delimiter of CSV input is ','\u001b[0m\n",
      "\u001b[34m169.254.255.130 - - [20/Nov/2020:21:38:49 +0000] \"POST /invocations HTTP/1.1\" 200 12177 \"-\" \"Go-http-client/1.1\"\u001b[0m\n",
      "\u001b[34m[2020-11-20:21:38:49:INFO] Determined delimiter of CSV input is ','\u001b[0m\n",
      "\u001b[34m[2020-11-20:21:38:49:INFO] Determined delimiter of CSV input is ','\u001b[0m\n",
      "\u001b[34m[2020-11-20:21:38:49:INFO] Determined delimiter of CSV input is ','\u001b[0m\n",
      "\u001b[35m169.254.255.130 - - [20/Nov/2020:21:38:49 +0000] \"POST /invocations HTTP/1.1\" 200 12177 \"-\" \"Go-http-client/1.1\"\u001b[0m\n",
      "\u001b[35m[2020-11-20:21:38:49:INFO] Determined delimiter of CSV input is ','\u001b[0m\n",
      "\u001b[35m[2020-11-20:21:38:49:INFO] Determined delimiter of CSV input is ','\u001b[0m\n",
      "\u001b[35m[2020-11-20:21:38:49:INFO] Determined delimiter of CSV input is ','\u001b[0m\n",
      "\u001b[34m169.254.255.130 - - [20/Nov/2020:21:38:52 +0000] \"POST /invocations HTTP/1.1\" 200 12167 \"-\" \"Go-http-client/1.1\"\u001b[0m\n",
      "\u001b[34m169.254.255.130 - - [20/Nov/2020:21:38:52 +0000] \"POST /invocations HTTP/1.1\" 200 12223 \"-\" \"Go-http-client/1.1\"\u001b[0m\n",
      "\u001b[34m169.254.255.130 - - [20/Nov/2020:21:38:52 +0000] \"POST /invocations HTTP/1.1\" 200 12197 \"-\" \"Go-http-client/1.1\"\u001b[0m\n",
      "\u001b[34m[2020-11-20:21:38:52:INFO] Determined delimiter of CSV input is ','\u001b[0m\n",
      "\u001b[34m169.254.255.130 - - [20/Nov/2020:21:38:52 +0000] \"POST /invocations HTTP/1.1\" 200 12198 \"-\" \"Go-http-client/1.1\"\u001b[0m\n",
      "\u001b[34m[2020-11-20:21:38:52:INFO] Determined delimiter of CSV input is ','\u001b[0m\n",
      "\u001b[34m[2020-11-20:21:38:52:INFO] Determined delimiter of CSV input is ','\u001b[0m\n",
      "\u001b[34m[2020-11-20:21:38:52:INFO] Determined delimiter of CSV input is ','\u001b[0m\n",
      "\u001b[35m169.254.255.130 - - [20/Nov/2020:21:38:52 +0000] \"POST /invocations HTTP/1.1\" 200 12167 \"-\" \"Go-http-client/1.1\"\u001b[0m\n",
      "\u001b[35m169.254.255.130 - - [20/Nov/2020:21:38:52 +0000] \"POST /invocations HTTP/1.1\" 200 12223 \"-\" \"Go-http-client/1.1\"\u001b[0m\n",
      "\u001b[35m169.254.255.130 - - [20/Nov/2020:21:38:52 +0000] \"POST /invocations HTTP/1.1\" 200 12197 \"-\" \"Go-http-client/1.1\"\u001b[0m\n",
      "\u001b[35m[2020-11-20:21:38:52:INFO] Determined delimiter of CSV input is ','\u001b[0m\n",
      "\u001b[35m169.254.255.130 - - [20/Nov/2020:21:38:52 +0000] \"POST /invocations HTTP/1.1\" 200 12198 \"-\" \"Go-http-client/1.1\"\u001b[0m\n",
      "\u001b[35m[2020-11-20:21:38:52:INFO] Determined delimiter of CSV input is ','\u001b[0m\n",
      "\u001b[35m[2020-11-20:21:38:52:INFO] Determined delimiter of CSV input is ','\u001b[0m\n",
      "\u001b[35m[2020-11-20:21:38:52:INFO] Determined delimiter of CSV input is ','\u001b[0m\n",
      "\u001b[34m169.254.255.130 - - [20/Nov/2020:21:38:55 +0000] \"POST /invocations HTTP/1.1\" 200 12206 \"-\" \"Go-http-client/1.1\"\u001b[0m\n",
      "\u001b[34m169.254.255.130 - - [20/Nov/2020:21:38:55 +0000] \"POST /invocations HTTP/1.1\" 200 12190 \"-\" \"Go-http-client/1.1\"\u001b[0m\n",
      "\u001b[34m169.254.255.130 - - [20/Nov/2020:21:38:55 +0000] \"POST /invocations HTTP/1.1\" 200 12197 \"-\" \"Go-http-client/1.1\"\u001b[0m\n",
      "\u001b[34m169.254.255.130 - - [20/Nov/2020:21:38:55 +0000] \"POST /invocations HTTP/1.1\" 200 12204 \"-\" \"Go-http-client/1.1\"\u001b[0m\n",
      "\u001b[34m[2020-11-20:21:38:55:INFO] Determined delimiter of CSV input is ','\u001b[0m\n",
      "\u001b[34m[2020-11-20:21:38:55:INFO] Determined delimiter of CSV input is ','\u001b[0m\n",
      "\u001b[34m[2020-11-20:21:38:55:INFO] Determined delimiter of CSV input is ','\u001b[0m\n",
      "\u001b[34m[2020-11-20:21:38:55:INFO] Determined delimiter of CSV input is ','\u001b[0m\n",
      "\u001b[35m169.254.255.130 - - [20/Nov/2020:21:38:55 +0000] \"POST /invocations HTTP/1.1\" 200 12206 \"-\" \"Go-http-client/1.1\"\u001b[0m\n",
      "\u001b[35m169.254.255.130 - - [20/Nov/2020:21:38:55 +0000] \"POST /invocations HTTP/1.1\" 200 12190 \"-\" \"Go-http-client/1.1\"\u001b[0m\n",
      "\u001b[35m169.254.255.130 - - [20/Nov/2020:21:38:55 +0000] \"POST /invocations HTTP/1.1\" 200 12197 \"-\" \"Go-http-client/1.1\"\u001b[0m\n",
      "\u001b[35m169.254.255.130 - - [20/Nov/2020:21:38:55 +0000] \"POST /invocations HTTP/1.1\" 200 12204 \"-\" \"Go-http-client/1.1\"\u001b[0m\n",
      "\u001b[35m[2020-11-20:21:38:55:INFO] Determined delimiter of CSV input is ','\u001b[0m\n",
      "\u001b[35m[2020-11-20:21:38:55:INFO] Determined delimiter of CSV input is ','\u001b[0m\n",
      "\u001b[35m[2020-11-20:21:38:55:INFO] Determined delimiter of CSV input is ','\u001b[0m\n",
      "\u001b[35m[2020-11-20:21:38:55:INFO] Determined delimiter of CSV input is ','\u001b[0m\n",
      "\u001b[34m169.254.255.130 - - [20/Nov/2020:21:38:58 +0000] \"POST /invocations HTTP/1.1\" 200 12209 \"-\" \"Go-http-client/1.1\"\u001b[0m\n",
      "\u001b[34m169.254.255.130 - - [20/Nov/2020:21:38:58 +0000] \"POST /invocations HTTP/1.1\" 200 12177 \"-\" \"Go-http-client/1.1\"\u001b[0m\n",
      "\u001b[35m169.254.255.130 - - [20/Nov/2020:21:38:58 +0000] \"POST /invocations HTTP/1.1\" 200 12209 \"-\" \"Go-http-client/1.1\"\u001b[0m\n",
      "\u001b[35m169.254.255.130 - - [20/Nov/2020:21:38:58 +0000] \"POST /invocations HTTP/1.1\" 200 12177 \"-\" \"Go-http-client/1.1\"\u001b[0m\n",
      "\u001b[34m169.254.255.130 - - [20/Nov/2020:21:38:58 +0000] \"POST /invocations HTTP/1.1\" 200 12190 \"-\" \"Go-http-client/1.1\"\u001b[0m\n",
      "\u001b[34m169.254.255.130 - - [20/Nov/2020:21:38:58 +0000] \"POST /invocations HTTP/1.1\" 200 12233 \"-\" \"Go-http-client/1.1\"\u001b[0m\n",
      "\u001b[34m[2020-11-20:21:38:58:INFO] Determined delimiter of CSV input is ','\u001b[0m\n",
      "\u001b[34m[2020-11-20:21:38:58:INFO] Determined delimiter of CSV input is ','\u001b[0m\n",
      "\u001b[34m[2020-11-20:21:38:58:INFO] Determined delimiter of CSV input is ','\u001b[0m\n",
      "\u001b[34m[2020-11-20:21:38:58:INFO] Determined delimiter of CSV input is ','\u001b[0m\n",
      "\u001b[35m169.254.255.130 - - [20/Nov/2020:21:38:58 +0000] \"POST /invocations HTTP/1.1\" 200 12190 \"-\" \"Go-http-client/1.1\"\u001b[0m\n",
      "\u001b[35m169.254.255.130 - - [20/Nov/2020:21:38:58 +0000] \"POST /invocations HTTP/1.1\" 200 12233 \"-\" \"Go-http-client/1.1\"\u001b[0m\n",
      "\u001b[35m[2020-11-20:21:38:58:INFO] Determined delimiter of CSV input is ','\u001b[0m\n",
      "\u001b[35m[2020-11-20:21:38:58:INFO] Determined delimiter of CSV input is ','\u001b[0m\n",
      "\u001b[35m[2020-11-20:21:38:58:INFO] Determined delimiter of CSV input is ','\u001b[0m\n",
      "\u001b[35m[2020-11-20:21:38:58:INFO] Determined delimiter of CSV input is ','\u001b[0m\n",
      "\u001b[34m169.254.255.130 - - [20/Nov/2020:21:39:01 +0000] \"POST /invocations HTTP/1.1\" 200 12202 \"-\" \"Go-http-client/1.1\"\u001b[0m\n",
      "\u001b[34m169.254.255.130 - - [20/Nov/2020:21:39:01 +0000] \"POST /invocations HTTP/1.1\" 200 12182 \"-\" \"Go-http-client/1.1\"\u001b[0m\n",
      "\u001b[34m169.254.255.130 - - [20/Nov/2020:21:39:01 +0000] \"POST /invocations HTTP/1.1\" 200 12166 \"-\" \"Go-http-client/1.1\"\u001b[0m\n",
      "\u001b[34m[2020-11-20:21:39:01:INFO] Determined delimiter of CSV input is ','\u001b[0m\n",
      "\u001b[34m[2020-11-20:21:39:01:INFO] Determined delimiter of CSV input is ','\u001b[0m\n",
      "\u001b[34m169.254.255.130 - - [20/Nov/2020:21:39:01 +0000] \"POST /invocations HTTP/1.1\" 200 12190 \"-\" \"Go-http-client/1.1\"\u001b[0m\n",
      "\u001b[34m[2020-11-20:21:39:01:INFO] Determined delimiter of CSV input is ','\u001b[0m\n",
      "\u001b[35m169.254.255.130 - - [20/Nov/2020:21:39:01 +0000] \"POST /invocations HTTP/1.1\" 200 12202 \"-\" \"Go-http-client/1.1\"\u001b[0m\n",
      "\u001b[35m169.254.255.130 - - [20/Nov/2020:21:39:01 +0000] \"POST /invocations HTTP/1.1\" 200 12182 \"-\" \"Go-http-client/1.1\"\u001b[0m\n",
      "\u001b[35m169.254.255.130 - - [20/Nov/2020:21:39:01 +0000] \"POST /invocations HTTP/1.1\" 200 12166 \"-\" \"Go-http-client/1.1\"\u001b[0m\n",
      "\u001b[35m[2020-11-20:21:39:01:INFO] Determined delimiter of CSV input is ','\u001b[0m\n",
      "\u001b[35m[2020-11-20:21:39:01:INFO] Determined delimiter of CSV input is ','\u001b[0m\n",
      "\u001b[35m169.254.255.130 - - [20/Nov/2020:21:39:01 +0000] \"POST /invocations HTTP/1.1\" 200 12190 \"-\" \"Go-http-client/1.1\"\u001b[0m\n",
      "\u001b[35m[2020-11-20:21:39:01:INFO] Determined delimiter of CSV input is ','\u001b[0m\n",
      "\u001b[34m[2020-11-20:21:39:01:INFO] Determined delimiter of CSV input is ','\u001b[0m\n",
      "\u001b[35m[2020-11-20:21:39:01:INFO] Determined delimiter of CSV input is ','\u001b[0m\n",
      "\u001b[34m169.254.255.130 - - [20/Nov/2020:21:39:04 +0000] \"POST /invocations HTTP/1.1\" 200 12177 \"-\" \"Go-http-client/1.1\"\u001b[0m\n",
      "\u001b[34m169.254.255.130 - - [20/Nov/2020:21:39:04 +0000] \"POST /invocations HTTP/1.1\" 200 12178 \"-\" \"Go-http-client/1.1\"\u001b[0m\n",
      "\u001b[34m169.254.255.130 - - [20/Nov/2020:21:39:04 +0000] \"POST /invocations HTTP/1.1\" 200 12203 \"-\" \"Go-http-client/1.1\"\u001b[0m\n",
      "\u001b[34m[2020-11-20:21:39:04:INFO] Determined delimiter of CSV input is ','\u001b[0m\n",
      "\u001b[34m[2020-11-20:21:39:04:INFO] Determined delimiter of CSV input is ','\u001b[0m\n",
      "\u001b[34m169.254.255.130 - - [20/Nov/2020:21:39:04 +0000] \"POST /invocations HTTP/1.1\" 200 12207 \"-\" \"Go-http-client/1.1\"\u001b[0m\n",
      "\u001b[34m[2020-11-20:21:39:04:INFO] Determined delimiter of CSV input is ','\u001b[0m\n",
      "\u001b[35m169.254.255.130 - - [20/Nov/2020:21:39:04 +0000] \"POST /invocations HTTP/1.1\" 200 12177 \"-\" \"Go-http-client/1.1\"\u001b[0m\n",
      "\u001b[35m169.254.255.130 - - [20/Nov/2020:21:39:04 +0000] \"POST /invocations HTTP/1.1\" 200 12178 \"-\" \"Go-http-client/1.1\"\u001b[0m\n",
      "\u001b[35m169.254.255.130 - - [20/Nov/2020:21:39:04 +0000] \"POST /invocations HTTP/1.1\" 200 12203 \"-\" \"Go-http-client/1.1\"\u001b[0m\n",
      "\u001b[35m[2020-11-20:21:39:04:INFO] Determined delimiter of CSV input is ','\u001b[0m\n",
      "\u001b[35m[2020-11-20:21:39:04:INFO] Determined delimiter of CSV input is ','\u001b[0m\n",
      "\u001b[35m169.254.255.130 - - [20/Nov/2020:21:39:04 +0000] \"POST /invocations HTTP/1.1\" 200 12207 \"-\" \"Go-http-client/1.1\"\u001b[0m\n",
      "\u001b[35m[2020-11-20:21:39:04:INFO] Determined delimiter of CSV input is ','\u001b[0m\n",
      "\u001b[34m[2020-11-20:21:39:04:INFO] Determined delimiter of CSV input is ','\u001b[0m\n",
      "\u001b[35m[2020-11-20:21:39:04:INFO] Determined delimiter of CSV input is ','\u001b[0m\n",
      "\u001b[34m169.254.255.130 - - [20/Nov/2020:21:39:07 +0000] \"POST /invocations HTTP/1.1\" 200 12188 \"-\" \"Go-http-client/1.1\"\u001b[0m\n",
      "\u001b[34m169.254.255.130 - - [20/Nov/2020:21:39:07 +0000] \"POST /invocations HTTP/1.1\" 200 12220 \"-\" \"Go-http-client/1.1\"\u001b[0m\n",
      "\u001b[34m169.254.255.130 - - [20/Nov/2020:21:39:07 +0000] \"POST /invocations HTTP/1.1\" 200 12176 \"-\" \"Go-http-client/1.1\"\u001b[0m\n",
      "\u001b[34m[2020-11-20:21:39:07:INFO] Determined delimiter of CSV input is ','\u001b[0m\n",
      "\u001b[34m169.254.255.130 - - [20/Nov/2020:21:39:07 +0000] \"POST /invocations HTTP/1.1\" 200 12218 \"-\" \"Go-http-client/1.1\"\u001b[0m\n",
      "\u001b[34m[2020-11-20:21:39:07:INFO] Determined delimiter of CSV input is ','\u001b[0m\n",
      "\u001b[35m169.254.255.130 - - [20/Nov/2020:21:39:07 +0000] \"POST /invocations HTTP/1.1\" 200 12188 \"-\" \"Go-http-client/1.1\"\u001b[0m\n",
      "\u001b[35m169.254.255.130 - - [20/Nov/2020:21:39:07 +0000] \"POST /invocations HTTP/1.1\" 200 12220 \"-\" \"Go-http-client/1.1\"\u001b[0m\n",
      "\u001b[35m169.254.255.130 - - [20/Nov/2020:21:39:07 +0000] \"POST /invocations HTTP/1.1\" 200 12176 \"-\" \"Go-http-client/1.1\"\u001b[0m\n",
      "\u001b[35m[2020-11-20:21:39:07:INFO] Determined delimiter of CSV input is ','\u001b[0m\n",
      "\u001b[35m169.254.255.130 - - [20/Nov/2020:21:39:07 +0000] \"POST /invocations HTTP/1.1\" 200 12218 \"-\" \"Go-http-client/1.1\"\u001b[0m\n",
      "\u001b[35m[2020-11-20:21:39:07:INFO] Determined delimiter of CSV input is ','\u001b[0m\n",
      "\u001b[34m[2020-11-20:21:39:07:INFO] Determined delimiter of CSV input is ','\u001b[0m\n",
      "\u001b[35m[2020-11-20:21:39:07:INFO] Determined delimiter of CSV input is ','\u001b[0m\n",
      "\u001b[34m169.254.255.130 - - [20/Nov/2020:21:39:09 +0000] \"POST /invocations HTTP/1.1\" 200 12212 \"-\" \"Go-http-client/1.1\"\u001b[0m\n",
      "\u001b[34m169.254.255.130 - - [20/Nov/2020:21:39:09 +0000] \"POST /invocations HTTP/1.1\" 200 9081 \"-\" \"Go-http-client/1.1\"\u001b[0m\n",
      "\u001b[35m169.254.255.130 - - [20/Nov/2020:21:39:09 +0000] \"POST /invocations HTTP/1.1\" 200 12212 \"-\" \"Go-http-client/1.1\"\u001b[0m\n",
      "\u001b[35m169.254.255.130 - - [20/Nov/2020:21:39:09 +0000] \"POST /invocations HTTP/1.1\" 200 9081 \"-\" \"Go-http-client/1.1\"\u001b[0m\n",
      "\u001b[34m169.254.255.130 - - [20/Nov/2020:21:39:09 +0000] \"POST /invocations HTTP/1.1\" 200 12164 \"-\" \"Go-http-client/1.1\"\u001b[0m\n",
      "\u001b[35m169.254.255.130 - - [20/Nov/2020:21:39:09 +0000] \"POST /invocations HTTP/1.1\" 200 12164 \"-\" \"Go-http-client/1.1\"\u001b[0m\n"
     ]
    }
   ],
   "source": [
    "xgb_transformer.wait()"
   ]
  },
  {
   "cell_type": "markdown",
   "metadata": {},
   "source": [
    "Now the transform job has executed and the result, the estimated sentiment of each review, has been saved on S3. Since we would rather work on this file locally we can perform a bit of notebook magic to copy the file to the `data_dir`."
   ]
  },
  {
   "cell_type": "code",
   "execution_count": 34,
   "metadata": {},
   "outputs": [
    {
     "name": "stdout",
     "output_type": "stream",
     "text": [
      "Completed 256.0 KiB/473.3 KiB (3.0 MiB/s) with 1 file(s) remaining\r",
      "Completed 473.3 KiB/473.3 KiB (5.2 MiB/s) with 1 file(s) remaining\r",
      "download: s3://sagemaker-eu-west-1-005638967662/sagemaker-xgboost-2020-11-20-21-28-31-835/test.csv.out to ../data/sentiment_web_app/test.csv.out\r\n"
     ]
    }
   ],
   "source": [
    "!aws s3 cp --recursive $xgb_transformer.output_path $data_dir"
   ]
  },
  {
   "cell_type": "markdown",
   "metadata": {},
   "source": [
    "The last step is now to read in the output from our model, convert the output to something a little more usable, in this case we want the sentiment to be either `1` (positive) or `0` (negative), and then compare to the ground truth labels."
   ]
  },
  {
   "cell_type": "code",
   "execution_count": 35,
   "metadata": {},
   "outputs": [],
   "source": [
    "predictions = pd.read_csv(os.path.join(data_dir, 'test.csv.out'), header=None)\n",
    "predictions = [round(num) for num in predictions.squeeze().values]"
   ]
  },
  {
   "cell_type": "code",
   "execution_count": 36,
   "metadata": {},
   "outputs": [
    {
     "data": {
      "text/plain": [
       "0.85932"
      ]
     },
     "execution_count": 36,
     "metadata": {},
     "output_type": "execute_result"
    }
   ],
   "source": [
    "from sklearn.metrics import accuracy_score\n",
    "accuracy_score(test_y, predictions)"
   ]
  },
  {
   "cell_type": "markdown",
   "metadata": {},
   "source": [
    "## Step 6: Deploying the model\n",
    "\n",
    "Once we construct and fit our model, SageMaker stores the resulting model artifacts and we can use those to deploy an endpoint (inference code). To see this, look in the SageMaker console and you should see that a model has been created along with a link to the S3 location where the model artifacts have been stored.\n",
    "\n",
    "Deploying an endpoint is a lot like training the model with a few important differences. The first is that a deployed model doesn't change the model artifacts, so as you send it various testing instances the model won't change. Another difference is that since we aren't performing a fixed computation, as we were in the training step or while performing a batch transform, the compute instance that gets started stays running until we tell it to stop. This is important to note as if we forget and leave it running we will be charged the entire time.\n",
    "\n",
    "In other words **If you are no longer using a deployed endpoint, shut it down!**"
   ]
  },
  {
   "cell_type": "code",
   "execution_count": 37,
   "metadata": {},
   "outputs": [
    {
     "name": "stdout",
     "output_type": "stream",
     "text": [
      "---------------!"
     ]
    }
   ],
   "source": [
    "xgb_predictor = xgb.deploy(initial_instance_count = 1, instance_type = 'ml.m4.xlarge')"
   ]
  },
  {
   "cell_type": "markdown",
   "metadata": {},
   "source": [
    "### Testing the model (again)\n",
    "\n",
    "Now that we have deployed our endpoint, we can send the testing data to it and get back the inference results. We already did this earlier using the batch transform functionality of SageMaker, however, we will test our model again using the newly deployed endpoint so that we can make sure that it works properly and to get a bit of a feel for how the endpoint works.\n",
    "\n",
    "When using the created endpoint it is important to know that we are limited in the amount of information we can send in each call so we need to break the testing data up into chunks and then send each chunk. Also, we need to serialize our data before we send it to the endpoint to ensure that our data is transmitted properly. Fortunately, SageMaker can do the serialization part for us provided we tell it the format of our data."
   ]
  },
  {
   "cell_type": "code",
   "execution_count": 38,
   "metadata": {},
   "outputs": [
    {
     "data": {
      "text/plain": [
       "'application/octet-stream'"
      ]
     },
     "execution_count": 38,
     "metadata": {},
     "output_type": "execute_result"
    }
   ],
   "source": [
    "(xgb_predictor.content_type)\n",
    "##output was 'application/octet-stream'"
   ]
  },
  {
   "cell_type": "code",
   "execution_count": 39,
   "metadata": {},
   "outputs": [
    {
     "ename": "AttributeError",
     "evalue": "can't set attribute",
     "output_type": "error",
     "traceback": [
      "\u001b[0;31m---------------------------------------------------------------------------\u001b[0m",
      "\u001b[0;31mAttributeError\u001b[0m                            Traceback (most recent call last)",
      "\u001b[0;32m<ipython-input-39-a80c473e596b>\u001b[0m in \u001b[0;36m<module>\u001b[0;34m\u001b[0m\n\u001b[1;32m      2\u001b[0m \u001b[0;34m\u001b[0m\u001b[0m\n\u001b[1;32m      3\u001b[0m \u001b[0;31m# We need to tell the endpoint what format the data we are sending is in so that SageMaker can perform the serialization.\u001b[0m\u001b[0;34m\u001b[0m\u001b[0;34m\u001b[0m\u001b[0;34m\u001b[0m\u001b[0m\n\u001b[0;32m----> 4\u001b[0;31m \u001b[0mxgb_predictor\u001b[0m\u001b[0;34m.\u001b[0m\u001b[0mcontent_type\u001b[0m \u001b[0;34m=\u001b[0m \u001b[0;34m'text/csv'\u001b[0m\u001b[0;34m\u001b[0m\u001b[0;34m\u001b[0m\u001b[0m\n\u001b[0m\u001b[1;32m      5\u001b[0m \u001b[0mxgb_predictor\u001b[0m\u001b[0;34m.\u001b[0m\u001b[0mserializer\u001b[0m \u001b[0;34m=\u001b[0m \u001b[0mcsv_serializer\u001b[0m\u001b[0;34m\u001b[0m\u001b[0;34m\u001b[0m\u001b[0m\n",
      "\u001b[0;31mAttributeError\u001b[0m: can't set attribute"
     ]
    }
   ],
   "source": [
    "from sagemaker.predictor import csv_serializer\n",
    "\n",
    "# We need to tell the endpoint what format the data we are sending is in so that SageMaker can perform the serialization.\n",
    "xgb_predictor.content_type = 'text/csv'\n",
    "xgb_predictor.serializer = csv_serializer\n"
   ]
  },
  {
   "cell_type": "code",
   "execution_count": 40,
   "metadata": {},
   "outputs": [],
   "source": [
    "# We split the data into chunks and send each chunk seperately, accumulating the results.\n",
    "\n",
    "def predict(data, rows=512):\n",
    "    split_array = np.array_split(data, int(data.shape[0] / float(rows) + 1))\n",
    "    predictions = ''\n",
    "    for array in split_array:\n",
    "        predictions = ','.join([predictions, xgb_predictor.predict(array).decode('utf-8')])\n",
    "    \n",
    "    return np.fromstring(predictions[1:], sep=',')"
   ]
  },
  {
   "cell_type": "code",
   "execution_count": null,
   "metadata": {},
   "outputs": [],
   "source": [
    "test_X = pd.read_csv(os.path.join(data_dir, 'test.csv'), header=None).values\n",
    "\n",
    "predictions = predict(test_X)\n",
    "predictions = [round(num) for num in predictions]"
   ]
  },
  {
   "cell_type": "markdown",
   "metadata": {},
   "source": [
    "Lastly, we check to see what the accuracy of our model is."
   ]
  },
  {
   "cell_type": "code",
   "execution_count": null,
   "metadata": {},
   "outputs": [],
   "source": [
    "from sklearn.metrics import accuracy_score\n",
    "accuracy_score(test_y, predictions)"
   ]
  },
  {
   "cell_type": "markdown",
   "metadata": {},
   "source": [
    "And the results here should agree with the model testing that we did earlier using the batch transform job.\n",
    "\n",
    "### Cleaning up\n",
    "\n",
    "Now that we've determined that deploying our model works as expected, we are going to shut it down. Remember that the longer the endpoint is left running, the greater the cost and since we have a bit more work to do before we are able to use our endpoint with our simple web app, we should shut everything down."
   ]
  },
  {
   "cell_type": "code",
   "execution_count": 72,
   "metadata": {},
   "outputs": [],
   "source": [
    "xgb_predictor.delete_endpoint()"
   ]
  },
  {
   "cell_type": "markdown",
   "metadata": {},
   "source": [
    "## Step 7: Putting our model to work\n",
    "\n",
    "As we've mentioned a few times now, our goal is to have our model deployed and then access it using a very simple web app. The intent is for this web app to take some user submitted data (a review), send it off to our endpoint (the model) and then display the result.\n",
    "\n",
    "However, there is a small catch. Currently the only way we can access the endpoint to send it data is using the SageMaker API. We can, if we wish, expose the actual URL that our model's endpoint is receiving data from, however, if we just send it data ourselves we will not get anything in return. This is because the endpoint created by SageMaker requires the entity accessing it have the correct permissions. So, we would need to somehow authenticate our web app with AWS.\n",
    "\n",
    "Having a website that authenticates to AWS seems a bit beyond the scope of this lesson so we will opt for an alternative approach. Namely, we will create a new endpoint which does not require authentication and which acts as a proxy for the SageMaker endpoint.\n",
    "\n",
    "As an additional constraint, we will try to avoid doing any data processing in the web app itself. Remember that when we constructed and tested our model we started with a movie review, then we simplified it by removing any html formatting and punctuation, then we constructed a bag of words embedding and the resulting vector is what we sent to our model. All of this needs to be done to our user input as well.\n",
    "\n",
    "Fortunately we can do all of this data processing in the backend, using Amazon's Lambda service.\n",
    "\n",
    "<img src=\"Web App Diagram.svg\">\n",
    "\n",
    "The diagram above gives an overview of how the various services will work together. On the far right is the model which we trained above and which will be deployed using SageMaker. On the far left is our web app that collects a user's movie review, sends it off and expects a positive or negative sentiment in return.\n",
    "\n",
    "In the middle is where some of the magic happens. We will construct a Lambda function, which you can think of as a straightforward Python function that can be executed whenever a specified event occurs. This Python function will do the data processing we need to perform on a user submitted review. In addition, we will give this function permission to send and recieve data from a SageMaker endpoint.\n",
    "\n",
    "Lastly, the method we will use to execute the Lambda function is a new endpoint that we will create using API Gateway. This endpoint will be a url that listens for data to be sent to it. Once it gets some data it will pass that data on to the Lambda function and then return whatever the Lambda function returns. Essentially it will act as an interface that lets our web app communicate with the Lambda function.\n",
    "\n",
    "### Processing a single review\n",
    "\n",
    "For now, suppose we are given a movie review by our user in the form of a string, like so:"
   ]
  },
  {
   "cell_type": "code",
   "execution_count": 73,
   "metadata": {},
   "outputs": [],
   "source": [
    "test_review = \"Nothing but a disgusting materialistic pageant of glistening abed remote control greed zombies, totally devoid of any heart or heat. A romantic comedy that has zero romantic chemestry and zero laughs!\""
   ]
  },
  {
   "cell_type": "markdown",
   "metadata": {},
   "source": [
    "How do we go from this string to the bag of words feature vector that is expected by our model?\n",
    "\n",
    "If we recall at the beginning of this notebook, the first step is to remove any unnecessary characters using the `review_to_words` method. Remember that we intentionally did this in a very simplistic way. This is because we are going to have to copy this method to our (eventual) Lambda function (we will go into more detail later) and this means it needs to be rather simplistic."
   ]
  },
  {
   "cell_type": "code",
   "execution_count": 74,
   "metadata": {},
   "outputs": [
    {
     "name": "stdout",
     "output_type": "stream",
     "text": [
      "nothing but a disgusting materialistic pageant of glistening abed remote control greed zombies totally devoid of any heart or heat a romantic comedy that has zero romantic chemestry and zero laughs\n"
     ]
    }
   ],
   "source": [
    "test_words = review_to_words(test_review)\n",
    "print(test_words)"
   ]
  },
  {
   "cell_type": "markdown",
   "metadata": {},
   "source": [
    "Next, we need to construct a bag of words embedding of the `test_words` string. To do this, remember that a bag of words embedding uses a `vocabulary` consisting of the most frequently appearing words in a set of documents. Then, for each word in the vocabulary we record the number of times that word appears in `test_words`. We constructed the `vocabulary` earlier using the training set for our problem so encoding `test_words` is relatively straightforward."
   ]
  },
  {
   "cell_type": "code",
   "execution_count": 75,
   "metadata": {},
   "outputs": [],
   "source": [
    "def bow_encoding(words, vocabulary):\n",
    "    bow = [0] * len(vocabulary) # Start by setting the count for each word in the vocabulary to zero.\n",
    "    for word in words.split():  # For each word in the string\n",
    "        if word in vocabulary:  # If the word is one that occurs in the vocabulary, increase its count.\n",
    "            bow[vocabulary[word]] += 1\n",
    "    return bow"
   ]
  },
  {
   "cell_type": "code",
   "execution_count": 76,
   "metadata": {},
   "outputs": [
    {
     "name": "stdout",
     "output_type": "stream",
     "text": [
      "[0, 0, 0, 0, 0, 0, 0, 0, 0, 0, 0, 0, 0, 0, 0, 0, 0, 0, 0, 0, 0, 0, 0, 0, 0, 0, 0, 0, 0, 0, 0, 0, 0, 0, 0, 0, 0, 0, 0, 0, 0, 0, 0, 0, 0, 0, 0, 0, 0, 0, 0, 0, 0, 0, 0, 0, 0, 0, 0, 0, 0, 0, 0, 0, 0, 0, 0, 0, 0, 0, 0, 0, 0, 0, 0, 0, 0, 0, 0, 0, 0, 0, 0, 0, 0, 0, 0, 0, 0, 0, 0, 0, 0, 0, 0, 0, 0, 0, 0, 0, 0, 0, 0, 0, 0, 0, 0, 0, 0, 0, 0, 0, 0, 0, 0, 0, 0, 0, 0, 0, 0, 0, 0, 0, 0, 0, 0, 0, 0, 0, 0, 0, 0, 0, 0, 0, 0, 0, 0, 0, 0, 0, 0, 0, 0, 0, 0, 0, 0, 0, 0, 0, 0, 0, 0, 0, 0, 0, 0, 0, 0, 0, 0, 0, 0, 0, 0, 0, 0, 0, 0, 0, 0, 0, 0, 0, 0, 0, 0, 0, 0, 0, 0, 0, 0, 0, 0, 0, 0, 0, 0, 0, 0, 0, 0, 0, 0, 0, 0, 0, 0, 0, 0, 0, 0, 0, 0, 0, 0, 0, 0, 0, 0, 0, 0, 0, 0, 0, 0, 0, 0, 0, 0, 0, 0, 0, 1, 0, 0, 0, 0, 0, 0, 0, 0, 0, 0, 0, 0, 0, 0, 0, 0, 0, 0, 0, 0, 0, 0, 0, 0, 0, 0, 0, 0, 0, 1, 0, 0, 0, 0, 0, 0, 0, 0, 0, 0, 0, 0, 0, 0, 0, 0, 0, 0, 0, 0, 0, 0, 0, 0, 0, 0, 0, 0, 0, 0, 0, 0, 0, 0, 0, 0, 0, 0, 0, 0, 0, 0, 0, 0, 0, 0, 0, 0, 0, 0, 0, 0, 0, 0, 0, 0, 0, 0, 0, 0, 0, 0, 0, 0, 0, 0, 0, 0, 0, 0, 0, 0, 0, 0, 0, 0, 0, 0, 0, 0, 0, 0, 0, 0, 0, 0, 0, 0, 0, 0, 0, 0, 0, 0, 0, 0, 0, 0, 0, 0, 0, 0, 0, 0, 0, 0, 0, 0, 0, 0, 0, 0, 0, 0, 0, 0, 0, 0, 0, 0, 0, 0, 0, 0, 0, 0, 0, 0, 0, 0, 0, 0, 0, 0, 0, 0, 0, 0, 0, 0, 0, 0, 0, 0, 0, 0, 0, 0, 0, 0, 0, 0, 0, 0, 0, 0, 0, 0, 0, 0, 0, 0, 0, 0, 0, 0, 0, 0, 0, 0, 0, 0, 0, 0, 0, 0, 0, 0, 0, 0, 0, 0, 0, 0, 0, 0, 0, 0, 0, 0, 0, 0, 0, 0, 0, 0, 0, 0, 0, 0, 0, 0, 0, 0, 0, 0, 0, 0, 0, 0, 0, 0, 0, 0, 0, 0, 0, 0, 0, 0, 0, 0, 0, 0, 0, 0, 0, 0, 0, 0, 0, 0, 0, 0, 0, 0, 0, 0, 0, 0, 0, 0, 0, 0, 0, 0, 0, 0, 0, 0, 0, 0, 0, 0, 0, 0, 0, 0, 0, 0, 0, 0, 0, 0, 0, 0, 0, 0, 0, 0, 0, 0, 0, 0, 0, 0, 0, 0, 0, 0, 0, 0, 0, 0, 0, 0, 0, 0, 0, 0, 0, 0, 0, 0, 0, 0, 0, 0, 0, 0, 0, 0, 0, 0, 0, 0, 0, 0, 0, 0, 0, 0, 0, 0, 0, 0, 0, 0, 0, 0, 0, 0, 0, 0, 0, 0, 0, 0, 0, 0, 0, 0, 0, 0, 0, 0, 0, 0, 0, 0, 0, 0, 0, 0, 0, 0, 0, 0, 0, 0, 0, 0, 0, 0, 0, 0, 0, 0, 0, 0, 0, 0, 0, 0, 0, 0, 0, 0, 0, 0, 0, 0, 0, 0, 0, 0, 0, 0, 0, 1, 0, 0, 0, 0, 0, 0, 0, 0, 0, 0, 0, 0, 0, 0, 0, 0, 0, 0, 0, 0, 0, 0, 0, 0, 0, 0, 0, 0, 0, 0, 0, 0, 0, 0, 0, 0, 0, 0, 0, 0, 0, 0, 0, 0, 0, 0, 0, 0, 0, 0, 0, 0, 0, 0, 0, 0, 0, 0, 0, 0, 0, 0, 0, 0, 0, 0, 0, 0, 0, 0, 0, 0, 0, 0, 0, 0, 0, 0, 0, 0, 0, 0, 0, 0, 0, 0, 0, 0, 0, 0, 0, 0, 0, 0, 0, 0, 0, 0, 0, 0, 0, 0, 0, 0, 0, 0, 0, 0, 0, 0, 0, 0, 0, 0, 0, 0, 0, 0, 0, 0, 0, 0, 0, 0, 0, 0, 0, 0, 0, 0, 0, 0, 0, 0, 0, 0, 0, 0, 0, 0, 0, 0, 0, 0, 0, 0, 0, 0, 0, 0, 0, 0, 0, 0, 0, 0, 0, 0, 0, 0, 0, 0, 0, 0, 0, 0, 0, 0, 0, 0, 0, 0, 0, 0, 0, 0, 0, 0, 0, 0, 0, 0, 0, 0, 0, 0, 0, 0, 0, 0, 0, 0, 0, 0, 0, 0, 0, 0, 0, 0, 0, 0, 0, 0, 0, 0, 0, 0, 0, 0, 0, 0, 0, 0, 0, 0, 0, 0, 0, 0, 0, 0, 0, 0, 0, 0, 0, 0, 0, 0, 0, 0, 0, 0, 0, 0, 0, 0, 0, 0, 0, 0, 0, 0, 0, 0, 0, 0, 0, 0, 0, 0, 0, 1, 0, 0, 0, 0, 0, 0, 0, 0, 0, 0, 0, 0, 0, 0, 0, 0, 0, 0, 0, 0, 0, 0, 0, 0, 0, 0, 0, 0, 0, 0, 0, 0, 0, 0, 0, 0, 0, 0, 0, 0, 0, 0, 0, 0, 0, 0, 0, 0, 0, 0, 0, 0, 0, 0, 0, 0, 0, 0, 0, 0, 0, 0, 0, 0, 0, 0, 0, 0, 0, 0, 0, 0, 0, 0, 0, 0, 0, 0, 0, 0, 0, 0, 0, 0, 0, 0, 1, 0, 0, 0, 0, 0, 0, 0, 0, 0, 0, 0, 0, 0, 0, 0, 0, 0, 0, 0, 0, 0, 0, 0, 0, 0, 0, 0, 0, 0, 0, 0, 0, 0, 0, 0, 0, 0, 0, 0, 0, 0, 0, 0, 0, 0, 0, 0, 0, 0, 0, 0, 0, 0, 0, 0, 0, 0, 0, 0, 0, 0, 0, 0, 0, 0, 0, 0, 0, 0, 0, 0, 0, 0, 0, 0, 0, 0, 0, 0, 0, 0, 0, 0, 0, 0, 0, 0, 0, 0, 0, 0, 0, 0, 0, 0, 0, 0, 0, 0, 0, 0, 0, 0, 0, 0, 0, 0, 0, 0, 0, 0, 0, 0, 0, 0, 0, 0, 0, 0, 0, 0, 0, 0, 0, 0, 0, 0, 0, 0, 0, 0, 0, 0, 0, 0, 0, 0, 0, 0, 0, 0, 0, 0, 0, 0, 0, 0, 0, 0, 0, 0, 0, 0, 0, 0, 0, 0, 0, 0, 0, 0, 0, 0, 0, 0, 0, 0, 0, 0, 0, 0, 0, 0, 0, 0, 0, 0, 0, 0, 0, 0, 0, 0, 0, 0, 0, 0, 0, 0, 0, 0, 0, 0, 0, 0, 0, 0, 0, 0, 0, 0, 0, 0, 0, 0, 0, 0, 0, 0, 0, 0, 0, 0, 0, 0, 0, 0, 0, 0, 0, 0, 0, 0, 0, 0, 0, 0, 0, 0, 0, 0, 0, 0, 0, 0, 0, 0, 0, 0, 0, 0, 0, 0, 0, 0, 0, 0, 0, 0, 0, 0, 0, 1, 0, 0, 0, 0, 0, 0, 0, 0, 0, 0, 0, 0, 0, 0, 0, 0, 0, 0, 0, 0, 0, 0, 0, 0, 0, 0, 0, 0, 0, 0, 0, 0, 0, 0, 0, 0, 0, 0, 0, 0, 0, 0, 0, 0, 0, 0, 0, 0, 0, 0, 0, 0, 0, 0, 0, 1, 0, 0, 0, 0, 0, 0, 0, 0, 0, 0, 0, 0, 0, 0, 0, 0, 0, 0, 0, 0, 0, 0, 0, 0, 0, 0, 0, 0, 0, 0, 0, 0, 0, 0, 0, 0, 0, 0, 0, 0, 0, 0, 0, 0, 0, 0, 0, 0, 0, 0, 0, 0, 0, 0, 0, 0, 0, 0, 0, 0, 0, 0, 0, 0, 0, 0, 0, 0, 0, 0, 0, 0, 0, 0, 0, 0, 0, 0, 0, 0, 0, 0, 0, 0, 0, 0, 0, 0, 0, 0, 0, 0, 0, 0, 0, 0, 0, 0, 0, 0, 0, 0, 0, 0, 0, 0, 0, 0, 0, 0, 0, 0, 0, 0, 0, 0, 0, 0, 0, 0, 0, 0, 0, 0, 0, 0, 0, 0, 0, 0, 0, 0, 0, 0, 0, 0, 0, 0, 0, 0, 0, 0, 0, 0, 0, 0, 0, 0, 0, 0, 0, 0, 0, 0, 0, 0, 0, 0, 0, 0, 0, 0, 0, 0, 0, 0, 0, 0, 0, 0, 0, 0, 0, 0, 0, 0, 0, 0, 0, 0, 0, 0, 0, 0, 0, 0, 0, 0, 0, 0, 0, 0, 0, 0, 0, 0, 0, 0, 0, 0, 0, 0, 0, 0, 0, 0, 0, 0, 0, 0, 0, 0, 0, 0, 0, 0, 0, 0, 0, 0, 0, 0, 0, 0, 0, 0, 0, 0, 0, 0, 0, 0, 0, 0, 0, 0, 0, 0, 0, 0, 0, 0, 0, 0, 0, 0, 0, 0, 0, 0, 0, 0, 0, 0, 0, 0, 0, 0, 0, 0, 0, 0, 0, 0, 0, 0, 0, 0, 0, 0, 0, 0, 0, 0, 0, 0, 0, 0, 0, 0, 0, 0, 0, 0, 0, 0, 0, 0, 0, 0, 0, 0, 0, 0, 0, 0, 0, 0, 0, 0, 0, 0, 0, 0, 0, 0, 0, 0, 0, 0, 0, 0, 0, 0, 0, 0, 0, 0, 0, 0, 0, 0, 0, 0, 0, 0, 0, 0, 0, 0, 0, 0, 0, 0, 0, 0, 0, 0, 0, 0, 0, 0, 0, 0, 0, 0, 0, 0, 0, 0, 0, 0, 0, 0, 0, 0, 0, 0, 0, 0, 0, 0, 0, 0, 0, 0, 0, 0, 0, 0, 0, 0, 0, 0, 0, 0, 0, 0, 0, 0, 0, 0, 0, 0, 0, 0, 0, 0, 0, 0, 0, 0, 0, 0, 0, 0, 0, 0, 0, 0, 0, 0, 0, 0, 0, 0, 0, 0, 0, 0, 0, 0, 0, 0, 0, 0, 0, 0, 0, 0, 0, 0, 0, 0, 0, 0, 0, 0, 0, 0, 0, 0, 0, 0, 0, 0, 0, 0, 0, 0, 0, 0, 0, 0, 0, 0, 0, 0, 0, 0, 0, 0, 0, 0, 0, 0, 0, 0, 0, 0, 0, 0, 0, 0, 0, 0, 0, 0, 0, 0, 0, 0, 0, 0, 0, 0, 0, 0, 0, 0, 0, 0, 0, 0, 0, 0, 0, 0, 0, 0, 0, 0, 0, 0, 0, 0, 0, 0, 0, 0, 0, 0, 0, 0, 0, 0, 0, 0, 0, 0, 0, 0, 0, 0, 0, 0, 0, 0, 0, 0, 0, 0, 0, 0, 0, 0, 0, 0, 0, 0, 0, 0, 0, 0, 0, 0, 0, 0, 0, 0, 0, 0, 0, 0, 0, 0, 0, 0, 0, 0, 0, 0, 0, 0, 0, 0, 0, 0, 0, 0, 0, 0, 0, 0, 0, 0, 0, 0, 0, 0, 0, 0, 0, 0, 0, 0, 0, 0, 0, 0, 0, 0, 0, 0, 0, 0, 0, 0, 0, 0, 0, 0, 0, 0, 0, 0, 0, 0, 0, 0, 0, 0, 0, 0, 0, 0, 0, 0, 0, 0, 0, 0, 0, 0, 0, 0, 0, 0, 0, 0, 0, 0, 0, 0, 0, 0, 0, 0, 0, 0, 0, 0, 0, 0, 0, 0, 0, 0, 0, 0, 0, 0, 0, 0, 0, 0, 0, 0, 0, 0, 0, 0, 0, 0, 0, 0, 0, 0, 0, 0, 0, 0, 0, 0, 0, 0, 0, 0, 0, 0, 0, 0, 0, 0, 0, 0, 0, 0, 0, 0, 0, 1, 0, 0, 0, 0, 0, 0, 0, 0, 0, 0, 0, 0, 0, 0, 0, 0, 0, 0, 0, 0, 0, 0, 0, 0, 0, 0, 0, 0, 0, 0, 0, 0, 0, 0, 0, 0, 0, 0, 0, 0, 0, 0, 0, 0, 0, 0, 0, 0, 0, 0, 0, 0, 0, 0, 0, 0, 0, 0, 0, 0, 0, 0, 0, 0, 0, 0, 0, 0, 0, 0, 0, 0, 0, 0, 1, 0, 0, 0, 0, 0, 0, 0, 0, 0, 0, 0, 0, 0, 0, 0, 0, 0, 0, 0, 0, 1, 0, 0, 1, 0, 0, 0, 0, 0, 0, 0, 0, 0, 0, 0, 0, 0, 0, 0, 0, 0, 0, 0, 0, 0, 0, 0, 0, 0, 0, 0, 0, 0, 0, 0, 0, 0, 0, 0, 0, 0, 0, 0, 0, 0, 0, 0, 0, 0, 0, 0, 0, 0, 0, 0, 0, 0, 0, 0, 0, 0, 0, 0, 0, 0, 0, 0, 0, 0, 0, 0, 0, 0, 0, 0, 0, 0, 0, 0, 0, 0, 0, 0, 0, 0, 0, 0, 0, 0, 0, 0, 0, 0, 0, 0, 0, 0, 0, 0, 0, 0, 0, 0, 0, 0, 0, 0, 0, 0, 0, 0, 0, 0, 0, 0, 0, 0, 0, 0, 0, 0, 0, 0, 0, 0, 0, 0, 0, 0, 0, 0, 0, 0, 0, 0, 0, 0, 0, 0, 0, 0, 0, 0, 0, 0, 0, 0, 0, 0, 0, 0, 0, 0, 0, 0, 0, 0, 0, 0, 0, 0, 0, 0, 0, 0, 0, 0, 0, 0, 0, 0, 0, 0, 0, 0, 0, 0, 0, 0, 0, 0, 0, 0, 0, 0, 0, 0, 0, 0, 0, 0, 0, 0, 0, 0, 0, 0, 0, 0, 0, 0, 0, 0, 0, 0, 0, 0, 0, 0, 0, 0, 0, 0, 0, 0, 0, 0, 0, 0, 0, 0, 0, 0, 0, 0, 0, 0, 0, 0, 0, 0, 0, 0, 0, 0, 0, 0, 0, 0, 0, 0, 0, 0, 0, 0, 0, 0, 0, 0, 0, 0, 0, 0, 0, 0, 0, 0, 0, 0, 0, 0, 0, 0, 0, 0, 0, 0, 0, 0, 0, 0, 0, 0, 0, 0, 0, 0, 0, 0, 0, 0, 0, 0, 0, 0, 0, 0, 0, 0, 0, 0, 0, 0, 0, 0, 0, 0, 0, 0, 0, 0, 0, 0, 0, 0, 0, 0, 0, 0, 0, 0, 0, 0, 0, 0, 0, 0, 0, 0, 0, 0, 0, 0, 0, 0, 0, 0, 0, 0, 0, 0, 0, 0, 0, 0, 0, 0, 0, 0, 0, 0, 0, 0, 0, 0, 0, 0, 0, 0, 0, 0, 0, 0, 0, 0, 0, 0, 0, 0, 0, 0, 0, 0, 0, 0, 0, 0, 0, 0, 0, 0, 0, 0, 0, 0, 0, 0, 0, 0, 0, 0, 0, 0, 0, 0, 0, 0, 0, 0, 0, 0, 0, 0, 0, 0, 0, 0, 0, 0, 0, 0, 0, 0, 0, 0, 0, 0, 0, 0, 0, 0, 0, 0, 0, 0, 0, 0, 0, 0, 0, 0, 0, 0, 0, 0, 0, 0, 0, 0, 0, 0, 0, 0, 0, 0, 0, 0, 0, 0, 0, 0, 0, 0, 0, 0, 0, 0, 0, 0, 0, 0, 0, 0, 0, 0, 0, 0, 0, 0, 0, 0, 0, 0, 0, 0, 0, 0, 0, 0, 0, 1, 0, 0, 0, 0, 0, 0, 0, 0, 0, 0, 0, 0, 0, 0, 0, 0, 0, 0, 0, 0, 0, 0, 0, 0, 0, 0, 0, 0, 0, 0, 0, 0, 0, 0, 0, 0, 0, 0, 0, 0, 0, 0, 0, 0, 0, 0, 0, 0, 0, 0, 0, 0, 0, 0, 0, 0, 0, 0, 0, 0, 0, 0, 0, 0, 0, 0, 0, 0, 0, 0, 0, 0, 0, 0, 0, 0, 0, 0, 0, 0, 0, 0, 0, 0, 0, 0, 0, 0, 0, 0, 0, 0, 0, 0, 0, 0, 0, 0, 0, 0, 0, 0, 0, 0, 0, 0, 0, 0, 0, 0, 0, 0, 0, 0, 0, 0, 0, 0, 0, 0, 0, 0, 0, 0, 0, 0, 0, 0, 0, 0, 0, 0, 0, 0, 0, 0, 0, 0, 0, 0, 0, 0, 0, 0, 0, 0, 0, 0, 0, 0, 0, 0, 0, 0, 0, 0, 0, 0, 0, 0, 0, 0, 0, 0, 0, 0, 0, 0, 0, 0, 0, 0, 0, 0, 0, 0, 0, 0, 0, 0, 0, 0, 0, 0, 0, 0, 0, 0, 0, 0, 0, 0, 0, 0, 0, 0, 0, 0, 0, 0, 0, 0, 0, 0, 0, 0, 0, 0, 0, 0, 0, 0, 0, 0, 0, 0, 0, 0, 0, 0, 0, 0, 0, 0, 0, 0, 0, 0, 0, 0, 0, 0, 0, 0, 0, 0, 0, 0, 0, 0, 0, 0, 0, 0, 0, 0, 0, 0, 0, 0, 0, 0, 0, 0, 0, 0, 0, 0, 0, 0, 0, 0, 0, 0, 0, 0, 0, 0, 0, 0, 0, 0, 0, 0, 0, 0, 0, 0, 0, 0, 0, 0, 0, 0, 0, 0, 0, 0, 0, 0, 0, 0, 0, 0, 0, 0, 0, 0, 0, 0, 0, 0, 0, 0, 0, 0, 0, 0, 0, 0, 0, 0, 0, 0, 0, 0, 0, 0, 0, 0, 0, 0, 0, 0, 0, 0, 0, 0, 0, 0, 0, 0, 0, 0, 0, 0, 0, 0, 0, 0, 0, 0, 0, 0, 0, 0, 0, 0, 0, 0, 0, 0, 0, 0, 0, 0, 0, 0, 0, 0, 0, 0, 0, 0, 0, 0, 0, 0, 0, 0, 0, 0, 0, 0, 0, 0, 0, 0, 0, 0, 0, 0, 0, 0, 0, 0, 0, 0, 0, 0, 0, 0, 0, 0, 0, 0, 0, 0, 0, 0, 0, 0, 0, 0, 0, 0, 0, 0, 0, 0, 0, 0, 0, 0, 0, 0, 0, 0, 0, 0, 0, 0, 0, 0, 0, 0, 0, 0, 0, 0, 0, 0, 0, 0, 0, 0, 0, 0, 0, 0, 0, 0, 0, 0, 0, 0, 0, 0, 0, 0, 0, 0, 0, 0, 0, 0, 0, 0, 0, 0, 0, 0, 0, 0, 0, 0, 0, 0, 0, 0, 0, 0, 0, 0, 0, 0, 0, 0, 0, 0, 0, 0, 0, 0, 0, 0, 0, 0, 0, 0, 0, 0, 0, 0, 0, 0, 0, 0, 0, 0, 0, 0, 0, 0, 0, 0, 0, 0, 0, 0, 0, 0, 1, 0, 0, 0, 0, 0, 0, 0, 0, 0, 0, 0, 0, 0, 0, 0, 0, 0, 0, 0, 0, 0, 0, 0, 0, 0, 0, 0, 0, 0, 0, 0, 0, 0, 0, 0, 2, 0, 0, 0, 0, 0, 0, 0, 0, 0, 0, 0, 0, 0, 0, 0, 0, 0, 0, 0, 0, 0, 0, 0, 0, 0, 0, 0, 0, 0, 0, 0, 0, 0, 0, 0, 0, 0, 0, 0, 0, 1, 0, 0, 0, 0, 0, 0, 0, 0, 0, 0, 0, 0, 0, 0, 0, 0, 0, 0, 0, 0, 0, 0, 0, 0, 0, 0, 0, 0, 0, 0, 0, 0, 0, 0, 0, 0, 0, 0, 0, 0, 0, 0, 0, 0, 0, 0, 0, 0, 0, 0, 0, 0, 0, 0, 0, 0, 0, 0, 0, 0, 0, 0, 0, 0, 0, 0, 0, 0, 0, 0, 0, 0, 0, 0, 0, 0, 0, 0, 0, 0, 0, 0, 0, 0, 0, 0, 0, 0, 0, 0, 0, 0, 0, 0, 0, 0, 0, 0, 0, 0, 0, 0, 0, 0, 0, 0, 0, 0, 0, 0, 0, 0, 0, 0, 0, 0, 0, 0, 0, 0, 0, 0, 0, 0, 0, 0, 0, 0, 0, 0, 0, 0, 0, 0, 0, 0, 0, 0, 0, 0, 0, 0, 0, 0, 0, 0, 0, 0, 0, 0, 0, 0, 0, 0, 0, 0, 0, 0, 0, 0, 0, 0, 0, 0, 0, 0, 0, 0, 0, 0, 0, 0, 0, 0, 0, 0, 0, 0, 0, 0, 0, 0, 0, 0, 0, 0, 0, 0, 0, 0, 0, 0, 0, 0, 0, 0, 0, 0, 0, 0, 0, 0, 0, 0, 0, 0, 0, 0, 0, 0, 0, 0, 0, 0, 0, 0, 0, 0, 0, 0, 0, 0, 0, 0, 0, 0, 0, 0, 0, 0, 0, 0, 0, 0, 0, 0, 0, 0, 0, 0, 0, 0, 0, 0, 0, 0, 0, 0, 0, 0, 0, 0, 0, 0, 0, 0, 0, 0, 0, 0, 0, 0, 0, 0, 0, 0, 0, 0, 0, 0, 0, 0, 0, 0, 0, 0, 0, 0, 0, 0, 0, 0, 0, 0, 0, 0, 0, 0, 0, 0, 0, 0, 0, 0, 0, 0, 0, 0, 0, 0, 0, 0, 0, 0, 0, 0, 0, 0, 0, 0, 0, 0, 0, 0, 0, 0, 0, 0, 0, 0, 0, 0, 0, 0, 0, 0, 0, 0, 0, 0, 0, 0, 0, 0, 0, 0, 0, 0, 0, 0, 0, 0, 0, 0, 0, 0, 0, 0, 0, 0, 0, 0, 0, 0, 0, 0, 0, 0, 0, 0, 0, 0, 0, 0, 0, 0, 0, 0, 0, 0, 0, 0, 0, 0, 0, 0, 0, 0, 0, 0, 0, 0, 0, 0, 0, 0, 0, 0, 0, 0, 0, 0, 0, 0, 0, 0, 0, 0, 0, 0, 0, 0, 0, 0, 0, 0, 0, 0, 0, 0, 0, 0, 0, 0, 0, 0, 0, 0, 0, 0, 0, 0, 0, 0, 0, 0, 0, 0, 0, 0, 0, 0, 0, 0, 0, 0, 0, 0, 0, 0, 0, 0, 0, 0, 0, 0, 0, 0, 0, 0, 0, 0, 0, 0, 0, 0, 0, 0, 0, 0, 0, 0, 0, 0, 0, 0, 0, 0, 0, 0, 0, 0, 0, 0, 0, 0, 0, 0, 0, 0, 0, 0, 0, 0, 0, 0, 0, 0, 0, 0, 0, 0, 0, 0, 0, 0, 0, 1, 0, 0, 0, 0, 0, 0, 0, 0, 0, 0, 0, 0, 0, 0, 0, 0, 0, 0, 0, 0, 0, 0, 0, 0, 0, 0, 0, 0, 0, 0, 0, 0, 0, 0, 0, 0, 0, 0, 0, 0, 0, 0, 0, 0, 0, 0, 0, 0, 0, 0, 0, 0, 0, 0, 0, 0, 0, 0, 0, 0, 0, 0, 0, 0, 0, 0, 0, 0, 0, 0, 0, 0, 0, 0, 0, 0, 0, 0, 0, 0, 0, 0, 0, 0, 0, 0, 0, 0, 0, 0, 0, 0, 0, 0, 0, 0, 0, 0, 0, 0, 0, 0, 0, 0, 0, 0, 0, 0, 0, 0, 2, 0, 0, 0, 0, 0, 0, 0, 0, 0, 0, 0, 0, 0, 0, 0, 0, 0, 0, 0, 0, 0, 0, 0, 0, 0, 0, 0, 0, 0, 0, 0, 0, 0, 0, 0, 0, 0, 0, 0, 0, 0, 0, 0, 0, 0, 0, 0, 0, 0, 0, 0, 0, 0, 0, 0, 0, 0, 0, 0, 0, 0, 0, 0, 0, 0, 0, 0, 0, 0, 0, 0, 0, 0, 0, 0, 0, 0, 0, 0, 0, 0, 0, 0, 0, 0, 0, 0, 0, 0, 0, 0, 0, 0, 0, 0, 0, 0, 0, 0, 0, 0, 0, 0, 0, 0, 0, 0, 0, 0, 0, 0, 0, 0, 0, 0, 0, 0, 0, 0, 0, 0, 0, 0, 0, 0, 0, 0, 0, 0, 0, 0, 0, 0, 0, 0, 0, 0, 0, 0, 0, 0, 0, 0, 0, 0, 0, 0, 0, 0, 0, 0, 0, 0, 0, 0, 0, 0, 0, 0, 0, 0, 0, 0, 0, 0, 0, 0, 0, 0, 0, 0, 0, 0, 0, 0, 0, 0, 0, 0, 0, 0, 0, 0, 0, 0, 0, 0, 0, 0, 0, 0, 0, 0, 0, 0, 0, 0, 0, 0, 0, 0, 0, 0, 0, 0, 0, 0, 0, 0, 0, 0, 0, 0, 0, 0, 0, 0, 0, 0, 0, 0, 0, 0, 0, 0, 0, 0, 0, 0, 0, 0, 0, 0, 0, 0, 0, 0, 0, 0, 0, 0, 0, 0, 0, 0, 0, 0, 0, 0, 0, 0, 0, 0, 0, 0, 0, 0, 0, 0, 0, 0, 0, 0, 0, 0, 0, 0, 0, 0, 0, 0, 0, 0, 0, 0, 0, 0, 0, 0, 0, 0, 0, 0, 0, 0, 0, 0, 0, 0, 0, 0, 0, 0, 0, 0, 0, 0, 0, 0, 0, 0, 0, 0, 0, 0, 0, 0, 0, 0, 0, 0, 0, 0, 0, 0, 0, 0, 0, 0, 0, 0, 0, 0, 0, 0, 0, 0, 0, 0, 0, 0, 0, 0, 0, 0, 0, 0, 0, 0, 0, 0, 0, 0, 0, 0, 0, 0, 0, 0, 0, 0, 0, 0, 0, 0, 0, 0, 0, 0, 0, 0, 0, 0, 0, 0, 0, 0, 0, 0, 0, 0, 0, 0, 0, 0, 0, 0, 0, 0, 0, 0, 0, 0, 0, 0, 0, 0, 0, 0, 0, 0, 0, 0, 0, 0, 0, 0, 0, 0, 0, 0, 0, 0, 0, 0, 0, 0, 0, 0, 0, 0, 0, 0, 0, 0, 0, 0, 0, 0, 0, 0, 0, 0, 0, 0, 0, 0, 0, 0, 0, 0, 0, 0, 0, 0, 0, 0, 0, 0, 0, 0, 0, 0, 0, 0, 0, 0, 0, 0, 0, 0, 0, 0, 0, 0, 0, 0, 0, 0, 0, 0, 0, 0, 0, 0, 0, 0, 0, 0, 0, 0, 0, 0, 0, 0, 0, 0, 0, 0, 0, 0, 0, 0, 0, 0, 0, 0, 0, 0, 0, 0, 0, 0, 0, 0, 0, 0, 0, 0, 0, 0, 0, 0, 0, 0, 0, 0, 0, 0, 0, 0, 0, 0, 0, 0, 0, 0, 0, 0, 0, 0, 0, 0, 0, 0, 0, 0, 0, 0, 0, 0, 0, 0, 0, 0, 0, 0, 0, 0, 0, 0, 0, 0, 0, 0, 0, 0, 0, 0, 0, 0, 0, 0, 0, 0, 0, 0, 0, 0, 0, 0, 0, 0, 0, 0, 0, 0, 0, 0, 0, 0, 0, 0, 0, 0, 0, 0, 0, 0, 0, 0, 0, 0, 0, 0, 0, 0, 0, 0, 0, 0, 0, 0, 0, 0, 0, 0, 0, 0, 0, 0, 0, 0, 0, 0, 0, 0, 0, 0, 0, 0, 0, 0, 0, 0, 0, 0, 0, 0, 0, 0, 0, 0, 0, 0, 0, 0, 0, 0, 0, 0, 0, 0, 0, 0, 0, 0, 0, 0, 0, 0, 0, 0, 0, 0, 0, 0, 0, 0, 0, 0, 0, 0, 0, 0, 0, 0, 0, 0, 0, 0, 0, 0, 0, 0, 0, 0, 0, 0, 0, 0, 0, 0, 0, 0, 0, 0, 0, 0, 0, 0, 0, 0, 0, 0, 0, 0, 0, 0, 0, 1, 0, 0, 0, 0, 0, 0, 0, 0, 0, 0, 0, 0, 0, 0, 0, 0, 0, 0, 0, 0, 0, 0, 0, 0, 0, 0, 0, 0, 0, 0, 0, 0, 0, 0, 0, 0, 0, 0, 0, 0, 0, 0, 0, 0, 0, 0, 0, 0, 0, 0, 0, 0, 0, 0, 0, 0, 0, 0, 0, 0, 0, 0, 0, 0, 0, 0, 0, 0, 0, 0, 0, 0, 0, 0, 0, 0, 0, 0, 0, 0, 0, 0, 0, 0, 0, 0, 0, 0, 0, 0, 0, 0, 0, 0, 0, 0, 0, 0, 0, 0, 0, 0, 0, 0, 0, 0, 0, 1, 0, 0, 0, 0, 0, 0, 0, 0, 0, 0, 0, 0, 0, 0, 0, 0, 0, 0, 0, 0, 0, 0, 0, 0, 0, 0, 0, 0, 0, 0, 0, 0, 0, 0, 0, 0, 0, 0, 0, 0, 0, 0, 0, 0, 0, 0, 0, 0, 0, 0, 0, 0, 0, 0, 0, 0, 0, 0, 0, 0, 0, 0, 0, 0, 0, 0, 0, 0, 0, 0, 0, 0, 0, 0, 0, 0, 0, 0, 0, 0, 0, 0, 0, 0, 0, 0, 0, 0, 0, 0, 0, 0, 0, 0, 0, 0, 0, 0, 0, 0, 0, 0, 0, 0, 0, 0, 0, 0, 0, 0, 0, 0, 0, 0, 0, 0, 0, 0, 0, 0, 0, 0, 0, 0, 0, 0, 0, 0, 0, 0, 0, 0, 0, 0, 0, 0, 0, 0, 0, 0, 0, 0, 0, 0, 0, 0, 0, 0, 0, 0, 0, 0, 0, 0, 0, 0, 0, 0, 0, 0, 0, 0, 0, 0, 0, 0, 0, 0, 0, 0, 0, 0, 0, 0, 0, 0, 0, 0, 0, 0, 0, 0, 0, 0, 0, 0, 0, 0, 0, 0, 0, 0, 0, 0, 0, 0, 0, 0, 0, 0, 0, 0, 0, 0, 0, 0, 0, 0, 0, 0, 0, 0, 0, 0, 0, 0, 0, 0, 0, 0, 0, 0, 0, 0, 0, 0, 0, 0, 0, 0, 0, 0, 0, 0, 0, 0, 0, 0, 0, 0, 0, 0, 0, 0, 0, 0, 0, 0, 0, 0, 0, 0, 0, 0, 0, 0, 0, 0, 0, 0, 0, 0, 0, 0, 0, 0, 0, 0, 0, 0, 0, 0, 0, 0, 0, 0, 0, 0, 0, 0, 0, 0, 0, 0, 0, 0, 0, 0, 0, 0, 0, 0, 0, 0, 0, 0, 0, 0, 0, 0, 0, 0, 0, 0, 0, 0, 0, 0, 0, 0, 0, 0, 0, 0, 0, 0, 0, 0, 0, 0, 0, 0, 0, 0, 0, 0, 0, 0, 0, 0, 0, 0, 0, 0, 0, 0, 0, 0, 0, 0, 0, 0, 0, 0, 0, 0, 0, 0, 0, 0, 0, 0, 0, 0, 0, 0, 0, 0, 0, 0, 0, 0, 0, 0, 0, 0, 0, 0, 0, 0, 0, 0, 0, 0, 0, 0, 0, 0, 0, 0, 0, 0, 0, 0, 0, 0, 0, 0, 0, 0, 0, 0, 0, 0, 0, 0, 0, 0, 0, 0, 0, 0, 0, 0, 0, 0, 0, 0, 0, 0, 0, 0, 0, 0, 0, 0, 0, 0, 0, 0, 0, 0, 0, 0, 0, 0, 0, 0, 0, 0, 0, 0, 0, 0, 0, 0, 0, 0, 0, 0, 0, 0, 0, 0, 0, 0, 0, 0, 0, 0, 0, 0, 0, 0, 0, 0, 0, 0, 0, 0, 0, 0, 0, 2, 0, 1, 0]\n"
     ]
    }
   ],
   "source": [
    "test_bow = bow_encoding(test_words, vocabulary)\n",
    "print(test_bow)"
   ]
  },
  {
   "cell_type": "code",
   "execution_count": 77,
   "metadata": {},
   "outputs": [
    {
     "data": {
      "text/plain": [
       "5000"
      ]
     },
     "execution_count": 77,
     "metadata": {},
     "output_type": "execute_result"
    }
   ],
   "source": [
    "len(test_bow)"
   ]
  },
  {
   "cell_type": "markdown",
   "metadata": {},
   "source": [
    "So now we know how to construct a bag of words encoding of a user provided review, how to we send it to our endpoint? First, we need to start the endpoint back up."
   ]
  },
  {
   "cell_type": "code",
   "execution_count": 78,
   "metadata": {},
   "outputs": [
    {
     "name": "stdout",
     "output_type": "stream",
     "text": [
      "---------------!"
     ]
    }
   ],
   "source": [
    "xgb_predictor = xgb.deploy(initial_instance_count = 1, instance_type = 'ml.m4.xlarge')"
   ]
  },
  {
   "cell_type": "markdown",
   "metadata": {},
   "source": [
    "At this point we could just do the same thing that we did earlier when we tested our deployed model and send `test_bow` to our endpoint using the `xgb_predictor` object. However, when we eventually construct our Lambda function we won't have access to this object, so how do we call a SageMaker endpoint?\n",
    "\n",
    "It turns out that Python functions that are used in Lambda have access to another Amazon library called `boto3`. This library provides an API for working with Amazon services, including SageMaker. To start with, we need to get a handle to the SageMaker runtime."
   ]
  },
  {
   "cell_type": "code",
   "execution_count": 79,
   "metadata": {},
   "outputs": [],
   "source": [
    "import boto3\n",
    "\n",
    "runtime = boto3.Session().client('sagemaker-runtime')"
   ]
  },
  {
   "cell_type": "markdown",
   "metadata": {},
   "source": [
    "And now that we have access to the SageMaker runtime, we can ask it to make use of (invoke) an endpoint that has already been created. However, we need to provide SageMaker with the name of the deployed endpoint. To find this out we can print it out using the `xgb_predictor` object."
   ]
  },
  {
   "cell_type": "code",
   "execution_count": 80,
   "metadata": {},
   "outputs": [
    {
     "name": "stderr",
     "output_type": "stream",
     "text": [
      "The endpoint attribute has been renamed in sagemaker>=2.\n",
      "See: https://sagemaker.readthedocs.io/en/stable/v2.html for details.\n"
     ]
    },
    {
     "data": {
      "text/plain": [
       "'sagemaker-xgboost-2020-11-20-20-14-16-923'"
      ]
     },
     "execution_count": 80,
     "metadata": {},
     "output_type": "execute_result"
    }
   ],
   "source": [
    "xgb_predictor.endpoint"
   ]
  },
  {
   "cell_type": "markdown",
   "metadata": {},
   "source": [
    "Using the SageMaker runtime and the name of our endpoint, we can invoke the endpoint and send it the `test_bow` data."
   ]
  },
  {
   "cell_type": "code",
   "execution_count": 81,
   "metadata": {},
   "outputs": [
    {
     "name": "stderr",
     "output_type": "stream",
     "text": [
      "The endpoint attribute has been renamed in sagemaker>=2.\n",
      "See: https://sagemaker.readthedocs.io/en/stable/v2.html for details.\n"
     ]
    },
    {
     "ename": "ParamValidationError",
     "evalue": "Parameter validation failed:\nInvalid type for parameter Body, value: [0, 0, 0, 0, 0, 0, 0, 0, 0, 0, 0, 0, 0, 0, 0, 0, 0, 0, 0, 0, 0, 0, 0, 0, 0, 0, 0, 0, 0, 0, 0, 0, 0, 0, 0, 0, 0, 0, 0, 0, 0, 0, 0, 0, 0, 0, 0, 0, 0, 0, 0, 0, 0, 0, 0, 0, 0, 0, 0, 0, 0, 0, 0, 0, 0, 0, 0, 0, 0, 0, 0, 0, 0, 0, 0, 0, 0, 0, 0, 0, 0, 0, 0, 0, 0, 0, 0, 0, 0, 0, 0, 0, 0, 0, 0, 0, 0, 0, 0, 0, 0, 0, 0, 0, 0, 0, 0, 0, 0, 0, 0, 0, 0, 0, 0, 0, 0, 0, 0, 0, 0, 0, 0, 0, 0, 0, 0, 0, 0, 0, 0, 0, 0, 0, 0, 0, 0, 0, 0, 0, 0, 0, 0, 0, 0, 0, 0, 0, 0, 0, 0, 0, 0, 0, 0, 0, 0, 0, 0, 0, 0, 0, 0, 0, 0, 0, 0, 0, 0, 0, 0, 0, 0, 0, 0, 0, 0, 0, 0, 0, 0, 0, 0, 0, 0, 0, 0, 0, 0, 0, 0, 0, 0, 0, 0, 0, 0, 0, 0, 0, 0, 0, 0, 0, 0, 0, 0, 0, 0, 0, 0, 0, 0, 0, 0, 0, 0, 0, 0, 0, 0, 0, 0, 0, 0, 0, 1, 0, 0, 0, 0, 0, 0, 0, 0, 0, 0, 0, 0, 0, 0, 0, 0, 0, 0, 0, 0, 0, 0, 0, 0, 0, 0, 0, 0, 0, 1, 0, 0, 0, 0, 0, 0, 0, 0, 0, 0, 0, 0, 0, 0, 0, 0, 0, 0, 0, 0, 0, 0, 0, 0, 0, 0, 0, 0, 0, 0, 0, 0, 0, 0, 0, 0, 0, 0, 0, 0, 0, 0, 0, 0, 0, 0, 0, 0, 0, 0, 0, 0, 0, 0, 0, 0, 0, 0, 0, 0, 0, 0, 0, 0, 0, 0, 0, 0, 0, 0, 0, 0, 0, 0, 0, 0, 0, 0, 0, 0, 0, 0, 0, 0, 0, 0, 0, 0, 0, 0, 0, 0, 0, 0, 0, 0, 0, 0, 0, 0, 0, 0, 0, 0, 0, 0, 0, 0, 0, 0, 0, 0, 0, 0, 0, 0, 0, 0, 0, 0, 0, 0, 0, 0, 0, 0, 0, 0, 0, 0, 0, 0, 0, 0, 0, 0, 0, 0, 0, 0, 0, 0, 0, 0, 0, 0, 0, 0, 0, 0, 0, 0, 0, 0, 0, 0, 0, 0, 0, 0, 0, 0, 0, 0, 0, 0, 0, 0, 0, 0, 0, 0, 0, 0, 0, 0, 0, 0, 0, 0, 0, 0, 0, 0, 0, 0, 0, 0, 0, 0, 0, 0, 0, 0, 0, 0, 0, 0, 0, 0, 0, 0, 0, 0, 0, 0, 0, 0, 0, 0, 0, 0, 0, 0, 0, 0, 0, 0, 0, 0, 0, 0, 0, 0, 0, 0, 0, 0, 0, 0, 0, 0, 0, 0, 0, 0, 0, 0, 0, 0, 0, 0, 0, 0, 0, 0, 0, 0, 0, 0, 0, 0, 0, 0, 0, 0, 0, 0, 0, 0, 0, 0, 0, 0, 0, 0, 0, 0, 0, 0, 0, 0, 0, 0, 0, 0, 0, 0, 0, 0, 0, 0, 0, 0, 0, 0, 0, 0, 0, 0, 0, 0, 0, 0, 0, 0, 0, 0, 0, 0, 0, 0, 0, 0, 0, 0, 0, 0, 0, 0, 0, 0, 0, 0, 0, 0, 0, 0, 0, 0, 0, 0, 0, 0, 0, 0, 0, 0, 0, 0, 0, 0, 0, 0, 0, 0, 0, 0, 0, 0, 0, 0, 0, 0, 0, 0, 0, 0, 0, 0, 0, 0, 0, 0, 0, 0, 0, 0, 0, 0, 0, 0, 0, 0, 0, 0, 0, 0, 0, 0, 0, 0, 0, 0, 0, 0, 0, 0, 0, 1, 0, 0, 0, 0, 0, 0, 0, 0, 0, 0, 0, 0, 0, 0, 0, 0, 0, 0, 0, 0, 0, 0, 0, 0, 0, 0, 0, 0, 0, 0, 0, 0, 0, 0, 0, 0, 0, 0, 0, 0, 0, 0, 0, 0, 0, 0, 0, 0, 0, 0, 0, 0, 0, 0, 0, 0, 0, 0, 0, 0, 0, 0, 0, 0, 0, 0, 0, 0, 0, 0, 0, 0, 0, 0, 0, 0, 0, 0, 0, 0, 0, 0, 0, 0, 0, 0, 0, 0, 0, 0, 0, 0, 0, 0, 0, 0, 0, 0, 0, 0, 0, 0, 0, 0, 0, 0, 0, 0, 0, 0, 0, 0, 0, 0, 0, 0, 0, 0, 0, 0, 0, 0, 0, 0, 0, 0, 0, 0, 0, 0, 0, 0, 0, 0, 0, 0, 0, 0, 0, 0, 0, 0, 0, 0, 0, 0, 0, 0, 0, 0, 0, 0, 0, 0, 0, 0, 0, 0, 0, 0, 0, 0, 0, 0, 0, 0, 0, 0, 0, 0, 0, 0, 0, 0, 0, 0, 0, 0, 0, 0, 0, 0, 0, 0, 0, 0, 0, 0, 0, 0, 0, 0, 0, 0, 0, 0, 0, 0, 0, 0, 0, 0, 0, 0, 0, 0, 0, 0, 0, 0, 0, 0, 0, 0, 0, 0, 0, 0, 0, 0, 0, 0, 0, 0, 0, 0, 0, 0, 0, 0, 0, 0, 0, 0, 0, 0, 0, 0, 0, 0, 0, 0, 0, 0, 0, 0, 0, 0, 0, 0, 0, 0, 0, 1, 0, 0, 0, 0, 0, 0, 0, 0, 0, 0, 0, 0, 0, 0, 0, 0, 0, 0, 0, 0, 0, 0, 0, 0, 0, 0, 0, 0, 0, 0, 0, 0, 0, 0, 0, 0, 0, 0, 0, 0, 0, 0, 0, 0, 0, 0, 0, 0, 0, 0, 0, 0, 0, 0, 0, 0, 0, 0, 0, 0, 0, 0, 0, 0, 0, 0, 0, 0, 0, 0, 0, 0, 0, 0, 0, 0, 0, 0, 0, 0, 0, 0, 0, 0, 0, 0, 1, 0, 0, 0, 0, 0, 0, 0, 0, 0, 0, 0, 0, 0, 0, 0, 0, 0, 0, 0, 0, 0, 0, 0, 0, 0, 0, 0, 0, 0, 0, 0, 0, 0, 0, 0, 0, 0, 0, 0, 0, 0, 0, 0, 0, 0, 0, 0, 0, 0, 0, 0, 0, 0, 0, 0, 0, 0, 0, 0, 0, 0, 0, 0, 0, 0, 0, 0, 0, 0, 0, 0, 0, 0, 0, 0, 0, 0, 0, 0, 0, 0, 0, 0, 0, 0, 0, 0, 0, 0, 0, 0, 0, 0, 0, 0, 0, 0, 0, 0, 0, 0, 0, 0, 0, 0, 0, 0, 0, 0, 0, 0, 0, 0, 0, 0, 0, 0, 0, 0, 0, 0, 0, 0, 0, 0, 0, 0, 0, 0, 0, 0, 0, 0, 0, 0, 0, 0, 0, 0, 0, 0, 0, 0, 0, 0, 0, 0, 0, 0, 0, 0, 0, 0, 0, 0, 0, 0, 0, 0, 0, 0, 0, 0, 0, 0, 0, 0, 0, 0, 0, 0, 0, 0, 0, 0, 0, 0, 0, 0, 0, 0, 0, 0, 0, 0, 0, 0, 0, 0, 0, 0, 0, 0, 0, 0, 0, 0, 0, 0, 0, 0, 0, 0, 0, 0, 0, 0, 0, 0, 0, 0, 0, 0, 0, 0, 0, 0, 0, 0, 0, 0, 0, 0, 0, 0, 0, 0, 0, 0, 0, 0, 0, 0, 0, 0, 0, 0, 0, 0, 0, 0, 0, 0, 0, 0, 0, 0, 0, 0, 0, 0, 0, 1, 0, 0, 0, 0, 0, 0, 0, 0, 0, 0, 0, 0, 0, 0, 0, 0, 0, 0, 0, 0, 0, 0, 0, 0, 0, 0, 0, 0, 0, 0, 0, 0, 0, 0, 0, 0, 0, 0, 0, 0, 0, 0, 0, 0, 0, 0, 0, 0, 0, 0, 0, 0, 0, 0, 0, 1, 0, 0, 0, 0, 0, 0, 0, 0, 0, 0, 0, 0, 0, 0, 0, 0, 0, 0, 0, 0, 0, 0, 0, 0, 0, 0, 0, 0, 0, 0, 0, 0, 0, 0, 0, 0, 0, 0, 0, 0, 0, 0, 0, 0, 0, 0, 0, 0, 0, 0, 0, 0, 0, 0, 0, 0, 0, 0, 0, 0, 0, 0, 0, 0, 0, 0, 0, 0, 0, 0, 0, 0, 0, 0, 0, 0, 0, 0, 0, 0, 0, 0, 0, 0, 0, 0, 0, 0, 0, 0, 0, 0, 0, 0, 0, 0, 0, 0, 0, 0, 0, 0, 0, 0, 0, 0, 0, 0, 0, 0, 0, 0, 0, 0, 0, 0, 0, 0, 0, 0, 0, 0, 0, 0, 0, 0, 0, 0, 0, 0, 0, 0, 0, 0, 0, 0, 0, 0, 0, 0, 0, 0, 0, 0, 0, 0, 0, 0, 0, 0, 0, 0, 0, 0, 0, 0, 0, 0, 0, 0, 0, 0, 0, 0, 0, 0, 0, 0, 0, 0, 0, 0, 0, 0, 0, 0, 0, 0, 0, 0, 0, 0, 0, 0, 0, 0, 0, 0, 0, 0, 0, 0, 0, 0, 0, 0, 0, 0, 0, 0, 0, 0, 0, 0, 0, 0, 0, 0, 0, 0, 0, 0, 0, 0, 0, 0, 0, 0, 0, 0, 0, 0, 0, 0, 0, 0, 0, 0, 0, 0, 0, 0, 0, 0, 0, 0, 0, 0, 0, 0, 0, 0, 0, 0, 0, 0, 0, 0, 0, 0, 0, 0, 0, 0, 0, 0, 0, 0, 0, 0, 0, 0, 0, 0, 0, 0, 0, 0, 0, 0, 0, 0, 0, 0, 0, 0, 0, 0, 0, 0, 0, 0, 0, 0, 0, 0, 0, 0, 0, 0, 0, 0, 0, 0, 0, 0, 0, 0, 0, 0, 0, 0, 0, 0, 0, 0, 0, 0, 0, 0, 0, 0, 0, 0, 0, 0, 0, 0, 0, 0, 0, 0, 0, 0, 0, 0, 0, 0, 0, 0, 0, 0, 0, 0, 0, 0, 0, 0, 0, 0, 0, 0, 0, 0, 0, 0, 0, 0, 0, 0, 0, 0, 0, 0, 0, 0, 0, 0, 0, 0, 0, 0, 0, 0, 0, 0, 0, 0, 0, 0, 0, 0, 0, 0, 0, 0, 0, 0, 0, 0, 0, 0, 0, 0, 0, 0, 0, 0, 0, 0, 0, 0, 0, 0, 0, 0, 0, 0, 0, 0, 0, 0, 0, 0, 0, 0, 0, 0, 0, 0, 0, 0, 0, 0, 0, 0, 0, 0, 0, 0, 0, 0, 0, 0, 0, 0, 0, 0, 0, 0, 0, 0, 0, 0, 0, 0, 0, 0, 0, 0, 0, 0, 0, 0, 0, 0, 0, 0, 0, 0, 0, 0, 0, 0, 0, 0, 0, 0, 0, 0, 0, 0, 0, 0, 0, 0, 0, 0, 0, 0, 0, 0, 0, 0, 0, 0, 0, 0, 0, 0, 0, 0, 0, 0, 0, 0, 0, 0, 0, 0, 0, 0, 0, 0, 0, 0, 0, 0, 0, 0, 0, 0, 0, 0, 0, 0, 0, 0, 0, 0, 0, 0, 0, 0, 0, 0, 0, 0, 0, 0, 0, 0, 0, 0, 0, 0, 0, 0, 0, 0, 0, 0, 0, 0, 0, 0, 0, 0, 0, 0, 0, 0, 0, 0, 0, 0, 0, 0, 0, 0, 0, 0, 0, 0, 0, 0, 0, 0, 0, 0, 0, 0, 0, 0, 0, 0, 0, 0, 0, 0, 0, 0, 0, 0, 0, 0, 0, 0, 0, 0, 0, 0, 0, 0, 0, 0, 0, 0, 0, 0, 0, 0, 0, 0, 0, 0, 0, 0, 0, 0, 0, 0, 0, 0, 0, 0, 0, 0, 0, 0, 0, 0, 0, 0, 0, 0, 0, 0, 0, 0, 0, 0, 0, 0, 0, 0, 0, 0, 0, 0, 0, 0, 0, 0, 0, 0, 0, 0, 0, 0, 0, 0, 0, 0, 0, 0, 0, 0, 0, 0, 0, 0, 0, 0, 0, 0, 0, 0, 0, 0, 0, 0, 0, 0, 0, 0, 0, 0, 0, 0, 0, 0, 0, 0, 0, 0, 0, 0, 0, 0, 0, 1, 0, 0, 0, 0, 0, 0, 0, 0, 0, 0, 0, 0, 0, 0, 0, 0, 0, 0, 0, 0, 0, 0, 0, 0, 0, 0, 0, 0, 0, 0, 0, 0, 0, 0, 0, 0, 0, 0, 0, 0, 0, 0, 0, 0, 0, 0, 0, 0, 0, 0, 0, 0, 0, 0, 0, 0, 0, 0, 0, 0, 0, 0, 0, 0, 0, 0, 0, 0, 0, 0, 0, 0, 0, 0, 1, 0, 0, 0, 0, 0, 0, 0, 0, 0, 0, 0, 0, 0, 0, 0, 0, 0, 0, 0, 0, 1, 0, 0, 1, 0, 0, 0, 0, 0, 0, 0, 0, 0, 0, 0, 0, 0, 0, 0, 0, 0, 0, 0, 0, 0, 0, 0, 0, 0, 0, 0, 0, 0, 0, 0, 0, 0, 0, 0, 0, 0, 0, 0, 0, 0, 0, 0, 0, 0, 0, 0, 0, 0, 0, 0, 0, 0, 0, 0, 0, 0, 0, 0, 0, 0, 0, 0, 0, 0, 0, 0, 0, 0, 0, 0, 0, 0, 0, 0, 0, 0, 0, 0, 0, 0, 0, 0, 0, 0, 0, 0, 0, 0, 0, 0, 0, 0, 0, 0, 0, 0, 0, 0, 0, 0, 0, 0, 0, 0, 0, 0, 0, 0, 0, 0, 0, 0, 0, 0, 0, 0, 0, 0, 0, 0, 0, 0, 0, 0, 0, 0, 0, 0, 0, 0, 0, 0, 0, 0, 0, 0, 0, 0, 0, 0, 0, 0, 0, 0, 0, 0, 0, 0, 0, 0, 0, 0, 0, 0, 0, 0, 0, 0, 0, 0, 0, 0, 0, 0, 0, 0, 0, 0, 0, 0, 0, 0, 0, 0, 0, 0, 0, 0, 0, 0, 0, 0, 0, 0, 0, 0, 0, 0, 0, 0, 0, 0, 0, 0, 0, 0, 0, 0, 0, 0, 0, 0, 0, 0, 0, 0, 0, 0, 0, 0, 0, 0, 0, 0, 0, 0, 0, 0, 0, 0, 0, 0, 0, 0, 0, 0, 0, 0, 0, 0, 0, 0, 0, 0, 0, 0, 0, 0, 0, 0, 0, 0, 0, 0, 0, 0, 0, 0, 0, 0, 0, 0, 0, 0, 0, 0, 0, 0, 0, 0, 0, 0, 0, 0, 0, 0, 0, 0, 0, 0, 0, 0, 0, 0, 0, 0, 0, 0, 0, 0, 0, 0, 0, 0, 0, 0, 0, 0, 0, 0, 0, 0, 0, 0, 0, 0, 0, 0, 0, 0, 0, 0, 0, 0, 0, 0, 0, 0, 0, 0, 0, 0, 0, 0, 0, 0, 0, 0, 0, 0, 0, 0, 0, 0, 0, 0, 0, 0, 0, 0, 0, 0, 0, 0, 0, 0, 0, 0, 0, 0, 0, 0, 0, 0, 0, 0, 0, 0, 0, 0, 0, 0, 0, 0, 0, 0, 0, 0, 0, 0, 0, 0, 0, 0, 0, 0, 0, 0, 0, 0, 0, 0, 0, 0, 0, 0, 0, 0, 0, 0, 0, 0, 0, 0, 0, 0, 0, 0, 0, 0, 0, 0, 0, 0, 0, 0, 0, 0, 0, 0, 0, 0, 0, 0, 0, 0, 0, 0, 0, 0, 0, 0, 0, 0, 0, 0, 0, 0, 0, 0, 0, 0, 0, 0, 0, 0, 0, 0, 0, 0, 0, 0, 0, 0, 0, 0, 0, 0, 0, 0, 0, 0, 0, 0, 0, 0, 0, 0, 0, 0, 0, 0, 0, 0, 0, 0, 0, 0, 0, 0, 0, 0, 0, 0, 0, 1, 0, 0, 0, 0, 0, 0, 0, 0, 0, 0, 0, 0, 0, 0, 0, 0, 0, 0, 0, 0, 0, 0, 0, 0, 0, 0, 0, 0, 0, 0, 0, 0, 0, 0, 0, 0, 0, 0, 0, 0, 0, 0, 0, 0, 0, 0, 0, 0, 0, 0, 0, 0, 0, 0, 0, 0, 0, 0, 0, 0, 0, 0, 0, 0, 0, 0, 0, 0, 0, 0, 0, 0, 0, 0, 0, 0, 0, 0, 0, 0, 0, 0, 0, 0, 0, 0, 0, 0, 0, 0, 0, 0, 0, 0, 0, 0, 0, 0, 0, 0, 0, 0, 0, 0, 0, 0, 0, 0, 0, 0, 0, 0, 0, 0, 0, 0, 0, 0, 0, 0, 0, 0, 0, 0, 0, 0, 0, 0, 0, 0, 0, 0, 0, 0, 0, 0, 0, 0, 0, 0, 0, 0, 0, 0, 0, 0, 0, 0, 0, 0, 0, 0, 0, 0, 0, 0, 0, 0, 0, 0, 0, 0, 0, 0, 0, 0, 0, 0, 0, 0, 0, 0, 0, 0, 0, 0, 0, 0, 0, 0, 0, 0, 0, 0, 0, 0, 0, 0, 0, 0, 0, 0, 0, 0, 0, 0, 0, 0, 0, 0, 0, 0, 0, 0, 0, 0, 0, 0, 0, 0, 0, 0, 0, 0, 0, 0, 0, 0, 0, 0, 0, 0, 0, 0, 0, 0, 0, 0, 0, 0, 0, 0, 0, 0, 0, 0, 0, 0, 0, 0, 0, 0, 0, 0, 0, 0, 0, 0, 0, 0, 0, 0, 0, 0, 0, 0, 0, 0, 0, 0, 0, 0, 0, 0, 0, 0, 0, 0, 0, 0, 0, 0, 0, 0, 0, 0, 0, 0, 0, 0, 0, 0, 0, 0, 0, 0, 0, 0, 0, 0, 0, 0, 0, 0, 0, 0, 0, 0, 0, 0, 0, 0, 0, 0, 0, 0, 0, 0, 0, 0, 0, 0, 0, 0, 0, 0, 0, 0, 0, 0, 0, 0, 0, 0, 0, 0, 0, 0, 0, 0, 0, 0, 0, 0, 0, 0, 0, 0, 0, 0, 0, 0, 0, 0, 0, 0, 0, 0, 0, 0, 0, 0, 0, 0, 0, 0, 0, 0, 0, 0, 0, 0, 0, 0, 0, 0, 0, 0, 0, 0, 0, 0, 0, 0, 0, 0, 0, 0, 0, 0, 0, 0, 0, 0, 0, 0, 0, 0, 0, 0, 0, 0, 0, 0, 0, 0, 0, 0, 0, 0, 0, 0, 0, 0, 0, 0, 0, 0, 0, 0, 0, 0, 0, 0, 0, 0, 0, 0, 0, 0, 0, 0, 0, 0, 0, 0, 0, 0, 0, 0, 0, 0, 0, 0, 0, 0, 0, 0, 0, 0, 0, 0, 0, 0, 0, 0, 0, 0, 0, 0, 0, 0, 0, 0, 0, 0, 0, 0, 0, 0, 0, 0, 0, 0, 0, 0, 0, 0, 0, 0, 0, 0, 0, 0, 0, 0, 0, 0, 0, 0, 0, 0, 0, 0, 0, 0, 0, 0, 0, 0, 0, 0, 0, 0, 0, 0, 0, 0, 0, 0, 0, 0, 0, 0, 0, 0, 0, 0, 0, 0, 0, 0, 1, 0, 0, 0, 0, 0, 0, 0, 0, 0, 0, 0, 0, 0, 0, 0, 0, 0, 0, 0, 0, 0, 0, 0, 0, 0, 0, 0, 0, 0, 0, 0, 0, 0, 0, 0, 2, 0, 0, 0, 0, 0, 0, 0, 0, 0, 0, 0, 0, 0, 0, 0, 0, 0, 0, 0, 0, 0, 0, 0, 0, 0, 0, 0, 0, 0, 0, 0, 0, 0, 0, 0, 0, 0, 0, 0, 0, 1, 0, 0, 0, 0, 0, 0, 0, 0, 0, 0, 0, 0, 0, 0, 0, 0, 0, 0, 0, 0, 0, 0, 0, 0, 0, 0, 0, 0, 0, 0, 0, 0, 0, 0, 0, 0, 0, 0, 0, 0, 0, 0, 0, 0, 0, 0, 0, 0, 0, 0, 0, 0, 0, 0, 0, 0, 0, 0, 0, 0, 0, 0, 0, 0, 0, 0, 0, 0, 0, 0, 0, 0, 0, 0, 0, 0, 0, 0, 0, 0, 0, 0, 0, 0, 0, 0, 0, 0, 0, 0, 0, 0, 0, 0, 0, 0, 0, 0, 0, 0, 0, 0, 0, 0, 0, 0, 0, 0, 0, 0, 0, 0, 0, 0, 0, 0, 0, 0, 0, 0, 0, 0, 0, 0, 0, 0, 0, 0, 0, 0, 0, 0, 0, 0, 0, 0, 0, 0, 0, 0, 0, 0, 0, 0, 0, 0, 0, 0, 0, 0, 0, 0, 0, 0, 0, 0, 0, 0, 0, 0, 0, 0, 0, 0, 0, 0, 0, 0, 0, 0, 0, 0, 0, 0, 0, 0, 0, 0, 0, 0, 0, 0, 0, 0, 0, 0, 0, 0, 0, 0, 0, 0, 0, 0, 0, 0, 0, 0, 0, 0, 0, 0, 0, 0, 0, 0, 0, 0, 0, 0, 0, 0, 0, 0, 0, 0, 0, 0, 0, 0, 0, 0, 0, 0, 0, 0, 0, 0, 0, 0, 0, 0, 0, 0, 0, 0, 0, 0, 0, 0, 0, 0, 0, 0, 0, 0, 0, 0, 0, 0, 0, 0, 0, 0, 0, 0, 0, 0, 0, 0, 0, 0, 0, 0, 0, 0, 0, 0, 0, 0, 0, 0, 0, 0, 0, 0, 0, 0, 0, 0, 0, 0, 0, 0, 0, 0, 0, 0, 0, 0, 0, 0, 0, 0, 0, 0, 0, 0, 0, 0, 0, 0, 0, 0, 0, 0, 0, 0, 0, 0, 0, 0, 0, 0, 0, 0, 0, 0, 0, 0, 0, 0, 0, 0, 0, 0, 0, 0, 0, 0, 0, 0, 0, 0, 0, 0, 0, 0, 0, 0, 0, 0, 0, 0, 0, 0, 0, 0, 0, 0, 0, 0, 0, 0, 0, 0, 0, 0, 0, 0, 0, 0, 0, 0, 0, 0, 0, 0, 0, 0, 0, 0, 0, 0, 0, 0, 0, 0, 0, 0, 0, 0, 0, 0, 0, 0, 0, 0, 0, 0, 0, 0, 0, 0, 0, 0, 0, 0, 0, 0, 0, 0, 0, 0, 0, 0, 0, 0, 0, 0, 0, 0, 0, 0, 0, 0, 0, 0, 0, 0, 0, 0, 0, 0, 0, 0, 0, 0, 0, 0, 0, 0, 0, 0, 0, 0, 0, 0, 0, 0, 0, 0, 0, 0, 0, 0, 0, 0, 0, 0, 0, 0, 0, 0, 0, 0, 0, 0, 0, 0, 0, 0, 0, 0, 0, 0, 0, 0, 0, 0, 0, 0, 0, 0, 0, 0, 0, 0, 0, 0, 0, 0, 0, 0, 0, 0, 0, 0, 0, 0, 0, 0, 0, 0, 0, 0, 0, 1, 0, 0, 0, 0, 0, 0, 0, 0, 0, 0, 0, 0, 0, 0, 0, 0, 0, 0, 0, 0, 0, 0, 0, 0, 0, 0, 0, 0, 0, 0, 0, 0, 0, 0, 0, 0, 0, 0, 0, 0, 0, 0, 0, 0, 0, 0, 0, 0, 0, 0, 0, 0, 0, 0, 0, 0, 0, 0, 0, 0, 0, 0, 0, 0, 0, 0, 0, 0, 0, 0, 0, 0, 0, 0, 0, 0, 0, 0, 0, 0, 0, 0, 0, 0, 0, 0, 0, 0, 0, 0, 0, 0, 0, 0, 0, 0, 0, 0, 0, 0, 0, 0, 0, 0, 0, 0, 0, 0, 0, 0, 2, 0, 0, 0, 0, 0, 0, 0, 0, 0, 0, 0, 0, 0, 0, 0, 0, 0, 0, 0, 0, 0, 0, 0, 0, 0, 0, 0, 0, 0, 0, 0, 0, 0, 0, 0, 0, 0, 0, 0, 0, 0, 0, 0, 0, 0, 0, 0, 0, 0, 0, 0, 0, 0, 0, 0, 0, 0, 0, 0, 0, 0, 0, 0, 0, 0, 0, 0, 0, 0, 0, 0, 0, 0, 0, 0, 0, 0, 0, 0, 0, 0, 0, 0, 0, 0, 0, 0, 0, 0, 0, 0, 0, 0, 0, 0, 0, 0, 0, 0, 0, 0, 0, 0, 0, 0, 0, 0, 0, 0, 0, 0, 0, 0, 0, 0, 0, 0, 0, 0, 0, 0, 0, 0, 0, 0, 0, 0, 0, 0, 0, 0, 0, 0, 0, 0, 0, 0, 0, 0, 0, 0, 0, 0, 0, 0, 0, 0, 0, 0, 0, 0, 0, 0, 0, 0, 0, 0, 0, 0, 0, 0, 0, 0, 0, 0, 0, 0, 0, 0, 0, 0, 0, 0, 0, 0, 0, 0, 0, 0, 0, 0, 0, 0, 0, 0, 0, 0, 0, 0, 0, 0, 0, 0, 0, 0, 0, 0, 0, 0, 0, 0, 0, 0, 0, 0, 0, 0, 0, 0, 0, 0, 0, 0, 0, 0, 0, 0, 0, 0, 0, 0, 0, 0, 0, 0, 0, 0, 0, 0, 0, 0, 0, 0, 0, 0, 0, 0, 0, 0, 0, 0, 0, 0, 0, 0, 0, 0, 0, 0, 0, 0, 0, 0, 0, 0, 0, 0, 0, 0, 0, 0, 0, 0, 0, 0, 0, 0, 0, 0, 0, 0, 0, 0, 0, 0, 0, 0, 0, 0, 0, 0, 0, 0, 0, 0, 0, 0, 0, 0, 0, 0, 0, 0, 0, 0, 0, 0, 0, 0, 0, 0, 0, 0, 0, 0, 0, 0, 0, 0, 0, 0, 0, 0, 0, 0, 0, 0, 0, 0, 0, 0, 0, 0, 0, 0, 0, 0, 0, 0, 0, 0, 0, 0, 0, 0, 0, 0, 0, 0, 0, 0, 0, 0, 0, 0, 0, 0, 0, 0, 0, 0, 0, 0, 0, 0, 0, 0, 0, 0, 0, 0, 0, 0, 0, 0, 0, 0, 0, 0, 0, 0, 0, 0, 0, 0, 0, 0, 0, 0, 0, 0, 0, 0, 0, 0, 0, 0, 0, 0, 0, 0, 0, 0, 0, 0, 0, 0, 0, 0, 0, 0, 0, 0, 0, 0, 0, 0, 0, 0, 0, 0, 0, 0, 0, 0, 0, 0, 0, 0, 0, 0, 0, 0, 0, 0, 0, 0, 0, 0, 0, 0, 0, 0, 0, 0, 0, 0, 0, 0, 0, 0, 0, 0, 0, 0, 0, 0, 0, 0, 0, 0, 0, 0, 0, 0, 0, 0, 0, 0, 0, 0, 0, 0, 0, 0, 0, 0, 0, 0, 0, 0, 0, 0, 0, 0, 0, 0, 0, 0, 0, 0, 0, 0, 0, 0, 0, 0, 0, 0, 0, 0, 0, 0, 0, 0, 0, 0, 0, 0, 0, 0, 0, 0, 0, 0, 0, 0, 0, 0, 0, 0, 0, 0, 0, 0, 0, 0, 0, 0, 0, 0, 0, 0, 0, 0, 0, 0, 0, 0, 0, 0, 0, 0, 0, 0, 0, 0, 0, 0, 0, 0, 0, 0, 0, 0, 0, 0, 0, 0, 0, 0, 0, 0, 0, 0, 0, 0, 0, 0, 0, 0, 0, 0, 0, 0, 0, 0, 0, 0, 0, 0, 0, 0, 0, 0, 0, 0, 0, 0, 0, 0, 0, 0, 0, 0, 0, 0, 0, 0, 0, 0, 0, 0, 0, 0, 0, 0, 0, 0, 0, 0, 0, 0, 0, 0, 0, 0, 0, 0, 0, 0, 0, 0, 0, 0, 0, 0, 0, 0, 0, 0, 0, 0, 0, 0, 0, 0, 0, 0, 0, 0, 0, 0, 0, 0, 0, 0, 0, 0, 0, 0, 0, 0, 0, 0, 0, 0, 0, 0, 0, 0, 0, 0, 0, 0, 0, 0, 0, 0, 0, 0, 0, 0, 0, 0, 0, 0, 0, 0, 0, 0, 0, 0, 0, 0, 0, 0, 0, 0, 0, 0, 0, 0, 0, 0, 0, 0, 0, 0, 0, 1, 0, 0, 0, 0, 0, 0, 0, 0, 0, 0, 0, 0, 0, 0, 0, 0, 0, 0, 0, 0, 0, 0, 0, 0, 0, 0, 0, 0, 0, 0, 0, 0, 0, 0, 0, 0, 0, 0, 0, 0, 0, 0, 0, 0, 0, 0, 0, 0, 0, 0, 0, 0, 0, 0, 0, 0, 0, 0, 0, 0, 0, 0, 0, 0, 0, 0, 0, 0, 0, 0, 0, 0, 0, 0, 0, 0, 0, 0, 0, 0, 0, 0, 0, 0, 0, 0, 0, 0, 0, 0, 0, 0, 0, 0, 0, 0, 0, 0, 0, 0, 0, 0, 0, 0, 0, 0, 0, 1, 0, 0, 0, 0, 0, 0, 0, 0, 0, 0, 0, 0, 0, 0, 0, 0, 0, 0, 0, 0, 0, 0, 0, 0, 0, 0, 0, 0, 0, 0, 0, 0, 0, 0, 0, 0, 0, 0, 0, 0, 0, 0, 0, 0, 0, 0, 0, 0, 0, 0, 0, 0, 0, 0, 0, 0, 0, 0, 0, 0, 0, 0, 0, 0, 0, 0, 0, 0, 0, 0, 0, 0, 0, 0, 0, 0, 0, 0, 0, 0, 0, 0, 0, 0, 0, 0, 0, 0, 0, 0, 0, 0, 0, 0, 0, 0, 0, 0, 0, 0, 0, 0, 0, 0, 0, 0, 0, 0, 0, 0, 0, 0, 0, 0, 0, 0, 0, 0, 0, 0, 0, 0, 0, 0, 0, 0, 0, 0, 0, 0, 0, 0, 0, 0, 0, 0, 0, 0, 0, 0, 0, 0, 0, 0, 0, 0, 0, 0, 0, 0, 0, 0, 0, 0, 0, 0, 0, 0, 0, 0, 0, 0, 0, 0, 0, 0, 0, 0, 0, 0, 0, 0, 0, 0, 0, 0, 0, 0, 0, 0, 0, 0, 0, 0, 0, 0, 0, 0, 0, 0, 0, 0, 0, 0, 0, 0, 0, 0, 0, 0, 0, 0, 0, 0, 0, 0, 0, 0, 0, 0, 0, 0, 0, 0, 0, 0, 0, 0, 0, 0, 0, 0, 0, 0, 0, 0, 0, 0, 0, 0, 0, 0, 0, 0, 0, 0, 0, 0, 0, 0, 0, 0, 0, 0, 0, 0, 0, 0, 0, 0, 0, 0, 0, 0, 0, 0, 0, 0, 0, 0, 0, 0, 0, 0, 0, 0, 0, 0, 0, 0, 0, 0, 0, 0, 0, 0, 0, 0, 0, 0, 0, 0, 0, 0, 0, 0, 0, 0, 0, 0, 0, 0, 0, 0, 0, 0, 0, 0, 0, 0, 0, 0, 0, 0, 0, 0, 0, 0, 0, 0, 0, 0, 0, 0, 0, 0, 0, 0, 0, 0, 0, 0, 0, 0, 0, 0, 0, 0, 0, 0, 0, 0, 0, 0, 0, 0, 0, 0, 0, 0, 0, 0, 0, 0, 0, 0, 0, 0, 0, 0, 0, 0, 0, 0, 0, 0, 0, 0, 0, 0, 0, 0, 0, 0, 0, 0, 0, 0, 0, 0, 0, 0, 0, 0, 0, 0, 0, 0, 0, 0, 0, 0, 0, 0, 0, 0, 0, 0, 0, 0, 0, 0, 0, 0, 0, 0, 0, 0, 0, 0, 0, 0, 0, 0, 0, 0, 0, 0, 0, 0, 0, 0, 0, 0, 0, 0, 0, 0, 0, 0, 0, 0, 0, 0, 0, 0, 0, 0, 0, 0, 0, 0, 0, 0, 0, 0, 0, 0, 0, 0, 0, 0, 0, 0, 0, 0, 0, 0, 0, 0, 0, 0, 0, 0, 0, 0, 0, 0, 0, 0, 0, 0, 0, 2, 0, 1, 0], type: <class 'list'>, valid types: <class 'bytes'>, <class 'bytearray'>, file-like object",
     "output_type": "error",
     "traceback": [
      "\u001b[0;31m---------------------------------------------------------------------------\u001b[0m",
      "\u001b[0;31mParamValidationError\u001b[0m                      Traceback (most recent call last)",
      "\u001b[0;32m<ipython-input-81-c9ab54ae3a48>\u001b[0m in \u001b[0;36m<module>\u001b[0;34m\u001b[0m\n\u001b[1;32m      1\u001b[0m response = runtime.invoke_endpoint(EndpointName = xgb_predictor.endpoint, # The name of the endpoint we created\n\u001b[1;32m      2\u001b[0m                                        \u001b[0mContentType\u001b[0m \u001b[0;34m=\u001b[0m \u001b[0;34m'text/csv'\u001b[0m\u001b[0;34m,\u001b[0m                     \u001b[0;31m# The data format that is expected\u001b[0m\u001b[0;34m\u001b[0m\u001b[0;34m\u001b[0m\u001b[0m\n\u001b[0;32m----> 3\u001b[0;31m                                        Body = test_bow)\n\u001b[0m",
      "\u001b[0;32m~/anaconda3/envs/python3/lib/python3.6/site-packages/botocore/client.py\u001b[0m in \u001b[0;36m_api_call\u001b[0;34m(self, *args, **kwargs)\u001b[0m\n\u001b[1;32m    355\u001b[0m                     \"%s() only accepts keyword arguments.\" % py_operation_name)\n\u001b[1;32m    356\u001b[0m             \u001b[0;31m# The \"self\" in this scope is referring to the BaseClient.\u001b[0m\u001b[0;34m\u001b[0m\u001b[0;34m\u001b[0m\u001b[0;34m\u001b[0m\u001b[0m\n\u001b[0;32m--> 357\u001b[0;31m             \u001b[0;32mreturn\u001b[0m \u001b[0mself\u001b[0m\u001b[0;34m.\u001b[0m\u001b[0m_make_api_call\u001b[0m\u001b[0;34m(\u001b[0m\u001b[0moperation_name\u001b[0m\u001b[0;34m,\u001b[0m \u001b[0mkwargs\u001b[0m\u001b[0;34m)\u001b[0m\u001b[0;34m\u001b[0m\u001b[0;34m\u001b[0m\u001b[0m\n\u001b[0m\u001b[1;32m    358\u001b[0m \u001b[0;34m\u001b[0m\u001b[0m\n\u001b[1;32m    359\u001b[0m         \u001b[0m_api_call\u001b[0m\u001b[0;34m.\u001b[0m\u001b[0m__name__\u001b[0m \u001b[0;34m=\u001b[0m \u001b[0mstr\u001b[0m\u001b[0;34m(\u001b[0m\u001b[0mpy_operation_name\u001b[0m\u001b[0;34m)\u001b[0m\u001b[0;34m\u001b[0m\u001b[0;34m\u001b[0m\u001b[0m\n",
      "\u001b[0;32m~/anaconda3/envs/python3/lib/python3.6/site-packages/botocore/client.py\u001b[0m in \u001b[0;36m_make_api_call\u001b[0;34m(self, operation_name, api_params)\u001b[0m\n\u001b[1;32m    647\u001b[0m         }\n\u001b[1;32m    648\u001b[0m         request_dict = self._convert_to_request_dict(\n\u001b[0;32m--> 649\u001b[0;31m             api_params, operation_model, context=request_context)\n\u001b[0m\u001b[1;32m    650\u001b[0m \u001b[0;34m\u001b[0m\u001b[0m\n\u001b[1;32m    651\u001b[0m         \u001b[0mservice_id\u001b[0m \u001b[0;34m=\u001b[0m \u001b[0mself\u001b[0m\u001b[0;34m.\u001b[0m\u001b[0m_service_model\u001b[0m\u001b[0;34m.\u001b[0m\u001b[0mservice_id\u001b[0m\u001b[0;34m.\u001b[0m\u001b[0mhyphenize\u001b[0m\u001b[0;34m(\u001b[0m\u001b[0;34m)\u001b[0m\u001b[0;34m\u001b[0m\u001b[0;34m\u001b[0m\u001b[0m\n",
      "\u001b[0;32m~/anaconda3/envs/python3/lib/python3.6/site-packages/botocore/client.py\u001b[0m in \u001b[0;36m_convert_to_request_dict\u001b[0;34m(self, api_params, operation_model, context)\u001b[0m\n\u001b[1;32m    695\u001b[0m             api_params, operation_model, context)\n\u001b[1;32m    696\u001b[0m         request_dict = self._serializer.serialize_to_request(\n\u001b[0;32m--> 697\u001b[0;31m             api_params, operation_model)\n\u001b[0m\u001b[1;32m    698\u001b[0m         \u001b[0;32mif\u001b[0m \u001b[0;32mnot\u001b[0m \u001b[0mself\u001b[0m\u001b[0;34m.\u001b[0m\u001b[0m_client_config\u001b[0m\u001b[0;34m.\u001b[0m\u001b[0minject_host_prefix\u001b[0m\u001b[0;34m:\u001b[0m\u001b[0;34m\u001b[0m\u001b[0;34m\u001b[0m\u001b[0m\n\u001b[1;32m    699\u001b[0m             \u001b[0mrequest_dict\u001b[0m\u001b[0;34m.\u001b[0m\u001b[0mpop\u001b[0m\u001b[0;34m(\u001b[0m\u001b[0;34m'host_prefix'\u001b[0m\u001b[0;34m,\u001b[0m \u001b[0;32mNone\u001b[0m\u001b[0;34m)\u001b[0m\u001b[0;34m\u001b[0m\u001b[0;34m\u001b[0m\u001b[0m\n",
      "\u001b[0;32m~/anaconda3/envs/python3/lib/python3.6/site-packages/botocore/validate.py\u001b[0m in \u001b[0;36mserialize_to_request\u001b[0;34m(self, parameters, operation_model)\u001b[0m\n\u001b[1;32m    295\u001b[0m                                                     operation_model.input_shape)\n\u001b[1;32m    296\u001b[0m             \u001b[0;32mif\u001b[0m \u001b[0mreport\u001b[0m\u001b[0;34m.\u001b[0m\u001b[0mhas_errors\u001b[0m\u001b[0;34m(\u001b[0m\u001b[0;34m)\u001b[0m\u001b[0;34m:\u001b[0m\u001b[0;34m\u001b[0m\u001b[0;34m\u001b[0m\u001b[0m\n\u001b[0;32m--> 297\u001b[0;31m                 \u001b[0;32mraise\u001b[0m \u001b[0mParamValidationError\u001b[0m\u001b[0;34m(\u001b[0m\u001b[0mreport\u001b[0m\u001b[0;34m=\u001b[0m\u001b[0mreport\u001b[0m\u001b[0;34m.\u001b[0m\u001b[0mgenerate_report\u001b[0m\u001b[0;34m(\u001b[0m\u001b[0;34m)\u001b[0m\u001b[0;34m)\u001b[0m\u001b[0;34m\u001b[0m\u001b[0;34m\u001b[0m\u001b[0m\n\u001b[0m\u001b[1;32m    298\u001b[0m         return self._serializer.serialize_to_request(parameters,\n\u001b[1;32m    299\u001b[0m                                                      operation_model)\n",
      "\u001b[0;31mParamValidationError\u001b[0m: Parameter validation failed:\nInvalid type for parameter Body, value: [0, 0, 0, 0, 0, 0, 0, 0, 0, 0, 0, 0, 0, 0, 0, 0, 0, 0, 0, 0, 0, 0, 0, 0, 0, 0, 0, 0, 0, 0, 0, 0, 0, 0, 0, 0, 0, 0, 0, 0, 0, 0, 0, 0, 0, 0, 0, 0, 0, 0, 0, 0, 0, 0, 0, 0, 0, 0, 0, 0, 0, 0, 0, 0, 0, 0, 0, 0, 0, 0, 0, 0, 0, 0, 0, 0, 0, 0, 0, 0, 0, 0, 0, 0, 0, 0, 0, 0, 0, 0, 0, 0, 0, 0, 0, 0, 0, 0, 0, 0, 0, 0, 0, 0, 0, 0, 0, 0, 0, 0, 0, 0, 0, 0, 0, 0, 0, 0, 0, 0, 0, 0, 0, 0, 0, 0, 0, 0, 0, 0, 0, 0, 0, 0, 0, 0, 0, 0, 0, 0, 0, 0, 0, 0, 0, 0, 0, 0, 0, 0, 0, 0, 0, 0, 0, 0, 0, 0, 0, 0, 0, 0, 0, 0, 0, 0, 0, 0, 0, 0, 0, 0, 0, 0, 0, 0, 0, 0, 0, 0, 0, 0, 0, 0, 0, 0, 0, 0, 0, 0, 0, 0, 0, 0, 0, 0, 0, 0, 0, 0, 0, 0, 0, 0, 0, 0, 0, 0, 0, 0, 0, 0, 0, 0, 0, 0, 0, 0, 0, 0, 0, 0, 0, 0, 0, 0, 1, 0, 0, 0, 0, 0, 0, 0, 0, 0, 0, 0, 0, 0, 0, 0, 0, 0, 0, 0, 0, 0, 0, 0, 0, 0, 0, 0, 0, 0, 1, 0, 0, 0, 0, 0, 0, 0, 0, 0, 0, 0, 0, 0, 0, 0, 0, 0, 0, 0, 0, 0, 0, 0, 0, 0, 0, 0, 0, 0, 0, 0, 0, 0, 0, 0, 0, 0, 0, 0, 0, 0, 0, 0, 0, 0, 0, 0, 0, 0, 0, 0, 0, 0, 0, 0, 0, 0, 0, 0, 0, 0, 0, 0, 0, 0, 0, 0, 0, 0, 0, 0, 0, 0, 0, 0, 0, 0, 0, 0, 0, 0, 0, 0, 0, 0, 0, 0, 0, 0, 0, 0, 0, 0, 0, 0, 0, 0, 0, 0, 0, 0, 0, 0, 0, 0, 0, 0, 0, 0, 0, 0, 0, 0, 0, 0, 0, 0, 0, 0, 0, 0, 0, 0, 0, 0, 0, 0, 0, 0, 0, 0, 0, 0, 0, 0, 0, 0, 0, 0, 0, 0, 0, 0, 0, 0, 0, 0, 0, 0, 0, 0, 0, 0, 0, 0, 0, 0, 0, 0, 0, 0, 0, 0, 0, 0, 0, 0, 0, 0, 0, 0, 0, 0, 0, 0, 0, 0, 0, 0, 0, 0, 0, 0, 0, 0, 0, 0, 0, 0, 0, 0, 0, 0, 0, 0, 0, 0, 0, 0, 0, 0, 0, 0, 0, 0, 0, 0, 0, 0, 0, 0, 0, 0, 0, 0, 0, 0, 0, 0, 0, 0, 0, 0, 0, 0, 0, 0, 0, 0, 0, 0, 0, 0, 0, 0, 0, 0, 0, 0, 0, 0, 0, 0, 0, 0, 0, 0, 0, 0, 0, 0, 0, 0, 0, 0, 0, 0, 0, 0, 0, 0, 0, 0, 0, 0, 0, 0, 0, 0, 0, 0, 0, 0, 0, 0, 0, 0, 0, 0, 0, 0, 0, 0, 0, 0, 0, 0, 0, 0, 0, 0, 0, 0, 0, 0, 0, 0, 0, 0, 0, 0, 0, 0, 0, 0, 0, 0, 0, 0, 0, 0, 0, 0, 0, 0, 0, 0, 0, 0, 0, 0, 0, 0, 0, 0, 0, 0, 0, 0, 0, 0, 0, 0, 0, 0, 0, 0, 0, 0, 0, 0, 0, 0, 0, 0, 0, 0, 0, 0, 0, 0, 0, 0, 0, 0, 0, 0, 0, 0, 0, 0, 0, 0, 0, 0, 0, 0, 0, 0, 0, 0, 0, 0, 0, 0, 0, 0, 0, 0, 1, 0, 0, 0, 0, 0, 0, 0, 0, 0, 0, 0, 0, 0, 0, 0, 0, 0, 0, 0, 0, 0, 0, 0, 0, 0, 0, 0, 0, 0, 0, 0, 0, 0, 0, 0, 0, 0, 0, 0, 0, 0, 0, 0, 0, 0, 0, 0, 0, 0, 0, 0, 0, 0, 0, 0, 0, 0, 0, 0, 0, 0, 0, 0, 0, 0, 0, 0, 0, 0, 0, 0, 0, 0, 0, 0, 0, 0, 0, 0, 0, 0, 0, 0, 0, 0, 0, 0, 0, 0, 0, 0, 0, 0, 0, 0, 0, 0, 0, 0, 0, 0, 0, 0, 0, 0, 0, 0, 0, 0, 0, 0, 0, 0, 0, 0, 0, 0, 0, 0, 0, 0, 0, 0, 0, 0, 0, 0, 0, 0, 0, 0, 0, 0, 0, 0, 0, 0, 0, 0, 0, 0, 0, 0, 0, 0, 0, 0, 0, 0, 0, 0, 0, 0, 0, 0, 0, 0, 0, 0, 0, 0, 0, 0, 0, 0, 0, 0, 0, 0, 0, 0, 0, 0, 0, 0, 0, 0, 0, 0, 0, 0, 0, 0, 0, 0, 0, 0, 0, 0, 0, 0, 0, 0, 0, 0, 0, 0, 0, 0, 0, 0, 0, 0, 0, 0, 0, 0, 0, 0, 0, 0, 0, 0, 0, 0, 0, 0, 0, 0, 0, 0, 0, 0, 0, 0, 0, 0, 0, 0, 0, 0, 0, 0, 0, 0, 0, 0, 0, 0, 0, 0, 0, 0, 0, 0, 0, 0, 0, 0, 0, 0, 0, 0, 1, 0, 0, 0, 0, 0, 0, 0, 0, 0, 0, 0, 0, 0, 0, 0, 0, 0, 0, 0, 0, 0, 0, 0, 0, 0, 0, 0, 0, 0, 0, 0, 0, 0, 0, 0, 0, 0, 0, 0, 0, 0, 0, 0, 0, 0, 0, 0, 0, 0, 0, 0, 0, 0, 0, 0, 0, 0, 0, 0, 0, 0, 0, 0, 0, 0, 0, 0, 0, 0, 0, 0, 0, 0, 0, 0, 0, 0, 0, 0, 0, 0, 0, 0, 0, 0, 0, 1, 0, 0, 0, 0, 0, 0, 0, 0, 0, 0, 0, 0, 0, 0, 0, 0, 0, 0, 0, 0, 0, 0, 0, 0, 0, 0, 0, 0, 0, 0, 0, 0, 0, 0, 0, 0, 0, 0, 0, 0, 0, 0, 0, 0, 0, 0, 0, 0, 0, 0, 0, 0, 0, 0, 0, 0, 0, 0, 0, 0, 0, 0, 0, 0, 0, 0, 0, 0, 0, 0, 0, 0, 0, 0, 0, 0, 0, 0, 0, 0, 0, 0, 0, 0, 0, 0, 0, 0, 0, 0, 0, 0, 0, 0, 0, 0, 0, 0, 0, 0, 0, 0, 0, 0, 0, 0, 0, 0, 0, 0, 0, 0, 0, 0, 0, 0, 0, 0, 0, 0, 0, 0, 0, 0, 0, 0, 0, 0, 0, 0, 0, 0, 0, 0, 0, 0, 0, 0, 0, 0, 0, 0, 0, 0, 0, 0, 0, 0, 0, 0, 0, 0, 0, 0, 0, 0, 0, 0, 0, 0, 0, 0, 0, 0, 0, 0, 0, 0, 0, 0, 0, 0, 0, 0, 0, 0, 0, 0, 0, 0, 0, 0, 0, 0, 0, 0, 0, 0, 0, 0, 0, 0, 0, 0, 0, 0, 0, 0, 0, 0, 0, 0, 0, 0, 0, 0, 0, 0, 0, 0, 0, 0, 0, 0, 0, 0, 0, 0, 0, 0, 0, 0, 0, 0, 0, 0, 0, 0, 0, 0, 0, 0, 0, 0, 0, 0, 0, 0, 0, 0, 0, 0, 0, 0, 0, 0, 0, 0, 0, 0, 0, 0, 1, 0, 0, 0, 0, 0, 0, 0, 0, 0, 0, 0, 0, 0, 0, 0, 0, 0, 0, 0, 0, 0, 0, 0, 0, 0, 0, 0, 0, 0, 0, 0, 0, 0, 0, 0, 0, 0, 0, 0, 0, 0, 0, 0, 0, 0, 0, 0, 0, 0, 0, 0, 0, 0, 0, 0, 1, 0, 0, 0, 0, 0, 0, 0, 0, 0, 0, 0, 0, 0, 0, 0, 0, 0, 0, 0, 0, 0, 0, 0, 0, 0, 0, 0, 0, 0, 0, 0, 0, 0, 0, 0, 0, 0, 0, 0, 0, 0, 0, 0, 0, 0, 0, 0, 0, 0, 0, 0, 0, 0, 0, 0, 0, 0, 0, 0, 0, 0, 0, 0, 0, 0, 0, 0, 0, 0, 0, 0, 0, 0, 0, 0, 0, 0, 0, 0, 0, 0, 0, 0, 0, 0, 0, 0, 0, 0, 0, 0, 0, 0, 0, 0, 0, 0, 0, 0, 0, 0, 0, 0, 0, 0, 0, 0, 0, 0, 0, 0, 0, 0, 0, 0, 0, 0, 0, 0, 0, 0, 0, 0, 0, 0, 0, 0, 0, 0, 0, 0, 0, 0, 0, 0, 0, 0, 0, 0, 0, 0, 0, 0, 0, 0, 0, 0, 0, 0, 0, 0, 0, 0, 0, 0, 0, 0, 0, 0, 0, 0, 0, 0, 0, 0, 0, 0, 0, 0, 0, 0, 0, 0, 0, 0, 0, 0, 0, 0, 0, 0, 0, 0, 0, 0, 0, 0, 0, 0, 0, 0, 0, 0, 0, 0, 0, 0, 0, 0, 0, 0, 0, 0, 0, 0, 0, 0, 0, 0, 0, 0, 0, 0, 0, 0, 0, 0, 0, 0, 0, 0, 0, 0, 0, 0, 0, 0, 0, 0, 0, 0, 0, 0, 0, 0, 0, 0, 0, 0, 0, 0, 0, 0, 0, 0, 0, 0, 0, 0, 0, 0, 0, 0, 0, 0, 0, 0, 0, 0, 0, 0, 0, 0, 0, 0, 0, 0, 0, 0, 0, 0, 0, 0, 0, 0, 0, 0, 0, 0, 0, 0, 0, 0, 0, 0, 0, 0, 0, 0, 0, 0, 0, 0, 0, 0, 0, 0, 0, 0, 0, 0, 0, 0, 0, 0, 0, 0, 0, 0, 0, 0, 0, 0, 0, 0, 0, 0, 0, 0, 0, 0, 0, 0, 0, 0, 0, 0, 0, 0, 0, 0, 0, 0, 0, 0, 0, 0, 0, 0, 0, 0, 0, 0, 0, 0, 0, 0, 0, 0, 0, 0, 0, 0, 0, 0, 0, 0, 0, 0, 0, 0, 0, 0, 0, 0, 0, 0, 0, 0, 0, 0, 0, 0, 0, 0, 0, 0, 0, 0, 0, 0, 0, 0, 0, 0, 0, 0, 0, 0, 0, 0, 0, 0, 0, 0, 0, 0, 0, 0, 0, 0, 0, 0, 0, 0, 0, 0, 0, 0, 0, 0, 0, 0, 0, 0, 0, 0, 0, 0, 0, 0, 0, 0, 0, 0, 0, 0, 0, 0, 0, 0, 0, 0, 0, 0, 0, 0, 0, 0, 0, 0, 0, 0, 0, 0, 0, 0, 0, 0, 0, 0, 0, 0, 0, 0, 0, 0, 0, 0, 0, 0, 0, 0, 0, 0, 0, 0, 0, 0, 0, 0, 0, 0, 0, 0, 0, 0, 0, 0, 0, 0, 0, 0, 0, 0, 0, 0, 0, 0, 0, 0, 0, 0, 0, 0, 0, 0, 0, 0, 0, 0, 0, 0, 0, 0, 0, 0, 0, 0, 0, 0, 0, 0, 0, 0, 0, 0, 0, 0, 0, 0, 0, 0, 0, 0, 0, 0, 0, 0, 0, 0, 0, 0, 0, 0, 0, 0, 0, 0, 0, 0, 0, 0, 0, 0, 0, 0, 0, 0, 0, 0, 0, 0, 0, 0, 0, 0, 0, 0, 0, 0, 0, 0, 0, 0, 0, 0, 0, 0, 0, 0, 0, 0, 0, 0, 0, 0, 0, 0, 0, 0, 0, 0, 0, 0, 0, 0, 0, 0, 0, 0, 0, 0, 0, 0, 0, 0, 0, 0, 0, 0, 0, 0, 0, 0, 0, 0, 0, 0, 0, 0, 0, 0, 0, 0, 0, 0, 0, 0, 0, 0, 0, 0, 0, 0, 0, 0, 0, 0, 0, 0, 0, 0, 0, 0, 0, 0, 0, 0, 0, 0, 0, 0, 0, 0, 0, 0, 0, 0, 0, 0, 0, 0, 0, 0, 0, 0, 0, 0, 0, 0, 0, 0, 0, 0, 0, 0, 0, 0, 0, 0, 0, 0, 0, 0, 0, 0, 0, 0, 0, 0, 1, 0, 0, 0, 0, 0, 0, 0, 0, 0, 0, 0, 0, 0, 0, 0, 0, 0, 0, 0, 0, 0, 0, 0, 0, 0, 0, 0, 0, 0, 0, 0, 0, 0, 0, 0, 0, 0, 0, 0, 0, 0, 0, 0, 0, 0, 0, 0, 0, 0, 0, 0, 0, 0, 0, 0, 0, 0, 0, 0, 0, 0, 0, 0, 0, 0, 0, 0, 0, 0, 0, 0, 0, 0, 0, 1, 0, 0, 0, 0, 0, 0, 0, 0, 0, 0, 0, 0, 0, 0, 0, 0, 0, 0, 0, 0, 1, 0, 0, 1, 0, 0, 0, 0, 0, 0, 0, 0, 0, 0, 0, 0, 0, 0, 0, 0, 0, 0, 0, 0, 0, 0, 0, 0, 0, 0, 0, 0, 0, 0, 0, 0, 0, 0, 0, 0, 0, 0, 0, 0, 0, 0, 0, 0, 0, 0, 0, 0, 0, 0, 0, 0, 0, 0, 0, 0, 0, 0, 0, 0, 0, 0, 0, 0, 0, 0, 0, 0, 0, 0, 0, 0, 0, 0, 0, 0, 0, 0, 0, 0, 0, 0, 0, 0, 0, 0, 0, 0, 0, 0, 0, 0, 0, 0, 0, 0, 0, 0, 0, 0, 0, 0, 0, 0, 0, 0, 0, 0, 0, 0, 0, 0, 0, 0, 0, 0, 0, 0, 0, 0, 0, 0, 0, 0, 0, 0, 0, 0, 0, 0, 0, 0, 0, 0, 0, 0, 0, 0, 0, 0, 0, 0, 0, 0, 0, 0, 0, 0, 0, 0, 0, 0, 0, 0, 0, 0, 0, 0, 0, 0, 0, 0, 0, 0, 0, 0, 0, 0, 0, 0, 0, 0, 0, 0, 0, 0, 0, 0, 0, 0, 0, 0, 0, 0, 0, 0, 0, 0, 0, 0, 0, 0, 0, 0, 0, 0, 0, 0, 0, 0, 0, 0, 0, 0, 0, 0, 0, 0, 0, 0, 0, 0, 0, 0, 0, 0, 0, 0, 0, 0, 0, 0, 0, 0, 0, 0, 0, 0, 0, 0, 0, 0, 0, 0, 0, 0, 0, 0, 0, 0, 0, 0, 0, 0, 0, 0, 0, 0, 0, 0, 0, 0, 0, 0, 0, 0, 0, 0, 0, 0, 0, 0, 0, 0, 0, 0, 0, 0, 0, 0, 0, 0, 0, 0, 0, 0, 0, 0, 0, 0, 0, 0, 0, 0, 0, 0, 0, 0, 0, 0, 0, 0, 0, 0, 0, 0, 0, 0, 0, 0, 0, 0, 0, 0, 0, 0, 0, 0, 0, 0, 0, 0, 0, 0, 0, 0, 0, 0, 0, 0, 0, 0, 0, 0, 0, 0, 0, 0, 0, 0, 0, 0, 0, 0, 0, 0, 0, 0, 0, 0, 0, 0, 0, 0, 0, 0, 0, 0, 0, 0, 0, 0, 0, 0, 0, 0, 0, 0, 0, 0, 0, 0, 0, 0, 0, 0, 0, 0, 0, 0, 0, 0, 0, 0, 0, 0, 0, 0, 0, 0, 0, 0, 0, 0, 0, 0, 0, 0, 0, 0, 0, 0, 0, 0, 0, 0, 0, 0, 0, 0, 0, 0, 0, 0, 0, 0, 0, 0, 0, 0, 0, 0, 0, 0, 0, 0, 0, 0, 0, 0, 0, 0, 0, 0, 0, 0, 0, 0, 0, 0, 0, 0, 0, 0, 0, 0, 0, 0, 0, 0, 0, 0, 0, 0, 0, 0, 0, 0, 0, 0, 0, 0, 0, 0, 0, 0, 0, 0, 0, 0, 0, 0, 0, 0, 0, 0, 1, 0, 0, 0, 0, 0, 0, 0, 0, 0, 0, 0, 0, 0, 0, 0, 0, 0, 0, 0, 0, 0, 0, 0, 0, 0, 0, 0, 0, 0, 0, 0, 0, 0, 0, 0, 0, 0, 0, 0, 0, 0, 0, 0, 0, 0, 0, 0, 0, 0, 0, 0, 0, 0, 0, 0, 0, 0, 0, 0, 0, 0, 0, 0, 0, 0, 0, 0, 0, 0, 0, 0, 0, 0, 0, 0, 0, 0, 0, 0, 0, 0, 0, 0, 0, 0, 0, 0, 0, 0, 0, 0, 0, 0, 0, 0, 0, 0, 0, 0, 0, 0, 0, 0, 0, 0, 0, 0, 0, 0, 0, 0, 0, 0, 0, 0, 0, 0, 0, 0, 0, 0, 0, 0, 0, 0, 0, 0, 0, 0, 0, 0, 0, 0, 0, 0, 0, 0, 0, 0, 0, 0, 0, 0, 0, 0, 0, 0, 0, 0, 0, 0, 0, 0, 0, 0, 0, 0, 0, 0, 0, 0, 0, 0, 0, 0, 0, 0, 0, 0, 0, 0, 0, 0, 0, 0, 0, 0, 0, 0, 0, 0, 0, 0, 0, 0, 0, 0, 0, 0, 0, 0, 0, 0, 0, 0, 0, 0, 0, 0, 0, 0, 0, 0, 0, 0, 0, 0, 0, 0, 0, 0, 0, 0, 0, 0, 0, 0, 0, 0, 0, 0, 0, 0, 0, 0, 0, 0, 0, 0, 0, 0, 0, 0, 0, 0, 0, 0, 0, 0, 0, 0, 0, 0, 0, 0, 0, 0, 0, 0, 0, 0, 0, 0, 0, 0, 0, 0, 0, 0, 0, 0, 0, 0, 0, 0, 0, 0, 0, 0, 0, 0, 0, 0, 0, 0, 0, 0, 0, 0, 0, 0, 0, 0, 0, 0, 0, 0, 0, 0, 0, 0, 0, 0, 0, 0, 0, 0, 0, 0, 0, 0, 0, 0, 0, 0, 0, 0, 0, 0, 0, 0, 0, 0, 0, 0, 0, 0, 0, 0, 0, 0, 0, 0, 0, 0, 0, 0, 0, 0, 0, 0, 0, 0, 0, 0, 0, 0, 0, 0, 0, 0, 0, 0, 0, 0, 0, 0, 0, 0, 0, 0, 0, 0, 0, 0, 0, 0, 0, 0, 0, 0, 0, 0, 0, 0, 0, 0, 0, 0, 0, 0, 0, 0, 0, 0, 0, 0, 0, 0, 0, 0, 0, 0, 0, 0, 0, 0, 0, 0, 0, 0, 0, 0, 0, 0, 0, 0, 0, 0, 0, 0, 0, 0, 0, 0, 0, 0, 0, 0, 0, 0, 0, 0, 0, 0, 0, 0, 0, 0, 0, 0, 0, 0, 0, 0, 0, 0, 0, 0, 0, 0, 0, 0, 0, 0, 0, 0, 0, 0, 0, 0, 0, 0, 0, 0, 0, 0, 0, 0, 0, 0, 0, 0, 0, 0, 0, 0, 0, 0, 0, 0, 0, 0, 0, 0, 0, 0, 0, 0, 0, 0, 0, 0, 0, 0, 0, 0, 0, 0, 0, 0, 0, 0, 0, 0, 0, 0, 0, 0, 0, 0, 0, 0, 0, 0, 0, 0, 0, 0, 0, 0, 0, 0, 0, 0, 0, 0, 0, 0, 0, 0, 0, 1, 0, 0, 0, 0, 0, 0, 0, 0, 0, 0, 0, 0, 0, 0, 0, 0, 0, 0, 0, 0, 0, 0, 0, 0, 0, 0, 0, 0, 0, 0, 0, 0, 0, 0, 0, 2, 0, 0, 0, 0, 0, 0, 0, 0, 0, 0, 0, 0, 0, 0, 0, 0, 0, 0, 0, 0, 0, 0, 0, 0, 0, 0, 0, 0, 0, 0, 0, 0, 0, 0, 0, 0, 0, 0, 0, 0, 1, 0, 0, 0, 0, 0, 0, 0, 0, 0, 0, 0, 0, 0, 0, 0, 0, 0, 0, 0, 0, 0, 0, 0, 0, 0, 0, 0, 0, 0, 0, 0, 0, 0, 0, 0, 0, 0, 0, 0, 0, 0, 0, 0, 0, 0, 0, 0, 0, 0, 0, 0, 0, 0, 0, 0, 0, 0, 0, 0, 0, 0, 0, 0, 0, 0, 0, 0, 0, 0, 0, 0, 0, 0, 0, 0, 0, 0, 0, 0, 0, 0, 0, 0, 0, 0, 0, 0, 0, 0, 0, 0, 0, 0, 0, 0, 0, 0, 0, 0, 0, 0, 0, 0, 0, 0, 0, 0, 0, 0, 0, 0, 0, 0, 0, 0, 0, 0, 0, 0, 0, 0, 0, 0, 0, 0, 0, 0, 0, 0, 0, 0, 0, 0, 0, 0, 0, 0, 0, 0, 0, 0, 0, 0, 0, 0, 0, 0, 0, 0, 0, 0, 0, 0, 0, 0, 0, 0, 0, 0, 0, 0, 0, 0, 0, 0, 0, 0, 0, 0, 0, 0, 0, 0, 0, 0, 0, 0, 0, 0, 0, 0, 0, 0, 0, 0, 0, 0, 0, 0, 0, 0, 0, 0, 0, 0, 0, 0, 0, 0, 0, 0, 0, 0, 0, 0, 0, 0, 0, 0, 0, 0, 0, 0, 0, 0, 0, 0, 0, 0, 0, 0, 0, 0, 0, 0, 0, 0, 0, 0, 0, 0, 0, 0, 0, 0, 0, 0, 0, 0, 0, 0, 0, 0, 0, 0, 0, 0, 0, 0, 0, 0, 0, 0, 0, 0, 0, 0, 0, 0, 0, 0, 0, 0, 0, 0, 0, 0, 0, 0, 0, 0, 0, 0, 0, 0, 0, 0, 0, 0, 0, 0, 0, 0, 0, 0, 0, 0, 0, 0, 0, 0, 0, 0, 0, 0, 0, 0, 0, 0, 0, 0, 0, 0, 0, 0, 0, 0, 0, 0, 0, 0, 0, 0, 0, 0, 0, 0, 0, 0, 0, 0, 0, 0, 0, 0, 0, 0, 0, 0, 0, 0, 0, 0, 0, 0, 0, 0, 0, 0, 0, 0, 0, 0, 0, 0, 0, 0, 0, 0, 0, 0, 0, 0, 0, 0, 0, 0, 0, 0, 0, 0, 0, 0, 0, 0, 0, 0, 0, 0, 0, 0, 0, 0, 0, 0, 0, 0, 0, 0, 0, 0, 0, 0, 0, 0, 0, 0, 0, 0, 0, 0, 0, 0, 0, 0, 0, 0, 0, 0, 0, 0, 0, 0, 0, 0, 0, 0, 0, 0, 0, 0, 0, 0, 0, 0, 0, 0, 0, 0, 0, 0, 0, 0, 0, 0, 0, 0, 0, 0, 0, 0, 0, 0, 0, 0, 0, 0, 0, 0, 0, 0, 0, 0, 0, 0, 0, 0, 0, 0, 0, 0, 0, 0, 0, 0, 0, 0, 0, 0, 0, 0, 0, 0, 0, 0, 0, 0, 0, 0, 0, 0, 0, 0, 0, 0, 0, 0, 0, 0, 0, 0, 0, 0, 0, 0, 0, 0, 0, 0, 0, 0, 0, 0, 0, 0, 0, 0, 1, 0, 0, 0, 0, 0, 0, 0, 0, 0, 0, 0, 0, 0, 0, 0, 0, 0, 0, 0, 0, 0, 0, 0, 0, 0, 0, 0, 0, 0, 0, 0, 0, 0, 0, 0, 0, 0, 0, 0, 0, 0, 0, 0, 0, 0, 0, 0, 0, 0, 0, 0, 0, 0, 0, 0, 0, 0, 0, 0, 0, 0, 0, 0, 0, 0, 0, 0, 0, 0, 0, 0, 0, 0, 0, 0, 0, 0, 0, 0, 0, 0, 0, 0, 0, 0, 0, 0, 0, 0, 0, 0, 0, 0, 0, 0, 0, 0, 0, 0, 0, 0, 0, 0, 0, 0, 0, 0, 0, 0, 0, 2, 0, 0, 0, 0, 0, 0, 0, 0, 0, 0, 0, 0, 0, 0, 0, 0, 0, 0, 0, 0, 0, 0, 0, 0, 0, 0, 0, 0, 0, 0, 0, 0, 0, 0, 0, 0, 0, 0, 0, 0, 0, 0, 0, 0, 0, 0, 0, 0, 0, 0, 0, 0, 0, 0, 0, 0, 0, 0, 0, 0, 0, 0, 0, 0, 0, 0, 0, 0, 0, 0, 0, 0, 0, 0, 0, 0, 0, 0, 0, 0, 0, 0, 0, 0, 0, 0, 0, 0, 0, 0, 0, 0, 0, 0, 0, 0, 0, 0, 0, 0, 0, 0, 0, 0, 0, 0, 0, 0, 0, 0, 0, 0, 0, 0, 0, 0, 0, 0, 0, 0, 0, 0, 0, 0, 0, 0, 0, 0, 0, 0, 0, 0, 0, 0, 0, 0, 0, 0, 0, 0, 0, 0, 0, 0, 0, 0, 0, 0, 0, 0, 0, 0, 0, 0, 0, 0, 0, 0, 0, 0, 0, 0, 0, 0, 0, 0, 0, 0, 0, 0, 0, 0, 0, 0, 0, 0, 0, 0, 0, 0, 0, 0, 0, 0, 0, 0, 0, 0, 0, 0, 0, 0, 0, 0, 0, 0, 0, 0, 0, 0, 0, 0, 0, 0, 0, 0, 0, 0, 0, 0, 0, 0, 0, 0, 0, 0, 0, 0, 0, 0, 0, 0, 0, 0, 0, 0, 0, 0, 0, 0, 0, 0, 0, 0, 0, 0, 0, 0, 0, 0, 0, 0, 0, 0, 0, 0, 0, 0, 0, 0, 0, 0, 0, 0, 0, 0, 0, 0, 0, 0, 0, 0, 0, 0, 0, 0, 0, 0, 0, 0, 0, 0, 0, 0, 0, 0, 0, 0, 0, 0, 0, 0, 0, 0, 0, 0, 0, 0, 0, 0, 0, 0, 0, 0, 0, 0, 0, 0, 0, 0, 0, 0, 0, 0, 0, 0, 0, 0, 0, 0, 0, 0, 0, 0, 0, 0, 0, 0, 0, 0, 0, 0, 0, 0, 0, 0, 0, 0, 0, 0, 0, 0, 0, 0, 0, 0, 0, 0, 0, 0, 0, 0, 0, 0, 0, 0, 0, 0, 0, 0, 0, 0, 0, 0, 0, 0, 0, 0, 0, 0, 0, 0, 0, 0, 0, 0, 0, 0, 0, 0, 0, 0, 0, 0, 0, 0, 0, 0, 0, 0, 0, 0, 0, 0, 0, 0, 0, 0, 0, 0, 0, 0, 0, 0, 0, 0, 0, 0, 0, 0, 0, 0, 0, 0, 0, 0, 0, 0, 0, 0, 0, 0, 0, 0, 0, 0, 0, 0, 0, 0, 0, 0, 0, 0, 0, 0, 0, 0, 0, 0, 0, 0, 0, 0, 0, 0, 0, 0, 0, 0, 0, 0, 0, 0, 0, 0, 0, 0, 0, 0, 0, 0, 0, 0, 0, 0, 0, 0, 0, 0, 0, 0, 0, 0, 0, 0, 0, 0, 0, 0, 0, 0, 0, 0, 0, 0, 0, 0, 0, 0, 0, 0, 0, 0, 0, 0, 0, 0, 0, 0, 0, 0, 0, 0, 0, 0, 0, 0, 0, 0, 0, 0, 0, 0, 0, 0, 0, 0, 0, 0, 0, 0, 0, 0, 0, 0, 0, 0, 0, 0, 0, 0, 0, 0, 0, 0, 0, 0, 0, 0, 0, 0, 0, 0, 0, 0, 0, 0, 0, 0, 0, 0, 0, 0, 0, 0, 0, 0, 0, 0, 0, 0, 0, 0, 0, 0, 0, 0, 0, 0, 0, 0, 0, 0, 0, 0, 0, 0, 0, 0, 0, 0, 0, 0, 0, 0, 0, 0, 0, 0, 0, 0, 0, 0, 0, 0, 0, 0, 0, 0, 0, 0, 0, 0, 0, 0, 0, 0, 0, 0, 0, 0, 0, 0, 0, 0, 0, 0, 0, 0, 0, 0, 0, 0, 0, 0, 0, 0, 0, 0, 0, 0, 0, 0, 0, 0, 0, 0, 0, 0, 0, 0, 0, 0, 0, 0, 0, 0, 0, 0, 0, 0, 0, 0, 0, 0, 0, 0, 0, 0, 0, 0, 0, 0, 0, 0, 0, 0, 0, 0, 0, 0, 0, 0, 0, 0, 0, 0, 0, 0, 0, 0, 0, 0, 0, 0, 0, 0, 0, 0, 0, 0, 0, 0, 0, 0, 0, 0, 0, 0, 1, 0, 0, 0, 0, 0, 0, 0, 0, 0, 0, 0, 0, 0, 0, 0, 0, 0, 0, 0, 0, 0, 0, 0, 0, 0, 0, 0, 0, 0, 0, 0, 0, 0, 0, 0, 0, 0, 0, 0, 0, 0, 0, 0, 0, 0, 0, 0, 0, 0, 0, 0, 0, 0, 0, 0, 0, 0, 0, 0, 0, 0, 0, 0, 0, 0, 0, 0, 0, 0, 0, 0, 0, 0, 0, 0, 0, 0, 0, 0, 0, 0, 0, 0, 0, 0, 0, 0, 0, 0, 0, 0, 0, 0, 0, 0, 0, 0, 0, 0, 0, 0, 0, 0, 0, 0, 0, 0, 1, 0, 0, 0, 0, 0, 0, 0, 0, 0, 0, 0, 0, 0, 0, 0, 0, 0, 0, 0, 0, 0, 0, 0, 0, 0, 0, 0, 0, 0, 0, 0, 0, 0, 0, 0, 0, 0, 0, 0, 0, 0, 0, 0, 0, 0, 0, 0, 0, 0, 0, 0, 0, 0, 0, 0, 0, 0, 0, 0, 0, 0, 0, 0, 0, 0, 0, 0, 0, 0, 0, 0, 0, 0, 0, 0, 0, 0, 0, 0, 0, 0, 0, 0, 0, 0, 0, 0, 0, 0, 0, 0, 0, 0, 0, 0, 0, 0, 0, 0, 0, 0, 0, 0, 0, 0, 0, 0, 0, 0, 0, 0, 0, 0, 0, 0, 0, 0, 0, 0, 0, 0, 0, 0, 0, 0, 0, 0, 0, 0, 0, 0, 0, 0, 0, 0, 0, 0, 0, 0, 0, 0, 0, 0, 0, 0, 0, 0, 0, 0, 0, 0, 0, 0, 0, 0, 0, 0, 0, 0, 0, 0, 0, 0, 0, 0, 0, 0, 0, 0, 0, 0, 0, 0, 0, 0, 0, 0, 0, 0, 0, 0, 0, 0, 0, 0, 0, 0, 0, 0, 0, 0, 0, 0, 0, 0, 0, 0, 0, 0, 0, 0, 0, 0, 0, 0, 0, 0, 0, 0, 0, 0, 0, 0, 0, 0, 0, 0, 0, 0, 0, 0, 0, 0, 0, 0, 0, 0, 0, 0, 0, 0, 0, 0, 0, 0, 0, 0, 0, 0, 0, 0, 0, 0, 0, 0, 0, 0, 0, 0, 0, 0, 0, 0, 0, 0, 0, 0, 0, 0, 0, 0, 0, 0, 0, 0, 0, 0, 0, 0, 0, 0, 0, 0, 0, 0, 0, 0, 0, 0, 0, 0, 0, 0, 0, 0, 0, 0, 0, 0, 0, 0, 0, 0, 0, 0, 0, 0, 0, 0, 0, 0, 0, 0, 0, 0, 0, 0, 0, 0, 0, 0, 0, 0, 0, 0, 0, 0, 0, 0, 0, 0, 0, 0, 0, 0, 0, 0, 0, 0, 0, 0, 0, 0, 0, 0, 0, 0, 0, 0, 0, 0, 0, 0, 0, 0, 0, 0, 0, 0, 0, 0, 0, 0, 0, 0, 0, 0, 0, 0, 0, 0, 0, 0, 0, 0, 0, 0, 0, 0, 0, 0, 0, 0, 0, 0, 0, 0, 0, 0, 0, 0, 0, 0, 0, 0, 0, 0, 0, 0, 0, 0, 0, 0, 0, 0, 0, 0, 0, 0, 0, 0, 0, 0, 0, 0, 0, 0, 0, 0, 0, 0, 0, 0, 0, 0, 0, 0, 0, 0, 0, 0, 0, 0, 0, 0, 0, 0, 0, 0, 0, 0, 0, 0, 0, 0, 0, 0, 0, 0, 0, 0, 0, 0, 0, 0, 0, 0, 0, 0, 0, 0, 0, 0, 0, 0, 0, 0, 0, 0, 0, 0, 0, 0, 2, 0, 1, 0], type: <class 'list'>, valid types: <class 'bytes'>, <class 'bytearray'>, file-like object"
     ]
    }
   ],
   "source": [
    "response = runtime.invoke_endpoint(EndpointName = xgb_predictor.endpoint, # The name of the endpoint we created\n",
    "                                       ContentType = 'text/csv',                     # The data format that is expected\n",
    "                                       Body = test_bow)"
   ]
  },
  {
   "cell_type": "markdown",
   "metadata": {},
   "source": [
    "So why did we get an error?\n",
    "\n",
    "Because we tried to send the endpoint a list of integers but it expected us to send data of type `text/csv`. So, we need to convert it."
   ]
  },
  {
   "cell_type": "code",
   "execution_count": 82,
   "metadata": {},
   "outputs": [
    {
     "name": "stderr",
     "output_type": "stream",
     "text": [
      "The endpoint attribute has been renamed in sagemaker>=2.\n",
      "See: https://sagemaker.readthedocs.io/en/stable/v2.html for details.\n"
     ]
    }
   ],
   "source": [
    "response = runtime.invoke_endpoint(EndpointName = xgb_predictor.endpoint, # The name of the endpoint we created\n",
    "                                       ContentType = 'text/csv',                     # The data format that is expected\n",
    "                                       Body = ','.join([str(val) for val in test_bow]).encode('utf-8'))"
   ]
  },
  {
   "cell_type": "code",
   "execution_count": 83,
   "metadata": {},
   "outputs": [
    {
     "name": "stdout",
     "output_type": "stream",
     "text": [
      "{'ResponseMetadata': {'RequestId': '81333121-5043-46a3-a1b8-8971036e9623', 'HTTPStatusCode': 200, 'HTTPHeaders': {'x-amzn-requestid': '81333121-5043-46a3-a1b8-8971036e9623', 'x-amzn-invoked-production-variant': 'AllTraffic', 'date': 'Fri, 20 Nov 2020 20:22:39 GMT', 'content-type': 'text/csv; charset=utf-8', 'content-length': '18'}, 'RetryAttempts': 0}, 'ContentType': 'text/csv; charset=utf-8', 'InvokedProductionVariant': 'AllTraffic', 'Body': <botocore.response.StreamingBody object at 0x7f617faf59e8>}\n"
     ]
    }
   ],
   "source": [
    "print(response)"
   ]
  },
  {
   "cell_type": "markdown",
   "metadata": {},
   "source": [
    "As we can see, the response from our model is a somewhat complicated looking dict that contains a bunch of information. The bit that we are most interested in is `'Body'` object which is a streaming object that we need to `read` in order to make use of."
   ]
  },
  {
   "cell_type": "code",
   "execution_count": 84,
   "metadata": {},
   "outputs": [
    {
     "name": "stdout",
     "output_type": "stream",
     "text": [
      "0.4405585825443268\n"
     ]
    }
   ],
   "source": [
    "response = response['Body'].read().decode('utf-8')\n",
    "print(response)"
   ]
  },
  {
   "cell_type": "markdown",
   "metadata": {},
   "source": [
    "Now that we know how to process the incoming user data we can start setting up the infrastructure to make our simple web app work. To do this we will make use of two different services. Amazon's Lambda and API Gateway services.\n",
    "\n",
    "Lambda is a service which allows someone to write some relatively simple code and have it executed whenever a chosen trigger occurs. For example, you may want to update a database whenever new data is uploaded to a folder stored on S3.\n",
    "\n",
    "API Gateway is a service that allows you to create HTTP endpoints (url addresses) which are connected to other AWS services. One of the benefits to this is that you get to decide what credentials, if any, are required to access these endpoints.\n",
    "\n",
    "In our case we are going to set up an HTTP endpoint through API Gateway which is open to the public. Then, whenever anyone sends data to our public endpoint we will trigger a Lambda function which will send the input (in our case a review) to our model's endpoint and then return the result."
   ]
  },
  {
   "cell_type": "markdown",
   "metadata": {},
   "source": [
    "### Setting up a Lambda function\n",
    "\n",
    "The first thing we are going to do is set up a Lambda function. This Lambda function will be executed whenever our public API has data sent to it. When it is executed it will receive the data, perform any sort of processing that is required, send the data (the review) to the SageMaker endpoint we've created and then return the result.\n",
    "\n",
    "#### Part A: Create an IAM Role for the Lambda function\n",
    "\n",
    "Since we want the Lambda function to call a SageMaker endpoint, we need to make sure that it has permission to do so. To do this, we will construct a role that we can later give the Lambda function.\n",
    "\n",
    "Using the AWS Console, navigate to the **IAM** page and click on **Roles**. Then, click on **Create role**. Make sure that the **AWS service** is the type of trusted entity selected and choose **Lambda** as the service that will use this role, then click **Next: Permissions**.\n",
    "\n",
    "In the search box type `sagemaker` and select the check box next to the **AmazonSageMakerFullAccess** policy. Then, click on **Next: Review**.\n",
    "\n",
    "Lastly, give this role a name. Make sure you use a name that you will remember later on, for example `LambdaSageMakerRole`. Then, click on **Create role**."
   ]
  },
  {
   "cell_type": "markdown",
   "metadata": {},
   "source": [
    "#### Part B: Create a Lambda function\n",
    "\n",
    "Now it is time to actually create the Lambda function. Remember from earlier that in order to process the user provided input and send it to our endpoint we need to gather two pieces of information:\n",
    "\n",
    " - The name of the endpoint, and\n",
    " - the vocabulary object.\n",
    "\n",
    "We will copy these pieces of information to our Lambda function after we create it.\n",
    "\n",
    "To start, using the AWS Console, navigate to the AWS Lambda page and click on **Create a function**. When you get to the next page, make sure that **Author from scratch** is selected. Now, name your Lambda function, using a name that you will remember later on, for example `sentiment_analysis_xgboost_func`. Make sure that the **Python 3.6** runtime is selected and then choose the role that you created in the previous part. Then, click on **Create Function**.\n",
    "\n",
    "On the next page you will see some information about the Lambda function you've just created. If you scroll down you should see an editor in which you can write the code that will be executed when your Lambda function is triggered. Collecting the code we wrote above to process a single review and adding it to the provided example `lambda_handler` we arrive at the following.\n",
    "\n",
    "```python\n",
    "# We need to use the low-level library to interact with SageMaker since the SageMaker API\n",
    "# is not available natively through Lambda.\n",
    "import boto3\n",
    "\n",
    "# And we need the regular expression library to do some of the data processing\n",
    "import re\n",
    "\n",
    "REPLACE_NO_SPACE = re.compile(\"(\\.)|(\\;)|(\\:)|(\\!)|(\\')|(\\?)|(\\,)|(\\\")|(\\()|(\\))|(\\[)|(\\])\")\n",
    "REPLACE_WITH_SPACE = re.compile(\"(<br\\s*/><br\\s*/>)|(\\-)|(\\/)\")\n",
    "\n",
    "def review_to_words(review):\n",
    "    words = REPLACE_NO_SPACE.sub(\"\", review.lower())\n",
    "    words = REPLACE_WITH_SPACE.sub(\" \", words)\n",
    "    return words\n",
    "    \n",
    "def bow_encoding(words, vocabulary):\n",
    "    bow = [0] * len(vocabulary) # Start by setting the count for each word in the vocabulary to zero.\n",
    "    for word in words.split():  # For each word in the string\n",
    "        if word in vocabulary:  # If the word is one that occurs in the vocabulary, increase its count.\n",
    "            bow[vocabulary[word]] += 1\n",
    "    return bow\n",
    "\n",
    "\n",
    "def lambda_handler(event, context):\n",
    "    \n",
    "    vocab = \"*** ACTUAL VOCABULARY GOES HERE ***\"\n",
    "    \n",
    "    words = review_to_words(event['body'])\n",
    "    bow = bow_encoding(words, vocab)\n",
    "\n",
    "    # The SageMaker runtime is what allows us to invoke the endpoint that we've created.\n",
    "    runtime = boto3.Session().client('sagemaker-runtime')\n",
    "\n",
    "    # Now we use the SageMaker runtime to invoke our endpoint, sending the review we were given\n",
    "    response = runtime.invoke_endpoint(EndpointName = '***ENDPOINT NAME HERE***',# The name of the endpoint we created\n",
    "                                       ContentType = 'text/csv',                 # The data format that is expected\n",
    "                                       Body = ','.join([str(val) for val in bow]).encode('utf-8')) # The actual review\n",
    "\n",
    "    # The response is an HTTP response whose body contains the result of our inference\n",
    "    result = response['Body'].read().decode('utf-8')\n",
    "    \n",
    "    # Round the result so that our web app only gets '1' or '0' as a response.\n",
    "    result = round(float(result))\n",
    "\n",
    "    return {\n",
    "        'statusCode' : 200,\n",
    "        'headers' : { 'Content-Type' : 'text/plain', 'Access-Control-Allow-Origin' : '*' },\n",
    "        'body' : str(result)\n",
    "    }\n",
    "```"
   ]
  },
  {
   "cell_type": "markdown",
   "metadata": {},
   "source": [
    "Once you have copy and pasted the code above into the Lambda code editor, replace the `**ENDPOINT NAME HERE**` portion with the name of the endpoint that we deployed earlier. You can determine the name of the endpoint using the code cell below."
   ]
  },
  {
   "cell_type": "code",
   "execution_count": 85,
   "metadata": {},
   "outputs": [
    {
     "name": "stderr",
     "output_type": "stream",
     "text": [
      "The endpoint attribute has been renamed in sagemaker>=2.\n",
      "See: https://sagemaker.readthedocs.io/en/stable/v2.html for details.\n"
     ]
    },
    {
     "data": {
      "text/plain": [
       "'sagemaker-xgboost-2020-11-20-20-14-16-923'"
      ]
     },
     "execution_count": 85,
     "metadata": {},
     "output_type": "execute_result"
    }
   ],
   "source": [
    "xgb_predictor.endpoint"
   ]
  },
  {
   "cell_type": "markdown",
   "metadata": {},
   "source": [
    "In addition, you will need to copy the vocabulary dict to the appropriate place in the code at the beginning of the `lambda_handler` method. The cell below prints out the vocabulary dict in a way that is easy to copy and paste."
   ]
  },
  {
   "cell_type": "code",
   "execution_count": 86,
   "metadata": {},
   "outputs": [
    {
     "name": "stdout",
     "output_type": "stream",
     "text": [
      "{'think': 4452, 'the': 4426, 'team': 4378, 'behind': 447, 'this': 4457, 'film': 1716, 'did': 1241, 'very': 4723, 'good': 1937, 'job': 2405, 'with': 4911, 'they': 4442, 'had': 2003, 'only': 3110, 'and': 226, 'weeks': 4839, 'to': 4507, 'write': 4967, 'whole': 4873, 'thing': 4450, 'which': 4867, 'is': 2360, 'an': 223, 'achievement': 94, 'in': 2257, 'itself': 2371, 'although': 201, 'not': 3040, 'for': 1784, 'masses': 2755, 'as': 311, 'young': 4989, 'innocent': 2294, 'teenage': 4389, 'girl': 1909, 'killed': 2469, 'there': 4438, 'involved': 2346, 'story': 4207, 'that': 4424, 'heart': 2064, 'tragedy': 4551, 'more': 2904, 'deeply': 1156, 'you': 4986, 'get': 1899, 'sadness': 3770, 'feel': 1684, 'so': 4046, 'towards': 4540, 'because': 432, 'of': 3083, 'love': 2669, 'he': 2056, 'feels': 1687, 'but': 636, 'returned': 3666, 'one': 3107, 'my': 2951, 'favourite': 1673, 'british': 589, 'films': 1721, 'enjoyed': 1486, 'much': 2934, 'would': 4957, 'watch': 4811, 'again': 146, 'its': 2370, 'shame': 3918, 'well': 4843, 'heard': 2062, 'at': 331, 'all': 187, 'it': 2366, 'seems': 3864, 'theres': 4440, 'bit': 488, 'curse': 1086, 'out': 3141, 'when': 4862, 'comes': 891, 'gay': 1876, 'cinema': 816, 'namely': 2962, 'happy': 2032, 'endings': 1472, 'arent': 288, 'common': 906, 'beautiful': 428, 'tend': 4400, 'end': 1468, 'broken': 594, 'relationships': 3598, 'or': 3124, 'death': 1141, 'some': 4061, 'like': 2599, 'come': 886, 'just': 2437, 'period': 3236, 'creators': 1044, 'horrid': 2165, 'piece': 3272, 'nonsense': 3030, 'have': 2052, 'two': 4620, 'learn': 2550, 'about': 67, 'plot': 3309, 'direction': 1261, 'within': 4912, 'first': 1736, 'ten': 4399, 'minutes': 2859, 'found': 1811, 'myself': 2953, 'confused': 941, 'even': 1533, 'after': 143, 'glimpse': 1919, 'character': 758, 'having': 2054, 'little': 2624, 'was': 4805, 'randomly': 3515, 'together': 4511, 'without': 4913, 'slightest': 4028, 'attempt': 340, 'continuity': 972, 'no': 3020, 'real': 3547, 'way': 4820, 'tell': 4395, 'youre': 4992, 'viewing': 4740, 'present': 3374, 'sort': 4077, 'flashback': 1746, 'could': 1007, 'take': 4349, 'before': 440, 'became': 431, 'truly': 4597, 'stephen': 4176, 'new': 3003, 'york': 4985, 'times': 4497, 'called': 652, 'utterly': 4702, 'beer': 439, 'prior': 3400, 'far': 1653, 'from': 1840, 'due': 1382, 'praise': 3364, 'received': 3564, 'expected': 1577, 'something': 4066, 'worth': 4953, 'watching': 4815, 'sadly': 3769, 'lived': 2626, 'down': 1335, 'title': 4504, 'by': 642, 'movie': 2926, 'provided': 3449, 'resolution': 3649, 'whatsoever': 4861, 'might': 2835, 'add': 115, 'plain': 3286, 'see': 3855, 'writers': 4969, 'director': 1264, 'years': 4979, 'apart': 264, 'hardly': 2036, 'evidence': 1546, 'pulling': 3463, 'power': 3359, 'has': 2043, 'been': 438, 'mentioned': 2811, 'low': 2676, 'budget': 610, 'status': 4165, '13': 4, 'row': 3744, 'factor': 1622, 'limited': 2606, 'appeal': 271, 'said': 3774, 'however': 2183, 'merit': 2816, 'either': 1438, 'entertainment': 1500, 'per': 3223, 'true': 4596, 'most': 2909, 'basic': 406, 're': 3535, 'working': 4944, 'horror': 2168, 'case': 707, 'intrigue': 2333, 'made': 2697, 'worthwhile': 4955, 'impression': 2252, 'if': 2222, 'she': 3923, 'played': 3297, 'couple': 1016, 'seemingly': 3863, 'murders': 2943, 'house': 2178, 'main': 2707, 'suspect': 4327, 'script': 3834, 'better': 472, 'than': 4420, 'average': 362, 'production': 3419, 'overall': 3150, 'high': 2100, 'standard': 4144, 'fails': 1628, 'engage': 1479, 'viewer': 4738, 'particularly': 3195, 'key': 2458, 'moments': 2887, 'picked': 3266, 'dvd': 1391, 'up': 4683, 'mere': 2814, 'last': 2521, 'week': 4837, 'regular': 3592, 'video': 4733, 'store': 4204, 'cannot': 670, 'be': 418, 'acceptable': 81, 'price': 3389, 'dont': 1324, 'expect': 1575, 'extremely': 1610, 'rare': 3523, 'highly': 2105, 'overrated': 3156, 'on': 3105, 'expectations': 1576, 'paid': 3169, '50': 51, 'fan': 1648, 'cheesy': 781, '80s': 59, 'american': 213, 'european': 1530, 'zombie': 4997, 'told': 4513, 'going': 1931, 'great': 1964, 'cant': 671, 'how': 2181, 'wrong': 4973, 'thought': 4462, 'gonna': 1936, 'pretty': 3384, 'actually': 109, 'ive': 2372, 'almost': 193, 'scared': 3805, 'are': 285, 'boring': 543, 'acting': 99, 'forget': 1793, 'we': 4823, 'care': 684, 'incredibly': 2270, 'bad': 382, 'tried': 4584, 'your': 4991, 'attention': 345, 'weird': 4841, 'sexual': 3908, 'scenes': 3811, 'naked': 2959, 'girls': 1911, 'unfortunately': 4654, 'doesnt': 1309, 'help': 2079, 'why': 4878, 'atmosphere': 333, 'worst': 4952, 'flick': 1754, 'making': 2718, 'point': 3316, 'though': 4461, 'funny': 1852, 'amusing': 221, 'friends': 1837, 'lot': 2661, 'make': 2713, 'any': 256, 'effort': 1432, 'hands': 2020, 'many': 2732, 'movies': 2927, 'world': 4946, 'waste': 4808, 'time': 4495, 'funniest': 1851, 'scene': 3809, 'probably': 3407, 'our': 3139, 'their': 4431, 'idea': 2213, 'police': 3322, 'these': 4441, 'gangsters': 1869, 'million': 2847, 'theyre': 4445, 'villains': 4745, 'guns': 1998, 'bigger': 479, 'guess': 1989, 'kinda': 2477, 'decided': 1149, 'shoot': 3942, 'documentary': 1307, 'style': 4249, 'fake': 1635, 'interviews': 2330, 'seriously': 3892, 'what': 4858, 'guys': 2001, 'talking': 4360, 'were': 4848, 'armed': 293, 'rolled': 3729, 'okay': 3099, 'admit': 122, 'still': 4188, 'dangerous': 1110, 'line': 2610, 'fire': 1734, 'situation': 4008, 'advantage': 129, 'go': 1924, 'nuts': 3064, 'hell': 2077, 'solve': 4060, 'everything': 1544, 'anyway': 261, 'id': 2212, 'say': 3799, 'thats': 4425, 'long': 2644, 'them': 4432, 'surrounded': 4318, 'allowed': 190, 'away': 369, 'hit': 2122, 'absolutely': 72, 'nothing': 3047, 'then': 4436, 'buy': 640, 'themselves': 4435, 'yeah': 4977, 'cops': 993, 'hits': 2125, 'someone': 4064, 'bullet': 620, 'post': 3352, 'laugh': 2529, 'mr': 2929, 'took': 4523, 'kicked': 2461, 'football': 1783, 'didnt': 1242, 'goal': 1925, 'historical': 2119, 'subject': 4253, 'giant': 1905, 'cheese': 780, 'reel': 3581, 'roll': 3728, 'off': 3084, 'cliff': 847, 'couldnt': 1008, 'entire': 1502, 'says': 3801, 'rarely': 3524, 'walk': 4775, 'always': 203, 'give': 1912, 'chance': 747, 'minute': 2858, 'redemption': 3578, 'impossible': 2249, 'least': 2554, 'falling': 1639, 'rating': 3529, '10': 0, 'into': 2332, 'negative': 2991, 'numbers': 3061, 'bucks': 606, 'role': 3726, 'brings': 587, 'mind': 2849, 'bob': 524, 'right': 3696, 'running': 3756, 'country': 1014, 'same': 3778, 'runs': 3757, 'his': 2118, 'show': 3953, 'lots': 2662, 'through': 4477, 'turkey': 4604, 'kurt': 2499, 'thomas': 4458, 'baby': 376, 'faced': 1617, 'hero': 2088, 'displays': 1293, 'considerable': 950, 'skills': 4014, 'talent': 4354, 'few': 1700, 'spooky': 4128, 'village': 4743, 'mostly': 2910, 'mildly': 2840, 'impressive': 2253, 'martial': 2747, 'arts': 310, 'sequences': 3888, 'given': 1913, 'ninja': 3018, 'will': 4886, 'wont': 4932, 'guilty': 1995, 'laughing': 2533, 'magic': 2703, 'demons': 1178, 'named': 2961, 'mother': 2911, 'queen': 3485, 'who': 4871, 'lives': 2628, 'ice': 2210, 'wants': 4791, 'king': 2479, 'daughter': 1121, 'princess': 3397, 'kidnapped': 2466, 'warrior': 4802, 'must': 2950, 'protect': 3443, 'her': 2085, 'defeat': 1157, 'taking': 4352, 'over': 3148, 'kingdom': 2480, 'nicely': 3009, 'done': 1322, 'excellent': 1555, 'underrated': 4642, 'animated': 241, 'fantasy': 1652, 'epic': 1506, 'live': 2625, 'actors': 104, 'animation': 242, 'ralph': 3510, 'second': 3846, 'best': 469, 'pop': 3330, 'being': 448, 'number': 3060, 'heavy': 2070, 'third': 4455, 'fourth': 1813, 'certainly': 738, 'cool': 989, 'lord': 2652, 'rings': 3699, 'designed': 1203, 'artist': 307, 'frank': 1821, 'also': 199, 'recommend': 3571, 'lovers': 2673, 'everywhere': 1545, 'especially': 1520, 'disc': 1278, 'edition': 1422, 'blue': 518, 'underground': 4640, 'recommended': 3572, 'black': 493, 'dark': 1115, 'wizard': 4919, 'oz': 3160, 'rock': 3720, 'rule': 3753, 'metal': 2823, 'legend': 2564, 'fantastic': 1651, 'planet': 3289, 'valley': 4707, 'wind': 4893, 'bride': 577, 'sword': 4340, 'stone': 4197, 'army': 295, 'darkness': 1117, 'arthur': 305, 'return': 3665, '1980': 20, 'jason': 2383, 'secret': 3849, 'flight': 1757, 'disney': 1289, 'harry': 2039, 'wonderful': 4928, 'spend': 4105, 'too': 4522, 'hot': 2174, 'summer': 4291, 'weekend': 4838, 'sitting': 4007, 'air': 164, 'theater': 4427, 'light': 2595, 'hearted': 2065, 'comedy': 890, 'simplistic': 3985, 'dialogue': 1234, 'witty': 4917, 'characters': 760, 'likable': 2598, 'serial': 3889, 'killer': 2470, 'while': 4868, 'may': 2775, 'disappointed': 1273, 'realize': 3552, 'match': 2762, 'risk': 3704, 'proof': 3434, 'woody': 4936, 'allen': 188, 'fully': 1847, 'control': 977, 'us': 4690, 'grown': 1984, 'laughed': 2532, 'comedies': 889, 'dare': 1113, 'decade': 1144, 'never': 3001, 'impressed': 2251, 'managed': 2723, 'tone': 4517, 'sexy': 3911, 'image': 2233, 'jumped': 2430, 'spirited': 4114, 'woman': 4921, 'career': 686, 'devil': 1228, 'wears': 4832, 'interesting': 2325, 'superman': 4301, 'nice': 3008, 'lacks': 2505, 'quite': 3495, 'illogical': 2231, 'fact': 1621, 'proper': 3436, 'yet': 4984, 'somehow': 4063, 'manages': 2725, 'flow': 1762, 'isnt': 2362, 'anything': 260, 'half': 2007, 'where': 4864, 'akshay': 169, 'john': 2409, 'another': 250, 'enters': 1496, 'gets': 1900, 'slowly': 4032, 'funnier': 1850, 'jokes': 2415, 'does': 1308, 'wonder': 4926, 'hear': 2061, 'each': 1395, 'persons': 3244, 'voices': 4763, 'inside': 2297, 'rooms': 3736, 'climax': 849, 'confusion': 943, 'treated': 4573, 'stage': 4139, 'play': 3296, 'ends': 1474, 'music': 2946, 'part': 3193, 'now': 3054, 'become': 433, 'skin': 4015, 'completely': 922, 'everyone': 1542, 'else': 1448, 'throughout': 4478, 'hilarious': 2106, 'loud': 2664, 'awkward': 374, 'seen': 3865, 'parts': 3199, 'often': 3095, 'possible': 3350, 'enjoy': 1484, 'bang': 393, 'head': 2057, 'against': 147, 'wall': 4781, 'allow': 189, 'brain': 562, 'let': 2579, 'bunch': 623, 'die': 1243, 'once': 3106, 'mentally': 2809, 'retarded': 3663, 'perhaps': 3235, 'saving': 3797, 'grace': 1950, 'between': 475, 'driver': 1366, 'created': 1037, 'india': 2273, 'eventually': 1537, 'fall': 1637, 'enjoyable': 1485, 'reason': 3557, 'gave': 1875, 'ability': 65, 'actor': 103, 'kapoor': 2443, 'wasted': 4809, 'plus': 3311, 'union': 4661, 'international': 2326, '11': 2, 'got': 1944, 'himself': 2111, 'shot': 3949, 'reached': 3537, 'sky': 4017, 'bridge': 578, 'logic': 2638, 'throw': 4479, 'face': 1616, 'general': 1880, 'audience': 352, 'own': 3158, 'know': 2489, 'life': 2592, 'daughters': 1122, 'words': 4938, 'poetry': 3314, 'year': 4978, 'hotel': 2175, 'room': 3735, 'lost': 2660, 'sea': 3838, 'leaves': 2556, 'moving': 2928, 'machine': 2693, 'deal': 1135, 'im': 2232, 'latest': 2526, 'cats': 721, 'rats': 3531, 'mouse': 2919, 'hole': 2132, 'wisdom': 4902, 'mothers': 2912, 'yes': 4982, 'pleasure': 3306, 'mine': 2853, 'book': 535, 'keep': 2449, 'me': 2778, 'straight': 4210, 'do': 1302, 'bring': 585, 'radio': 3504, 'professional': 3421, 'remember': 3616, 'relationship': 3597, 'drawn': 1351, 'magnificent': 2705, 'day': 1129, 'biggest': 480, 'mystery': 2956, 'mars': 2746, 'screen': 3829, 'rather': 3528, 'ratings': 3530, 'disappointment': 1275, 'shows': 3960, 'big': 478, 'soon': 4074, 'read': 3543, 'beaten': 424, 'every': 1539, 'beat': 423, 'fox': 1814, 'course': 1019, 'abc': 63, 'hip': 2114, 'run': 3755, 'tv': 4610, 'choose': 799, 'proved': 3446, 'saved': 3795, 'clearly': 840, 'influence': 2286, 'sorry': 4076, 'cynical': 1093, 'other': 3135, 'explanation': 1590, 'potential': 3355, 'dead': 1132, 'failed': 1626, 'maybe': 2776, 'frankly': 1823, 'am': 204, 'loss': 2659, 'anyone': 259, 'debut': 1143, 'watched': 4813, 'really': 3556, 'fun': 1848, 'laughs': 2534, 'women': 4923, 'work': 4940, 'company': 910, 'boss': 546, 'jerk': 2395, 'giving': 1915, 'him': 2110, 'taste': 4369, 'try': 4600, 'respect': 3652, 'deserve': 1199, 'those': 4460, 'stars': 4155, 'plays': 3301, 'guy': 2000, 'evil': 1548, 'lovable': 2668, 'south': 4087, 'wit': 4908, 'shines': 3932, 'here': 2086, 'jane': 2380, 'fonda': 1777, 'lily': 2605, 'lines': 2612, 'several': 3905, 'gotta': 1946, 'likes': 2602, 'things': 4451, 'starts': 4159, 'coming': 896, 'less': 2575, 'cute': 1090, 'goes': 1930, 'picks': 3268, 'happen': 2026, 'wrap': 4963, 'quick': 3490, 'manner': 2729, 'havent': 2053, 'ones': 3108, 'mood': 2898, 'hard': 2033, 'meets': 2795, 'resort': 3650, 'terrorists': 4414, 'cop': 991, 'jack': 2373, 'stop': 4201, 'action': 100, 'ridiculous': 3693, 'three': 4469, 'fine': 1729, 'ian': 2209, 'christopher': 811, 'stupid': 4247, 'comments': 901, 'curiosity': 1082, 'song': 4071, 'listed': 2618, 'imdb': 2240, 'media': 2789, 'united': 4664, 'states': 4163, 'appreciated': 280, 'rough': 3741, 'road': 3709, 'adventure': 130, 'accidentally': 85, 'shooting': 3943, 'foot': 1781, 'countryside': 1015, 'chase': 769, 'complicated': 925, 'spike': 4111, 'boom': 537, 'box': 555, 'bear': 420, 'viewers': 4739, 'dislike': 1288, 'based': 404, 'solely': 4056, 'upon': 4684, 'frustration': 1843, 'added': 116, 'easy': 1410, 'youll': 4988, 'notice': 3048, 'man': 2721, 'contrast': 975, 'kid': 2464, 'attitude': 346, 'behavior': 446, 'actions': 101, 'can': 665, 'desperate': 1208, 'apparent': 269, 'escape': 1517, 'check': 777, 'until': 4680, 'quit': 3494, 'wondering': 4930, 'heck': 2071, 'want': 4788, 'pick': 3265, 'prison': 3401, 'continue': 969, 'friendship': 1838, 'performance': 3228, 'reasons': 3560, 'during': 1387, 'save': 3794, 'suppose': 4305, 'felt': 1692, 'older': 3101, 'brother': 598, 'break': 569, 'cinematography': 820, 'indeed': 2271, 'offer': 3087, 'instead': 2307, 'shots': 3950, 'men': 2805, 'landscapes': 2514, 'rain': 3506, 'vast': 4716, 'gray': 1963, 'tragic': 4552, 'circumstances': 822, 'score': 3822, 'unusual': 4681, 'use': 4692, 'public': 3460, 'smart': 4035, 'understandable': 4644, 'focused': 1767, 'personalities': 3241, 'determined': 1221, 'hunt': 2198, 'quiet': 3492, 'david': 1124, 'rest': 3657, 'seeking': 3859, 'minimal': 2855, 'dramatic': 1348, 'spent': 4108, 'tense': 4403, 'holding': 2130, 'breath': 573, 'enjoying': 1487, 'recently': 3567, 'dog': 1310, 'soldiers': 4054, 'devils': 1229, 'subtitles': 4259, 'offered': 3088, 'accents': 79, 'sometimes': 4067, 'fast': 1661, 'difficult': 1249, 'understand': 4643, 'storytelling': 4209, 'canadian': 667, 'adaptation': 113, 'margaret': 2735, 'novel': 3052, 'angel': 231, 'ellen': 1446, 'proud': 3444, 'wishes': 4906, 'remain': 3609, 'independent': 2272, 'placed': 3283, 'home': 2142, 'meaning': 2780, 'son': 4070, 'filmed': 1717, 'canada': 666, 'set': 3898, 'fictional': 1703, 'town': 4541, 'conventional': 979, 'interpretation': 2328, 'required': 3641, 'reading': 3544, 'school': 3813, 'english': 1483, 'classes': 834, 'century': 736, 'grave': 1962, 'serves': 3895, 'express': 1600, 'emotion': 1458, 'lifetime': 2594, 'humor': 2192, 'ego': 1435, 'driven': 1365, 'self': 3869, 'wealthy': 4827, 'father': 1666, 'alcoholic': 177, 'husband': 2204, 'both': 547, 'sons': 4073, 'days': 1130, 'pride': 3391, 'demon': 1177, 'led': 2558, 'fear': 1676, 'alone': 194, 'free': 1827, 'carried': 698, 'spread': 4133, 'touched': 4534, 'looks': 2649, 'back': 378, 'shown': 3959, 'flashbacks': 1747, 'voice': 4761, 'narration': 2965, 'begins': 444, 'dance': 1103, 'aunt': 355, 'future': 1856, 'previously': 3388, 'married': 2744, 'cole': 873, 'poor': 3328, 'whose': 4877, 'reputation': 3640, 'native': 2972, 'population': 3335, 'exceptional': 1558, 'feature': 1678, 'despite': 1211, 'cold': 872, 'attend': 344, 'wedding': 4836, 'marriage': 2743, 'leaving': 2557, 'money': 2888, 'poverty': 3357, 'social': 4049, 'activities': 102, 'prevent': 3385, 'upper': 4685, 'baker': 385, 'kevin': 2457, 'unable': 4631, 'need': 2987, 'joy': 2422, 'held': 2074, 'child': 789, 'morning': 2906, 'forced': 1787, 'appearances': 275, 'ever': 1538, 'speak': 4094, 'hearts': 2066, 'truth': 4599, 'desert': 1198, 'further': 1853, 'returns': 3668, 'farm': 1656, 'abandoned': 62, 'near': 2979, 'ocean': 3079, 'childhood': 790, 'wife': 4884, 'leo': 2571, 'luke': 2687, 'takes': 4351, 'interest': 2323, 'look': 2646, 'responsibility': 3655, 'mistakes': 2873, 'pulls': 3464, 'emotional': 1459, 'stops': 4203, 'develops': 1226, 'outcome': 3142, 'page': 3167, 'devoted': 1231, 'naive': 2958, 'girlfriend': 1910, 'final': 1722, 'energy': 1478, 'dr': 1340, 'jeffrey': 2391, 'earth': 1403, '100': 1, 'waiting': 4772, 'kill': 2468, 'used': 4693, 'train': 4556, 'kids': 2467, 'knows': 2493, 'tricks': 4583, 'confusing': 942, 'begin': 442, 'ending': 1471, 'doctor': 1304, 'violence': 4747, 'nor': 3032, 'find': 1726, 'fly': 1763, '20': 29, 'seeing': 3857, 'such': 4268, 'primary': 3394, 'obviously': 3072, 'superficial': 4298, 'shallow': 3917, 'elements': 1443, 'presented': 3376, 'simply': 3986, 'side': 3965, 'events': 1536, 'resulting': 3661, 'total': 4531, 'believe': 454, 'technical': 4381, 'quality': 3484, 'missing': 2869, 'important': 2247, 'usually': 4700, 'producer': 3415, 'alexander': 180, 'advice': 133, 'directors': 1266, 'alex': 179, 'william': 4887, 'cameron': 661, 'helped': 2080, 'pushing': 3479, 'six': 4010, 'top': 4525, 'critics': 1064, 'saw': 3798, 'thief': 4448, 'reach': 3536, 'place': 3282, 'closer': 856, 'reveals': 3673, 'russell': 3761, 'taylor': 4372, 'picture': 3269, 'enough': 1491, 'mark': 2739, 'war': 4792, 'around': 297, 'england': 1482, 'america': 212, 'winning': 4898, 'oscars': 3134, 'citizen': 824, 'kane': 2442, 'ways': 4822, 'admire': 121, 'special': 4097, 'effects': 1431, 'outstanding': 3147, 'reasonable': 3558, 'hold': 2129, 'among': 217, 'horse': 2170, 'constructed': 959, 'model': 2880, 'toy': 4542, 'single': 3996, 'horrific': 2166, 'looking': 2648, 'spider': 4109, 'flying': 1764, 'memorable': 2802, 'rex': 3683, 'appearing': 277, 'superb': 4296, 'moment': 2886, 'cinematic': 818, 'nearly': 2981, 'thousand': 4465, 'feet': 1688, 'tall': 4362, 'portrays': 3344, 'menacing': 2807, 'creature': 1045, 'adds': 119, 'element': 1442, 'danger': 1109, 'proceedings': 3410, 'hes': 2093, 'bottle': 550, 'justin': 2440, 'strange': 4211, 'accent': 78, 'stiff': 4187, '15': 7, 'old': 3100, 'cross': 1066, 'finds': 1728, 'blind': 506, 'turned': 4606, 'perspective': 3245, 'halfway': 2008, 'catch': 714, 'continues': 971, 'full': 1846, 'greater': 1965, 'incident': 2260, 'nature': 2975, 'small': 4033, 'songs': 4072, 'mild': 2839, 'wouldnt': 4958, 'musical': 2947, 'june': 2433, 'villain': 4744, 'somewhat': 4068, 'dated': 1119, 'melodrama': 2797, '40s': 49, 'youve': 4995, 'sat': 3786, 'hour': 2176, 'draws': 1352, 'previous': 3387, 'glad': 1916, 'wasnt': 4807, 'person': 3238, 'left': 2561, 'carradine': 695, 'twice': 4613, 'walking': 4779, 'shut': 3961, 'kind': 2476, 'odd': 3080, 'assumed': 329, 'since': 3990, 'rising': 3703, 'corpse': 999, 'sense': 3877, 'please': 3304, 'kept': 2456, 'ill': 2228, 'synopsis': 4344, 'investigate': 2342, 'ireland': 2352, 'jerry': 2396, 'filming': 1718, 'discover': 1279, 'body': 527, 'repeatedly': 3632, 'tries': 4585, 'push': 3477, 'open': 3112, 'succeeds': 4264, 'along': 195, 'witch': 4909, 'changed': 750, 'normal': 3033, 'appearance': 274, 'flesh': 1753, 'version': 4720, 'explained': 1587, 'considering': 952, 'slow': 4031, 'zombies': 4998, 'stay': 4166, 'form': 1798, 'business': 633, 'question': 3487, 'assume': 328, 'original': 3129, 'murder': 2939, 'victims': 4730, 'opening': 3114, 'credits': 1050, 'particular': 3194, 'crew': 1053, 'sees': 3866, 'transformation': 4560, 'exact': 1550, 'trees': 4577, 'leads': 2548, '1950s': 14, 'fashion': 1659, 'trip': 4588, 'faith': 1633, 'cat': 713, 'barely': 399, 'knew': 2486, 'meanwhile': 2785, 'easily': 1406, 'members': 2801, 'thinking': 4453, 'lover': 2672, 'night': 3013, 'lets': 2580, 'scream': 3826, 'bedroom': 437, 'wells': 4845, 'co': 867, 'star': 4150, 'charles': 764, 'whos': 4876, 'mirror': 2861, 'sweet': 4336, 'finally': 1724, 'decides': 1150, 'strikes': 4225, 'react': 3540, 'screams': 3828, 'ready': 3546, 'shoots': 3944, 'arms': 294, 'shower': 3957, 'string': 4227, 'neck': 2985, 'hanging': 2023, 'next': 3007, 'outside': 3146, 'later': 2525, 'discovers': 1281, 'bloody': 513, 'murdered': 2940, 'people': 3221, 'concerned': 932, 'exposed': 1598, 'ruined': 3751, 'throws': 4482, 'equipment': 1511, '2nd': 41, 'floor': 1759, 'montage': 2894, 'deaths': 1142, 'showing': 3958, 'profound': 3423, 'gotten': 1947, 'move': 2921, 'happens': 2029, 'floating': 1758, 'carry': 700, 'crush': 1072, 'apparently': 270, 'makes': 2716, 'everyones': 1543, 'anyways': 262, 'thanks': 4423, 'carries': 699, 'carol': 693, 'flash': 1745, 'fight': 1707, 'share': 3920, 'newly': 3004, 'deceased': 1146, 'earlier': 1399, 'finale': 1723, 'worry': 4950, 'cause': 723, 'family': 1645, 'include': 2261, 'fathers': 1667, 'coffee': 870, 'table': 4346, 'across': 96, 'ancient': 225, 'freak': 1824, 'eccentric': 1414, 'eyed': 1612, 'van': 4713, 'breaks': 571, 'camp': 662, 'site': 4005, 'decades': 1145, 'beloved': 461, 'winters': 4901, 'classics': 837, 'classic': 835, 'obvious': 3071, 'clue': 864, 'sad': 3767, 'state': 4160, 'genre': 1888, 'ridiculously': 3694, '17': 9, 'natural': 2973, 'writing': 4971, 'awful': 372, 'horrendous': 2162, 'unbelievable': 4634, 'abysmal': 76, 'casting': 711, 'worse': 4951, 'ages': 152, 'age': 148, 'teenagers': 4391, 'met': 2822, 'teenager': 4390, 'gore': 1941, 'lack': 2502, 'mention': 2810, 'honesty': 2148, 'forgettable': 1794, 'poorly': 3329, 'deserves': 1201, 'bottom': 551, 'dollar': 1314, 'bin': 483, '25': 40, 'went': 4847, '2005': 35, 'festival': 1697, 'kick': 2460, 'supposed': 4306, 'health': 2060, 'hope': 2155, 'plenty': 3307, 'simple': 3983, 'japan': 2381, 'sleeping': 4025, 'supposedly': 4307, 'ass': 323, 'buddy': 609, 'typical': 4623, 'violent': 4748, 'jealous': 2388, 'killing': 2472, 'boat': 523, 'spots': 4132, 'hiding': 2099, 'changes': 751, 'handle': 2018, 'pull': 3461, 'entertaining': 1499, 'massacre': 2754, 'playing': 3300, 'intelligent': 2314, 'trap': 4563, 'already': 197, 'perfect': 3224, 'cost': 1003, 'amazing': 209, 'unreal': 4676, 'photography': 3260, 'carrying': 701, 'tale': 4353, 'lead': 2545, 'masterful': 2758, 'rangers': 3517, 'definitely': 1162, 'television': 4394, 'plastic': 3294, 'history': 2121, 'remotely': 3623, 'dressing': 1359, 'multi': 2935, 'should': 3951, 'ashamed': 312, 'redeeming': 3577, 'value': 4709, 'today': 4508, 'garbage': 1870, 'contain': 962, 'spoilers': 4124, 'living': 2629, 'bold': 528, 'experiment': 1583, 'wanna': 4786, 'condition': 937, 'combination': 883, 'powerful': 3360, 'anti': 254, 'depression': 1189, 'psychotic': 3459, 'ward': 4793, 'patients': 3212, 'type': 4621, 'sleep': 4024, 'filled': 1715, 'sister': 4001, 'appeared': 276, 'trouble': 4592, 'keeping': 2450, 'eyes': 1613, 'speaks': 4096, 'beginning': 443, 'facial': 1619, 'expression': 1602, 'described': 1195, 'speaking': 4095, 'others': 3136, 'finish': 1732, 'dialog': 1232, 'depressing': 1188, 'yelling': 4980, 'crack': 1027, 'smile': 4036, 'result': 3660, 'complete': 921, 'boredom': 542, 'matters': 2770, 'amateurish': 207, 'avoid': 363, 'costs': 1004, 'similar': 3978, 'charm': 767, 'japanese': 2382, 'romance': 3732, 'vacation': 4704, 'amount': 219, 'amongst': 218, 'door': 1328, 'class': 833, 'charge': 761, 'put': 3480, 'richard': 3686, 'dawson': 1128, 'act': 97, 'call': 651, 'yourself': 4993, 'gods': 1928, 'gift': 1906, 'favorite': 1671, 'rich': 3685, 'brenda': 575, 'sake': 3775, 'possibly': 3351, 'imagine': 2238, 'pot': 3354, 'thriller': 4472, 'silence': 3974, 'heat': 2067, 'la': 2500, 'strangers': 4214, 'thrown': 4481, 'above': 68, 'large': 2517, 'degree': 1164, 'succeeded': 4263, 'delivering': 1171, 'thrills': 4475, 'pace': 3161, 'kudos': 2497, 'major': 2711, 'twist': 4617, 'delivered': 1170, 'besides': 468, 'law': 2538, 'younger': 4990, 'whether': 4866, 'shouldnt': 3952, 'lie': 2590, 'merely': 2815, 'cast': 710, 'roles': 3727, 'front': 1841, 'edge': 1418, 'seat': 3845, 'mediocre': 2791, 'sloppy': 4030, 'hollywood': 2137, 'sure': 4308, 'start': 4156, 'editor': 1423, 'weve': 4856, 'belong': 459, 'came': 656, 'message': 2819, 'talked': 4359, 'phone': 3255, 'ironic': 2355, 'rat': 3525, 'pack': 3165, 'culture': 1079, 'late': 2523, '50s': 52, 'early': 1400, 'mid': 2832, '60s': 54, '90s': 61, 'flop': 1760, 'critical': 1062, 'peter': 3247, 'rolling': 3730, 'savage': 3793, 'mixed': 2877, 'review': 3676, 'recall': 3562, 'greatest': 1966, 'stylish': 4251, 'moves': 2925, 'core': 995, 'performances': 3229, 'surprisingly': 4316, 'gangster': 1868, 'jeff': 2390, 'pre': 3365, 'blockbuster': 509, 'admittedly': 123, 'ben': 463, 'speech': 4102, 'gabriel': 1859, 'entertained': 1498, 'stanley': 4148, 'adam': 111, 'screenplay': 3831, 'pieces': 3273, 'purpose': 3474, 'gene': 1879, 'widmark': 4882, 'edward': 1426, 'albert': 174, 'mickey': 2831, 'horrible': 2163, 'accept': 80, 'domino': 1319, 'view': 4736, 'misses': 2868, 'wide': 4880, 'surprise': 4312, 'produced': 3414, 'studio': 4240, 'distribution': 1298, 'lena': 2568, 'virtually': 4751, 'majority': 2712, 'bother': 548, 'affect': 136, 'individuals': 2278, 'todays': 4509, 'market': 2740, 'record': 3573, 'angela': 232, 'danny': 1112, 'glover': 1923, 'deserved': 1200, 'cinematographer': 819, 'blame': 499, 'academy': 77, 'challenging': 744, 'provoking': 3452, 'requires': 3642, 'meet': 2793, 'terms': 4406, 'mindless': 2851, 'dress': 1357, 'breathtaking': 574, 'remains': 3611, 'human': 2188, 'rights': 3697, 'attack': 337, 'largely': 2518, 'silent': 3975, 'focus': 1766, 'theyve': 4446, 'brave': 567, 'improved': 2255, 'brutally': 604, 'emotionally': 1460, '2000': 30, 'yesterday': 4983, 'dutch': 1389, 'backgrounds': 381, 'clear': 839, 'step': 4175, 'germans': 1897, 'suddenly': 4273, 'series': 3890, 'shocking': 3940, 'footage': 1782, 'agree': 155, 'minimum': 2856, 'children': 792, 'material': 2766, 'purely': 3472, 'meant': 2784, 'improve': 2254, 'impact': 2244, 'ordinary': 3128, 'shock': 3938, 'cheap': 774, 'unbelievably': 4635, 'trying': 4601, 'inspiring': 2302, 'tortured': 4530, 'images': 2235, 'angry': 238, 'certain': 737, 'strong': 4229, 'argument': 291, 'talented': 4355, 'captures': 678, 'underlying': 4641, 'themes': 4434, '2003': 33, 'dub': 1378, 'anime': 243, 'language': 2516, 'vhs': 4725, 'source': 4086, 'tells': 4397, 'boy': 557, 'voiced': 4762, 'james': 2378, 'der': 1191, 'growing': 1983, 'anna': 245, 'literally': 2622, 'drops': 1372, 'sinister': 3998, 'government': 1948, 'agent': 150, 'colonel': 876, 'interested': 2324, 'magical': 2704, 'lively': 2627, 'gang': 1867, 'aging': 153, 'revolves': 3682, 'reveal': 3670, 'location': 2635, 'city': 825, 'treasure': 4571, 'scientific': 3817, 'knowledge': 2491, 'hidden': 2096, 'fairy': 1632, 'setting': 3900, 'exactly': 1551, 'wow': 4962, 'morality': 2903, 'design': 1202, 'twenty': 4612, 'revolutionary': 3681, 'machines': 2694, 'sorts': 4078, 'instantly': 2306, 'somewhere': 4069, 'alongside': 196, 'sheer': 3925, 'brilliance': 582, 'execution': 1566, 'garden': 1872, 'heaven': 2068, 'lies': 2591, 'beautifully': 429, 'speed': 4103, 'chases': 771, 'tiny': 4500, 'ships': 3935, 'water': 4816, 'scope': 3821, 'cgi': 740, 'beyond': 476, 'frame': 1815, 'believing': 457, 'contains': 964, 'exciting': 1563, 'robot': 3717, 'fell': 1690, 'jaws': 2385, 'destruction': 1216, 'sight': 3969, 'rescue': 3643, 'sequence': 3887, 'masterpiece': 2759, 'timing': 4498, 'camera': 659, 'angles': 237, 'knowing': 2490, 'helps': 2082, 'joe': 2407, 'beauty': 430, 'innocence': 2293, 'creepy': 1052, 'bizarre': 492, 'recorded': 3574, 'release': 3602, 'improvement': 2256, 'adding': 117, 'matches': 2764, 'visuals': 4759, 'perfectly': 3226, 'sound': 4081, 'vision': 4754, 'fond': 1776, 'explains': 1589, 'tad': 4347, 'shocked': 3939, 'closely': 855, 'matched': 2763, 'spot': 4131, 'liked': 2600, 'listening': 2620, 'access': 83, 'faithful': 1634, 'introduces': 2338, 'success': 4265, 'recent': 3566, 'familiar': 1643, 'master': 2757, 'hitting': 2126, 'pay': 3216, 'able': 66, 'filmmakers': 1720, 'episode': 1507, 'reality': 3551, 'sends': 3876, 'zone': 4999, 'sent': 3880, 'survivor': 4324, 'wins': 4899, 'fame': 1642, 'fortune': 1806, 'winds': 4895, 'none': 3028, 'seem': 3861, 'killers': 2471, 'portraying': 3343, 'popular': 3333, 'modern': 2882, 'types': 4622, 'actual': 108, 'follows': 1775, 'lights': 2597, 'constantly': 958, 'hide': 2097, 'cuts': 1091, 'fans': 1650, 'gordon': 1940, 'lewis': 2586, 'elsewhere': 1449, 'picking': 3267, 'usual': 4699, 'blood': 512, 'precious': 3366, 'bargain': 400, 'basement': 405, 'change': 749, 'oddly': 3081, 'acted': 98, 'mitchell': 2875, 'keeps': 2451, 'decent': 1147, 'terrific': 4409, 'convincing': 985, 'marry': 2745, 'robert': 3713, 'ryan': 3765, 'asks': 319, 'jumps': 2432, 'justice': 2438, 'peace': 3219, 'signed': 3971, 'becomes': 434, 'doubt': 1332, 'falls': 1640, 'suspense': 4330, 'amazingly': 210, 'captivating': 675, 'conclusion': 936, 'force': 1786, 'turns': 4609, 'field': 1704, 'unexpected': 4650, 'information': 2288, 'spite': 4117, 'excuse': 1564, 'white': 4870, 'lisa': 2616, 'susan': 4326, 'sandra': 3782, 'karen': 2444, 'brilliant': 583, 'whats': 4860, 'eat': 1411, 'candy': 668, 'mountains': 2918, 'silly': 3976, 'liners': 2611, 'jewish': 2401, 'references': 3583, 'thru': 4483, 'serious': 3891, 'taken': 4350, 'atrocious': 335, 'subplot': 4255, 'involving': 2349, 'kim': 2475, 'noticed': 3049, 'al': 170, 'abilities': 64, 'downhill': 1336, 'troubles': 4594, 'damage': 1099, 'needs': 2990, 'fix': 1744, 'ok': 3098, 'watchable': 4812, 'unwatchable': 4682, 'manage': 2722, 'sit': 4003, 'written': 4972, 'pulled': 3462, 'dull': 1384, 'heads': 2059, 'embarrassment': 1455, 'folk': 1770, 'seventies': 3904, 'san': 3780, 'francisco': 1819, 'drug': 1373, 'christ': 807, 'acid': 95, 'dream': 1354, 'cut': 1089, 'racial': 3501, 'gender': 1878, 'regardless': 3590, 'financial': 1725, 'moral': 2902, 'tedious': 4387, 'example': 1553, 'pretentious': 3383, 'handed': 2016, 'art': 304, 'passed': 3202, '70s': 56, 'wreck': 4965, 'endless': 1473, 'motion': 2913, 'absurd': 73, 'jesus': 2399, 'dolls': 1316, 'crappy': 1032, 'parents': 3188, 'bed': 436, 'fascinating': 1658, 'grade': 1951, 'happening': 2028, 'constant': 957, 'edited': 1420, 'happened': 2027, 'painted': 3174, 'level': 2584, 'street': 4216, 'annoying': 249, 'maker': 2714, 'dropping': 1371, 'hate': 2046, 'laughter': 2535, 'blond': 510, 'space': 4090, 'totally': 4532, 'insane': 2296, 'mad': 2696, 'overacting': 3149, 'incredible': 2269, 'terrible': 4407, 'figure': 1711, 'except': 1556, 'pays': 3218, 'trust': 4598, 'disappointing': 1274, 'bore': 540, 'disappoint': 1272, 'friend': 1835, 'hall': 2009, 'useless': 4695, 'confidence': 938, 'ideas': 2215, 'mountain': 2917, 'escapes': 1519, 'leave': 2555, 'attacked': 338, 'witches': 4910, 'consistent': 953, 'etc': 1527, 'numerous': 3062, 'sacrifice': 3766, 'turning': 4608, 'atmospheric': 334, 'print': 3399, 'seconds': 3848, 'caused': 724, 'scottish': 3825, 'andy': 230, 'rocks': 3722, 'web': 4833, 'corner': 996, 'intriguing': 2335, 'lucky': 2683, 'screening': 3830, 'accompanied': 86, 'soundtrack': 4085, 'fred': 1825, 'snake': 4042, 'tree': 4576, 'teeth': 4393, 'bare': 398, 'remarkable': 3613, 'capturing': 679, 'glory': 1922, 'shine': 3931, 'hours': 2177, 'provides': 3450, 'understanding': 4645, 'humorous': 2193, 'struggles': 4235, 'hand': 2015, 'increasingly': 2268, 'pass': 3201, 'artists': 309, 'capture': 676, 'creation': 1040, 'striking': 4226, 'works': 4945, 'widely': 4881, 'covers': 1024, 'territory': 4411, 'north': 3036, 'europe': 1529, 'presentation': 3375, 'feeling': 1685, 'struggle': 4234, 'brief': 579, 'introduced': 2337, 'nevertheless': 3002, 'snow': 4045, 'dust': 1388, 'honestly': 2147, 'mean': 2779, 'industry': 2280, 'intrigued': 2334, 'vampires': 4712, 'vs': 4767, 'wish': 4904, 'hadnt': 2004, 'fighting': 1709, 'ask': 316, 'souls': 4080, 'project': 3427, 'surely': 4309, 'belief': 451, 'rank': 3518, 'national': 2970, 'intelligence': 2313, 'assault': 324, 'audiences': 353, 'holes': 2133, 'drive': 1363, '16': 8, 'nicholas': 3010, 'cage': 645, 'americans': 214, 'insulting': 2310, 'wanted': 4789, 'season': 3843, 'consider': 949, 'bet': 470, 'released': 3603, 'con': 928, 'charlie': 765, 'feed': 1683, 'wood': 4933, 'visual': 4757, 'opens': 3115, 'april': 284, 'group': 1980, 'students': 4239, 'marty': 2749, 'follow': 1772, 'par': 3184, 'slasher': 4020, 'burned': 626, 'forward': 1808, 'five': 1743, 'student': 4238, 'reunion': 3669, 'mysterious': 2955, 'mask': 2752, 'murderer': 2941, 'ludicrous': 2685, 'holmes': 2139, 'identity': 2217, 'revealed': 3671, 'using': 4698, 'rage': 3505, 'laws': 2540, 'order': 3126, 'revenge': 3675, 'scenario': 3808, 'turn': 4605, 'former': 1800, 'haunted': 2050, 'ghosts': 1903, 'pushed': 3478, 'disjointed': 1287, 'hospital': 2172, 'nurse': 3063, 'tired': 4501, 'suffers': 4278, 'originality': 3130, 'convoluted': 987, 'pointed': 3317, 'writer': 4968, 'technically': 4382, 'color': 877, 'sub': 4252, 'problem': 3408, 'portray': 3340, 'unintentionally': 4659, 'laughable': 2530, 'months': 2897, 'ago': 154, 'poster': 3353, 'hey': 2095, 'agreed': 156, 'intentions': 2321, 'strength': 4219, 'captain': 674, 'kate': 2446, 'hugh': 2186, 'tough': 4537, 'spends': 4107, 'bothered': 549, 'immediately': 2242, 'names': 2963, 'brothers': 599, 'gags': 1862, 'involve': 2345, 'pain': 3170, 'toward': 4539, 'rip': 3700, 'harder': 2035, 'ashley': 313, 'ruby': 3749, 'understated': 4646, 'close': 853, 'appreciate': 279, 'kiss': 2483, 'office': 3091, 'plane': 3288, 'choice': 797, 'oh': 3096, 'remembered': 3617, 'vaguely': 4706, 'trailer': 4554, 'forgot': 1796, 'expecting': 1578, 'ride': 3692, 'excited': 1561, 'grow': 1982, 'gradually': 1952, 'reaching': 3539, 'remaining': 3610, 'personal': 3240, 'stand': 4143, 'vicious': 4728, 'motives': 2916, 'guessing': 1991, 'safe': 3771, 'directing': 1260, 'experience': 1580, 'reminds': 3620, 'moved': 2922, 'famous': 1647, 'game': 1864, 'rules': 3754, 'standing': 4146, 'ie': 2221, 'blank': 501, 'dies': 1245, 'points': 3319, 'popcorn': 3331, 'bought': 552, 'shop': 3945, 'inspiration': 2300, 'badly': 383, 'remake': 3612, 'word': 4937, 'womans': 4922, 'pathetic': 3210, 'blow': 514, 'getting': 1901, 'clothes': 860, 'asked': 317, 'amateur': 206, 'sold': 4052, 'product': 3418, 'ugly': 4625, 'describe': 1194, 'noted': 3045, 'bruce': 602, 'renting': 3629, 'note': 3044, 'link': 2613, 'currently': 1085, 'different': 1248, 'name': 2960, 'patrick': 3213, 'returning': 3667, 'jones': 2418, 'commercials': 903, 'dropped': 1370, 'altogether': 202, 'suffered': 4276, 'wanting': 4790, 'forty': 1807, 'gone': 1935, 'comic': 893, 'books': 536, 'superhero': 4299, 'stiller': 4189, 'macy': 2695, 'hank': 2024, 'paul': 3214, 'aspects': 322, 'batman': 413, 'questions': 3489, 'wayne': 4821, 'jobs': 2406, 'heroes': 2089, 'relate': 3593, 'visually': 4758, 'franchise': 1817, 'bound': 553, 'movement': 2923, 'cars': 702, 'smooth': 4041, 'lovely': 2671, 'unpredictable': 4675, 'holds': 2131, 'bitter': 491, 'stilted': 4190, 'accepted': 82, 'france': 1816, 'idiots': 2220, 'suicide': 4283, 'fairly': 1631, 'prostitute': 3440, 'busy': 635, 'remarkably': 3614, 'photographed': 3258, 'viewings': 4741, 'exceptionally': 1559, 'hopes': 2159, 'countless': 1012, 'dozen': 1338, 'collection': 874, 'concerning': 933, 'cultural': 1078, 'stereotypes': 4179, 'drama': 1346, 'quote': 3496, 'known': 2492, 'adapted': 114, 'political': 3324, 'views': 4742, 'stale': 4141, 'male': 2719, 'blacks': 494, 'foreign': 1790, 'fresh': 1833, 'past': 3207, 'detailed': 1218, 'reviews': 3679, 'available': 361, 'online': 3109, 'rate': 3526, 'manipulative': 2727, 'reviewers': 3678, 'frequently': 1832, 'stunning': 4244, 'regard': 3588, 'dealing': 1136, 'issues': 2365, 'insight': 2298, 'means': 2783, 'rent': 3626, 'standards': 4145, 'higher': 2101, 'comment': 898, 'spectacular': 4101, 'latter': 2528, 'sequel': 3885, 'content': 966, 'terror': 4412, 'military': 2844, 'code': 869, 'opportunity': 3121, 'regarding': 3589, 'realism': 3549, '1990s': 25, 'ground': 1979, 'button': 639, 'gas': 1874, 'kills': 2474, 'nobody': 3022, 'levels': 2585, 'threat': 4467, 'task': 4368, 'believes': 456, 'humanity': 2189, 'expert': 1585, 'displayed': 1292, 'entry': 1504, 'excitement': 1562, 'bourne': 554, 'titles': 4506, 'ensues': 1493, 'opportunities': 3120, 'matter': 2769, 'miss': 2866, 'create': 1036, 'intentionally': 2320, 'smith': 4038, 'worked': 4941, 'detective': 1220, 'stories': 4205, 'africa': 141, 'exist': 1569, 'successfully': 4267, 'scott': 3824, 'singer': 3993, 'actress': 105, 'represent': 3637, 'land': 2511, 'appropriate': 283, 'african': 142, 'shes': 3930, 'rose': 3739, 'local': 2634, 'entirely': 1503, 'fail': 1625, 'soft': 4051, 'principal': 3398, 'presence': 3373, 'intense': 2316, 'shining': 3933, 'laid': 2508, 'wrote': 4974, 'refuses': 3587, 'experiments': 1584, 'border': 539, 'sentence': 3881, 'therefore': 4439, 'computer': 927, 'hair': 2005, 'makeup': 2717, 'surprised': 4313, 'card': 681, 'upset': 4687, 'non': 3027, 'threatening': 4468, 'reads': 3545, 'travesty': 4570, 'surprising': 4315, 'sucks': 4271, 'clues': 865, 'touch': 4533, 'soul': 4079, 'thoughts': 4464, 'ultimate': 4627, 'seemed': 3862, 'feelings': 1686, 'touching': 4536, 'entertain': 1497, 'christmas': 810, 'peoples': 3222, 'failure': 1629, 'sets': 3899, 'missed': 2867, 'cash': 709, 'formula': 1802, 'lazy': 2543, 'narrator': 2967, 'jean': 2389, 'americas': 215, 'false': 1641, 'warm': 4794, 'parody': 3192, 'whatever': 4859, 'slapstick': 4019, 'dry': 1377, 'insult': 2309, 'clever': 841, 'liking': 2604, 'central': 735, 'empty': 1465, 'mistake': 2871, 'zero': 4996, 'imagination': 2236, 'crap': 1031, 'saying': 3800, 'evening': 1534, 'news': 3005, 'hoping': 2160, 'demented': 1176, 'chain': 741, 'smoking': 4040, 'teens': 4392, 'covered': 1023, 'faces': 1618, 'base': 402, 'exploitation': 1592, 'anywhere': 263, 'explore': 1594, 'artistic': 308, 'directed': 1259, 'bergman': 466, 'lynch': 2691, 'del': 1165, 'wannabe': 4787, 'miike': 2837, 'equal': 1509, 'slap': 4018, 'afternoon': 144, 'onto': 3111, 'hideous': 2098, 'crimes': 1056, 'wasting': 4810, 'talents': 4356, 'deeper': 1155, '40': 48, 'practically': 3362, 'pointless': 3318, 'imaginative': 2237, 'daily': 1097, 'whom': 4875, 'doing': 1312, 'started': 4157, 'gruesome': 1986, 'aint': 163, 'genuine': 1891, 'consequences': 947, 'supporting': 4304, 'resident': 3647, 'superior': 4300, 'michael': 2829, 'kitchen': 2485, 'trash': 4565, 'category': 718, 'sex': 3907, 'green': 1971, 'doors': 1329, 'steals': 4172, 'range': 3516, 'secretary': 3850, 'mistress': 2874, 'looked': 2647, 'sidekick': 3966, 'buddies': 608, 'thank': 4421, 'letting': 2583, 'paying': 3217, 'caught': 722, 'hysterical': 2208, 'indie': 2276, 'details': 1219, 'lately': 2524, 'distracting': 1297, 'context': 968, 'becoming': 435, 'minor': 2857, 'accident': 84, 'appears': 278, 'unforgettable': 4652, 'spending': 4106, 'disturbing': 1300, 'desperation': 1210, 'fx': 1858, 'imagery': 2234, 'background': 380, 'rush': 3759, 'believable': 453, 'random': 3514, 'car': 680, 'repetitive': 3633, 'screaming': 3827, 'unpleasant': 4674, 'followed': 1773, 'needed': 2988, 'stronger': 4230, 'cringe': 1059, 'depth': 1190, 'encounter': 1466, 'drew': 1360, 'helping': 2081, 'jennifer': 2392, 'draw': 1349, 'authentic': 358, 'chemistry': 782, 'scripts': 3836, 'intensity': 2317, 'motivation': 2914, 'existent': 1572, 'closing': 859, 'overdone': 3152, 'stick': 4185, 'slight': 4027, 'resources': 3651, 'spirit': 4113, 'genuinely': 1892, 'display': 1291, 'god': 1926, 'portrayed': 3342, 'disease': 1285, 'realizes': 3554, 'loves': 2674, 'parent': 3187, 'dear': 1140, 'unless': 4669, 'talk': 4358, 'somebody': 4062, 'lee': 2559, 'cable': 644, 'channels': 754, 'usa': 4691, 'network': 3000, 'lees': 2560, 'eric': 1514, 'nick': 3012, 'sam': 3777, 'chose': 804, 'graphics': 1959, 'reasonably': 3559, 'extended': 1604, 'breaking': 570, 'riding': 3695, 'captured': 677, 'streets': 4217, 'disbelief': 1277, 'shape': 3919, 'iron': 2354, 'mans': 2730, 'dogs': 1311, 'convince': 983, 'environment': 1505, 'heres': 2087, 'generated': 1882, 'lighting': 2596, 'era': 1513, 'ruin': 3750, 'thoroughly': 4459, 'dimensional': 1253, 'unconvincing': 4638, 'credit': 1049, 'tim': 4494, 'blake': 498, 'nelson': 2997, 'slightly': 4029, 'paced': 3162, 'phony': 3256, 'monster': 2892, 'likely': 2601, 'realistic': 3550, 'intended': 2315, 'associated': 327, 'cameras': 660, 'originally': 3131, 'pictures': 3270, 'hasnt': 2044, 'singing': 3995, 'twisted': 4618, 'situations': 4009, 'provide': 3448, 'tension': 4404, 'highlight': 2103, 'stupidity': 4248, 'mixture': 2878, 'normally': 3034, 'duty': 1390, 'exception': 1557, 'inevitable': 2282, 'conflict': 939, 'formulaic': 1803, 'grew': 1972, 'tour': 4538, 'episodes': 1508, 'hill': 2108, 'connect': 944, 'deep': 1154, 'hong': 2149, 'kong': 2494, 'weak': 4824, 'bits': 490, 'antics': 255, 'packed': 3166, 'gun': 1996, 'awesome': 371, 'essence': 1521, 'suitable': 4285, 'persona': 3239, 'rise': 3702, 'developed': 1223, 'decision': 1151, 'nightmare': 3014, 'infamous': 2284, 'ex': 1549, 'cia': 814, 'partner': 3198, 'chest': 784, 'super': 4295, 'paint': 3173, 'fault': 1668, 'plan': 3287, 'object': 3066, 'wet': 4855, 'vote': 4766, 'banned': 395, 'britain': 588, 'initially': 2291, '2001': 31, 'college': 875, 'four': 1812, 'killings': 2473, 'gory': 1943, 'nasty': 2968, 'quickly': 3491, 'fest': 1696, 'nostalgia': 3038, 'system': 4345, 'ran': 3513, 'loose': 2650, 'science': 3816, 'research': 3644, 'crocodile': 1065, 'mill': 2845, 'hat': 2045, 'knife': 2487, 'hired': 2117, 'executive': 1567, 'stereotypical': 4180, 'corrupt': 1001, 'involvement': 2347, 'beast': 422, 'sheriff': 3929, 'animal': 239, 'soap': 4047, 'opera': 3116, 'matthew': 2772, 'victim': 4729, 'skill': 4013, 'mighty': 2836, 'food': 1778, 'variety': 4714, 'roger': 3724, 'productions': 3420, 'monsters': 2893, 'essentially': 1523, 'legs': 2566, 'hunter': 2199, 'imitation': 2241, 'short': 3946, 'novels': 3053, 'horribly': 2164, 'clumsy': 866, 'expressed': 1601, 'george': 1893, 'rochester': 3719, 'highlights': 2104, 'eyre': 1614, 'scenery': 3810, 'passion': 3205, 'suggest': 4280, '1983': 22, 'bbc': 417, 'timothy': 4499, 'dalton': 1098, 'pitt': 3280, 'accused': 91, 'cheated': 775, 'warning': 4800, 'witnessed': 4915, 'priest': 3392, 'investigation': 2343, 'judge': 2424, 'member': 2800, 'wise': 4903, 'rented': 3628, 'forgotten': 1797, 'gem': 1877, 'aforementioned': 139, 'idiot': 2218, 'list': 2617, 'unnecessary': 4672, 'sequels': 3886, 'suits': 4287, 'crazy': 1035, 'beats': 426, 'saves': 3796, 'granted': 1957, 'cameo': 657, 'mary': 2751, 'shelley': 3928, 'drink': 1361, 'smoke': 4039, 'qualities': 3483, 'program': 3424, 'otherwise': 3137, 'religious': 3608, 'brian': 576, 'discovered': 1280, 'topic': 4526, 'religion': 3607, 'abusive': 75, 'christian': 808, 'motivations': 2915, 'honest': 2146, 'aware': 368, 'current': 1084, 'youth': 4994, 'walked': 4776, 'tight': 4492, 'suggests': 4282, 'bonus': 534, 'harris': 2038, 'albeit': 173, 'hence': 2083, 'spoiler': 4123, 'necessary': 2984, 'concert': 935, 'dialogues': 1235, 'includes': 2263, 'addition': 118, 'greek': 1970, 'spoken': 4126, 'attractive': 351, 'hearing': 2063, 'various': 4715, 'under': 4639, 'italian': 2367, 'starting': 4158, 'presumably': 3380, 'gold': 1932, 'property': 3438, 'march': 2734, 'de': 1131, 'mexican': 2826, 'french': 1830, 'satire': 3788, 'urban': 4688, 'crime': 1055, 'mexico': 2827, 'crude': 1069, 'portrait': 3339, 'connection': 946, 'guts': 1999, 'suspects': 4328, 'twists': 4619, 'security': 3854, 'anymore': 258, 'following': 1774, 'dreams': 1355, 'holly': 2136, 'fatal': 1664, 'sounds': 4084, 'strictly': 4223, 'cutting': 1092, 'club': 863, 'uses': 4697, 'nowhere': 3056, 'producers': 3416, 'hire': 2116, 'copy': 994, 'highest': 2102, 'ron': 3734, 'gives': 1914, 'president': 3378, 'virus': 4752, 'stuck': 4237, 'bank': 394, 'building': 615, 'agents': 151, 'wolf': 4920, 'female': 1693, 'forever': 1792, 'bland': 500, 'died': 1244, 'sympathy': 4343, 'basically': 407, 'appear': 273, 'richardson': 3688, 'raymond': 3534, 'effective': 1429, 'ray': 3533, 'area': 286, 'mrs': 2930, 'creatures': 1046, 'cry': 1073, 'grinch': 1975, 'stole': 4194, 'subtle': 4260, 'adult': 125, 'whereas': 4865, 'timeless': 4496, 'mario': 2738, 'mgm': 2828, 'lessons': 2578, 'blown': 516, 'steven': 4182, 'spielberg': 4110, 'wrapped': 4964, 'finest': 1730, 'folks': 1771, 'pleasant': 3302, 'predictable': 3367, 'discovery': 1282, 'vehicle': 4718, 'falk': 1636, 'endearing': 1469, 'distant': 1295, 'seven': 3903, 'panic': 3181, 'manhattan': 2726, 'bond': 532, 'elizabeth': 1445, 'rachel': 3500, 'dan': 1102, 'ultimately': 4628, 'copies': 992, 'offers': 3090, 'opinion': 3118, 'longer': 2645, 'track': 4544, 'via': 4726, 'bay': 416, 'author': 359, 'alan': 171, 'scale': 3802, 'individual': 2277, 'comparison': 914, 'sudden': 4272, 'cases': 708, 'clint': 850, 'eastwood': 1409, 'dirty': 1268, 'un': 4630, 'department': 1182, 'robbery': 3711, 'pulp': 3465, 'fiction': 1702, 'pursuit': 3476, 'bus': 631, 'aside': 315, 'enter': 1494, 'shy': 3962, 'cruel': 1070, 'rape': 3521, 'storyline': 4208, 'facts': 1624, 'defined': 1160, 'trademark': 4548, 'park': 3190, 'simplicity': 3984, 'chinese': 796, 'tiger': 4491, 'dragon': 1344, 'unique': 4662, 'genres': 1889, 'traditional': 4550, 'unrealistic': 4677, 'jumping': 2431, 'regret': 3591, 'creative': 1041, 'wait': 4770, 'gripping': 1976, 'count': 1010, 'concept': 930, 'attempts': 343, 'combine': 884, 'endure': 1475, 'premise': 3370, 'goldberg': 1933, 'alas': 172, 'hype': 2207, 'red': 3576, 'extent': 1605, 'le': 2544, 'couples': 1017, '12': 3, 'approach': 282, 'theme': 4433, 'buck': 605, 'ticket': 4487, 'locked': 2637, 'theatre': 4429, 'khan': 2459, 'whoever': 4872, 'opposite': 3123, 'existence': 1571, 'calls': 654, 'extra': 1606, 'trade': 4547, 'nicholson': 3011, 'romantic': 3733, 'putting': 3482, 'flaw': 1749, 'flicks': 1755, 'sadistic': 3768, 'bollywood': 530, 'considered': 951, 'pie': 3271, 'screens': 3832, 'rated': 3527, 'airplane': 166, 'stopped': 4202, '30': 42, 'useful': 4694, 'huge': 2185, 'community': 908, 'discuss': 1283, 'figured': 1712, 'howard': 2182, 'gary': 1873, 'andrew': 228, 'wilson': 4891, 'favorites': 1672, 'church': 813, 'basketball': 409, 'joke': 2414, 'flat': 1748, 'gag': 1861, 'ignored': 2225, 'development': 1225, 'nine': 3017, 'writes': 4970, 'extras': 1608, 'washington': 4806, 'avoided': 364, 'contact': 961, 'waited': 4771, 'ripped': 3701, 'painful': 3171, 'specific': 4099, 'problems': 3409, 'piano': 3264, 'player': 3298, 'lame': 2510, 'uninteresting': 4660, 'subplots': 4256, 'promising': 3433, 'caring': 691, 'ears': 1402, 'spare': 4093, 'hurt': 2202, 'everybody': 1540, 'brought': 600, 'eastern': 1408, 'promises': 3432, 'fits': 1741, 'description': 1197, 'creates': 1038, 'kelly': 2452, 'tribute': 4581, 'fellow': 1691, 'veteran': 4724, 'sidney': 3968, 'lumet': 2688, 'masters': 2761, 'painting': 3175, 'mouth': 2920, 'carter': 703, '2007': 37, 'official': 3094, 'illegal': 2229, 'dvds': 1392, 'popularity': 3334, 'theaters': 4428, 'bringing': 586, 'unfolds': 4651, 'vivid': 4760, 'colors': 879, 'chosen': 805, 'drag': 1342, 'delightful': 1168, 'hundreds': 2196, 'stomach': 4196, 'werent': 4849, 'letter': 2581, 'hopefully': 2157, 'jackie': 2374, 'mall': 2720, 'stunts': 4246, 'influenced': 2287, 'nowadays': 3055, 'makers': 2715, 'featuring': 1681, 'solo': 4058, 'happiness': 2031, 'loved': 2670, 'skip': 4016, 'attached': 336, 'scheme': 3812, 'finding': 1727, 'develop': 1222, 'harsh': 2040, 'scary': 3807, 'weight': 4840, 'crash': 1033, 'birthday': 487, 'versions': 4721, 'trapped': 4564, 'max': 2774, 'neighborhood': 2993, 'bag': 384, 'cliché': 844, 'careers': 687, 'portrayal': 3341, 'journalist': 2420, 'travels': 4569, 'california': 650, 'unaware': 4632, 'domestic': 1318, 'larry': 2520, 'clichés': 846, 'relief': 3605, 'warming': 4795, 'mtv': 2933, 'exaggerated': 1552, 'brand': 565, 'importantly': 2248, 'sophisticated': 4075, 'exploration': 1593, 'heroine': 2091, 'successful': 4266, 'creating': 1039, 'gritty': 1977, 'ranks': 3519, 'freedom': 1828, 'sensitive': 3879, 'notch': 3043, 'gorgeous': 1942, 'anne': 246, 'vampire': 4711, 'prefer': 3368, 'arrival': 299, 'lips': 2615, 'tears': 4380, 'kay': 2447, 'charming': 768, 'stellar': 4174, 'incoherent': 2265, 'madonna': 2699, 'stunt': 4245, 'press': 3379, 'album': 175, 'inspired': 2301, 'dick': 1239, 'tracy': 4546, 'relation': 3595, 'portion': 3338, 'tie': 4488, 'marie': 2737, 'maggie': 2702, 'warren': 4801, 'helen': 2075, 'norman': 3035, 'foster': 1809, 'ms': 2931, 'survive': 4321, 'planning': 3291, 'worried': 4949, 'demands': 1175, 'crisis': 1060, 'emma': 1457, 'politics': 3326, 'according': 88, 'rushed': 3760, 'editing': 1421, 'owner': 3159, 'roman': 3731, 'lousy': 2667, 'johnny': 2410, 'rival': 3706, 'secretly': 3851, 'medical': 2790, 'cares': 690, 'jr': 2423, 'sitcom': 4004, 'grows': 1985, 'hooked': 2153, 'mature': 2773, 'ensemble': 1492, 'laura': 2536, 'donna': 1323, 'blonde': 511, 'comedic': 888, 'berlin': 467, 'miserably': 2864, 'acts': 107, 'wooden': 4934, 'throwing': 4480, 'stones': 4198, 'lake': 2509, 'fighter': 1708, 'nuclear': 3057, 'noble': 3021, 'builds': 617, 'clip': 851, 'clips': 852, 'misery': 2865, 'damn': 1100, 'omen': 3104, 'stuff': 4243, 'ghost': 1902, 'chicks': 787, 'thinks': 4454, 'itll': 2369, 'satan': 3787, 'showed': 3956, 'ended': 1470, 'lesser': 2576, 'mom': 2885, 'behave': 445, 'trail': 4553, 'witness': 4914, 'alive': 186, 'month': 2896, 'prepared': 3371, 'possibility': 3349, 'craft': 1028, 'competent': 917, 'ear': 1397, 'dorothy': 1330, 'target': 4366, 'asking': 318, 'realized': 3553, 'features': 1680, 'dozens': 1339, 'ladies': 2506, 'bodies': 526, 'wandering': 4785, '90': 60, 'youd': 4987, 'boys': 559, 'tunes': 4603, 'safety': 3772, 'sun': 4292, 'device': 1227, 'experienced': 1581, 'rocket': 3721, 'scientist': 3818, 'burning': 627, 'officer': 3092, 'alike': 185, 'private': 3404, 'nazis': 2978, 'neither': 2996, 'aka': 168, 'switch': 4339, 'double': 1331, 'dressed': 1358, 'dumb': 1385, 'mummy': 2937, 'frightening': 1839, 'adorable': 124, 'winner': 4897, 'devoid': 1230, 'techniques': 4384, 'doc': 1303, 'bill': 481, 'weapon': 4828, 'arrogant': 303, 'propaganda': 3435, 'locations': 2636, 'included': 2262, 'neat': 2982, 'quirky': 3493, 'anthony': 253, 'midnight': 2834, 'grim': 1974, 'silver': 3977, 'punk': 3468, 'thumbs': 4485, 'hello': 2078, 'broke': 593, 'including': 2264, '75': 57, 'stated': 4161, 'wonderfully': 4929, 'strangely': 4212, 'friendly': 1836, 'nostalgic': 3039, 'fare': 1655, 'band': 391, 'studios': 4241, 'pity': 3281, 'survived': 4322, 'astaire': 330, 'ginger': 1908, 'rogers': 3725, 'burns': 628, 'sing': 3992, 'welcome': 4842, 'shorts': 3948, 'length': 2569, 'dancing': 1107, 'joan': 2404, 'dancer': 1104, 'ball': 388, 'balance': 387, 'lacking': 2504, 'win': 4892, 'featured': 1679, 'ii': 2226, 'compared': 912, 'personality': 3242, 'prince': 3396, 'defend': 1158, 'earned': 1401, 'destroyed': 1214, 'plans': 3292, 'unlike': 4670, 'lion': 2614, 'memories': 2803, 'dean': 1139, 'promise': 3430, 'lab': 2501, 'possibilities': 3348, 'lay': 2542, 'study': 4242, 'places': 3284, 'centered': 733, 'brilliantly': 584, 'deliver': 1169, 'psychiatrist': 3455, 'hilariously': 2107, 'martin': 2748, 'began': 441, 'protagonist': 3441, 'broad': 590, 'subtlety': 4261, 'plant': 3293, 'plots': 3310, 'difference': 1246, 'hollywoods': 2138, '3000': 43, 'thrilling': 4474, 'race': 3499, 'trilogy': 4586, 'easier': 1405, 'inferior': 2285, 'essential': 1522, 'ambitious': 211, 'jackson': 2375, 'similarities': 3979, 'colorful': 878, 'satisfied': 3789, 'eerie': 1427, 'battle': 414, 'generally': 1881, 'hurts': 2203, 'inappropriate': 2259, 'irritating': 2359, 'producing': 3417, 'bakshi': 386, 'produce': 3413, 'ring': 3698, 'engaged': 1480, 'tremendous': 4579, 'thrill': 4471, 'mess': 2818, 'mainly': 2708, 'equally': 1510, 'steal': 4170, 'junk': 2436, 'terribly': 4408, 'boyfriend': 558, 'morgan': 2905, 'minded': 2850, 'florida': 1761, 'spring': 4134, 'holiday': 2134, 'fancy': 1649, 'beach': 419, 'whilst': 4869, 'downright': 1337, 'embarrassing': 1454, 'thin': 4449, 'irrelevant': 2358, 'incompetent': 2266, 'fbi': 1675, 'inspector': 2299, 'settle': 3902, 'gratuitous': 1961, 'dialogs': 1233, 'suffering': 4277, 'oscar': 3133, 'awards': 367, 'extreme': 1609, 'celebrity': 729, 'costume': 1005, 'whenever': 4863, 'checking': 778, 'scares': 3806, 'gross': 1978, 'mile': 2842, 'remote': 3622, 'term': 4405, 'racist': 3503, 'worthy': 4956, 'enjoyment': 1488, 'dad': 1095, 'retired': 3664, 'kicking': 2462, 'sisters': 4002, 'blues': 519, 'bar': 396, 'passes': 3203, 'tear': 4379, 'meaningless': 2782, 'fit': 1740, 'recognize': 3569, 'luckily': 2682, 'cartoon': 704, 'hated': 2047, 'reminiscent': 3621, 'gadget': 1860, 'oil': 3097, 'slick': 4026, '14': 6, 'relies': 3606, 'physical': 3262, 'overly': 3155, '45': 50, 'preview': 3386, 'hints': 2113, 'williams': 4888, 'obsession': 3070, 'eating': 1413, 'potentially': 3356, 'cheating': 776, 'thirty': 4456, 'adults': 126, '2002': 32, '1980s': 21, 'flawless': 1751, 'flaws': 1752, 'pitch': 3279, 'raw': 3532, 'london': 2641, 'bright': 581, 'torture': 4529, 'warned': 4798, 'agrees': 157, 'delivers': 1172, 'answer': 251, 'clichéd': 845, 'jake': 2377, 'puts': 3481, 'fortunately': 1805, 'females': 1694, 'brains': 563, 'eaten': 1412, 'closet': 858, 'sum': 4289, 'intellectual': 2312, 'meaningful': 2781, 'naturally': 2974, 'sixties': 4011, 'method': 2824, 'results': 3662, 'uncle': 4636, 'walken': 4777, 'sean': 3840, 'concerns': 934, 'robin': 3715, 'sullivan': 4288, 'wild': 4885, 'party': 3200, 'ironically': 2356, 'spin': 4112, 'mildred': 2841, 'semi': 3874, 'fisher': 1739, 'round': 3742, 'conservative': 948, 'fashioned': 1660, 'sharp': 3922, 'blob': 507, 'stretched': 4222, 'society': 4050, 'museum': 2945, 'virginia': 4750, 'pink': 3277, 'dragged': 1343, 'intent': 2318, 'players': 3299, 'corny': 997, 'musicals': 2948, 'jay': 2386, 'vincent': 4746, 'won': 4925, 'paris': 3189, 'lady': 2507, 'leslie': 2574, 'georges': 1894, 'sings': 3997, 'commentary': 899, 'outrageous': 3145, 'hitchcock': 2123, 'executed': 1565, 'capital': 673, 'letters': 2582, 'education': 1424, 'purposes': 3475, 'built': 618, 'supernatural': 4302, 'shadows': 3913, 'illness': 2230, 'established': 1524, 'positive': 3346, 'directorial': 1265, 'noir': 3023, 'engaging': 1481, 'sunshine': 4294, 'elegant': 1441, 'aged': 149, 'isolated': 2363, 'ho': 2127, 'chan': 746, 'vengeance': 4719, 'host': 2173, 'appealing': 272, 'teacher': 4375, 'awake': 365, 'pretending': 3382, 'necessarily': 2983, 'born': 544, 'meeting': 2794, 'forgive': 1795, 'enormous': 1490, 'fish': 1738, 'leading': 2547, 'figures': 1713, 'korean': 2495, 'gifted': 1907, 'alice': 182, 'loses': 2657, 'chances': 748, 'choices': 798, 'madness': 2698, 'betty': 474, 'explain': 1586, 'mistaken': 2872, 'properly': 3437, 'lincoln': 2608, 'center': 732, 'event': 1535, 'mainstream': 2709, 'cannibal': 669, 'ruins': 3752, 'ramones': 3512, '24': 39, 'nazi': 2977, 'weakest': 4825, 'segment': 3867, 'spoil': 4121, 'humble': 2191, 'seeks': 3860, 'stress': 4220, 'genius': 1887, 'buried': 624, 'revealing': 3672, 'shall': 3916, 'dramas': 1347, 'connected': 945, 'test': 4416, 'stewart': 4184, 'walter': 4784, 'claim': 828, 'ruth': 3763, 'pal': 3177, 'westerns': 4854, 'mann': 2728, 'support': 4303, 'western': 4853, 'river': 3707, 'greedy': 1969, 'afterwards': 145, 'trick': 4582, 'build': 614, 'occur': 3076, 'instance': 2304, 'interview': 2329, 'directly': 1263, 'unintentional': 4658, '18': 10, 'priceless': 3390, 'duke': 1383, 'learns': 2553, 'calling': 653, 'witnesses': 4916, 'suffer': 4275, 'opposed': 3122, 'satisfying': 3791, 'thugs': 4484, 'merits': 2817, 'afraid': 140, 'mayor': 2777, 'offering': 3089, 'honor': 2150, 'attorney': 348, 'fill': 1714, 'prove': 3445, 'willing': 4889, 'cared': 685, 'absence': 70, 'pig': 3274, 'values': 4710, 'murderous': 2942, 'brown': 601, 'truck': 4595, 'turner': 4607, 'process': 3412, 'drop': 1369, 'treat': 4572, 'sympathetic': 4342, 'wondered': 4927, 'lengthy': 2570, '1960s': 15, 'cleverly': 842, 'answers': 252, 'mysteries': 2954, 'september': 3884, 'millions': 2848, 'sole': 4055, 'mission': 2870, 'destroy': 1213, 'buildings': 616, 'sandler': 3781, 'dentist': 1180, 'los': 2653, 'angeles': 233, 'mike': 2838, 'johnson': 2411, 'don': 1320, 'path': 3209, 'practice': 3363, 'patient': 3211, 'telling': 4396, 'perform': 3227, 'theyll': 4444, 'physically': 3263, 'block': 508, 'changing': 752, 'kung': 2498, 'fu': 1844, 'talks': 4361, 'eye': 1611, 'aspect': 321, 'generous': 1886, 'belongs': 460, 'spell': 4104, 'wishing': 4907, 'finished': 1733, 'fate': 1665, 'east': 1407, 'edie': 1419, 'window': 4894, 'thick': 4447, 'stands': 4147, 'taxi': 4371, 'cinemas': 817, 'hbo': 2055, 'eve': 1532, 'warner': 4799, 'odds': 3082, 'greatly': 1967, 'santa': 3783, '1972': 18, 'arrive': 300, 'graphic': 1958, 'nudity': 3059, 'raise': 3507, 'loving': 2675, 'joey': 2408, 'obsessed': 3069, 'jesse': 2397, 'spoiled': 4122, 'michelle': 2830, 'criminals': 1058, 'styles': 4250, 'represents': 3639, 'animals': 240, 'recognized': 3570, 'cult': 1077, 'reference': 3582, 'depicted': 1183, 'dubbing': 1380, 'ingredients': 2289, 'texas': 4418, 'halloween': 2010, 'lesbian': 2573, 'soviet': 4089, 'donald': 1321, 'russian': 3762, 'empathy': 1462, 'hatred': 2049, 'workers': 4943, 'snl': 4044, 'cover': 1022, 'rental': 3627, 'sue': 4274, 'billy': 482, 'succeed': 4262, 'unlikely': 4671, 'aired': 165, 'homer': 2144, 'journey': 2421, 'strongly': 4231, 'searching': 3842, 'island': 2361, 'driving': 1368, 'format': 1799, 'convinced': 984, 'strike': 4224, 'anderson': 227, 'sell': 3871, 'struck': 4232, 'henry': 2084, 'someones': 4065, 'dinner': 1254, 'baseball': 403, 'bat': 410, 'rubbish': 3748, 'combat': 882, 'split': 4120, 'viewed': 4737, 'fair': 1630, 'bears': 421, 'separate': 3883, 'fitting': 1742, 'darker': 1116, 'pretend': 3381, 'personally': 3243, 'menace': 2806, 'prequel': 3372, 'pacino': 3164, 'philosophy': 3254, 'blows': 517, 'sunday': 4293, 'streisand': 4218, 'multiple': 2936, 'structure': 4233, 'guest': 1992, 'contrived': 976, 'mix': 2876, 'disaster': 1276, 'crying': 1074, 'costumes': 1006, 'theatrical': 4430, 'suck': 4269, '80': 58, 'caine': 647, 'receives': 3565, 'bored': 541, 'wonders': 4931, 'psychic': 3456, 'ahead': 159, 'complaint': 920, 'disappeared': 1271, 'saturday': 3792, 'wrestling': 4966, 'wars': 4804, 'soldier': 4053, 'enemy': 1477, 'forces': 1788, 'deadly': 1133, 'solid': 4057, 'identify': 2216, 'centers': 734, 'victoria': 4732, 'elephant': 1444, 'roy': 3745, 'mundane': 2938, 'controversial': 978, 'drugs': 1374, 'broadcast': 591, 'logical': 2639, 'loser': 2655, '60': 53, 'daring': 1114, 'gain': 1863, 'larger': 2519, 'fabulous': 1615, 'wwii': 4975, 'castle': 712, 'smiling': 4037, 'noise': 3024, 'cities': 823, 'absolute': 71, 'boot': 538, 'channel': 753, 'wicked': 4879, 'porn': 3336, 'simon': 3982, 'yellow': 4981, 'reviewer': 3677, 'nation': 2969, 'facing': 1620, 'eg': 1434, 'herself': 2092, 'complex': 923, 'flawed': 1750, 'curious': 1083, 'reminded': 3619, 'ad': 110, 'cup': 1080, 'tea': 4373, 'refreshing': 3586, 'hart': 2041, 'tony': 4521, 'terry': 4415, 'lloyd': 2630, 'notorious': 3051, 'inept': 2281, 'empire': 1464, 'stood': 4199, 'obscure': 3068, 'attacks': 339, 'ann': 244, 'measure': 2786, 'senseless': 3878, 'contemporary': 965, 'forth': 1804, '1996': 26, 'library': 2589, 'committed': 905, 'prisoner': 3402, 'league': 2549, 'extraordinary': 1607, 'shoes': 3941, 'rendition': 3625, 'trek': 4578, 'hed': 2072, 'sleazy': 4023, 'theyd': 4443, 'paper': 3183, 'mst3k': 2932, 'emotions': 1461, 'complexity': 924, 'guard': 1988, 'gothic': 1945, 'carrie': 697, 'walker': 4778, 'uwe': 4703, 'boll': 529, 'nail': 2957, 'repeated': 3631, 'search': 3841, 'stolen': 4195, 'polished': 3323, 'thus': 4486, 'uncomfortable': 4637, 'monk': 2889, 'nightmares': 3015, 'nights': 3016, 'scores': 3823, 'stays': 4169, 'accurate': 90, 'tom': 4514, 'definite': 1161, '30s': 44, 'homage': 2141, 'earl': 1398, 'toys': 4543, 'issue': 2364, 'humans': 2190, 'ourselves': 3140, 'ruthless': 3764, 'em': 1452, 'alien': 183, 'worlds': 4947, 'mafia': 2700, 'jimmy': 2403, 'proves': 3447, 'eight': 1436, '1st': 28, 'internet': 2327, 'purchased': 3470, 'sellers': 3872, 'advance': 127, 'chris': 806, 'counter': 1011, 'thousands': 4466, 'indian': 2274, 'learning': 2552, 'dating': 1120, 'involves': 2348, 'steve': 4181, 'australian': 357, 'choreographed': 801, 'fights': 1710, 'guide': 1993, 'countries': 1013, 'occasionally': 3075, 'overcome': 3151, 'mental': 2808, 'daniel': 1111, 'hoffman': 2128, 'branagh': 564, 'hamlet': 2013, 'frankenstein': 1822, 'lawyer': 2541, 'peters': 3248, 'pair': 3176, 'sally': 3776, 'fields': 1705, 'wed': 4835, 'charismatic': 763, 'riveting': 3708, 'delivery': 1173, 'ya': 4976, 'eighties': 1437, 'sick': 3963, 'bathroom': 412, 'butt': 638, 'grab': 1949, 'coach': 868, 'glass': 1917, 'burn': 625, 'below': 462, 'capable': 672, 'responsible': 3656, 'chased': 770, 'operation': 3117, 'account': 89, 'nervous': 2999, 'weapons': 4829, 'woods': 4935, 'balls': 390, 'meat': 2787, 'jump': 2429, 'credibility': 1047, 'handsome': 2021, 'shirt': 3937, 'lying': 2690, 'sci': 3815, 'fi': 1701, 'leader': 2546, 'uneven': 4649, 'guessed': 1990, 'installment': 2303, 'starring': 4154, 'jim': 2402, 'wear': 4830, 'tape': 4365, 'hanks': 2025, 'direct': 1258, 'freeman': 1829, 'duo': 1386, 'roots': 3738, 'bobby': 525, 'sides': 3967, '2006': 36, 'arguably': 289, 'classical': 836, 'starred': 4153, 'bette': 471, 'davis': 1126, 'advanced': 128, 'perfection': 3225, 'achieve': 92, 'childish': 791, 'criticism': 1063, 'hundred': 2195, 'feminist': 1695, 'sports': 4130, 'chick': 786, 'tomatoes': 4515, 'ed': 1415, 'golden': 1934, 'offensive': 3086, 'drunk': 1375, 'dances': 1106, 'blend': 504, 'ballet': 389, 'dollars': 1315, 'pool': 3327, 'st': 4137, 'louis': 2665, 'pregnant': 3369, 'suggested': 4281, 'chair': 742, 'tied': 4489, 'divorce': 1301, 'judy': 2426, 'projects': 3428, 'performing': 3233, 'choreography': 802, 'critic': 1061, 'award': 366, 'specifically': 4100, 'et': 1526, 'date': 1118, 'distance': 1294, 'parties': 3196, 'drinking': 1362, 'teen': 4388, 'wouldve': 4959, 'cinderella': 815, 'pure': 3471, 'grand': 1953, 'losers': 2656, 'doo': 1325, 'disappear': 1270, 'root': 3737, 'cabin': 643, 'jamie': 2379, 'chasing': 772, 'china': 795, 'ignore': 2224, 'chooses': 800, 'staying': 4168, 'ignorant': 2223, 'messed': 2821, 'dying': 1393, 'theory': 4437, 'affected': 137, 'sign': 3970, 'west': 4852, 'conceived': 929, 'julie': 2428, 'german': 1896, 'stereotype': 4178, 'courage': 1018, 'faults': 1669, 'obnoxious': 3067, 'shed': 3924, 'worthless': 4954, 'blatant': 502, 'models': 2881, 'spy': 4135, 'raised': 3508, 'minds': 2852, 'pamela': 3179, 'corruption': 1002, 'allows': 192, 'apartment': 265, 'massive': 2756, 'matt': 2768, 'damon': 1101, 'cox': 1026, 'reporter': 3636, 'edgar': 1417, 'pat': 3208, 'inducing': 2279, 'oliver': 3102, 'dreadful': 1353, 'unfortunate': 4653, 'efforts': 1433, 'adequate': 120, 'audio': 354, 'dreary': 1356, 'challenge': 743, 'technique': 4383, 'characterization': 759, 'asian': 314, 'seek': 3858, 'grasp': 1960, 'ah': 158, 'stock': 4193, 'hood': 2151, 'survival': 4320, 'reed': 3580, 'lucas': 2680, 'chapter': 757, 'temple': 4398, 'doom': 1326, 'transfer': 4559, 'knock': 2488, 'commercial': 902, 'staring': 4152, 'horrifying': 2167, 'nude': 3058, 'topless': 4527, 'attempting': 342, 'miracle': 2860, 'intention': 2319, 'traveling': 4568, 'swimming': 4338, 'twin': 4615, 'lawrence': 2539, 'hang': 2022, 'harvey': 2042, 'schools': 3814, 'teach': 4374, 'lesson': 2577, 'catholic': 720, 'realizing': 3555, 'treats': 4575, 'chaos': 755, 'fired': 1735, 'promised': 3431, 'miscast': 2862, '70': 55, 'mini': 2854, 'franco': 1820, 'winter': 4900, 'lonely': 2643, 'surface': 4310, 'conversations': 981, 'staged': 4140, 'suffice': 4279, 'reaction': 3541, 'wounded': 4961, 'reduced': 3579, 'crucial': 1068, 'similarly': 3980, 'charlotte': 766, 'closest': 857, 'inner': 2292, 'passionate': 3206, 'moody': 2899, 'compare': 911, 'judging': 2425, 'satisfy': 3790, 'toilet': 4512, 'commented': 900, 'comfortable': 892, 'virgin': 4749, 'middle': 2833, 'quest': 3486, 'developing': 1224, 'haunting': 2051, 'perry': 3237, 'nancy': 2964, 'babe': 375, 'trial': 4580, 'moronic': 2907, 'civil': 826, 'occurred': 3077, 'moore': 2901, 'join': 2412, 'shortly': 3947, 'sits': 4006, 'bands': 392, 'irony': 2357, 'user': 4696, 'hitler': 2124, 'nonetheless': 3029, 'compelling': 916, 'eva': 1531, 'serve': 3893, 'thankfully': 4422, 'trite': 4589, 'depiction': 1185, 'presents': 3377, 'nyc': 3065, 'pan': 3180, 'orson': 3132, 'welles': 4844, 'decide': 1148, 'suit': 4284, 'university': 4667, 'impress': 2250, 'parker': 3191, 'ship': 3934, 'assistant': 326, 'artificial': 306, 'chief': 788, 'selling': 3873, 'greed': 1968, 'stretch': 4221, 'fat': 1663, 'contract': 973, 'clothing': 861, 'effect': 1428, 'reactions': 3542, 'maintain': 2710, 'position': 3345, 'elderly': 1440, 'thrillers': 4473, 'fetched': 1698, 'julia': 2427, 'threw': 4470, 'accomplished': 87, 'lower': 2677, 'desired': 1206, 'companion': 909, 'von': 4765, 'wives': 4918, 'ought': 3138, 'catherine': 719, 'lifestyle': 2593, 'describes': 1196, 'serving': 3897, 'restored': 3659, 'literature': 2623, 'notable': 3041, 'rotten': 3740, 'championship': 745, 'mansion': 2731, 'prom': 3429, 'board': 522, 'court': 1020, 'hamilton': 2012, '1990': 24, 'troubled': 4593, 'friday': 1834, 'germany': 1898, 'website': 4834, 'deals': 1137, 'survivors': 4325, 'dealt': 1138, 'statement': 4162, 'sexually': 3910, 'resist': 3648, 'jon': 2416, 'cliche': 843, 'titled': 4505, 'narrative': 2966, 'credible': 1048, 'overwhelming': 3157, 'magazine': 2701, 'awfully': 373, 'crowd': 1067, 'notes': 3046, 'horses': 2171, 'jessica': 2398, 'station': 4164, 'surrounding': 4319, 'humour': 2194, 'kirk': 2482, 'douglas': 1334, 'helicopter': 2076, 'landscape': 2513, 'inventive': 2341, 'icon': 2211, 'iii': 2227, 'interaction': 2322, 'neighbors': 2994, 'replaced': 3634, 'powell': 3358, 'tons': 4520, 'solution': 4059, '1930s': 11, 'commit': 904, 'realise': 3548, 'worn': 4948, 'ritter': 3705, 'angle': 236, 'stayed': 4167, 'wearing': 4831, 'werewolf': 4850, 'resembles': 3646, 'cg': 739, 'hardcore': 2034, 'lone': 2642, 'cusack': 1088, 'spiritual': 4116, 'relative': 3599, 'ease': 1404, 'shell': 3927, 'torn': 4528, 'drives': 1367, 'fool': 1779, 'rocky': 3723, 'shadow': 3912, 'urge': 4689, 'screenwriter': 3833, 'charisma': 762, 'elaborate': 1439, 'fallen': 1638, 'asleep': 320, 'miller': 2846, 'square': 4136, 'climactic': 848, 'creator': 1043, 'catches': 715, 'listen': 2619, 'photos': 3261, 'affair': 135, 'bell': 458, 'continued': 970, 'substance': 4258, 'adams': 112, 'cartoons': 705, 'nominated': 3025, 'ups': 4686, 'kinds': 2478, 'emphasis': 1463, 'subsequent': 4257, 'drunken': 1376, 'handled': 2019, 'psycho': 3457, 'correct': 1000, 'goodness': 1938, 'jeremy': 2394, 'heights': 2073, 'occasional': 3074, 'medium': 2792, 'jail': 2376, 'buying': 641, 'enjoys': 1489, 'chilling': 794, 'bone': 533, 'scare': 3803, 'photo': 3257, 'hoped': 2156, 'businessman': 634, 'ultra': 4629, 'clean': 838, 'surreal': 4317, 'philosophical': 3253, 'games': 1865, 'fay': 1674, 'detail': 1217, 'walks': 4780, 'hates': 2048, 'questionable': 3488, 'australia': 356, 'spoof': 4127, 'elm': 1447, 'resemblance': 3645, 'till': 4493, 'surviving': 4323, 'visit': 4755, 'undoubtedly': 4648, '35': 45, 'psychological': 3458, 'analysis': 224, 'memory': 2804, 'travel': 4567, 'smaller': 4034, 'orders': 3127, 'size': 4012, 'typically': 4624, 'depressed': 1187, 'irish': 2353, 'mob': 2879, 'photographer': 3259, 'catching': 716, 'directs': 1267, 'craig': 1030, 'lose': 2654, 'encounters': 1467, 'families': 1644, 'mass': 2753, 'secondly': 3847, 'prime': 3395, 'compelled': 915, 'struggling': 4236, 'juvenile': 2441, 'heavily': 2069, 'videos': 4734, 'significant': 3972, 'actresses': 106, 'husbands': 2205, 'kicks': 2463, 'utter': 4701, 'bugs': 613, 'alright': 198, 'brutal': 603, 'innovative': 2295, 'laughably': 2531, 'cure': 1081, 'learned': 2551, 'neo': 2998, 'dawn': 1127, 'spanish': 4092, 'conflicts': 940, 'explicit': 1591, 'suspenseful': 4331, 'exists': 1573, 'filmmaker': 1719, 'cell': 730, 'shark': 3921, 'birth': 486, 'scientists': 3819, 'roberts': 3714, 'hopper': 2161, 'tales': 4357, 'triumph': 4590, 'cuba': 1075, 'niro': 3019, 'hills': 2109, 'victor': 4731, 'forms': 1801, 'clark': 832, 'introduction': 2339, 'transition': 4561, 'carefully': 689, 'eager': 1396, 'unknown': 4668, 'frequent': 1831, 'explored': 1595, 'closed': 854, 'attempted': 341, 'focusing': 1769, 'beings': 449, 'desire': 1205, 'understood': 4647, 'relevant': 3604, 'touches': 4535, 'grant': 1956, 'punch': 3466, 'homeless': 2143, '2004': 34, 'rid': 3690, 'unoriginal': 4673, 'carl': 692, 'splendid': 4119, 'stargate': 4151, 'borrowed': 545, 'surprises': 4314, 'moon': 2900, 'futuristic': 1857, 'hyde': 2206, 'believed': 455, 'taught': 4370, 'differences': 1247, 'twilight': 4614, 'section': 3853, 'melodramatic': 2798, 'keaton': 2448, 'pants': 3182, 'command': 897, 'attracted': 349, 'passing': 3204, 'masterpieces': 2760, 'groups': 1981, 'deaf': 1134, 'aids': 161, 'paranoia': 3186, 'muslim': 2949, 'limits': 2607, 'effectively': 1430, 'widow': 4883, 'fulci': 1845, 'birds': 485, 'segments': 3868, 'vice': 4727, 'ken': 2453, 'adventures': 131, 'barry': 401, 'unfunny': 4655, 'furthermore': 1854, 'initial': 2290, 'causes': 725, 'providing': 3451, 'construction': 960, 'worker': 4942, 'notion': 3050, 'respected': 3653, 'matrix': 2767, 'settings': 3901, 'losing': 2658, 'flies': 1756, 'tag': 4348, '3d': 46, 'couldve': 1009, 'excessive': 1560, 'sarah': 3785, 'pilot': 3276, 'pleased': 3305, 'enterprise': 1495, 'service': 3896, 'escaped': 1518, 'delight': 1167, 'hal': 2006, 'amy': 222, 'aid': 160, 'powers': 3361, 'attitudes': 347, 'purple': 3473, 'lyrics': 2692, 'revolution': 3680, 'blew': 505, 'morris': 2908, 'bird': 484, 'eddie': 1416, 'murphy': 2944, 'benefit': 465, 'scripted': 3835, 'marketing': 2741, 'bela': 450, 'lugosi': 2686, 'demand': 1174, 'translation': 4562, 'erotic': 1515, 'mate': 2765, 'routine': 3743, 'kissing': 2484, 'francis': 1818, 'broadway': 592, 'arrives': 302, 'occurs': 3078, 'sink': 3999, 'pleasantly': 3303, 'claims': 830, 'rural': 3758, 'emily': 1456, 'experiences': 1582, 'elvis': 1451, 'jungle': 2434, 'amounts': 220, 'pacing': 3163, 'immensely': 2243, 'rick': 3689, 'monkeys': 2891, 'mentioning': 2812, 'amanda': 205, 'bath': 411, 'ridden': 3691, 'convey': 982, 'shakespeare': 3915, 'vague': 4705, 'handful': 2017, 'arrested': 298, 'maria': 2736, 'davies': 1125, 'uk': 4626, 'claimed': 829, 'pro': 3406, 'treatment': 4574, 'concern': 931, 'secrets': 3852, 'restaurant': 3658, 'grandfather': 1954, 'idiotic': 2219, 'southern': 4088, 'grey': 1973, 'dignity': 1252, 'annie': 247, 'convincingly': 986, 'dedicated': 1153, 'invisible': 2344, 'battles': 415, 'visible': 4753, 'nearby': 2980, 'designs': 1204, 'titanic': 4503, 'ford': 1789, 'sentimental': 3882, 'fooled': 1780, 'hollow': 2135, 'prize': 3405, 'bible': 477, 'messages': 2820, 'tender': 4401, 'pg': 3250, 'ideal': 2214, 'hardy': 2037, 'waves': 4819, 'tune': 4602, 'purchase': 3469, 'brazil': 568, 'raising': 3509, 'dinosaur': 1255, 'expressions': 1603, 'appalling': 268, 'childrens': 793, 'huh': 2187, 'forbidden': 1785, 'poignant': 3315, 'coherent': 871, 'opinions': 3119, 'conversation': 980, 'documentaries': 1306, 'fury': 1855, 'stevens': 4183, 'tradition': 4549, 'relatives': 3601, 'pile': 3275, 'cook': 988, 'sir': 4000, 'wealth': 4826, 'attraction': 350, 'lucy': 2684, 'bacall': 377, 'possessed': 3347, 'instant': 2305, 'defense': 1159, 'implausible': 2245, 'myers': 2952, 'lacked': 2503, 'laurel': 2537, 'shirley': 3936, 'cooper': 990, 'aimed': 162, 'performers': 3232, 'jet': 2400, 'testament': 4417, 'abuse': 74, 'hint': 2112, 'bumbling': 622, 'destroying': 1215, 'favor': 1670, '20th': 38, 'rubber': 3747, 'explosions': 1597, 'dinosaurs': 1256, 'wake': 4774, 'loaded': 2632, 'cousin': 1021, 'chuck': 812, 'danes': 1108, 'exotic': 1574, 'dancers': 1105, 'steel': 4173, 'poetic': 3313, 'scarecrow': 3804, 'symbolism': 4341, 'stealing': 4171, 'dig': 1250, 'voight': 4764, 'anybody': 257, 'factory': 1623, 'wing': 4896, 'cary': 706, 'marvelous': 2750, 'basis': 408, 'loosely': 2651, 'pit': 3278, 'sin': 3988, 'decisions': 1152, 'related': 3594, 'chorus': 803, 'cruise': 1071, 'suited': 4286, 'philip': 3252, 'instinct': 2308, 'racism': 3502, 'cube': 1076, 'professor': 3422, 'liberal': 2588, 'diana': 1237, 'loyal': 2679, 'uninspired': 4657, 'contest': 967, 'nose': 3037, 'opened': 3113, 'kennedy': 2454, 'response': 3654, 'needless': 2989, 'versus': 4722, 'sounded': 4082, 'loads': 2633, 'li': 2587, 'bullets': 621, 'swear': 4334, 'joseph': 2419, 'criminal': 1057, 'slave': 4022, 'painfully': 3172, 'aliens': 184, 'clown': 862, 'punishment': 3467, 'justify': 2439, 'universe': 4666, 'complain': 919, 'exposure': 1599, 'womens': 4924, 'dubbed': 1379, 'linda': 2609, 'destiny': 1212, 'relatively': 3600, 'stinker': 4191, 'che': 773, 'digital': 1251, 'deliberately': 1166, 'enemies': 1476, 'bush': 632, 'troops': 4591, 'molly': 2884, 'neil': 2995, 'frustrated': 1842, '1933': 12, 'tame': 4363, 'swim': 4337, 'breasts': 572, 'alfred': 181, 'outer': 3143, 'fascinated': 1657, 'steps': 4177, 'seasons': 3844, 'jenny': 2393, 'cameos': 658, 'failing': 1627, 'alert': 178, 'twins': 4616, 'drags': 1345, 'removed': 3624, 'gandhi': 1866, 'lane': 2515, 'disagree': 1269, 'sinatra': 3989, 'wore': 4939, 'competition': 918, 'diamond': 1236, 'andrews': 229, 'composed': 926, 'seagal': 3839, 'sucked': 4270, 'trashy': 4566, 'columbo': 881, 'focuses': 1768, 'miserable': 2863, 'neighbor': 2992, 'beating': 425, 'cake': 648, 'load': 2631, 'angels': 234, 'dude': 1381, 'directions': 1262, 'buffs': 612, 'shake': 3914, 'dynamic': 1394, 'chicago': 785, 'examples': 1554, 'props': 3439, 'technology': 4385, 'wallace': 4782, 'cagney': 646, 'leonard': 2572, 'trailers': 4555, 'offended': 3085, 'lit': 2621, 'showdown': 3955, 'creep': 1051, 'intimate': 2331, 'cd': 728, 'consists': 955, 'enthusiasm': 1501, 'progresses': 3426, 'advise': 134, 'campy': 664, 'warn': 4797, 'tiresome': 4502, 'headed': 2058, 'doll': 1313, 'awe': 370, 'staff': 4138, 'appreciation': 281, 'drivel': 1364, '3rd': 47, 'firstly': 1737, 'terrorist': 4413, 'airport': 167, 'miles': 2843, 'barbara': 397, 'areas': 287, 'suspend': 4329, 'petty': 3249, 'disturbed': 1299, 'goofy': 1939, 'quotes': 3497, 'nomination': 3026, 'campbell': 663, 'wound': 4960, 'celluloid': 731, 'expensive': 1579, 'guilt': 1994, 'landing': 2512, 'fever': 1699, 'mechanical': 2788, 'bull': 619, 'contained': 963, 'importance': 2246, 'training': 4558, 'fifteen': 1706, 'revelation': 3674, 'lasted': 2522, 'guarantee': 1987, 'parallel': 3185, 'remind': 3618, 'teachers': 4376, 'corporate': 998, 'luck': 2681, 'manager': 2724, 'likewise': 2603, 'catchy': 717, 'outfit': 3144, 'rabbit': 3498, 'derek': 1192, 'bo': 521, 'shelf': 3926, 'sappy': 3784, 'rap': 3520, 'hammer': 2014, 'tap': 4364, 'hop': 2154, 'foul': 1810, 'conspiracy': 956, 'send': 3875, 'politically': 3325, 'annoyed': 248, 'flynn': 1765, 'joined': 2413, '1970s': 17, 'sid': 3964, 'soccer': 4048, 'nonsensical': 3031, 'circle': 821, 'nations': 2971, 'rob': 3710, 'comparing': 913, 'kings': 2481, 'heroic': 2090, 'godfather': 1927, 'comical': 894, 'movements': 2924, 'sounding': 4083, 'iran': 2350, 'da': 1094, 'ned': 2986, 'iraq': 2351, 'tongue': 4518, 'cheek': 779, '1968': 16, 'burton': 630, 'apes': 267, 'ape': 266, 'species': 4098, 'monkey': 2890, 'colour': 880, 'arnold': 296, 'faster': 1662, 'integrity': 2311, 'equivalent': 1512, 'plight': 3308, 'everyday': 1541, 'tonight': 4519, 'performer': 3231, 'lol': 2640, 'newspaper': 3006, 'rebel': 3561, 'vulnerable': 4768, 'explaining': 1588, 'evident': 1547, 'causing': 726, 'ethan': 1528, 'overlooked': 3154, 'reaches': 3538, 'desperately': 1209, 'doctors': 1305, 'plausible': 3295, 'curtis': 1087, 'estate': 1525, 'funeral': 1849, 'terrifying': 4410, 'drawing': 1350, 'unsettling': 4679, 'sticks': 4186, 'farce': 1654, 'discussion': 1284, 'achieved': 93, 'caliber': 649, 'assigned': 325, 'receive': 3563, 'consistently': 954, 'cardboard': 682, 'explosion': 1596, 'mel': 2796, 'brooks': 596, 'tracks': 4545, 'junior': 2435, 'freddy': 1826, 'authority': 360, 'dennis': 1179, 'watches': 4814, 'jazz': 2387, 'bleak': 503, 'backdrop': 379, 'overlook': 3153, 'wished': 4905, 'bud': 607, 'hippie': 2115, 'universal': 4665, 'hung': 2197, 'ps': 3453, 'dracula': 1341, 'phantom': 3251, 'lust': 2689, '1973': 19, 'protagonists': 3442, 'bomb': 531, 'unit': 4663, 'sincere': 3991, 'summary': 4290, 'tarzan': 4367, 'educational': 1425, 'waitress': 4773, 'disgusting': 1286, 'selfish': 3870, 'todd': 4510, 'pearl': 3220, 'global': 1920, 'primarily': 3393, 'butler': 637, 'bite': 489, 'reflect': 3584, 'distinct': 1296, 'wave': 4818, 'montana': 2895, 'reflection': 3585, 'represented': 3638, 'wes': 4851, 'combined': 885, 'hunters': 2200, 'hunting': 2201, 'fed': 1682, 'sutherland': 4333, 'brady': 561, 'familys': 1646, 'inane': 2258, 'porno': 3337, 'proceeds': 3411, 'twelve': 4611, 'careful': 688, 'officers': 3093, 'blowing': 515, 'unhappy': 4656, 'craven': 1034, 'signs': 3973, 'generations': 1884, 'depicting': 1184, 'exercise': 1568, 'jaw': 2384, 'showcase': 3954, 'allowing': 191, 'household': 2179, 'walls': 4783, 'happily': 2030, 'brad': 560, 'performed': 3230, 'hopeless': 2158, 'briefly': 580, 'glorious': 1921, 'incomprehensible': 2267, 'severe': 3906, 'strip': 4228, 'fears': 1677, 'depicts': 1186, 'thoughtful': 4463, 'daddy': 1096, 'descent': 1193, 'progress': 3425, 'seed': 3856, 'cards': 683, 'subjects': 4254, 'spain': 4091, 'waters': 4817, 'swedish': 4335, 'sneak': 4043, 'richards': 3687, 'definition': 1163, 'bettie': 473, 'comics': 895, 'raped': 3522, 'text': 4419, 'horrors': 2169, 'sexuality': 3909, 'homosexual': 2145, 'hook': 2152, 'prisoners': 3403, 'calm': 655, 'stranger': 4213, 'unbearable': 4633, 'trained': 4557, 'repeat': 3630, 'pages': 3168, 'generation': 1883, 'royal': 3746, 'existed': 1570, 'slaughter': 4021, 'karloff': 2445, 'olivier': 3103, 'historically': 2120, 'blunt': 520, 'blair': 497, 'modesty': 2883, 'amazed': 208, 'inevitably': 2283, 'amitabh': 216, 'methods': 2825, 'ties': 4490, 'alternate': 200, 'simpson': 3987, 'leg': 2562, 'occasion': 3073, 'mail': 2706, 'marks': 2742, 'disneys': 1290, 'arm': 292, 'holy': 2140, 'vietnam': 4735, 'robots': 3718, 'willis': 4890, 'plague': 3285, 'carrey': 696, 'paulie': 3215, 'tends': 4402, 'gundam': 1997, 'crafted': 1029, 'kenneth': 2455, 'giallo': 1904, 'planned': 3290, 'finger': 1731, 'ham': 2011, 'comedian': 887, 'vegas': 4717, 'dickens': 1240, 'carpenter': 694, 'navy': 2976, 'ted': 4386, 'buff': 611, 'chaplin': 756, 'blade': 495, 'relations': 3596, 'superbly': 4297, 'recording': 3575, 'pseudo': 3454, 'teaching': 4377, 'pet': 3246, 'advertising': 132, 'valuable': 4708, 'felix': 1689, 'lemmon': 2567, 'matthau': 2771, 'abraham': 69, 'melting': 2799, 'houses': 2180, 'contrary': 974, 'hudson': 2184, 'unseen': 4678, 'performs': 3234, 'blah': 496, 'orange': 3125, 'robinson': 3716, 'visits': 4756, 'cave': 727, 'italy': 2368, 'forest': 1791, 'served': 3894, 'jonathan': 2417, 'kubrick': 2496, 'reynolds': 3684, 'communist': 907, 'trio': 4587, 'stinks': 4192, 'godzilla': 1929, 'doubts': 1333, 'wacky': 4769, 'arrived': 301, 'recognition': 3568, 'anger': 235, 'burt': 629, 'singers': 3994, 'suspicious': 4332, 'glenn': 1918, 'streep': 4215, 'embarrassed': 1453, '1984': 23, 'beliefs': 452, 'beneath': 464, 'report': 3635, 'afford': 138, 'lowest': 2678, 'claire': 831, 'dave': 1123, 'errors': 1516, 'warriors': 4803, 'doomed': 1327, 'brando': 566, 'simmons': 3981, 'despair': 1207, 'dire': 1257, 'tommy': 4516, 'stan': 4142, 'argue': 290, 'spirits': 4115, 'splatter': 4118, 'christians': 809, 'poem': 3312, 'partly': 3197, 'map': 2733, 'cried': 1054, 'spoke': 4125, 'gerard': 1895, 'notably': 3042, 'sport': 4129, 'pops': 3332, 'generic': 1885, '1999': 27, 'lou': 2663, 'imagined': 2239, '1940s': 13, 'saga': 3773, 'heston': 2094, 'legendary': 2565, 'diane': 1238, 'beatty': 427, 'stanwyck': 4149, 'brooklyn': 595, 'boxing': 556, 'indians': 2275, 'creativity': 1042, 'alcohol': 176, 'tooth': 4524, 'whale': 4857, 'rambo': 3511, 'samurai': 3779, '13th': 5, 'denzel': 1181, 'kidding': 2465, 'throat': 4476, 'dolph': 1317, 'gentle': 1890, 'brosnan': 597, 'chess': 783, 'grandmother': 1955, 'warmth': 4796, 'cowboy': 1025, 'invasion': 2340, 'robbins': 3712, 'ha': 2002, 'wholly': 4874, 'louise': 2666, 'scrooge': 3837, 'latin': 2527, 'paltrow': 3178, 'elvira': 1450, 'mentions': 2813, 'pokemon': 3320, 'storm': 4206, 'remarks': 3615, 'legal': 2563, 'introduce': 2336, 'atlantis': 332, 'polanski': 3321, 'surfing': 4311, 'wendy': 4846, 'garbo': 1871, 'stooges': 4200, 'scooby': 3820, 'civilization': 827}\n"
     ]
    }
   ],
   "source": [
    "print(str(vocabulary))"
   ]
  },
  {
   "cell_type": "markdown",
   "metadata": {},
   "source": [
    "Once you have added the endpoint name to the Lambda function, click on **Save**. Your Lambda function is now up and running. Next we need to create a way for our web app to execute the Lambda function."
   ]
  },
  {
   "cell_type": "markdown",
   "metadata": {},
   "source": [
    "### Setting up API Gateway\n",
    "\n",
    "Now that our Lambda function is set up, it is time to create a new API using API Gateway that will trigger the Lambda function we have just created.\n",
    "\n",
    "Using AWS Console, navigate to **Amazon API Gateway** and then click on **Get started**.\n",
    "\n",
    "On the next page, make sure that **New API** is selected and give the new api a name, for example, `sentiment_analysis_web_app`. Then, click on **Create API**.\n",
    "\n",
    "Now we have created an API, however it doesn't currently do anything. What we want it to do is to trigger the Lambda function that we created earlier.\n",
    "\n",
    "Select the **Actions** dropdown menu and click **Create Method**. A new blank method will be created, select its dropdown menu and select **POST**, then click on the check mark beside it.\n",
    "\n",
    "For the integration point, make sure that **Lambda Function** is selected and click on the **Use Lambda Proxy integration**. This option makes sure that the data that is sent to the API is then sent directly to the Lambda function with no processing. It also means that the return value must be a proper response object as it will also not be processed by API Gateway.\n",
    "\n",
    "Type the name of the Lambda function you created earlier into the **Lambda Function** text entry box and then click on **Save**. Click on **OK** in the pop-up box that then appears, giving permission to API Gateway to invoke the Lambda function you created.\n",
    "\n",
    "The last step in creating the API Gateway is to select the **Actions** dropdown and click on **Deploy API**. You will need to create a new Deployment stage and name it anything you like, for example `prod`.\n",
    "\n",
    "You have now successfully set up a public API to access your SageMaker model. Make sure to copy or write down the URL provided to invoke your newly created public API as this will be needed in the next step. This URL can be found at the top of the page, highlighted in blue next to the text **Invoke URL**."
   ]
  },
  {
   "cell_type": "markdown",
   "metadata": {},
   "source": [
    "## Step 7: Deploying our web app\n",
    "\n",
    "Now that we have a publicly available API, we can start using it in a web app. For our purposes, we have provided a simple static html file which can make use of the public api you created earlier.\n",
    "\n",
    "In the `website` folder there should be a file called `index.html`. Download the file to your computer and open that file up in a text editor of your choice. There should be a line which contains **\\*\\*REPLACE WITH PUBLIC API URL\\*\\***. Replace this string with the url that you wrote down in the last step and then save the file.\n",
    "\n",
    "Now, if you open `index.html` on your local computer, your browser will behave as a local web server and you can use the provided site to interact with your SageMaker model.\n",
    "\n",
    "If you'd like to go further, you can host this html file anywhere you'd like, for example using github or hosting a static site on Amazon's S3. Once you have done this you can share the link with anyone you'd like and have them play with it too!\n",
    "\n",
    "> **Important Note** In order for the web app to communicate with the SageMaker endpoint, the endpoint has to actually be deployed and running. This means that you are paying for it. Make sure that the endpoint is running when you want to use the web app but that you shut it down when you don't need it, otherwise you will end up with a surprisingly large AWS bill."
   ]
  },
  {
   "cell_type": "markdown",
   "metadata": {},
   "source": [
    "### Delete the endpoint\n",
    "\n",
    "Remember to always shut down your endpoint if you are no longer using it. You are charged for the length of time that the endpoint is running so if you forget and leave it on you could end up with an unexpectedly large bill."
   ]
  },
  {
   "cell_type": "code",
   "execution_count": 88,
   "metadata": {},
   "outputs": [
    {
     "ename": "ClientError",
     "evalue": "An error occurred (ValidationException) when calling the DeleteEndpointConfig operation: Could not find endpoint configuration \"arn:aws:sagemaker:eu-west-1:005638967662:endpoint-config/sagemaker-xgboost-2020-11-20-20-14-16-923\".",
     "output_type": "error",
     "traceback": [
      "\u001b[0;31m---------------------------------------------------------------------------\u001b[0m",
      "\u001b[0;31mClientError\u001b[0m                               Traceback (most recent call last)",
      "\u001b[0;32m<ipython-input-88-16a6b43a8b29>\u001b[0m in \u001b[0;36m<module>\u001b[0;34m\u001b[0m\n\u001b[0;32m----> 1\u001b[0;31m \u001b[0mxgb_predictor\u001b[0m\u001b[0;34m.\u001b[0m\u001b[0mdelete_endpoint\u001b[0m\u001b[0;34m(\u001b[0m\u001b[0;34m)\u001b[0m\u001b[0;34m\u001b[0m\u001b[0;34m\u001b[0m\u001b[0m\n\u001b[0m",
      "\u001b[0;32m~/anaconda3/envs/python3/lib/python3.6/site-packages/sagemaker/predictor.py\u001b[0m in \u001b[0;36mdelete_endpoint\u001b[0;34m(self, delete_endpoint_config)\u001b[0m\n\u001b[1;32m    275\u001b[0m         \"\"\"\n\u001b[1;32m    276\u001b[0m         \u001b[0;32mif\u001b[0m \u001b[0mdelete_endpoint_config\u001b[0m\u001b[0;34m:\u001b[0m\u001b[0;34m\u001b[0m\u001b[0;34m\u001b[0m\u001b[0m\n\u001b[0;32m--> 277\u001b[0;31m             \u001b[0mself\u001b[0m\u001b[0;34m.\u001b[0m\u001b[0m_delete_endpoint_config\u001b[0m\u001b[0;34m(\u001b[0m\u001b[0;34m)\u001b[0m\u001b[0;34m\u001b[0m\u001b[0;34m\u001b[0m\u001b[0m\n\u001b[0m\u001b[1;32m    278\u001b[0m \u001b[0;34m\u001b[0m\u001b[0m\n\u001b[1;32m    279\u001b[0m         \u001b[0mself\u001b[0m\u001b[0;34m.\u001b[0m\u001b[0msagemaker_session\u001b[0m\u001b[0;34m.\u001b[0m\u001b[0mdelete_endpoint\u001b[0m\u001b[0;34m(\u001b[0m\u001b[0mself\u001b[0m\u001b[0;34m.\u001b[0m\u001b[0mendpoint_name\u001b[0m\u001b[0;34m)\u001b[0m\u001b[0;34m\u001b[0m\u001b[0;34m\u001b[0m\u001b[0m\n",
      "\u001b[0;32m~/anaconda3/envs/python3/lib/python3.6/site-packages/sagemaker/predictor.py\u001b[0m in \u001b[0;36m_delete_endpoint_config\u001b[0;34m(self)\u001b[0m\n\u001b[1;32m    261\u001b[0m     \u001b[0;32mdef\u001b[0m \u001b[0m_delete_endpoint_config\u001b[0m\u001b[0;34m(\u001b[0m\u001b[0mself\u001b[0m\u001b[0;34m)\u001b[0m\u001b[0;34m:\u001b[0m\u001b[0;34m\u001b[0m\u001b[0;34m\u001b[0m\u001b[0m\n\u001b[1;32m    262\u001b[0m         \u001b[0;34m\"\"\"Delete the Amazon SageMaker endpoint configuration\"\"\"\u001b[0m\u001b[0;34m\u001b[0m\u001b[0;34m\u001b[0m\u001b[0m\n\u001b[0;32m--> 263\u001b[0;31m         \u001b[0mself\u001b[0m\u001b[0;34m.\u001b[0m\u001b[0msagemaker_session\u001b[0m\u001b[0;34m.\u001b[0m\u001b[0mdelete_endpoint_config\u001b[0m\u001b[0;34m(\u001b[0m\u001b[0mself\u001b[0m\u001b[0;34m.\u001b[0m\u001b[0m_endpoint_config_name\u001b[0m\u001b[0;34m)\u001b[0m\u001b[0;34m\u001b[0m\u001b[0;34m\u001b[0m\u001b[0m\n\u001b[0m\u001b[1;32m    264\u001b[0m \u001b[0;34m\u001b[0m\u001b[0m\n\u001b[1;32m    265\u001b[0m     \u001b[0;32mdef\u001b[0m \u001b[0mdelete_endpoint\u001b[0m\u001b[0;34m(\u001b[0m\u001b[0mself\u001b[0m\u001b[0;34m,\u001b[0m \u001b[0mdelete_endpoint_config\u001b[0m\u001b[0;34m=\u001b[0m\u001b[0;32mTrue\u001b[0m\u001b[0;34m)\u001b[0m\u001b[0;34m:\u001b[0m\u001b[0;34m\u001b[0m\u001b[0;34m\u001b[0m\u001b[0m\n",
      "\u001b[0;32m~/anaconda3/envs/python3/lib/python3.6/site-packages/sagemaker/session.py\u001b[0m in \u001b[0;36mdelete_endpoint_config\u001b[0;34m(self, endpoint_config_name)\u001b[0m\n\u001b[1;32m   2764\u001b[0m         \"\"\"\n\u001b[1;32m   2765\u001b[0m         \u001b[0mLOGGER\u001b[0m\u001b[0;34m.\u001b[0m\u001b[0minfo\u001b[0m\u001b[0;34m(\u001b[0m\u001b[0;34m\"Deleting endpoint configuration with name: %s\"\u001b[0m\u001b[0;34m,\u001b[0m \u001b[0mendpoint_config_name\u001b[0m\u001b[0;34m)\u001b[0m\u001b[0;34m\u001b[0m\u001b[0;34m\u001b[0m\u001b[0m\n\u001b[0;32m-> 2766\u001b[0;31m         \u001b[0mself\u001b[0m\u001b[0;34m.\u001b[0m\u001b[0msagemaker_client\u001b[0m\u001b[0;34m.\u001b[0m\u001b[0mdelete_endpoint_config\u001b[0m\u001b[0;34m(\u001b[0m\u001b[0mEndpointConfigName\u001b[0m\u001b[0;34m=\u001b[0m\u001b[0mendpoint_config_name\u001b[0m\u001b[0;34m)\u001b[0m\u001b[0;34m\u001b[0m\u001b[0;34m\u001b[0m\u001b[0m\n\u001b[0m\u001b[1;32m   2767\u001b[0m \u001b[0;34m\u001b[0m\u001b[0m\n\u001b[1;32m   2768\u001b[0m     \u001b[0;32mdef\u001b[0m \u001b[0mdelete_model\u001b[0m\u001b[0;34m(\u001b[0m\u001b[0mself\u001b[0m\u001b[0;34m,\u001b[0m \u001b[0mmodel_name\u001b[0m\u001b[0;34m)\u001b[0m\u001b[0;34m:\u001b[0m\u001b[0;34m\u001b[0m\u001b[0;34m\u001b[0m\u001b[0m\n",
      "\u001b[0;32m~/anaconda3/envs/python3/lib/python3.6/site-packages/botocore/client.py\u001b[0m in \u001b[0;36m_api_call\u001b[0;34m(self, *args, **kwargs)\u001b[0m\n\u001b[1;32m    355\u001b[0m                     \"%s() only accepts keyword arguments.\" % py_operation_name)\n\u001b[1;32m    356\u001b[0m             \u001b[0;31m# The \"self\" in this scope is referring to the BaseClient.\u001b[0m\u001b[0;34m\u001b[0m\u001b[0;34m\u001b[0m\u001b[0;34m\u001b[0m\u001b[0m\n\u001b[0;32m--> 357\u001b[0;31m             \u001b[0;32mreturn\u001b[0m \u001b[0mself\u001b[0m\u001b[0;34m.\u001b[0m\u001b[0m_make_api_call\u001b[0m\u001b[0;34m(\u001b[0m\u001b[0moperation_name\u001b[0m\u001b[0;34m,\u001b[0m \u001b[0mkwargs\u001b[0m\u001b[0;34m)\u001b[0m\u001b[0;34m\u001b[0m\u001b[0;34m\u001b[0m\u001b[0m\n\u001b[0m\u001b[1;32m    358\u001b[0m \u001b[0;34m\u001b[0m\u001b[0m\n\u001b[1;32m    359\u001b[0m         \u001b[0m_api_call\u001b[0m\u001b[0;34m.\u001b[0m\u001b[0m__name__\u001b[0m \u001b[0;34m=\u001b[0m \u001b[0mstr\u001b[0m\u001b[0;34m(\u001b[0m\u001b[0mpy_operation_name\u001b[0m\u001b[0;34m)\u001b[0m\u001b[0;34m\u001b[0m\u001b[0;34m\u001b[0m\u001b[0m\n",
      "\u001b[0;32m~/anaconda3/envs/python3/lib/python3.6/site-packages/botocore/client.py\u001b[0m in \u001b[0;36m_make_api_call\u001b[0;34m(self, operation_name, api_params)\u001b[0m\n\u001b[1;32m    674\u001b[0m             \u001b[0merror_code\u001b[0m \u001b[0;34m=\u001b[0m \u001b[0mparsed_response\u001b[0m\u001b[0;34m.\u001b[0m\u001b[0mget\u001b[0m\u001b[0;34m(\u001b[0m\u001b[0;34m\"Error\"\u001b[0m\u001b[0;34m,\u001b[0m \u001b[0;34m{\u001b[0m\u001b[0;34m}\u001b[0m\u001b[0;34m)\u001b[0m\u001b[0;34m.\u001b[0m\u001b[0mget\u001b[0m\u001b[0;34m(\u001b[0m\u001b[0;34m\"Code\"\u001b[0m\u001b[0;34m)\u001b[0m\u001b[0;34m\u001b[0m\u001b[0;34m\u001b[0m\u001b[0m\n\u001b[1;32m    675\u001b[0m             \u001b[0merror_class\u001b[0m \u001b[0;34m=\u001b[0m \u001b[0mself\u001b[0m\u001b[0;34m.\u001b[0m\u001b[0mexceptions\u001b[0m\u001b[0;34m.\u001b[0m\u001b[0mfrom_code\u001b[0m\u001b[0;34m(\u001b[0m\u001b[0merror_code\u001b[0m\u001b[0;34m)\u001b[0m\u001b[0;34m\u001b[0m\u001b[0;34m\u001b[0m\u001b[0m\n\u001b[0;32m--> 676\u001b[0;31m             \u001b[0;32mraise\u001b[0m \u001b[0merror_class\u001b[0m\u001b[0;34m(\u001b[0m\u001b[0mparsed_response\u001b[0m\u001b[0;34m,\u001b[0m \u001b[0moperation_name\u001b[0m\u001b[0;34m)\u001b[0m\u001b[0;34m\u001b[0m\u001b[0;34m\u001b[0m\u001b[0m\n\u001b[0m\u001b[1;32m    677\u001b[0m         \u001b[0;32melse\u001b[0m\u001b[0;34m:\u001b[0m\u001b[0;34m\u001b[0m\u001b[0;34m\u001b[0m\u001b[0m\n\u001b[1;32m    678\u001b[0m             \u001b[0;32mreturn\u001b[0m \u001b[0mparsed_response\u001b[0m\u001b[0;34m\u001b[0m\u001b[0;34m\u001b[0m\u001b[0m\n",
      "\u001b[0;31mClientError\u001b[0m: An error occurred (ValidationException) when calling the DeleteEndpointConfig operation: Could not find endpoint configuration \"arn:aws:sagemaker:eu-west-1:005638967662:endpoint-config/sagemaker-xgboost-2020-11-20-20-14-16-923\"."
     ]
    }
   ],
   "source": [
    "xgb_predictor.delete_endpoint()"
   ]
  },
  {
   "cell_type": "markdown",
   "metadata": {},
   "source": [
    "## Optional: Clean up\n",
    "\n",
    "The default notebook instance on SageMaker doesn't have a lot of excess disk space available. As you continue to complete and execute notebooks you will eventually fill up this disk space, leading to errors which can be difficult to diagnose. Once you are completely finished using a notebook it is a good idea to remove the files that you created along the way. Of course, you can do this from the terminal or from the notebook hub if you would like. The cell below contains some commands to clean up the created files from within the notebook."
   ]
  },
  {
   "cell_type": "code",
   "execution_count": 89,
   "metadata": {},
   "outputs": [],
   "source": [
    "# First we will remove all of the files contained in the data_dir directory\n",
    "!rm $data_dir/*\n",
    "\n",
    "# And then we delete the directory itself\n",
    "!rmdir $data_dir\n",
    "\n",
    "# Similarly we remove the files in the cache_dir directory and the directory itself\n",
    "!rm $cache_dir/*\n",
    "!rmdir $cache_dir"
   ]
  },
  {
   "cell_type": "code",
   "execution_count": 90,
   "metadata": {},
   "outputs": [
    {
     "name": "stdout",
     "output_type": "stream",
     "text": [
      "/home/ec2-user/SageMaker/sagemaker-deployment/Tutorials\r\n"
     ]
    }
   ],
   "source": [
    "!pwd"
   ]
  },
  {
   "cell_type": "code",
   "execution_count": null,
   "metadata": {},
   "outputs": [],
   "source": []
  }
 ],
 "metadata": {
  "kernelspec": {
   "display_name": "conda_pytorch_p36",
   "language": "python",
   "name": "conda_pytorch_p36"
  },
  "language_info": {
   "codemirror_mode": {
    "name": "ipython",
    "version": 3
   },
   "file_extension": ".py",
   "mimetype": "text/x-python",
   "name": "python",
   "nbconvert_exporter": "python",
   "pygments_lexer": "ipython3",
   "version": "3.6.10"
  }
 },
 "nbformat": 4,
 "nbformat_minor": 2
}
