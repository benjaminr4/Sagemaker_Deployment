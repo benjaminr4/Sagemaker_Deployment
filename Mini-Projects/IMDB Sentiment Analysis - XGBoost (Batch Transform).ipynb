{
 "cells": [
  {
   "cell_type": "markdown",
   "metadata": {},
   "source": [
    "# Sentiment Analysis\n",
    "\n",
    "## Using XGBoost in SageMaker\n",
    "\n",
    "_Deep Learning Nanodegree Program | Deployment_\n",
    "\n",
    "---\n",
    "\n",
    "As our first example of using Amazon's SageMaker service we will construct a random tree model to predict the sentiment of a movie review. You may have seen a version of this example in a pervious lesson although it would have been done using the sklearn package. Instead, we will be using the XGBoost package as it is provided to us by Amazon.\n",
    "\n",
    "## Instructions\n",
    "\n",
    "Some template code has already been provided for you, and you will need to implement additional functionality to successfully complete this notebook. You will not need to modify the included code beyond what is requested. Sections that begin with '**TODO**' in the header indicate that you need to complete or implement some portion within them. Instructions will be provided for each section and the specifics of the implementation are marked in the code block with a `# TODO: ...` comment. Please be sure to read the instructions carefully!\n",
    "\n",
    "In addition to implementing code, there may be questions for you to answer which relate to the task and your implementation. Each section where you will answer a question is preceded by a '**Question:**' header. Carefully read each question and provide your answer below the '**Answer:**' header by editing the Markdown cell.\n",
    "\n",
    "> **Note**: Code and Markdown cells can be executed using the **Shift+Enter** keyboard shortcut. In addition, a cell can be edited by typically clicking it (double-click for Markdown cells) or by pressing **Enter** while it is highlighted."
   ]
  },
  {
   "cell_type": "markdown",
   "metadata": {},
   "source": [
    "## Step 1: Downloading the data\n",
    "\n",
    "The dataset we are going to use is very popular among researchers in Natural Language Processing, usually referred to as the [IMDb dataset](http://ai.stanford.edu/~amaas/data/sentiment/). It consists of movie reviews from the website [imdb.com](http://www.imdb.com/), each labeled as either '**pos**itive', if the reviewer enjoyed the film, or '**neg**ative' otherwise.\n",
    "\n",
    "> Maas, Andrew L., et al. [Learning Word Vectors for Sentiment Analysis](http://ai.stanford.edu/~amaas/data/sentiment/). In _Proceedings of the 49th Annual Meeting of the Association for Computational Linguistics: Human Language Technologies_. Association for Computational Linguistics, 2011.\n",
    "\n",
    "We begin by using some Jupyter Notebook magic to download and extract the dataset."
   ]
  },
  {
   "cell_type": "code",
   "execution_count": 1,
   "metadata": {},
   "outputs": [
    {
     "name": "stdout",
     "output_type": "stream",
     "text": [
      "mkdir: cannot create directory ‘../data’: File exists\n",
      "--2020-11-17 18:03:59--  http://ai.stanford.edu/~amaas/data/sentiment/aclImdb_v1.tar.gz\n",
      "Resolving ai.stanford.edu (ai.stanford.edu)... 171.64.68.10\n",
      "Connecting to ai.stanford.edu (ai.stanford.edu)|171.64.68.10|:80... connected.\n",
      "HTTP request sent, awaiting response... 200 OK\n",
      "Length: 84125825 (80M) [application/x-gzip]\n",
      "Saving to: ‘../data/aclImdb_v1.tar.gz’\n",
      "\n",
      "../data/aclImdb_v1. 100%[===================>]  80.23M  7.35MB/s    in 15s     \n",
      "\n",
      "2020-11-17 18:04:15 (5.24 MB/s) - ‘../data/aclImdb_v1.tar.gz’ saved [84125825/84125825]\n",
      "\n"
     ]
    }
   ],
   "source": [
    "%mkdir ../data\n",
    "!wget -O ../data/aclImdb_v1.tar.gz http://ai.stanford.edu/~amaas/data/sentiment/aclImdb_v1.tar.gz\n",
    "!tar -zxf ../data/aclImdb_v1.tar.gz -C ../data"
   ]
  },
  {
   "cell_type": "markdown",
   "metadata": {},
   "source": [
    "## Step 2: Preparing the data\n",
    "\n",
    "The data we have downloaded is split into various files, each of which contains a single review. It will be much easier going forward if we combine these individual files into two large files, one for training and one for testing."
   ]
  },
  {
   "cell_type": "code",
   "execution_count": 2,
   "metadata": {},
   "outputs": [],
   "source": [
    "import os\n",
    "import glob\n",
    "\n",
    "def read_imdb_data(data_dir='../data/aclImdb'):\n",
    "    data = {}\n",
    "    labels = {}\n",
    "    \n",
    "    for data_type in ['train', 'test']:\n",
    "        data[data_type] = {}\n",
    "        labels[data_type] = {}\n",
    "        \n",
    "        for sentiment in ['pos', 'neg']:\n",
    "            data[data_type][sentiment] = []\n",
    "            labels[data_type][sentiment] = []\n",
    "            \n",
    "            path = os.path.join(data_dir, data_type, sentiment, '*.txt')\n",
    "            files = glob.glob(path)\n",
    "            \n",
    "            for f in files:\n",
    "                with open(f) as review:\n",
    "                    data[data_type][sentiment].append(review.read())\n",
    "                    # Here we represent a positive review by '1' and a negative review by '0'\n",
    "                    labels[data_type][sentiment].append(1 if sentiment == 'pos' else 0)\n",
    "                    \n",
    "            assert len(data[data_type][sentiment]) == len(labels[data_type][sentiment]), \\\n",
    "                    \"{}/{} data size does not match labels size\".format(data_type, sentiment)\n",
    "                \n",
    "    return data, labels"
   ]
  },
  {
   "cell_type": "code",
   "execution_count": 3,
   "metadata": {},
   "outputs": [
    {
     "name": "stdout",
     "output_type": "stream",
     "text": [
      "IMDB reviews: train = 12500 pos / 12500 neg, test = 12500 pos / 12500 neg\n"
     ]
    }
   ],
   "source": [
    "data, labels = read_imdb_data()\n",
    "print(\"IMDB reviews: train = {} pos / {} neg, test = {} pos / {} neg\".format(\n",
    "            len(data['train']['pos']), len(data['train']['neg']),\n",
    "            len(data['test']['pos']), len(data['test']['neg'])))"
   ]
  },
  {
   "cell_type": "code",
   "execution_count": 4,
   "metadata": {},
   "outputs": [],
   "source": [
    "from sklearn.utils import shuffle\n",
    "\n",
    "def prepare_imdb_data(data, labels):\n",
    "    \"\"\"Prepare training and test sets from IMDb movie reviews.\"\"\"\n",
    "    \n",
    "    #Combine positive and negative reviews and labels\n",
    "    data_train = data['train']['pos'] + data['train']['neg']\n",
    "    data_test = data['test']['pos'] + data['test']['neg']\n",
    "    labels_train = labels['train']['pos'] + labels['train']['neg']\n",
    "    labels_test = labels['test']['pos'] + labels['test']['neg']\n",
    "    \n",
    "    #Shuffle reviews and corresponding labels within training and test sets\n",
    "    data_train, labels_train = shuffle(data_train, labels_train)\n",
    "    data_test, labels_test = shuffle(data_test, labels_test)\n",
    "    \n",
    "    # Return a unified training data, test data, training labels, test labets\n",
    "    return data_train, data_test, labels_train, labels_test"
   ]
  },
  {
   "cell_type": "code",
   "execution_count": 5,
   "metadata": {},
   "outputs": [
    {
     "name": "stdout",
     "output_type": "stream",
     "text": [
      "IMDb reviews (combined): train = 25000, test = 25000\n"
     ]
    }
   ],
   "source": [
    "train_X, test_X, train_y, test_y = prepare_imdb_data(data, labels)\n",
    "print(\"IMDb reviews (combined): train = {}, test = {}\".format(len(train_X), len(test_X)))"
   ]
  },
  {
   "cell_type": "code",
   "execution_count": 6,
   "metadata": {},
   "outputs": [
    {
     "data": {
      "text/plain": [
       "'This could well be the worst film I\\'ve ever seen. Despite what Mikshelt claims, this movie isn\\'t even close to being historically accurate. It starts badly and then it\\'s all downhill from there. We have Hitler\\'s father cursing his own bad luck on the \"fact\" that he\\'d married his niece! They were in fact, second cousins. Hitler\\'s mother, Klara, called his father, Alois, \"uncle\" because Alois had been adopted and raised by Klara\\'s grandfather and brought up as his son, when he was really his nephew. Alois was much older than Klara and so as a child she\\'d got into the habit of calling Alois, \"uncle.\"<br /><br />The scene in the trenches where Hitler is mocked by his fellow soldiers and decides to take it out on his dog is simply a disgrace and an insult to the intelligence of all viewers. We see Hitler chase the dog through the trench, when he catches up with the poor thing he proceeds to thrash it for disobeying him. In the distance we see and hear his fellow soldiers continue to mock and chastise the cowardly little man, but then a shell lands directly on his persecutors, and every last one, we are told, is killed outright. How then, if Hitler was the only person to survive the scene, did this tale of brutality and cowardice come to be told? Did Hitler himself go around \"boasting\" about it? - I don\\'t think so.<br /><br />Next up, Hitler bullies and intimidates a poor, stressed out and war weary Jewish officer into giving him an Iron Cross! I can only assume that this Jewish officer had been a pawnbroker before fighting for the Fatherland, and had thoughtfully brought along some pledged medals from his shop, because I\\'m certain that Iron Crosses were not being handed out as shown in this comic farce.<br /><br />All the grotesque clichés are here, not least the calming and hypnotic effect of Wagner\\'s music upon the little man. If only the producers had kept Ian Kershaw on side. Then they might have discovered that Franz Lehar\\'s \"Merry Widow\" was more likely to float the Fuhrer\\'s boat than any \"Flying Dutchman\" from the cannon of Richard Wagner!<br /><br />Hitler may have been responsible for the deaths of 60 million people but how can he ever be forgiven for his appalling taste in music?<br /><br />I could go on but I\\'d be at it for hours.<br /><br />Give it a miss.'"
      ]
     },
     "execution_count": 6,
     "metadata": {},
     "output_type": "execute_result"
    }
   ],
   "source": [
    "train_X[100]"
   ]
  },
  {
   "cell_type": "markdown",
   "metadata": {},
   "source": [
    "## Step 3: Processing the data\n",
    "\n",
    "Now that we have our training and testing datasets merged and ready to use, we need to start processing the raw data into something that will be useable by our machine learning algorithm. To begin with, we remove any html formatting that may appear in the reviews and perform some standard natural language processing in order to homogenize the data."
   ]
  },
  {
   "cell_type": "code",
   "execution_count": 7,
   "metadata": {},
   "outputs": [
    {
     "name": "stderr",
     "output_type": "stream",
     "text": [
      "[nltk_data] Downloading package stopwords to\n",
      "[nltk_data]     /home/ec2-user/nltk_data...\n",
      "[nltk_data]   Unzipping corpora/stopwords.zip.\n"
     ]
    }
   ],
   "source": [
    "import nltk\n",
    "nltk.download(\"stopwords\")\n",
    "from nltk.corpus import stopwords\n",
    "from nltk.stem.porter import *\n",
    "stemmer = PorterStemmer()"
   ]
  },
  {
   "cell_type": "code",
   "execution_count": 8,
   "metadata": {},
   "outputs": [],
   "source": [
    "import re\n",
    "from bs4 import BeautifulSoup\n",
    "\n",
    "def review_to_words(review):\n",
    "    text = BeautifulSoup(review, \"html.parser\").get_text() # Remove HTML tags\n",
    "    text = re.sub(r\"[^a-zA-Z0-9]\", \" \", text.lower()) # Convert to lower case\n",
    "    words = text.split() # Split string into words\n",
    "    words = [w for w in words if w not in stopwords.words(\"english\")] # Remove stopwords\n",
    "    words = [PorterStemmer().stem(w) for w in words] # stem\n",
    "    \n",
    "    return words"
   ]
  },
  {
   "cell_type": "code",
   "execution_count": 9,
   "metadata": {},
   "outputs": [],
   "source": [
    "import pickle\n",
    "\n",
    "cache_dir = os.path.join(\"../cache\", \"sentiment_analysis\")  # where to store cache files\n",
    "os.makedirs(cache_dir, exist_ok=True)  # ensure cache directory exists\n",
    "\n",
    "def preprocess_data(data_train, data_test, labels_train, labels_test,\n",
    "                    cache_dir=cache_dir, cache_file=\"preprocessed_data.pkl\"):\n",
    "    \"\"\"Convert each review to words; read from cache if available.\"\"\"\n",
    "\n",
    "    # If cache_file is not None, try to read from it first\n",
    "    cache_data = None\n",
    "    if cache_file is not None:\n",
    "        try:\n",
    "            with open(os.path.join(cache_dir, cache_file), \"rb\") as f:\n",
    "                cache_data = pickle.load(f)\n",
    "            print(\"Read preprocessed data from cache file:\", cache_file)\n",
    "        except:\n",
    "            pass  # unable to read from cache, but that's okay\n",
    "    \n",
    "    # If cache is missing, then do the heavy lifting\n",
    "    if cache_data is None:\n",
    "        # Preprocess training and test data to obtain words for each review\n",
    "        #words_train = list(map(review_to_words, data_train))\n",
    "        #words_test = list(map(review_to_words, data_test))\n",
    "        words_train = [review_to_words(review) for review in data_train]\n",
    "        words_test = [review_to_words(review) for review in data_test]\n",
    "        \n",
    "        # Write to cache file for future runs\n",
    "        if cache_file is not None:\n",
    "            cache_data = dict(words_train=words_train, words_test=words_test,\n",
    "                              labels_train=labels_train, labels_test=labels_test)\n",
    "            with open(os.path.join(cache_dir, cache_file), \"wb\") as f:\n",
    "                pickle.dump(cache_data, f)\n",
    "            print(\"Wrote preprocessed data to cache file:\", cache_file)\n",
    "    else:\n",
    "        # Unpack data loaded from cache file\n",
    "        words_train, words_test, labels_train, labels_test = (cache_data['words_train'],\n",
    "                cache_data['words_test'], cache_data['labels_train'], cache_data['labels_test'])\n",
    "    \n",
    "    return words_train, words_test, labels_train, labels_test"
   ]
  },
  {
   "cell_type": "code",
   "execution_count": 10,
   "metadata": {},
   "outputs": [
    {
     "name": "stdout",
     "output_type": "stream",
     "text": [
      "Wrote preprocessed data to cache file: preprocessed_data.pkl\n"
     ]
    }
   ],
   "source": [
    "# Preprocess data\n",
    "train_X, test_X, train_y, test_y = preprocess_data(train_X, test_X, train_y, test_y)"
   ]
  },
  {
   "cell_type": "markdown",
   "metadata": {},
   "source": [
    "### Extract Bag-of-Words features\n",
    "\n",
    "For the model we will be implementing, rather than using the reviews directly, we are going to transform each review into a Bag-of-Words feature representation. Keep in mind that 'in the wild' we will only have access to the training set so our transformer can only use the training set to construct a representation."
   ]
  },
  {
   "cell_type": "code",
   "execution_count": 11,
   "metadata": {},
   "outputs": [
    {
     "name": "stderr",
     "output_type": "stream",
     "text": [
      "/home/ec2-user/anaconda3/envs/python3/lib/python3.6/site-packages/sklearn/externals/joblib/__init__.py:15: FutureWarning: sklearn.externals.joblib is deprecated in 0.21 and will be removed in 0.23. Please import this functionality directly from joblib, which can be installed with: pip install joblib. If this warning is raised when loading pickled models, you may need to re-serialize those models with scikit-learn 0.21+.\n",
      "  warnings.warn(msg, category=FutureWarning)\n"
     ]
    }
   ],
   "source": [
    "import numpy as np\n",
    "from sklearn.feature_extraction.text import CountVectorizer\n",
    "from sklearn.externals import joblib\n",
    "# joblib is an enhanced version of pickle that is more efficient for storing NumPy arrays\n",
    "\n",
    "def extract_BoW_features(words_train, words_test, vocabulary_size=5000,\n",
    "                         cache_dir=cache_dir, cache_file=\"bow_features.pkl\"):\n",
    "    \"\"\"Extract Bag-of-Words for a given set of documents, already preprocessed into words.\"\"\"\n",
    "    \n",
    "    # If cache_file is not None, try to read from it first\n",
    "    cache_data = None\n",
    "    if cache_file is not None:\n",
    "        try:\n",
    "            with open(os.path.join(cache_dir, cache_file), \"rb\") as f:\n",
    "                cache_data = joblib.load(f)\n",
    "            print(\"Read features from cache file:\", cache_file)\n",
    "        except:\n",
    "            pass  # unable to read from cache, but that's okay\n",
    "    \n",
    "    # If cache is missing, then do the heavy lifting\n",
    "    if cache_data is None:\n",
    "        # Fit a vectorizer to training documents and use it to transform them\n",
    "        # NOTE: Training documents have already been preprocessed and tokenized into words;\n",
    "        #       pass in dummy functions to skip those steps, e.g. preprocessor=lambda x: x\n",
    "        vectorizer = CountVectorizer(max_features=vocabulary_size,\n",
    "                preprocessor=lambda x: x, tokenizer=lambda x: x)  # already preprocessed\n",
    "        features_train = vectorizer.fit_transform(words_train).toarray()\n",
    "\n",
    "        # Apply the same vectorizer to transform the test documents (ignore unknown words)\n",
    "        features_test = vectorizer.transform(words_test).toarray()\n",
    "        \n",
    "        # NOTE: Remember to convert the features using .toarray() for a compact representation\n",
    "        \n",
    "        # Write to cache file for future runs (store vocabulary as well)\n",
    "        if cache_file is not None:\n",
    "            vocabulary = vectorizer.vocabulary_\n",
    "            cache_data = dict(features_train=features_train, features_test=features_test,\n",
    "                             vocabulary=vocabulary)\n",
    "            with open(os.path.join(cache_dir, cache_file), \"wb\") as f:\n",
    "                joblib.dump(cache_data, f)\n",
    "            print(\"Wrote features to cache file:\", cache_file)\n",
    "    else:\n",
    "        # Unpack data loaded from cache file\n",
    "        features_train, features_test, vocabulary = (cache_data['features_train'],\n",
    "                cache_data['features_test'], cache_data['vocabulary'])\n",
    "    \n",
    "    # Return both the extracted features as well as the vocabulary\n",
    "    return features_train, features_test, vocabulary"
   ]
  },
  {
   "cell_type": "code",
   "execution_count": 12,
   "metadata": {},
   "outputs": [
    {
     "name": "stdout",
     "output_type": "stream",
     "text": [
      "Wrote features to cache file: bow_features.pkl\n"
     ]
    }
   ],
   "source": [
    "# Extract Bag of Words features for both training and test datasets\n",
    "train_X, test_X, vocabulary = extract_BoW_features(train_X, test_X)"
   ]
  },
  {
   "cell_type": "markdown",
   "metadata": {},
   "source": [
    "## Step 4: Classification using XGBoost\n",
    "\n",
    "Now that we have created the feature representation of our training (and testing) data, it is time to start setting up and using the XGBoost classifier provided by SageMaker.\n",
    "\n",
    "### (TODO) Writing the dataset\n",
    "\n",
    "The XGBoost classifier that we will be using requires the dataset to be written to a file and stored using Amazon S3. To do this, we will start by splitting the training dataset into two parts, the data we will train the model with and a validation set. Then, we will write those datasets to a file and upload the files to S3. In addition, we will write the test set input to a file and upload the file to S3. This is so that we can use SageMakers Batch Transform functionality to test our model once we've fit it."
   ]
  },
  {
   "cell_type": "code",
   "execution_count": 13,
   "metadata": {},
   "outputs": [],
   "source": [
    "import pandas as pd\n",
    "\n",
    "# TODO: Split the train_X and train_y arrays into the DataFrames val_X, train_X and val_y, train_y. Make sure that\n",
    "#       val_X and val_y contain 10 000 entires while train_X and train_y contain the remaining 15 000 entries.\n",
    "\n",
    "val_X = pd.DataFrame(train_X[:10000])\n",
    "train_X = pd.DataFrame(train_X[10000:])\n",
    "\n",
    "val_y = pd.DataFrame(train_y[:10000])\n",
    "train_y = pd.DataFrame(train_y[10000:])\n"
   ]
  },
  {
   "cell_type": "markdown",
   "metadata": {},
   "source": [
    "The documentation for the XGBoost algorithm in SageMaker requires that the saved datasets should contain no headers or index and that for the training and validation data, the label should occur first for each sample.\n",
    "\n",
    "For more information about this and other algorithms, the SageMaker developer documentation can be found on __[Amazon's website.](https://docs.aws.amazon.com/sagemaker/latest/dg/)__"
   ]
  },
  {
   "cell_type": "code",
   "execution_count": 14,
   "metadata": {},
   "outputs": [],
   "source": [
    "# First we make sure that the local directory in which we'd like to store the training and validation csv files exists.\n",
    "data_dir = '../data/xgboost'\n",
    "if not os.path.exists(data_dir):\n",
    "    os.makedirs(data_dir)"
   ]
  },
  {
   "cell_type": "code",
   "execution_count": 15,
   "metadata": {},
   "outputs": [],
   "source": [
    "# First, save the test data to test.csv in the data_dir directory. Note that we do not save the associated ground truth\n",
    "# labels, instead we will use them later to compare with our model output.\n",
    "\n",
    "pd.DataFrame(test_X).to_csv(os.path.join(data_dir, 'test.csv'), header=False, index=False)\n",
    "\n",
    "# TODO: Save the training and validation data to train.csv and validation.csv in the data_dir directory.\n",
    "#       Make sure that the files you create are in the correct format.\n",
    "\n",
    "pd.concat([val_y, val_X], axis=1).to_csv(os.path.join(data_dir, 'validation.csv'), header=False, index=False)\n",
    "pd.concat([train_y, train_X], axis=1).to_csv(os.path.join(data_dir, 'train.csv'), header=False, index=False)\n"
   ]
  },
  {
   "cell_type": "code",
   "execution_count": 16,
   "metadata": {},
   "outputs": [],
   "source": [
    "# To save a bit of memory we can set text_X, train_X, val_X, train_y and val_y to None.\n",
    "\n",
    "test_X = train_X = val_X = train_y = val_y = None"
   ]
  },
  {
   "cell_type": "markdown",
   "metadata": {},
   "source": [
    "### (TODO) Uploading Training / Validation files to S3\n",
    "\n",
    "Amazon's S3 service allows us to store files that can be access by both the built-in training models such as the XGBoost model we will be using as well as custom models such as the one we will see a little later.\n",
    "\n",
    "For this, and most other tasks we will be doing using SageMaker, there are two methods we could use. The first is to use the low level functionality of SageMaker which requires knowing each of the objects involved in the SageMaker environment. The second is to use the high level functionality in which certain choices have been made on the user's behalf. The low level approach benefits from allowing the user a great deal of flexibility while the high level approach makes development much quicker. For our purposes we will opt to use the high level approach although using the low-level approach is certainly an option.\n",
    "\n",
    "Recall the method `upload_data()` which is a member of object representing our current SageMaker session. What this method does is upload the data to the default bucket (which is created if it does not exist) into the path described by the key_prefix variable. To see this for yourself, once you have uploaded the data files, go to the S3 console and look to see where the files have been uploaded.\n",
    "\n",
    "For additional resources, see the __[SageMaker API documentation](http://sagemaker.readthedocs.io/en/latest/)__ and in addition the __[SageMaker Developer Guide.](https://docs.aws.amazon.com/sagemaker/latest/dg/)__"
   ]
  },
  {
   "cell_type": "code",
   "execution_count": 23,
   "metadata": {},
   "outputs": [],
   "source": [
    "import sagemaker\n",
    "\n",
    "session = sagemaker.Session() # Store the current SageMaker session\n",
    "\n",
    "# S3 prefix (which folder will we use)\n",
    "prefix = 'sentiment-xgboost'\n",
    "\n",
    "# TODO: Upload the test.csv, train.csv and validation.csv files which are contained in data_dir to S3 using sess.upload_data().\n",
    "#test_location = None\n",
    "#val_location = None\n",
    "#train_location = None\n",
    "\n",
    "#Benjamin commented out the 3 lines above\n",
    "\n",
    "# Solution:\n",
    "test_location = session.upload_data(os.path.join(data_dir, 'test.csv'), key_prefix=prefix)\n",
    "val_location = session.upload_data(os.path.join(data_dir, 'validation.csv'), key_prefix=prefix)\n",
    "train_location = session.upload_data(os.path.join(data_dir, 'train.csv'), key_prefix=prefix)"
   ]
  },
  {
   "cell_type": "code",
   "execution_count": 22,
   "metadata": {},
   "outputs": [
    {
     "data": {
      "text/plain": [
       "5"
      ]
     },
     "execution_count": 22,
     "metadata": {},
     "output_type": "execute_result"
    }
   ],
   "source": [
    "2+3"
   ]
  },
  {
   "cell_type": "markdown",
   "metadata": {},
   "source": [
    "### (TODO) Creating the XGBoost model\n",
    "\n",
    "Now that the data has been uploaded it is time to create the XGBoost model. To begin with, we need to do some setup. At this point it is worth discussing what a model is in SageMaker. It is easiest to think of a model of comprising three different objects in the SageMaker ecosystem, which interact with one another.\n",
    "\n",
    "- Model Artifacts\n",
    "- Training Code (Container)\n",
    "- Inference Code (Container)\n",
    "\n",
    "The Model Artifacts are what you might think of as the actual model itself. For example, if you were building a neural network, the model artifacts would be the weights of the various layers. In our case, for an XGBoost model, the artifacts are the actual trees that are created during training.\n",
    "\n",
    "The other two objects, the training code and the inference code are then used the manipulate the training artifacts. More precisely, the training code uses the training data that is provided and creates the model artifacts, while the inference code uses the model artifacts to make predictions on new data.\n",
    "\n",
    "The way that SageMaker runs the training and inference code is by making use of Docker containers. For now, think of a container as being a way of packaging code up so that dependencies aren't an issue."
   ]
  },
  {
   "cell_type": "code",
   "execution_count": 24,
   "metadata": {},
   "outputs": [],
   "source": [
    "from sagemaker import get_execution_role\n",
    "\n",
    "# Our current execution role is require when creating the model as the training\n",
    "# and inference code will need to access the model artifacts.\n",
    "role = get_execution_role()"
   ]
  },
  {
   "cell_type": "code",
   "execution_count": 25,
   "metadata": {},
   "outputs": [
    {
     "name": "stderr",
     "output_type": "stream",
     "text": [
      "'get_image_uri' method will be deprecated in favor of 'ImageURIProvider' class in SageMaker Python SDK v2.\n",
      "There is a more up to date SageMaker XGBoost image. To use the newer image, please set 'repo_version'='1.0-1'. For example:\n",
      "\tget_image_uri(region, 'xgboost', '1.0-1').\n"
     ]
    }
   ],
   "source": [
    "# We need to retrieve the location of the container which is provided by Amazon for using XGBoost.\n",
    "# As a matter of convenience, the training and inference code both use the same container.\n",
    "from sagemaker.amazon.amazon_estimator import get_image_uri\n",
    "\n",
    "container = get_image_uri(session.boto_region_name, 'xgboost')"
   ]
  },
  {
   "cell_type": "code",
   "execution_count": 26,
   "metadata": {},
   "outputs": [
    {
     "name": "stderr",
     "output_type": "stream",
     "text": [
      "Parameter image_name will be renamed to image_uri in SageMaker Python SDK v2.\n"
     ]
    }
   ],
   "source": [
    "# TODO: Create a SageMaker estimator using the container location determined in the previous cell.\n",
    "#       It is recommended that you use a single training instance of type ml.m4.xlarge. It is also\n",
    "#       recommended that you use 's3://{}/{}/output'.format(session.default_bucket(), prefix) as the\n",
    "#       output path.\n",
    "\n",
    "xgb = None\n",
    "\n",
    "xgb = sagemaker.estimator.Estimator(container, # The location of the container we wish to use\n",
    "                                    role,                                    # What is our current IAM Role\n",
    "                                    train_instance_count=1,                  # How many compute instances\n",
    "                                    train_instance_type='ml.m4.xlarge',      # What kind of compute instances\n",
    "                                    output_path='s3://{}/{}/output'.format(session.default_bucket(), prefix),\n",
    "                                    sagemaker_session=session)\n",
    "\n",
    "# TODO: Set the XGBoost hyperparameters in the xgb object. Don't forget that in this case we have a binary\n",
    "#       label so we should be using the 'binary:logistic' objective.\n",
    "xgb.set_hyperparameters(max_depth=5,\n",
    "                        eta=0.2,\n",
    "                        gamma=4,\n",
    "                        min_child_weight=6,\n",
    "                        subsample=0.8,\n",
    "                        silent=0,\n",
    "                        objective='binary:logistic',\n",
    "                        early_stopping_rounds=10,\n",
    "                        num_round=500)"
   ]
  },
  {
   "cell_type": "markdown",
   "metadata": {},
   "source": [
    "### Fit the XGBoost model\n",
    "\n",
    "Now that our model has been set up we simply need to attach the training and validation datasets and then ask SageMaker to set up the computation."
   ]
  },
  {
   "cell_type": "code",
   "execution_count": 27,
   "metadata": {},
   "outputs": [
    {
     "name": "stderr",
     "output_type": "stream",
     "text": [
      "'s3_input' class will be renamed to 'TrainingInput' in SageMaker Python SDK v2.\n",
      "'s3_input' class will be renamed to 'TrainingInput' in SageMaker Python SDK v2.\n"
     ]
    }
   ],
   "source": [
    "s3_input_train = sagemaker.s3_input(s3_data=train_location, content_type='csv')\n",
    "s3_input_validation = sagemaker.s3_input(s3_data=val_location, content_type='csv')"
   ]
  },
  {
   "cell_type": "code",
   "execution_count": 28,
   "metadata": {},
   "outputs": [
    {
     "name": "stdout",
     "output_type": "stream",
     "text": [
      "2020-11-17 19:09:32 Starting - Starting the training job...\n",
      "2020-11-17 19:09:34 Starting - Launching requested ML instances......\n",
      "2020-11-17 19:10:58 Starting - Preparing the instances for training......\n",
      "2020-11-17 19:11:54 Downloading - Downloading input data...\n",
      "2020-11-17 19:12:29 Training - Downloading the training image...\n",
      "2020-11-17 19:12:48 Training - Training image download completed. Training in progress.\u001b[34mArguments: train\u001b[0m\n",
      "\u001b[34m[2020-11-17:19:12:49:INFO] Running standalone xgboost training.\u001b[0m\n",
      "\u001b[34m[2020-11-17:19:12:49:INFO] File size need to be processed in the node: 238.47mb. Available memory size in the node: 8487.28mb\u001b[0m\n",
      "\u001b[34m[2020-11-17:19:12:49:INFO] Determined delimiter of CSV input is ','\u001b[0m\n",
      "\u001b[34m[19:12:49] S3DistributionType set as FullyReplicated\u001b[0m\n",
      "\u001b[34m[19:12:51] 15000x5000 matrix with 75000000 entries loaded from /opt/ml/input/data/train?format=csv&label_column=0&delimiter=,\u001b[0m\n",
      "\u001b[34m[2020-11-17:19:12:51:INFO] Determined delimiter of CSV input is ','\u001b[0m\n",
      "\u001b[34m[19:12:51] S3DistributionType set as FullyReplicated\u001b[0m\n",
      "\u001b[34m[19:12:52] 10000x5000 matrix with 50000000 entries loaded from /opt/ml/input/data/validation?format=csv&label_column=0&delimiter=,\u001b[0m\n",
      "\u001b[34m[19:12:56] src/tree/updater_prune.cc:74: tree pruning end, 1 roots, 40 extra nodes, 4 pruned nodes, max_depth=5\u001b[0m\n",
      "\u001b[34m[0]#011train-error:0.296133#011validation-error:0.3052\u001b[0m\n",
      "\u001b[34mMultiple eval metrics have been passed: 'validation-error' will be used for early stopping.\n",
      "\u001b[0m\n",
      "\u001b[34mWill train until validation-error hasn't improved in 10 rounds.\u001b[0m\n",
      "\u001b[34m[19:12:57] src/tree/updater_prune.cc:74: tree pruning end, 1 roots, 44 extra nodes, 2 pruned nodes, max_depth=5\u001b[0m\n",
      "\u001b[34m[1]#011train-error:0.2786#011validation-error:0.2844\u001b[0m\n",
      "\u001b[34m[19:12:58] src/tree/updater_prune.cc:74: tree pruning end, 1 roots, 34 extra nodes, 12 pruned nodes, max_depth=5\u001b[0m\n",
      "\u001b[34m[2]#011train-error:0.270333#011validation-error:0.276\u001b[0m\n",
      "\u001b[34m[19:13:00] src/tree/updater_prune.cc:74: tree pruning end, 1 roots, 38 extra nodes, 12 pruned nodes, max_depth=5\u001b[0m\n",
      "\u001b[34m[3]#011train-error:0.278067#011validation-error:0.2875\u001b[0m\n",
      "\u001b[34m[19:13:01] src/tree/updater_prune.cc:74: tree pruning end, 1 roots, 32 extra nodes, 2 pruned nodes, max_depth=5\u001b[0m\n",
      "\u001b[34m[4]#011train-error:0.269333#011validation-error:0.2771\u001b[0m\n",
      "\u001b[34m[19:13:03] src/tree/updater_prune.cc:74: tree pruning end, 1 roots, 36 extra nodes, 2 pruned nodes, max_depth=5\u001b[0m\n",
      "\u001b[34m[5]#011train-error:0.2504#011validation-error:0.2606\u001b[0m\n",
      "\u001b[34m[19:13:04] src/tree/updater_prune.cc:74: tree pruning end, 1 roots, 28 extra nodes, 4 pruned nodes, max_depth=5\u001b[0m\n",
      "\u001b[34m[6]#011train-error:0.238667#011validation-error:0.2502\u001b[0m\n",
      "\u001b[34m[19:13:05] src/tree/updater_prune.cc:74: tree pruning end, 1 roots, 28 extra nodes, 6 pruned nodes, max_depth=5\u001b[0m\n",
      "\u001b[34m[7]#011train-error:0.2362#011validation-error:0.2497\u001b[0m\n",
      "\u001b[34m[19:13:07] src/tree/updater_prune.cc:74: tree pruning end, 1 roots, 46 extra nodes, 2 pruned nodes, max_depth=5\u001b[0m\n",
      "\u001b[34m[8]#011train-error:0.2288#011validation-error:0.2424\u001b[0m\n",
      "\u001b[34m[19:13:08] src/tree/updater_prune.cc:74: tree pruning end, 1 roots, 32 extra nodes, 8 pruned nodes, max_depth=5\u001b[0m\n",
      "\u001b[34m[9]#011train-error:0.2238#011validation-error:0.2364\u001b[0m\n",
      "\u001b[34m[19:13:09] src/tree/updater_prune.cc:74: tree pruning end, 1 roots, 30 extra nodes, 8 pruned nodes, max_depth=5\u001b[0m\n",
      "\u001b[34m[10]#011train-error:0.2198#011validation-error:0.2337\u001b[0m\n",
      "\u001b[34m[19:13:10] src/tree/updater_prune.cc:74: tree pruning end, 1 roots, 34 extra nodes, 4 pruned nodes, max_depth=5\u001b[0m\n",
      "\u001b[34m[11]#011train-error:0.214867#011validation-error:0.2289\u001b[0m\n",
      "\u001b[34m[19:13:12] src/tree/updater_prune.cc:74: tree pruning end, 1 roots, 26 extra nodes, 2 pruned nodes, max_depth=5\u001b[0m\n",
      "\u001b[34m[12]#011train-error:0.211267#011validation-error:0.2269\u001b[0m\n",
      "\u001b[34m[19:13:13] src/tree/updater_prune.cc:74: tree pruning end, 1 roots, 30 extra nodes, 4 pruned nodes, max_depth=5\u001b[0m\n",
      "\u001b[34m[13]#011train-error:0.206733#011validation-error:0.2235\u001b[0m\n",
      "\u001b[34m[19:13:14] src/tree/updater_prune.cc:74: tree pruning end, 1 roots, 24 extra nodes, 8 pruned nodes, max_depth=5\u001b[0m\n",
      "\u001b[34m[14]#011train-error:0.204733#011validation-error:0.2218\u001b[0m\n",
      "\u001b[34m[19:13:15] src/tree/updater_prune.cc:74: tree pruning end, 1 roots, 28 extra nodes, 4 pruned nodes, max_depth=5\u001b[0m\n",
      "\u001b[34m[15]#011train-error:0.200933#011validation-error:0.2191\u001b[0m\n",
      "\u001b[34m[19:13:17] src/tree/updater_prune.cc:74: tree pruning end, 1 roots, 26 extra nodes, 6 pruned nodes, max_depth=5\u001b[0m\n",
      "\u001b[34m[16]#011train-error:0.197133#011validation-error:0.2138\u001b[0m\n",
      "\u001b[34m[19:13:18] src/tree/updater_prune.cc:74: tree pruning end, 1 roots, 28 extra nodes, 14 pruned nodes, max_depth=5\u001b[0m\n",
      "\u001b[34m[17]#011train-error:0.194867#011validation-error:0.2141\u001b[0m\n",
      "\u001b[34m[19:13:19] src/tree/updater_prune.cc:74: tree pruning end, 1 roots, 28 extra nodes, 2 pruned nodes, max_depth=5\u001b[0m\n",
      "\u001b[34m[18]#011train-error:0.191333#011validation-error:0.2118\u001b[0m\n",
      "\u001b[34m[19:13:21] src/tree/updater_prune.cc:74: tree pruning end, 1 roots, 30 extra nodes, 8 pruned nodes, max_depth=5\u001b[0m\n",
      "\u001b[34m[19]#011train-error:0.19#011validation-error:0.2107\u001b[0m\n",
      "\u001b[34m[19:13:22] src/tree/updater_prune.cc:74: tree pruning end, 1 roots, 34 extra nodes, 6 pruned nodes, max_depth=5\u001b[0m\n",
      "\u001b[34m[20]#011train-error:0.188133#011validation-error:0.208\u001b[0m\n",
      "\u001b[34m[19:13:23] src/tree/updater_prune.cc:74: tree pruning end, 1 roots, 32 extra nodes, 6 pruned nodes, max_depth=5\u001b[0m\n",
      "\u001b[34m[21]#011train-error:0.185667#011validation-error:0.2041\u001b[0m\n",
      "\u001b[34m[19:13:24] src/tree/updater_prune.cc:74: tree pruning end, 1 roots, 28 extra nodes, 10 pruned nodes, max_depth=5\u001b[0m\n",
      "\u001b[34m[22]#011train-error:0.181933#011validation-error:0.202\u001b[0m\n",
      "\u001b[34m[19:13:26] src/tree/updater_prune.cc:74: tree pruning end, 1 roots, 26 extra nodes, 8 pruned nodes, max_depth=5\u001b[0m\n",
      "\u001b[34m[23]#011train-error:0.1786#011validation-error:0.1987\u001b[0m\n",
      "\u001b[34m[19:13:27] src/tree/updater_prune.cc:74: tree pruning end, 1 roots, 20 extra nodes, 6 pruned nodes, max_depth=5\u001b[0m\n",
      "\u001b[34m[24]#011train-error:0.176667#011validation-error:0.198\u001b[0m\n",
      "\u001b[34m[19:13:28] src/tree/updater_prune.cc:74: tree pruning end, 1 roots, 26 extra nodes, 6 pruned nodes, max_depth=5\u001b[0m\n",
      "\u001b[34m[25]#011train-error:0.175867#011validation-error:0.1968\u001b[0m\n",
      "\u001b[34m[19:13:30] src/tree/updater_prune.cc:74: tree pruning end, 1 roots, 30 extra nodes, 4 pruned nodes, max_depth=5\u001b[0m\n",
      "\u001b[34m[26]#011train-error:0.171933#011validation-error:0.1949\u001b[0m\n",
      "\u001b[34m[19:13:31] src/tree/updater_prune.cc:74: tree pruning end, 1 roots, 20 extra nodes, 12 pruned nodes, max_depth=5\u001b[0m\n",
      "\u001b[34m[27]#011train-error:0.169733#011validation-error:0.1915\u001b[0m\n",
      "\u001b[34m[19:13:32] src/tree/updater_prune.cc:74: tree pruning end, 1 roots, 32 extra nodes, 6 pruned nodes, max_depth=5\u001b[0m\n",
      "\u001b[34m[28]#011train-error:0.167867#011validation-error:0.1894\u001b[0m\n",
      "\u001b[34m[19:13:34] src/tree/updater_prune.cc:74: tree pruning end, 1 roots, 26 extra nodes, 8 pruned nodes, max_depth=5\u001b[0m\n",
      "\u001b[34m[29]#011train-error:0.165533#011validation-error:0.1887\u001b[0m\n",
      "\u001b[34m[19:13:35] src/tree/updater_prune.cc:74: tree pruning end, 1 roots, 34 extra nodes, 12 pruned nodes, max_depth=5\u001b[0m\n",
      "\u001b[34m[30]#011train-error:0.164267#011validation-error:0.1876\u001b[0m\n",
      "\u001b[34m[19:13:36] src/tree/updater_prune.cc:74: tree pruning end, 1 roots, 30 extra nodes, 8 pruned nodes, max_depth=5\u001b[0m\n",
      "\u001b[34m[31]#011train-error:0.1598#011validation-error:0.1868\u001b[0m\n",
      "\u001b[34m[19:13:37] src/tree/updater_prune.cc:74: tree pruning end, 1 roots, 18 extra nodes, 8 pruned nodes, max_depth=5\u001b[0m\n",
      "\u001b[34m[32]#011train-error:0.159733#011validation-error:0.1852\u001b[0m\n",
      "\u001b[34m[19:13:39] src/tree/updater_prune.cc:74: tree pruning end, 1 roots, 20 extra nodes, 12 pruned nodes, max_depth=5\u001b[0m\n",
      "\u001b[34m[33]#011train-error:0.158933#011validation-error:0.1838\u001b[0m\n",
      "\u001b[34m[19:13:40] src/tree/updater_prune.cc:74: tree pruning end, 1 roots, 20 extra nodes, 8 pruned nodes, max_depth=5\u001b[0m\n",
      "\u001b[34m[34]#011train-error:0.156667#011validation-error:0.1831\u001b[0m\n",
      "\u001b[34m[19:13:41] src/tree/updater_prune.cc:74: tree pruning end, 1 roots, 24 extra nodes, 8 pruned nodes, max_depth=5\u001b[0m\n",
      "\u001b[34m[35]#011train-error:0.155133#011validation-error:0.182\u001b[0m\n",
      "\u001b[34m[19:13:43] src/tree/updater_prune.cc:74: tree pruning end, 1 roots, 42 extra nodes, 8 pruned nodes, max_depth=5\u001b[0m\n",
      "\u001b[34m[36]#011train-error:0.152267#011validation-error:0.181\u001b[0m\n",
      "\u001b[34m[19:13:44] src/tree/updater_prune.cc:74: tree pruning end, 1 roots, 12 extra nodes, 12 pruned nodes, max_depth=5\u001b[0m\n",
      "\u001b[34m[37]#011train-error:0.151467#011validation-error:0.1803\u001b[0m\n",
      "\u001b[34m[19:13:45] src/tree/updater_prune.cc:74: tree pruning end, 1 roots, 18 extra nodes, 8 pruned nodes, max_depth=5\u001b[0m\n",
      "\u001b[34m[38]#011train-error:0.150267#011validation-error:0.1801\u001b[0m\n",
      "\u001b[34m[19:13:46] src/tree/updater_prune.cc:74: tree pruning end, 1 roots, 24 extra nodes, 2 pruned nodes, max_depth=5\u001b[0m\n",
      "\u001b[34m[39]#011train-error:0.150067#011validation-error:0.1792\u001b[0m\n"
     ]
    },
    {
     "name": "stdout",
     "output_type": "stream",
     "text": [
      "\u001b[34m[19:13:48] src/tree/updater_prune.cc:74: tree pruning end, 1 roots, 32 extra nodes, 4 pruned nodes, max_depth=5\u001b[0m\n",
      "\u001b[34m[40]#011train-error:0.148333#011validation-error:0.1781\u001b[0m\n",
      "\u001b[34m[19:13:49] src/tree/updater_prune.cc:74: tree pruning end, 1 roots, 24 extra nodes, 4 pruned nodes, max_depth=5\u001b[0m\n",
      "\u001b[34m[41]#011train-error:0.148067#011validation-error:0.1782\u001b[0m\n",
      "\u001b[34m[19:13:50] src/tree/updater_prune.cc:74: tree pruning end, 1 roots, 22 extra nodes, 6 pruned nodes, max_depth=5\u001b[0m\n",
      "\u001b[34m[42]#011train-error:0.146867#011validation-error:0.1771\u001b[0m\n",
      "\u001b[34m[19:13:52] src/tree/updater_prune.cc:74: tree pruning end, 1 roots, 16 extra nodes, 14 pruned nodes, max_depth=5\u001b[0m\n",
      "\u001b[34m[43]#011train-error:0.146067#011validation-error:0.1768\u001b[0m\n",
      "\u001b[34m[19:13:53] src/tree/updater_prune.cc:74: tree pruning end, 1 roots, 28 extra nodes, 4 pruned nodes, max_depth=5\u001b[0m\n",
      "\u001b[34m[44]#011train-error:0.1456#011validation-error:0.1763\u001b[0m\n",
      "\u001b[34m[19:13:54] src/tree/updater_prune.cc:74: tree pruning end, 1 roots, 24 extra nodes, 14 pruned nodes, max_depth=5\u001b[0m\n",
      "\u001b[34m[45]#011train-error:0.1436#011validation-error:0.1758\u001b[0m\n",
      "\u001b[34m[19:13:55] src/tree/updater_prune.cc:74: tree pruning end, 1 roots, 20 extra nodes, 12 pruned nodes, max_depth=5\u001b[0m\n",
      "\u001b[34m[46]#011train-error:0.142933#011validation-error:0.1746\u001b[0m\n",
      "\u001b[34m[19:13:57] src/tree/updater_prune.cc:74: tree pruning end, 1 roots, 22 extra nodes, 2 pruned nodes, max_depth=5\u001b[0m\n",
      "\u001b[34m[47]#011train-error:0.141533#011validation-error:0.1723\u001b[0m\n",
      "\u001b[34m[19:13:58] src/tree/updater_prune.cc:74: tree pruning end, 1 roots, 12 extra nodes, 8 pruned nodes, max_depth=5\u001b[0m\n",
      "\u001b[34m[48]#011train-error:0.141267#011validation-error:0.1718\u001b[0m\n",
      "\u001b[34m[19:13:59] src/tree/updater_prune.cc:74: tree pruning end, 1 roots, 20 extra nodes, 12 pruned nodes, max_depth=5\u001b[0m\n",
      "\u001b[34m[49]#011train-error:0.139267#011validation-error:0.1718\u001b[0m\n",
      "\u001b[34m[19:14:01] src/tree/updater_prune.cc:74: tree pruning end, 1 roots, 20 extra nodes, 8 pruned nodes, max_depth=5\u001b[0m\n",
      "\u001b[34m[50]#011train-error:0.138467#011validation-error:0.171\u001b[0m\n",
      "\u001b[34m[19:14:02] src/tree/updater_prune.cc:74: tree pruning end, 1 roots, 18 extra nodes, 6 pruned nodes, max_depth=5\u001b[0m\n",
      "\u001b[34m[51]#011train-error:0.137067#011validation-error:0.1702\u001b[0m\n",
      "\u001b[34m[19:14:03] src/tree/updater_prune.cc:74: tree pruning end, 1 roots, 20 extra nodes, 2 pruned nodes, max_depth=5\u001b[0m\n",
      "\u001b[34m[52]#011train-error:0.1366#011validation-error:0.1692\u001b[0m\n",
      "\u001b[34m[19:14:04] src/tree/updater_prune.cc:74: tree pruning end, 1 roots, 12 extra nodes, 10 pruned nodes, max_depth=5\u001b[0m\n",
      "\u001b[34m[53]#011train-error:0.1358#011validation-error:0.1683\u001b[0m\n",
      "\u001b[34m[19:14:06] src/tree/updater_prune.cc:74: tree pruning end, 1 roots, 22 extra nodes, 14 pruned nodes, max_depth=5\u001b[0m\n",
      "\u001b[34m[54]#011train-error:0.1346#011validation-error:0.1665\u001b[0m\n",
      "\u001b[34m[19:14:07] src/tree/updater_prune.cc:74: tree pruning end, 1 roots, 32 extra nodes, 4 pruned nodes, max_depth=5\u001b[0m\n",
      "\u001b[34m[55]#011train-error:0.134#011validation-error:0.1669\u001b[0m\n",
      "\u001b[34m[19:14:08] src/tree/updater_prune.cc:74: tree pruning end, 1 roots, 10 extra nodes, 16 pruned nodes, max_depth=5\u001b[0m\n",
      "\u001b[34m[56]#011train-error:0.133667#011validation-error:0.1671\u001b[0m\n",
      "\u001b[34m[19:14:10] src/tree/updater_prune.cc:74: tree pruning end, 1 roots, 18 extra nodes, 4 pruned nodes, max_depth=5\u001b[0m\n",
      "\u001b[34m[57]#011train-error:0.132867#011validation-error:0.1667\u001b[0m\n",
      "\u001b[34m[19:14:11] src/tree/updater_prune.cc:74: tree pruning end, 1 roots, 18 extra nodes, 8 pruned nodes, max_depth=5\u001b[0m\n",
      "\u001b[34m[58]#011train-error:0.133133#011validation-error:0.1647\u001b[0m\n",
      "\u001b[34m[19:14:12] src/tree/updater_prune.cc:74: tree pruning end, 1 roots, 26 extra nodes, 10 pruned nodes, max_depth=5\u001b[0m\n",
      "\u001b[34m[59]#011train-error:0.131933#011validation-error:0.1641\u001b[0m\n",
      "\u001b[34m[19:14:13] src/tree/updater_prune.cc:74: tree pruning end, 1 roots, 30 extra nodes, 10 pruned nodes, max_depth=5\u001b[0m\n",
      "\u001b[34m[60]#011train-error:0.1312#011validation-error:0.1637\u001b[0m\n",
      "\u001b[34m[19:14:15] src/tree/updater_prune.cc:74: tree pruning end, 1 roots, 22 extra nodes, 16 pruned nodes, max_depth=5\u001b[0m\n",
      "\u001b[34m[61]#011train-error:0.130333#011validation-error:0.1619\u001b[0m\n",
      "\u001b[34m[19:14:16] src/tree/updater_prune.cc:74: tree pruning end, 1 roots, 34 extra nodes, 8 pruned nodes, max_depth=5\u001b[0m\n",
      "\u001b[34m[62]#011train-error:0.130267#011validation-error:0.1625\u001b[0m\n",
      "\u001b[34m[19:14:17] src/tree/updater_prune.cc:74: tree pruning end, 1 roots, 26 extra nodes, 4 pruned nodes, max_depth=5\u001b[0m\n",
      "\u001b[34m[63]#011train-error:0.129933#011validation-error:0.1619\u001b[0m\n",
      "\u001b[34m[19:14:19] src/tree/updater_prune.cc:74: tree pruning end, 1 roots, 20 extra nodes, 8 pruned nodes, max_depth=5\u001b[0m\n",
      "\u001b[34m[64]#011train-error:0.128867#011validation-error:0.161\u001b[0m\n",
      "\u001b[34m[19:14:20] src/tree/updater_prune.cc:74: tree pruning end, 1 roots, 26 extra nodes, 6 pruned nodes, max_depth=5\u001b[0m\n",
      "\u001b[34m[65]#011train-error:0.128267#011validation-error:0.1609\u001b[0m\n",
      "\u001b[34m[19:14:21] src/tree/updater_prune.cc:74: tree pruning end, 1 roots, 24 extra nodes, 2 pruned nodes, max_depth=5\u001b[0m\n",
      "\u001b[34m[66]#011train-error:0.127533#011validation-error:0.1602\u001b[0m\n",
      "\u001b[34m[19:14:22] src/tree/updater_prune.cc:74: tree pruning end, 1 roots, 26 extra nodes, 2 pruned nodes, max_depth=5\u001b[0m\n",
      "\u001b[34m[67]#011train-error:0.126#011validation-error:0.1611\u001b[0m\n",
      "\u001b[34m[19:14:24] src/tree/updater_prune.cc:74: tree pruning end, 1 roots, 22 extra nodes, 12 pruned nodes, max_depth=5\u001b[0m\n",
      "\u001b[34m[68]#011train-error:0.124933#011validation-error:0.1613\u001b[0m\n",
      "\u001b[34m[19:14:25] src/tree/updater_prune.cc:74: tree pruning end, 1 roots, 24 extra nodes, 6 pruned nodes, max_depth=5\u001b[0m\n",
      "\u001b[34m[69]#011train-error:0.1244#011validation-error:0.1597\u001b[0m\n",
      "\u001b[34m[19:14:26] src/tree/updater_prune.cc:74: tree pruning end, 1 roots, 14 extra nodes, 6 pruned nodes, max_depth=5\u001b[0m\n",
      "\u001b[34m[70]#011train-error:0.123533#011validation-error:0.1593\u001b[0m\n",
      "\u001b[34m[19:14:28] src/tree/updater_prune.cc:74: tree pruning end, 1 roots, 18 extra nodes, 6 pruned nodes, max_depth=5\u001b[0m\n",
      "\u001b[34m[71]#011train-error:0.122867#011validation-error:0.1595\u001b[0m\n",
      "\u001b[34m[19:14:29] src/tree/updater_prune.cc:74: tree pruning end, 1 roots, 22 extra nodes, 14 pruned nodes, max_depth=5\u001b[0m\n",
      "\u001b[34m[72]#011train-error:0.1216#011validation-error:0.1585\u001b[0m\n",
      "\u001b[34m[19:14:30] src/tree/updater_prune.cc:74: tree pruning end, 1 roots, 24 extra nodes, 10 pruned nodes, max_depth=5\u001b[0m\n",
      "\u001b[34m[73]#011train-error:0.120867#011validation-error:0.1585\u001b[0m\n",
      "\u001b[34m[19:14:31] src/tree/updater_prune.cc:74: tree pruning end, 1 roots, 14 extra nodes, 16 pruned nodes, max_depth=5\u001b[0m\n",
      "\u001b[34m[74]#011train-error:0.1202#011validation-error:0.1577\u001b[0m\n",
      "\u001b[34m[19:14:33] src/tree/updater_prune.cc:74: tree pruning end, 1 roots, 28 extra nodes, 12 pruned nodes, max_depth=5\u001b[0m\n",
      "\u001b[34m[75]#011train-error:0.120133#011validation-error:0.1577\u001b[0m\n",
      "\u001b[34m[19:14:34] src/tree/updater_prune.cc:74: tree pruning end, 1 roots, 12 extra nodes, 10 pruned nodes, max_depth=5\u001b[0m\n",
      "\u001b[34m[76]#011train-error:0.119267#011validation-error:0.1568\u001b[0m\n",
      "\u001b[34m[19:14:35] src/tree/updater_prune.cc:74: tree pruning end, 1 roots, 24 extra nodes, 10 pruned nodes, max_depth=5\u001b[0m\n",
      "\u001b[34m[77]#011train-error:0.119067#011validation-error:0.158\u001b[0m\n",
      "\u001b[34m[19:14:36] src/tree/updater_prune.cc:74: tree pruning end, 1 roots, 12 extra nodes, 6 pruned nodes, max_depth=5\u001b[0m\n",
      "\u001b[34m[78]#011train-error:0.118533#011validation-error:0.1569\u001b[0m\n",
      "\u001b[34m[19:14:38] src/tree/updater_prune.cc:74: tree pruning end, 1 roots, 12 extra nodes, 16 pruned nodes, max_depth=5\u001b[0m\n",
      "\u001b[34m[79]#011train-error:0.1182#011validation-error:0.157\u001b[0m\n",
      "\u001b[34m[19:14:39] src/tree/updater_prune.cc:74: tree pruning end, 1 roots, 26 extra nodes, 16 pruned nodes, max_depth=5\u001b[0m\n",
      "\u001b[34m[80]#011train-error:0.1174#011validation-error:0.1568\u001b[0m\n",
      "\u001b[34m[19:14:40] src/tree/updater_prune.cc:74: tree pruning end, 1 roots, 12 extra nodes, 4 pruned nodes, max_depth=5\u001b[0m\n",
      "\u001b[34m[81]#011train-error:0.117#011validation-error:0.1567\u001b[0m\n",
      "\u001b[34m[19:14:42] src/tree/updater_prune.cc:74: tree pruning end, 1 roots, 16 extra nodes, 12 pruned nodes, max_depth=5\u001b[0m\n",
      "\u001b[34m[82]#011train-error:0.117#011validation-error:0.1555\u001b[0m\n",
      "\u001b[34m[19:14:43] src/tree/updater_prune.cc:74: tree pruning end, 1 roots, 12 extra nodes, 6 pruned nodes, max_depth=5\u001b[0m\n",
      "\u001b[34m[83]#011train-error:0.116867#011validation-error:0.1556\u001b[0m\n",
      "\u001b[34m[19:14:44] src/tree/updater_prune.cc:74: tree pruning end, 1 roots, 18 extra nodes, 12 pruned nodes, max_depth=5\u001b[0m\n",
      "\u001b[34m[84]#011train-error:0.116067#011validation-error:0.1544\u001b[0m\n",
      "\u001b[34m[19:14:45] src/tree/updater_prune.cc:74: tree pruning end, 1 roots, 12 extra nodes, 16 pruned nodes, max_depth=5\u001b[0m\n",
      "\u001b[34m[85]#011train-error:0.1154#011validation-error:0.154\u001b[0m\n",
      "\u001b[34m[19:14:47] src/tree/updater_prune.cc:74: tree pruning end, 1 roots, 10 extra nodes, 12 pruned nodes, max_depth=5\u001b[0m\n",
      "\u001b[34m[86]#011train-error:0.115133#011validation-error:0.1532\u001b[0m\n",
      "\u001b[34m[19:14:48] src/tree/updater_prune.cc:74: tree pruning end, 1 roots, 28 extra nodes, 6 pruned nodes, max_depth=5\u001b[0m\n",
      "\u001b[34m[87]#011train-error:0.1144#011validation-error:0.1536\u001b[0m\n"
     ]
    },
    {
     "name": "stdout",
     "output_type": "stream",
     "text": [
      "\u001b[34m[19:14:49] src/tree/updater_prune.cc:74: tree pruning end, 1 roots, 18 extra nodes, 12 pruned nodes, max_depth=5\u001b[0m\n",
      "\u001b[34m[88]#011train-error:0.1136#011validation-error:0.1528\u001b[0m\n",
      "\u001b[34m[19:14:51] src/tree/updater_prune.cc:74: tree pruning end, 1 roots, 16 extra nodes, 8 pruned nodes, max_depth=5\u001b[0m\n",
      "\u001b[34m[89]#011train-error:0.113333#011validation-error:0.1522\u001b[0m\n",
      "\u001b[34m[19:14:52] src/tree/updater_prune.cc:74: tree pruning end, 1 roots, 16 extra nodes, 10 pruned nodes, max_depth=5\u001b[0m\n",
      "\u001b[34m[90]#011train-error:0.113267#011validation-error:0.1522\u001b[0m\n",
      "\u001b[34m[19:14:53] src/tree/updater_prune.cc:74: tree pruning end, 1 roots, 14 extra nodes, 4 pruned nodes, max_depth=5\u001b[0m\n",
      "\u001b[34m[91]#011train-error:0.112933#011validation-error:0.1522\u001b[0m\n",
      "\u001b[34m[19:14:54] src/tree/updater_prune.cc:74: tree pruning end, 1 roots, 28 extra nodes, 6 pruned nodes, max_depth=5\u001b[0m\n",
      "\u001b[34m[92]#011train-error:0.111533#011validation-error:0.1517\u001b[0m\n",
      "\u001b[34m[19:14:56] src/tree/updater_prune.cc:74: tree pruning end, 1 roots, 18 extra nodes, 8 pruned nodes, max_depth=5\u001b[0m\n",
      "\u001b[34m[93]#011train-error:0.110467#011validation-error:0.1511\u001b[0m\n",
      "\u001b[34m[19:14:57] src/tree/updater_prune.cc:74: tree pruning end, 1 roots, 18 extra nodes, 4 pruned nodes, max_depth=5\u001b[0m\n",
      "\u001b[34m[94]#011train-error:0.110067#011validation-error:0.151\u001b[0m\n",
      "\u001b[34m[19:14:58] src/tree/updater_prune.cc:74: tree pruning end, 1 roots, 14 extra nodes, 4 pruned nodes, max_depth=5\u001b[0m\n",
      "\u001b[34m[95]#011train-error:0.109667#011validation-error:0.1505\u001b[0m\n",
      "\u001b[34m[19:15:00] src/tree/updater_prune.cc:74: tree pruning end, 1 roots, 24 extra nodes, 4 pruned nodes, max_depth=5\u001b[0m\n",
      "\u001b[34m[96]#011train-error:0.109067#011validation-error:0.1509\u001b[0m\n",
      "\u001b[34m[19:15:01] src/tree/updater_prune.cc:74: tree pruning end, 1 roots, 10 extra nodes, 10 pruned nodes, max_depth=5\u001b[0m\n",
      "\u001b[34m[97]#011train-error:0.1092#011validation-error:0.1504\u001b[0m\n",
      "\u001b[34m[19:15:02] src/tree/updater_prune.cc:74: tree pruning end, 1 roots, 18 extra nodes, 12 pruned nodes, max_depth=5\u001b[0m\n",
      "\u001b[34m[98]#011train-error:0.107867#011validation-error:0.1507\u001b[0m\n",
      "\u001b[34m[19:15:03] src/tree/updater_prune.cc:74: tree pruning end, 1 roots, 12 extra nodes, 14 pruned nodes, max_depth=5\u001b[0m\n",
      "\u001b[34m[99]#011train-error:0.107667#011validation-error:0.1509\u001b[0m\n",
      "\u001b[34m[19:15:05] src/tree/updater_prune.cc:74: tree pruning end, 1 roots, 12 extra nodes, 0 pruned nodes, max_depth=5\u001b[0m\n",
      "\u001b[34m[100]#011train-error:0.107267#011validation-error:0.1506\u001b[0m\n",
      "\u001b[34m[19:15:06] src/tree/updater_prune.cc:74: tree pruning end, 1 roots, 10 extra nodes, 2 pruned nodes, max_depth=5\u001b[0m\n",
      "\u001b[34m[101]#011train-error:0.107133#011validation-error:0.1506\u001b[0m\n",
      "\u001b[34m[19:15:07] src/tree/updater_prune.cc:74: tree pruning end, 1 roots, 24 extra nodes, 2 pruned nodes, max_depth=5\u001b[0m\n",
      "\u001b[34m[102]#011train-error:0.107#011validation-error:0.1495\u001b[0m\n",
      "\u001b[34m[19:15:09] src/tree/updater_prune.cc:74: tree pruning end, 1 roots, 14 extra nodes, 6 pruned nodes, max_depth=5\u001b[0m\n",
      "\u001b[34m[103]#011train-error:0.1066#011validation-error:0.1488\u001b[0m\n",
      "\u001b[34m[19:15:10] src/tree/updater_prune.cc:74: tree pruning end, 1 roots, 20 extra nodes, 12 pruned nodes, max_depth=5\u001b[0m\n",
      "\u001b[34m[104]#011train-error:0.106267#011validation-error:0.1487\u001b[0m\n",
      "\u001b[34m[19:15:11] src/tree/updater_prune.cc:74: tree pruning end, 1 roots, 16 extra nodes, 8 pruned nodes, max_depth=5\u001b[0m\n",
      "\u001b[34m[105]#011train-error:0.106067#011validation-error:0.1488\u001b[0m\n",
      "\u001b[34m[19:15:12] src/tree/updater_prune.cc:74: tree pruning end, 1 roots, 24 extra nodes, 6 pruned nodes, max_depth=5\u001b[0m\n",
      "\u001b[34m[106]#011train-error:0.105467#011validation-error:0.1481\u001b[0m\n",
      "\u001b[34m[19:15:14] src/tree/updater_prune.cc:74: tree pruning end, 1 roots, 12 extra nodes, 18 pruned nodes, max_depth=5\u001b[0m\n",
      "\u001b[34m[107]#011train-error:0.1056#011validation-error:0.1478\u001b[0m\n",
      "\u001b[34m[19:15:15] src/tree/updater_prune.cc:74: tree pruning end, 1 roots, 16 extra nodes, 8 pruned nodes, max_depth=5\u001b[0m\n",
      "\u001b[34m[108]#011train-error:0.104667#011validation-error:0.1471\u001b[0m\n",
      "\u001b[34m[19:15:16] src/tree/updater_prune.cc:74: tree pruning end, 1 roots, 12 extra nodes, 8 pruned nodes, max_depth=5\u001b[0m\n",
      "\u001b[34m[109]#011train-error:0.104133#011validation-error:0.1467\u001b[0m\n",
      "\u001b[34m[19:15:18] src/tree/updater_prune.cc:74: tree pruning end, 1 roots, 24 extra nodes, 10 pruned nodes, max_depth=5\u001b[0m\n",
      "\u001b[34m[110]#011train-error:0.103667#011validation-error:0.1469\u001b[0m\n",
      "\u001b[34m[19:15:19] src/tree/updater_prune.cc:74: tree pruning end, 1 roots, 18 extra nodes, 6 pruned nodes, max_depth=5\u001b[0m\n",
      "\u001b[34m[111]#011train-error:0.103267#011validation-error:0.1472\u001b[0m\n",
      "\u001b[34m[19:15:20] src/tree/updater_prune.cc:74: tree pruning end, 1 roots, 10 extra nodes, 10 pruned nodes, max_depth=5\u001b[0m\n",
      "\u001b[34m[112]#011train-error:0.103667#011validation-error:0.1475\u001b[0m\n",
      "\u001b[34m[19:15:21] src/tree/updater_prune.cc:74: tree pruning end, 1 roots, 10 extra nodes, 12 pruned nodes, max_depth=5\u001b[0m\n",
      "\u001b[34m[113]#011train-error:0.103333#011validation-error:0.1468\u001b[0m\n",
      "\u001b[34m[19:15:23] src/tree/updater_prune.cc:74: tree pruning end, 1 roots, 14 extra nodes, 10 pruned nodes, max_depth=5\u001b[0m\n",
      "\u001b[34m[114]#011train-error:0.102733#011validation-error:0.1477\u001b[0m\n",
      "\u001b[34m[19:15:24] src/tree/updater_prune.cc:74: tree pruning end, 1 roots, 22 extra nodes, 10 pruned nodes, max_depth=5\u001b[0m\n",
      "\u001b[34m[115]#011train-error:0.102733#011validation-error:0.1469\u001b[0m\n",
      "\u001b[34m[19:15:25] src/tree/updater_prune.cc:74: tree pruning end, 1 roots, 22 extra nodes, 20 pruned nodes, max_depth=5\u001b[0m\n",
      "\u001b[34m[116]#011train-error:0.1024#011validation-error:0.1478\u001b[0m\n",
      "\u001b[34m[19:15:27] src/tree/updater_prune.cc:74: tree pruning end, 1 roots, 16 extra nodes, 12 pruned nodes, max_depth=5\u001b[0m\n",
      "\u001b[34m[117]#011train-error:0.1014#011validation-error:0.1476\u001b[0m\n",
      "\u001b[34m[19:15:28] src/tree/updater_prune.cc:74: tree pruning end, 1 roots, 24 extra nodes, 8 pruned nodes, max_depth=5\u001b[0m\n",
      "\u001b[34m[118]#011train-error:0.100533#011validation-error:0.1455\u001b[0m\n",
      "\u001b[34m[19:15:29] src/tree/updater_prune.cc:74: tree pruning end, 1 roots, 16 extra nodes, 8 pruned nodes, max_depth=5\u001b[0m\n",
      "\u001b[34m[119]#011train-error:0.1002#011validation-error:0.1459\u001b[0m\n",
      "\u001b[34m[19:15:30] src/tree/updater_prune.cc:74: tree pruning end, 1 roots, 12 extra nodes, 8 pruned nodes, max_depth=5\u001b[0m\n",
      "\u001b[34m[120]#011train-error:0.099733#011validation-error:0.1458\u001b[0m\n",
      "\u001b[34m[19:15:32] src/tree/updater_prune.cc:74: tree pruning end, 1 roots, 18 extra nodes, 4 pruned nodes, max_depth=5\u001b[0m\n",
      "\u001b[34m[121]#011train-error:0.099333#011validation-error:0.1453\u001b[0m\n",
      "\u001b[34m[19:15:33] src/tree/updater_prune.cc:74: tree pruning end, 1 roots, 12 extra nodes, 16 pruned nodes, max_depth=5\u001b[0m\n",
      "\u001b[34m[122]#011train-error:0.099#011validation-error:0.1456\u001b[0m\n",
      "\u001b[34m[19:15:34] src/tree/updater_prune.cc:74: tree pruning end, 1 roots, 24 extra nodes, 6 pruned nodes, max_depth=5\u001b[0m\n",
      "\u001b[34m[123]#011train-error:0.098533#011validation-error:0.1454\u001b[0m\n",
      "\u001b[34m[19:15:35] src/tree/updater_prune.cc:74: tree pruning end, 1 roots, 16 extra nodes, 12 pruned nodes, max_depth=5\u001b[0m\n",
      "\u001b[34m[124]#011train-error:0.098333#011validation-error:0.1457\u001b[0m\n",
      "\u001b[34m[19:15:37] src/tree/updater_prune.cc:74: tree pruning end, 1 roots, 22 extra nodes, 6 pruned nodes, max_depth=5\u001b[0m\n",
      "\u001b[34m[125]#011train-error:0.0974#011validation-error:0.145\u001b[0m\n",
      "\u001b[34m[19:15:38] src/tree/updater_prune.cc:74: tree pruning end, 1 roots, 14 extra nodes, 8 pruned nodes, max_depth=5\u001b[0m\n",
      "\u001b[34m[126]#011train-error:0.097067#011validation-error:0.1453\u001b[0m\n",
      "\u001b[34m[19:15:39] src/tree/updater_prune.cc:74: tree pruning end, 1 roots, 16 extra nodes, 12 pruned nodes, max_depth=5\u001b[0m\n",
      "\u001b[34m[127]#011train-error:0.0972#011validation-error:0.1456\u001b[0m\n",
      "\u001b[34m[19:15:41] src/tree/updater_prune.cc:74: tree pruning end, 1 roots, 12 extra nodes, 10 pruned nodes, max_depth=5\u001b[0m\n",
      "\u001b[34m[128]#011train-error:0.0966#011validation-error:0.1457\u001b[0m\n",
      "\u001b[34m[19:15:42] src/tree/updater_prune.cc:74: tree pruning end, 1 roots, 10 extra nodes, 18 pruned nodes, max_depth=5\u001b[0m\n",
      "\u001b[34m[129]#011train-error:0.096067#011validation-error:0.145\u001b[0m\n",
      "\u001b[34m[19:15:43] src/tree/updater_prune.cc:74: tree pruning end, 1 roots, 20 extra nodes, 8 pruned nodes, max_depth=5\u001b[0m\n",
      "\u001b[34m[130]#011train-error:0.0954#011validation-error:0.1438\u001b[0m\n",
      "\u001b[34m[19:15:44] src/tree/updater_prune.cc:74: tree pruning end, 1 roots, 14 extra nodes, 12 pruned nodes, max_depth=5\u001b[0m\n",
      "\u001b[34m[131]#011train-error:0.095333#011validation-error:0.1447\u001b[0m\n",
      "\u001b[34m[19:15:46] src/tree/updater_prune.cc:74: tree pruning end, 1 roots, 20 extra nodes, 14 pruned nodes, max_depth=5\u001b[0m\n",
      "\u001b[34m[132]#011train-error:0.094867#011validation-error:0.1436\u001b[0m\n",
      "\u001b[34m[19:15:47] src/tree/updater_prune.cc:74: tree pruning end, 1 roots, 16 extra nodes, 8 pruned nodes, max_depth=5\u001b[0m\n",
      "\u001b[34m[133]#011train-error:0.095067#011validation-error:0.1438\u001b[0m\n",
      "\u001b[34m[19:15:48] src/tree/updater_prune.cc:74: tree pruning end, 1 roots, 12 extra nodes, 2 pruned nodes, max_depth=5\u001b[0m\n",
      "\u001b[34m[134]#011train-error:0.094733#011validation-error:0.1432\u001b[0m\n",
      "\u001b[34m[19:15:50] src/tree/updater_prune.cc:74: tree pruning end, 1 roots, 14 extra nodes, 8 pruned nodes, max_depth=5\u001b[0m\n",
      "\u001b[34m[135]#011train-error:0.094267#011validation-error:0.1424\u001b[0m\n"
     ]
    },
    {
     "name": "stdout",
     "output_type": "stream",
     "text": [
      "\u001b[34m[19:15:51] src/tree/updater_prune.cc:74: tree pruning end, 1 roots, 12 extra nodes, 8 pruned nodes, max_depth=5\u001b[0m\n",
      "\u001b[34m[136]#011train-error:0.094#011validation-error:0.1428\u001b[0m\n",
      "\u001b[34m[19:15:52] src/tree/updater_prune.cc:74: tree pruning end, 1 roots, 14 extra nodes, 8 pruned nodes, max_depth=5\u001b[0m\n",
      "\u001b[34m[137]#011train-error:0.094067#011validation-error:0.1423\u001b[0m\n",
      "\u001b[34m[19:15:53] src/tree/updater_prune.cc:74: tree pruning end, 1 roots, 22 extra nodes, 12 pruned nodes, max_depth=5\u001b[0m\n",
      "\u001b[34m[138]#011train-error:0.093267#011validation-error:0.1419\u001b[0m\n",
      "\u001b[34m[19:15:55] src/tree/updater_prune.cc:74: tree pruning end, 1 roots, 12 extra nodes, 8 pruned nodes, max_depth=5\u001b[0m\n",
      "\u001b[34m[139]#011train-error:0.093267#011validation-error:0.141\u001b[0m\n",
      "\u001b[34m[19:15:56] src/tree/updater_prune.cc:74: tree pruning end, 1 roots, 22 extra nodes, 8 pruned nodes, max_depth=5\u001b[0m\n",
      "\u001b[34m[140]#011train-error:0.092333#011validation-error:0.1408\u001b[0m\n",
      "\u001b[34m[19:15:57] src/tree/updater_prune.cc:74: tree pruning end, 1 roots, 18 extra nodes, 14 pruned nodes, max_depth=5\u001b[0m\n",
      "\u001b[34m[141]#011train-error:0.0922#011validation-error:0.1407\u001b[0m\n",
      "\u001b[34m[19:15:59] src/tree/updater_prune.cc:74: tree pruning end, 1 roots, 24 extra nodes, 8 pruned nodes, max_depth=5\u001b[0m\n",
      "\u001b[34m[142]#011train-error:0.091333#011validation-error:0.1418\u001b[0m\n",
      "\u001b[34m[19:16:00] src/tree/updater_prune.cc:74: tree pruning end, 1 roots, 12 extra nodes, 12 pruned nodes, max_depth=5\u001b[0m\n",
      "\u001b[34m[143]#011train-error:0.0916#011validation-error:0.1417\u001b[0m\n",
      "\u001b[34m[19:16:01] src/tree/updater_prune.cc:74: tree pruning end, 1 roots, 14 extra nodes, 10 pruned nodes, max_depth=5\u001b[0m\n",
      "\u001b[34m[144]#011train-error:0.092267#011validation-error:0.1408\u001b[0m\n",
      "\u001b[34m[19:16:02] src/tree/updater_prune.cc:74: tree pruning end, 1 roots, 14 extra nodes, 12 pruned nodes, max_depth=5\u001b[0m\n",
      "\u001b[34m[145]#011train-error:0.092467#011validation-error:0.1404\u001b[0m\n",
      "\u001b[34m[19:16:04] src/tree/updater_prune.cc:74: tree pruning end, 1 roots, 16 extra nodes, 6 pruned nodes, max_depth=5\u001b[0m\n",
      "\u001b[34m[146]#011train-error:0.0918#011validation-error:0.141\u001b[0m\n",
      "\u001b[34m[19:16:05] src/tree/updater_prune.cc:74: tree pruning end, 1 roots, 10 extra nodes, 4 pruned nodes, max_depth=5\u001b[0m\n",
      "\u001b[34m[147]#011train-error:0.0916#011validation-error:0.1409\u001b[0m\n",
      "\u001b[34m[19:16:06] src/tree/updater_prune.cc:74: tree pruning end, 1 roots, 18 extra nodes, 8 pruned nodes, max_depth=5\u001b[0m\n",
      "\u001b[34m[148]#011train-error:0.090867#011validation-error:0.1407\u001b[0m\n",
      "\u001b[34m[19:16:08] src/tree/updater_prune.cc:74: tree pruning end, 1 roots, 10 extra nodes, 2 pruned nodes, max_depth=5\u001b[0m\n",
      "\u001b[34m[149]#011train-error:0.091#011validation-error:0.1412\u001b[0m\n",
      "\u001b[34m[19:16:09] src/tree/updater_prune.cc:74: tree pruning end, 1 roots, 18 extra nodes, 8 pruned nodes, max_depth=5\u001b[0m\n",
      "\u001b[34m[150]#011train-error:0.090733#011validation-error:0.1402\u001b[0m\n",
      "\u001b[34m[19:16:10] src/tree/updater_prune.cc:74: tree pruning end, 1 roots, 20 extra nodes, 12 pruned nodes, max_depth=5\u001b[0m\n",
      "\u001b[34m[151]#011train-error:0.090867#011validation-error:0.1403\u001b[0m\n",
      "\u001b[34m[19:16:11] src/tree/updater_prune.cc:74: tree pruning end, 1 roots, 10 extra nodes, 2 pruned nodes, max_depth=5\u001b[0m\n",
      "\u001b[34m[152]#011train-error:0.0908#011validation-error:0.1402\u001b[0m\n",
      "\u001b[34m[19:16:13] src/tree/updater_prune.cc:74: tree pruning end, 1 roots, 10 extra nodes, 8 pruned nodes, max_depth=5\u001b[0m\n",
      "\u001b[34m[153]#011train-error:0.090733#011validation-error:0.1401\u001b[0m\n",
      "\u001b[34m[19:16:14] src/tree/updater_prune.cc:74: tree pruning end, 1 roots, 12 extra nodes, 2 pruned nodes, max_depth=5\u001b[0m\n",
      "\u001b[34m[154]#011train-error:0.090067#011validation-error:0.1399\u001b[0m\n",
      "\u001b[34m[19:16:15] src/tree/updater_prune.cc:74: tree pruning end, 1 roots, 12 extra nodes, 2 pruned nodes, max_depth=5\u001b[0m\n",
      "\u001b[34m[155]#011train-error:0.089#011validation-error:0.1408\u001b[0m\n",
      "\u001b[34m[19:16:17] src/tree/updater_prune.cc:74: tree pruning end, 1 roots, 18 extra nodes, 8 pruned nodes, max_depth=5\u001b[0m\n",
      "\u001b[34m[156]#011train-error:0.088267#011validation-error:0.141\u001b[0m\n",
      "\u001b[34m[19:16:18] src/tree/updater_prune.cc:74: tree pruning end, 1 roots, 16 extra nodes, 12 pruned nodes, max_depth=5\u001b[0m\n",
      "\u001b[34m[157]#011train-error:0.0882#011validation-error:0.1405\u001b[0m\n",
      "\u001b[34m[19:16:19] src/tree/updater_prune.cc:74: tree pruning end, 1 roots, 14 extra nodes, 10 pruned nodes, max_depth=5\u001b[0m\n",
      "\u001b[34m[158]#011train-error:0.087467#011validation-error:0.1405\u001b[0m\n",
      "\u001b[34m[19:16:20] src/tree/updater_prune.cc:74: tree pruning end, 1 roots, 10 extra nodes, 0 pruned nodes, max_depth=5\u001b[0m\n",
      "\u001b[34m[159]#011train-error:0.0876#011validation-error:0.1404\u001b[0m\n",
      "\u001b[34m[19:16:22] src/tree/updater_prune.cc:74: tree pruning end, 1 roots, 10 extra nodes, 2 pruned nodes, max_depth=5\u001b[0m\n",
      "\u001b[34m[160]#011train-error:0.087067#011validation-error:0.1402\u001b[0m\n",
      "\u001b[34m[19:16:23] src/tree/updater_prune.cc:74: tree pruning end, 1 roots, 12 extra nodes, 4 pruned nodes, max_depth=5\u001b[0m\n",
      "\u001b[34m[161]#011train-error:0.087133#011validation-error:0.1401\u001b[0m\n",
      "\u001b[34m[19:16:24] src/tree/updater_prune.cc:74: tree pruning end, 1 roots, 10 extra nodes, 8 pruned nodes, max_depth=5\u001b[0m\n",
      "\u001b[34m[162]#011train-error:0.087#011validation-error:0.1399\u001b[0m\n",
      "\u001b[34m[19:16:26] src/tree/updater_prune.cc:74: tree pruning end, 1 roots, 12 extra nodes, 6 pruned nodes, max_depth=5\u001b[0m\n",
      "\u001b[34m[163]#011train-error:0.086867#011validation-error:0.1402\u001b[0m\n",
      "\u001b[34m[19:16:27] src/tree/updater_prune.cc:74: tree pruning end, 1 roots, 14 extra nodes, 14 pruned nodes, max_depth=5\u001b[0m\n",
      "\u001b[34m[164]#011train-error:0.086467#011validation-error:0.1394\u001b[0m\n",
      "\u001b[34m[19:16:28] src/tree/updater_prune.cc:74: tree pruning end, 1 roots, 14 extra nodes, 8 pruned nodes, max_depth=5\u001b[0m\n",
      "\u001b[34m[165]#011train-error:0.085533#011validation-error:0.1394\u001b[0m\n",
      "\u001b[34m[19:16:30] src/tree/updater_prune.cc:74: tree pruning end, 1 roots, 12 extra nodes, 8 pruned nodes, max_depth=5\u001b[0m\n",
      "\u001b[34m[166]#011train-error:0.085733#011validation-error:0.1395\u001b[0m\n",
      "\u001b[34m[19:16:31] src/tree/updater_prune.cc:74: tree pruning end, 1 roots, 20 extra nodes, 6 pruned nodes, max_depth=5\u001b[0m\n",
      "\u001b[34m[167]#011train-error:0.085#011validation-error:0.1394\u001b[0m\n",
      "\u001b[34m[19:16:32] src/tree/updater_prune.cc:74: tree pruning end, 1 roots, 14 extra nodes, 12 pruned nodes, max_depth=5\u001b[0m\n",
      "\u001b[34m[168]#011train-error:0.085667#011validation-error:0.1395\u001b[0m\n",
      "\u001b[34m[19:16:33] src/tree/updater_prune.cc:74: tree pruning end, 1 roots, 12 extra nodes, 10 pruned nodes, max_depth=5\u001b[0m\n",
      "\u001b[34m[169]#011train-error:0.085533#011validation-error:0.1389\u001b[0m\n",
      "\u001b[34m[19:16:35] src/tree/updater_prune.cc:74: tree pruning end, 1 roots, 16 extra nodes, 4 pruned nodes, max_depth=5\u001b[0m\n",
      "\u001b[34m[170]#011train-error:0.0848#011validation-error:0.1387\u001b[0m\n",
      "\u001b[34m[19:16:36] src/tree/updater_prune.cc:74: tree pruning end, 1 roots, 16 extra nodes, 8 pruned nodes, max_depth=5\u001b[0m\n",
      "\u001b[34m[171]#011train-error:0.083533#011validation-error:0.1379\u001b[0m\n",
      "\u001b[34m[19:16:37] src/tree/updater_prune.cc:74: tree pruning end, 1 roots, 16 extra nodes, 18 pruned nodes, max_depth=5\u001b[0m\n",
      "\u001b[34m[172]#011train-error:0.083267#011validation-error:0.1378\u001b[0m\n",
      "\u001b[34m[19:16:39] src/tree/updater_prune.cc:74: tree pruning end, 1 roots, 10 extra nodes, 6 pruned nodes, max_depth=5\u001b[0m\n",
      "\u001b[34m[173]#011train-error:0.082533#011validation-error:0.1383\u001b[0m\n",
      "\u001b[34m[19:16:40] src/tree/updater_prune.cc:74: tree pruning end, 1 roots, 14 extra nodes, 8 pruned nodes, max_depth=5\u001b[0m\n",
      "\u001b[34m[174]#011train-error:0.082867#011validation-error:0.1381\u001b[0m\n",
      "\u001b[34m[19:16:41] src/tree/updater_prune.cc:74: tree pruning end, 1 roots, 12 extra nodes, 10 pruned nodes, max_depth=5\u001b[0m\n",
      "\u001b[34m[175]#011train-error:0.082333#011validation-error:0.138\u001b[0m\n",
      "\u001b[34m[19:16:42] src/tree/updater_prune.cc:74: tree pruning end, 1 roots, 12 extra nodes, 12 pruned nodes, max_depth=5\u001b[0m\n",
      "\u001b[34m[176]#011train-error:0.081867#011validation-error:0.1376\u001b[0m\n",
      "\u001b[34m[19:16:44] src/tree/updater_prune.cc:74: tree pruning end, 1 roots, 16 extra nodes, 12 pruned nodes, max_depth=5\u001b[0m\n",
      "\u001b[34m[177]#011train-error:0.081333#011validation-error:0.1371\u001b[0m\n",
      "\u001b[34m[19:16:45] src/tree/updater_prune.cc:74: tree pruning end, 1 roots, 10 extra nodes, 2 pruned nodes, max_depth=5\u001b[0m\n",
      "\u001b[34m[178]#011train-error:0.081467#011validation-error:0.1371\u001b[0m\n",
      "\u001b[34m[19:16:46] src/tree/updater_prune.cc:74: tree pruning end, 1 roots, 16 extra nodes, 6 pruned nodes, max_depth=5\u001b[0m\n",
      "\u001b[34m[179]#011train-error:0.0814#011validation-error:0.137\u001b[0m\n",
      "\u001b[34m[19:16:47] src/tree/updater_prune.cc:74: tree pruning end, 1 roots, 14 extra nodes, 8 pruned nodes, max_depth=5\u001b[0m\n",
      "\u001b[34m[180]#011train-error:0.0812#011validation-error:0.1375\u001b[0m\n",
      "\u001b[34m[19:16:49] src/tree/updater_prune.cc:74: tree pruning end, 1 roots, 18 extra nodes, 8 pruned nodes, max_depth=5\u001b[0m\n",
      "\u001b[34m[181]#011train-error:0.080267#011validation-error:0.1372\u001b[0m\n",
      "\u001b[34m[19:16:50] src/tree/updater_prune.cc:74: tree pruning end, 1 roots, 10 extra nodes, 12 pruned nodes, max_depth=5\u001b[0m\n",
      "\u001b[34m[182]#011train-error:0.079933#011validation-error:0.1371\u001b[0m\n",
      "\u001b[34m[19:16:51] src/tree/updater_prune.cc:74: tree pruning end, 1 roots, 10 extra nodes, 2 pruned nodes, max_depth=5\u001b[0m\n",
      "\u001b[34m[183]#011train-error:0.079733#011validation-error:0.1367\u001b[0m\n"
     ]
    },
    {
     "name": "stdout",
     "output_type": "stream",
     "text": [
      "\u001b[34m[19:16:53] src/tree/updater_prune.cc:74: tree pruning end, 1 roots, 12 extra nodes, 10 pruned nodes, max_depth=5\u001b[0m\n",
      "\u001b[34m[184]#011train-error:0.0794#011validation-error:0.1369\u001b[0m\n",
      "\u001b[34m[19:16:54] src/tree/updater_prune.cc:74: tree pruning end, 1 roots, 14 extra nodes, 10 pruned nodes, max_depth=5\u001b[0m\n",
      "\u001b[34m[185]#011train-error:0.079733#011validation-error:0.1373\u001b[0m\n",
      "\u001b[34m[19:16:55] src/tree/updater_prune.cc:74: tree pruning end, 1 roots, 10 extra nodes, 16 pruned nodes, max_depth=5\u001b[0m\n",
      "\u001b[34m[186]#011train-error:0.0792#011validation-error:0.1378\u001b[0m\n",
      "\u001b[34m[19:16:56] src/tree/updater_prune.cc:74: tree pruning end, 1 roots, 14 extra nodes, 14 pruned nodes, max_depth=5\u001b[0m\n",
      "\u001b[34m[187]#011train-error:0.078467#011validation-error:0.138\u001b[0m\n",
      "\u001b[34m[19:16:58] src/tree/updater_prune.cc:74: tree pruning end, 1 roots, 14 extra nodes, 18 pruned nodes, max_depth=5\u001b[0m\n",
      "\u001b[34m[188]#011train-error:0.078467#011validation-error:0.1378\u001b[0m\n",
      "\u001b[34m[19:16:59] src/tree/updater_prune.cc:74: tree pruning end, 1 roots, 10 extra nodes, 8 pruned nodes, max_depth=5\u001b[0m\n",
      "\u001b[34m[189]#011train-error:0.078667#011validation-error:0.1369\u001b[0m\n",
      "\u001b[34m[19:17:00] src/tree/updater_prune.cc:74: tree pruning end, 1 roots, 18 extra nodes, 8 pruned nodes, max_depth=5\u001b[0m\n",
      "\u001b[34m[190]#011train-error:0.0794#011validation-error:0.1365\u001b[0m\n",
      "\u001b[34m[19:17:02] src/tree/updater_prune.cc:74: tree pruning end, 1 roots, 14 extra nodes, 6 pruned nodes, max_depth=5\u001b[0m\n",
      "\u001b[34m[191]#011train-error:0.079267#011validation-error:0.1368\u001b[0m\n",
      "\u001b[34m[19:17:03] src/tree/updater_prune.cc:74: tree pruning end, 1 roots, 10 extra nodes, 4 pruned nodes, max_depth=5\u001b[0m\n",
      "\u001b[34m[192]#011train-error:0.079#011validation-error:0.136\u001b[0m\n",
      "\u001b[34m[19:17:04] src/tree/updater_prune.cc:74: tree pruning end, 1 roots, 18 extra nodes, 2 pruned nodes, max_depth=5\u001b[0m\n",
      "\u001b[34m[193]#011train-error:0.0784#011validation-error:0.1369\u001b[0m\n",
      "\u001b[34m[19:17:05] src/tree/updater_prune.cc:74: tree pruning end, 1 roots, 16 extra nodes, 4 pruned nodes, max_depth=5\u001b[0m\n",
      "\u001b[34m[194]#011train-error:0.078#011validation-error:0.1368\u001b[0m\n",
      "\u001b[34m[19:17:07] src/tree/updater_prune.cc:74: tree pruning end, 1 roots, 12 extra nodes, 4 pruned nodes, max_depth=5\u001b[0m\n",
      "\u001b[34m[195]#011train-error:0.078333#011validation-error:0.1373\u001b[0m\n",
      "\u001b[34m[19:17:08] src/tree/updater_prune.cc:74: tree pruning end, 1 roots, 14 extra nodes, 18 pruned nodes, max_depth=5\u001b[0m\n",
      "\u001b[34m[196]#011train-error:0.078067#011validation-error:0.1373\u001b[0m\n",
      "\u001b[34m[19:17:09] src/tree/updater_prune.cc:74: tree pruning end, 1 roots, 16 extra nodes, 8 pruned nodes, max_depth=5\u001b[0m\n",
      "\u001b[34m[197]#011train-error:0.078#011validation-error:0.1377\u001b[0m\n",
      "\u001b[34m[19:17:10] src/tree/updater_prune.cc:74: tree pruning end, 1 roots, 12 extra nodes, 4 pruned nodes, max_depth=5\u001b[0m\n",
      "\u001b[34m[198]#011train-error:0.078133#011validation-error:0.1371\u001b[0m\n",
      "\u001b[34m[19:17:12] src/tree/updater_prune.cc:74: tree pruning end, 1 roots, 14 extra nodes, 8 pruned nodes, max_depth=5\u001b[0m\n",
      "\u001b[34m[199]#011train-error:0.077667#011validation-error:0.1371\u001b[0m\n",
      "\u001b[34m[19:17:13] src/tree/updater_prune.cc:74: tree pruning end, 1 roots, 10 extra nodes, 6 pruned nodes, max_depth=5\u001b[0m\n",
      "\u001b[34m[200]#011train-error:0.077333#011validation-error:0.137\u001b[0m\n",
      "\u001b[34m[19:17:14] src/tree/updater_prune.cc:74: tree pruning end, 1 roots, 16 extra nodes, 14 pruned nodes, max_depth=5\u001b[0m\n",
      "\u001b[34m[201]#011train-error:0.077667#011validation-error:0.1365\u001b[0m\n",
      "\u001b[34m[19:17:16] src/tree/updater_prune.cc:74: tree pruning end, 1 roots, 12 extra nodes, 18 pruned nodes, max_depth=5\u001b[0m\n",
      "\u001b[34m[202]#011train-error:0.0776#011validation-error:0.137\u001b[0m\n",
      "\u001b[34mStopping. Best iteration:\u001b[0m\n",
      "\u001b[34m[192]#011train-error:0.079#011validation-error:0.136\n",
      "\u001b[0m\n",
      "\n",
      "2020-11-17 19:17:59 Uploading - Uploading generated training model\n",
      "2020-11-17 19:17:59 Completed - Training job completed\n",
      "Training seconds: 365\n",
      "Billable seconds: 365\n"
     ]
    }
   ],
   "source": [
    "xgb.fit({'train': s3_input_train, 'validation': s3_input_validation})"
   ]
  },
  {
   "cell_type": "markdown",
   "metadata": {},
   "source": [
    "### (TODO) Testing the model\n",
    "\n",
    "Now that we've fit our XGBoost model, it's time to see how well it performs. To do this we will use SageMakers Batch Transform functionality. Batch Transform is a convenient way to perform inference on a large dataset in a way that is not realtime. That is, we don't necessarily need to use our model's results immediately and instead we can peform inference on a large number of samples. An example of this in industry might be peforming an end of month report. This method of inference can also be useful to us as it means to can perform inference on our entire test set. \n",
    "\n",
    "To perform a Batch Transformation we need to first create a transformer objects from our trained estimator object."
   ]
  },
  {
   "cell_type": "code",
   "execution_count": 29,
   "metadata": {},
   "outputs": [
    {
     "name": "stderr",
     "output_type": "stream",
     "text": [
      "Parameter image will be renamed to image_uri in SageMaker Python SDK v2.\n"
     ]
    }
   ],
   "source": [
    "# TODO: Create a transformer object from the trained model. Using an instance count of 1 and an instance type of ml.m4.xlarge\n",
    "#       should be more than enough.\n",
    "xgb_transformer = None\n",
    "xgb_transformer = xgb.transformer(instance_count = 1, instance_type = 'ml.m4.xlarge')"
   ]
  },
  {
   "cell_type": "markdown",
   "metadata": {},
   "source": [
    "Next we actually perform the transform job. When doing so we need to make sure to specify the type of data we are sending so that it is serialized correctly in the background. In our case we are providing our model with csv data so we specify `text/csv`. Also, if the test data that we have provided is too large to process all at once then we need to specify how the data file should be split up. Since each line is a single entry in our data set we tell SageMaker that it can split the input on each line."
   ]
  },
  {
   "cell_type": "code",
   "execution_count": 30,
   "metadata": {},
   "outputs": [],
   "source": [
    "# TODO: Start the transform job. Make sure to specify the content type and the split type of the test data.\n",
    "xgb_transformer.transform(test_location, content_type='text/csv', split_type='Line')"
   ]
  },
  {
   "cell_type": "markdown",
   "metadata": {},
   "source": [
    "Currently the transform job is running but it is doing so in the background. Since we wish to wait until the transform job is done and we would like a bit of feedback we can run the `wait()` method."
   ]
  },
  {
   "cell_type": "code",
   "execution_count": 31,
   "metadata": {},
   "outputs": [
    {
     "name": "stdout",
     "output_type": "stream",
     "text": [
      "..........................\u001b[32m2020-11-17T19:23:37.251:[sagemaker logs]: MaxConcurrentTransforms=4, MaxPayloadInMB=6, BatchStrategy=MULTI_RECORD\u001b[0m\n",
      "\u001b[34mArguments: serve\u001b[0m\n",
      "\u001b[35mArguments: serve\u001b[0m\n",
      "\u001b[34m[2020-11-17 19:23:37 +0000] [1] [INFO] Starting gunicorn 19.7.1\u001b[0m\n",
      "\u001b[34m[2020-11-17 19:23:37 +0000] [1] [INFO] Listening at: http://0.0.0.0:8080 (1)\u001b[0m\n",
      "\u001b[34m[2020-11-17 19:23:37 +0000] [1] [INFO] Using worker: gevent\u001b[0m\n",
      "\u001b[34m[2020-11-17 19:23:37 +0000] [37] [INFO] Booting worker with pid: 37\u001b[0m\n",
      "\u001b[34m[2020-11-17 19:23:37 +0000] [38] [INFO] Booting worker with pid: 38\u001b[0m\n",
      "\u001b[34m[2020-11-17 19:23:37 +0000] [39] [INFO] Booting worker with pid: 39\u001b[0m\n",
      "\u001b[34m[2020-11-17:19:23:37:INFO] Model loaded successfully for worker : 37\u001b[0m\n",
      "\u001b[35m[2020-11-17 19:23:37 +0000] [1] [INFO] Starting gunicorn 19.7.1\u001b[0m\n",
      "\u001b[35m[2020-11-17 19:23:37 +0000] [1] [INFO] Listening at: http://0.0.0.0:8080 (1)\u001b[0m\n",
      "\u001b[35m[2020-11-17 19:23:37 +0000] [1] [INFO] Using worker: gevent\u001b[0m\n",
      "\u001b[35m[2020-11-17 19:23:37 +0000] [37] [INFO] Booting worker with pid: 37\u001b[0m\n",
      "\u001b[35m[2020-11-17 19:23:37 +0000] [38] [INFO] Booting worker with pid: 38\u001b[0m\n",
      "\u001b[35m[2020-11-17 19:23:37 +0000] [39] [INFO] Booting worker with pid: 39\u001b[0m\n",
      "\u001b[35m[2020-11-17:19:23:37:INFO] Model loaded successfully for worker : 37\u001b[0m\n",
      "\u001b[34m[2020-11-17:19:23:37:INFO] Model loaded successfully for worker : 38\u001b[0m\n",
      "\u001b[34m[2020-11-17 19:23:37 +0000] [40] [INFO] Booting worker with pid: 40\u001b[0m\n",
      "\u001b[34m[2020-11-17:19:23:37:INFO] Model loaded successfully for worker : 39\u001b[0m\n",
      "\u001b[34m[2020-11-17:19:23:37:INFO] Model loaded successfully for worker : 40\u001b[0m\n",
      "\u001b[34m[2020-11-17:19:23:37:INFO] Sniff delimiter as ','\u001b[0m\n",
      "\u001b[34m[2020-11-17:19:23:37:INFO] Determined delimiter of CSV input is ','\u001b[0m\n",
      "\u001b[34m[2020-11-17:19:23:37:INFO] Sniff delimiter as ','\u001b[0m\n",
      "\u001b[34m[2020-11-17:19:23:37:INFO] Determined delimiter of CSV input is ','\u001b[0m\n",
      "\u001b[34m[2020-11-17:19:23:38:INFO] Sniff delimiter as ','\u001b[0m\n",
      "\u001b[34m[2020-11-17:19:23:38:INFO] Determined delimiter of CSV input is ','\u001b[0m\n",
      "\u001b[34m[2020-11-17:19:23:38:INFO] Sniff delimiter as ','\u001b[0m\n",
      "\u001b[34m[2020-11-17:19:23:38:INFO] Determined delimiter of CSV input is ','\u001b[0m\n",
      "\u001b[34m[2020-11-17:19:23:40:INFO] Sniff delimiter as ','\u001b[0m\n",
      "\u001b[34m[2020-11-17:19:23:40:INFO] Determined delimiter of CSV input is ','\u001b[0m\n",
      "\u001b[34m[2020-11-17:19:23:40:INFO] Sniff delimiter as ','\u001b[0m\n",
      "\u001b[34m[2020-11-17:19:23:40:INFO] Determined delimiter of CSV input is ','\u001b[0m\n",
      "\u001b[35m[2020-11-17:19:23:37:INFO] Model loaded successfully for worker : 38\u001b[0m\n",
      "\u001b[35m[2020-11-17 19:23:37 +0000] [40] [INFO] Booting worker with pid: 40\u001b[0m\n",
      "\u001b[35m[2020-11-17:19:23:37:INFO] Model loaded successfully for worker : 39\u001b[0m\n",
      "\u001b[35m[2020-11-17:19:23:37:INFO] Model loaded successfully for worker : 40\u001b[0m\n",
      "\u001b[35m[2020-11-17:19:23:37:INFO] Sniff delimiter as ','\u001b[0m\n",
      "\u001b[35m[2020-11-17:19:23:37:INFO] Determined delimiter of CSV input is ','\u001b[0m\n",
      "\u001b[35m[2020-11-17:19:23:37:INFO] Sniff delimiter as ','\u001b[0m\n",
      "\u001b[35m[2020-11-17:19:23:37:INFO] Determined delimiter of CSV input is ','\u001b[0m\n",
      "\u001b[35m[2020-11-17:19:23:38:INFO] Sniff delimiter as ','\u001b[0m\n",
      "\u001b[35m[2020-11-17:19:23:38:INFO] Determined delimiter of CSV input is ','\u001b[0m\n",
      "\u001b[35m[2020-11-17:19:23:38:INFO] Sniff delimiter as ','\u001b[0m\n",
      "\u001b[35m[2020-11-17:19:23:38:INFO] Determined delimiter of CSV input is ','\u001b[0m\n",
      "\u001b[35m[2020-11-17:19:23:40:INFO] Sniff delimiter as ','\u001b[0m\n",
      "\u001b[35m[2020-11-17:19:23:40:INFO] Determined delimiter of CSV input is ','\u001b[0m\n",
      "\u001b[35m[2020-11-17:19:23:40:INFO] Sniff delimiter as ','\u001b[0m\n",
      "\u001b[35m[2020-11-17:19:23:40:INFO] Determined delimiter of CSV input is ','\u001b[0m\n",
      "\u001b[34m[2020-11-17:19:23:40:INFO] Sniff delimiter as ','\u001b[0m\n",
      "\u001b[34m[2020-11-17:19:23:40:INFO] Determined delimiter of CSV input is ','\u001b[0m\n",
      "\u001b[35m[2020-11-17:19:23:40:INFO] Sniff delimiter as ','\u001b[0m\n",
      "\u001b[35m[2020-11-17:19:23:40:INFO] Determined delimiter of CSV input is ','\u001b[0m\n",
      "\u001b[34m[2020-11-17:19:23:40:INFO] Sniff delimiter as ','\u001b[0m\n",
      "\u001b[34m[2020-11-17:19:23:40:INFO] Determined delimiter of CSV input is ','\u001b[0m\n",
      "\u001b[35m[2020-11-17:19:23:40:INFO] Sniff delimiter as ','\u001b[0m\n",
      "\u001b[35m[2020-11-17:19:23:40:INFO] Determined delimiter of CSV input is ','\u001b[0m\n",
      "\u001b[34m[2020-11-17:19:23:42:INFO] Sniff delimiter as ','\u001b[0m\n",
      "\u001b[34m[2020-11-17:19:23:42:INFO] Determined delimiter of CSV input is ','\u001b[0m\n",
      "\u001b[34m[2020-11-17:19:23:43:INFO] Sniff delimiter as ','\u001b[0m\n",
      "\u001b[34m[2020-11-17:19:23:43:INFO] Determined delimiter of CSV input is ','\u001b[0m\n",
      "\u001b[34m[2020-11-17:19:23:43:INFO] Sniff delimiter as ','\u001b[0m\n",
      "\u001b[34m[2020-11-17:19:23:43:INFO] Determined delimiter of CSV input is ','\u001b[0m\n",
      "\u001b[35m[2020-11-17:19:23:42:INFO] Sniff delimiter as ','\u001b[0m\n",
      "\u001b[35m[2020-11-17:19:23:42:INFO] Determined delimiter of CSV input is ','\u001b[0m\n",
      "\u001b[35m[2020-11-17:19:23:43:INFO] Sniff delimiter as ','\u001b[0m\n",
      "\u001b[35m[2020-11-17:19:23:43:INFO] Determined delimiter of CSV input is ','\u001b[0m\n",
      "\u001b[35m[2020-11-17:19:23:43:INFO] Sniff delimiter as ','\u001b[0m\n",
      "\u001b[35m[2020-11-17:19:23:43:INFO] Determined delimiter of CSV input is ','\u001b[0m\n",
      "\u001b[34m[2020-11-17:19:23:43:INFO] Sniff delimiter as ','\u001b[0m\n",
      "\u001b[34m[2020-11-17:19:23:43:INFO] Determined delimiter of CSV input is ','\u001b[0m\n",
      "\u001b[35m[2020-11-17:19:23:43:INFO] Sniff delimiter as ','\u001b[0m\n",
      "\u001b[35m[2020-11-17:19:23:43:INFO] Determined delimiter of CSV input is ','\u001b[0m\n",
      "\u001b[34m[2020-11-17:19:23:45:INFO] Sniff delimiter as ','\u001b[0m\n",
      "\u001b[35m[2020-11-17:19:23:45:INFO] Sniff delimiter as ','\u001b[0m\n",
      "\u001b[34m[2020-11-17:19:23:45:INFO] Determined delimiter of CSV input is ','\u001b[0m\n",
      "\u001b[34m[2020-11-17:19:23:45:INFO] Sniff delimiter as ','\u001b[0m\n",
      "\u001b[34m[2020-11-17:19:23:45:INFO] Determined delimiter of CSV input is ','\u001b[0m\n",
      "\u001b[34m[2020-11-17:19:23:45:INFO] Sniff delimiter as ','\u001b[0m\n",
      "\u001b[34m[2020-11-17:19:23:45:INFO] Determined delimiter of CSV input is ','\u001b[0m\n",
      "\u001b[34m[2020-11-17:19:23:45:INFO] Sniff delimiter as ','\u001b[0m\n",
      "\u001b[34m[2020-11-17:19:23:45:INFO] Determined delimiter of CSV input is ','\u001b[0m\n",
      "\u001b[35m[2020-11-17:19:23:45:INFO] Determined delimiter of CSV input is ','\u001b[0m\n",
      "\u001b[35m[2020-11-17:19:23:45:INFO] Sniff delimiter as ','\u001b[0m\n",
      "\u001b[35m[2020-11-17:19:23:45:INFO] Determined delimiter of CSV input is ','\u001b[0m\n",
      "\u001b[35m[2020-11-17:19:23:45:INFO] Sniff delimiter as ','\u001b[0m\n",
      "\u001b[35m[2020-11-17:19:23:45:INFO] Determined delimiter of CSV input is ','\u001b[0m\n",
      "\u001b[35m[2020-11-17:19:23:45:INFO] Sniff delimiter as ','\u001b[0m\n",
      "\u001b[35m[2020-11-17:19:23:45:INFO] Determined delimiter of CSV input is ','\u001b[0m\n",
      "\u001b[34m[2020-11-17:19:23:47:INFO] Sniff delimiter as ','\u001b[0m\n",
      "\u001b[34m[2020-11-17:19:23:47:INFO] Determined delimiter of CSV input is ','\u001b[0m\n",
      "\u001b[35m[2020-11-17:19:23:47:INFO] Sniff delimiter as ','\u001b[0m\n",
      "\u001b[35m[2020-11-17:19:23:47:INFO] Determined delimiter of CSV input is ','\u001b[0m\n",
      "\u001b[34m[2020-11-17:19:23:47:INFO] Sniff delimiter as ','\u001b[0m\n",
      "\u001b[34m[2020-11-17:19:23:47:INFO] Determined delimiter of CSV input is ','\u001b[0m\n",
      "\u001b[34m[2020-11-17:19:23:48:INFO] Sniff delimiter as ','\u001b[0m\n",
      "\u001b[34m[2020-11-17:19:23:48:INFO] Determined delimiter of CSV input is ','\u001b[0m\n",
      "\u001b[34m[2020-11-17:19:23:48:INFO] Sniff delimiter as ','\u001b[0m\n",
      "\u001b[34m[2020-11-17:19:23:48:INFO] Determined delimiter of CSV input is ','\u001b[0m\n",
      "\u001b[35m[2020-11-17:19:23:47:INFO] Sniff delimiter as ','\u001b[0m\n",
      "\u001b[35m[2020-11-17:19:23:47:INFO] Determined delimiter of CSV input is ','\u001b[0m\n",
      "\u001b[35m[2020-11-17:19:23:48:INFO] Sniff delimiter as ','\u001b[0m\n",
      "\u001b[35m[2020-11-17:19:23:48:INFO] Determined delimiter of CSV input is ','\u001b[0m\n",
      "\u001b[35m[2020-11-17:19:23:48:INFO] Sniff delimiter as ','\u001b[0m\n",
      "\u001b[35m[2020-11-17:19:23:48:INFO] Determined delimiter of CSV input is ','\u001b[0m\n",
      "\n",
      "\u001b[34m[2020-11-17:19:23:50:INFO] Sniff delimiter as ','\u001b[0m\n",
      "\u001b[35m[2020-11-17:19:23:50:INFO] Sniff delimiter as ','\u001b[0m\n",
      "\u001b[34m[2020-11-17:19:23:50:INFO] Determined delimiter of CSV input is ','\u001b[0m\n",
      "\u001b[35m[2020-11-17:19:23:50:INFO] Determined delimiter of CSV input is ','\u001b[0m\n",
      "\u001b[34m[2020-11-17:19:23:52:INFO] Sniff delimiter as ','\u001b[0m\n",
      "\u001b[34m[2020-11-17:19:23:52:INFO] Determined delimiter of CSV input is ','\u001b[0m\n",
      "\u001b[34m[2020-11-17:19:23:52:INFO] Sniff delimiter as ','\u001b[0m\n",
      "\u001b[34m[2020-11-17:19:23:52:INFO] Determined delimiter of CSV input is ','\u001b[0m\n",
      "\u001b[35m[2020-11-17:19:23:52:INFO] Sniff delimiter as ','\u001b[0m\n",
      "\u001b[35m[2020-11-17:19:23:52:INFO] Determined delimiter of CSV input is ','\u001b[0m\n",
      "\u001b[35m[2020-11-17:19:23:52:INFO] Sniff delimiter as ','\u001b[0m\n",
      "\u001b[35m[2020-11-17:19:23:52:INFO] Determined delimiter of CSV input is ','\u001b[0m\n",
      "\u001b[34m[2020-11-17:19:23:53:INFO] Sniff delimiter as ','\u001b[0m\n",
      "\u001b[34m[2020-11-17:19:23:53:INFO] Determined delimiter of CSV input is ','\u001b[0m\n",
      "\u001b[34m[2020-11-17:19:23:53:INFO] Sniff delimiter as ','\u001b[0m\n",
      "\u001b[34m[2020-11-17:19:23:53:INFO] Determined delimiter of CSV input is ','\u001b[0m\n",
      "\u001b[35m[2020-11-17:19:23:53:INFO] Sniff delimiter as ','\u001b[0m\n",
      "\u001b[35m[2020-11-17:19:23:53:INFO] Determined delimiter of CSV input is ','\u001b[0m\n",
      "\u001b[35m[2020-11-17:19:23:53:INFO] Sniff delimiter as ','\u001b[0m\n",
      "\u001b[35m[2020-11-17:19:23:53:INFO] Determined delimiter of CSV input is ','\u001b[0m\n",
      "\u001b[34m[2020-11-17:19:23:55:INFO] Sniff delimiter as ','\u001b[0m\n",
      "\u001b[34m[2020-11-17:19:23:55:INFO] Determined delimiter of CSV input is ','\u001b[0m\n",
      "\u001b[34m[2020-11-17:19:23:55:INFO] Sniff delimiter as ','\u001b[0m\n",
      "\u001b[34m[2020-11-17:19:23:55:INFO] Determined delimiter of CSV input is ','\u001b[0m\n",
      "\u001b[34m[2020-11-17:19:23:55:INFO] Sniff delimiter as ','\u001b[0m\n",
      "\u001b[34m[2020-11-17:19:23:55:INFO] Determined delimiter of CSV input is ','\u001b[0m\n",
      "\u001b[34m[2020-11-17:19:23:55:INFO] Sniff delimiter as ','\u001b[0m\n",
      "\u001b[34m[2020-11-17:19:23:55:INFO] Determined delimiter of CSV input is ','\u001b[0m\n",
      "\u001b[35m[2020-11-17:19:23:55:INFO] Sniff delimiter as ','\u001b[0m\n",
      "\u001b[35m[2020-11-17:19:23:55:INFO] Determined delimiter of CSV input is ','\u001b[0m\n",
      "\u001b[35m[2020-11-17:19:23:55:INFO] Sniff delimiter as ','\u001b[0m\n",
      "\u001b[35m[2020-11-17:19:23:55:INFO] Determined delimiter of CSV input is ','\u001b[0m\n",
      "\u001b[35m[2020-11-17:19:23:55:INFO] Sniff delimiter as ','\u001b[0m\n",
      "\u001b[35m[2020-11-17:19:23:55:INFO] Determined delimiter of CSV input is ','\u001b[0m\n",
      "\u001b[35m[2020-11-17:19:23:55:INFO] Sniff delimiter as ','\u001b[0m\n",
      "\u001b[35m[2020-11-17:19:23:55:INFO] Determined delimiter of CSV input is ','\u001b[0m\n",
      "\u001b[34m[2020-11-17:19:23:57:INFO] Sniff delimiter as ','\u001b[0m\n",
      "\u001b[34m[2020-11-17:19:23:57:INFO] Determined delimiter of CSV input is ','\u001b[0m\n",
      "\u001b[34m[2020-11-17:19:23:57:INFO] Sniff delimiter as ','\u001b[0m\n",
      "\u001b[34m[2020-11-17:19:23:57:INFO] Determined delimiter of CSV input is ','\u001b[0m\n",
      "\u001b[35m[2020-11-17:19:23:57:INFO] Sniff delimiter as ','\u001b[0m\n",
      "\u001b[35m[2020-11-17:19:23:57:INFO] Determined delimiter of CSV input is ','\u001b[0m\n",
      "\u001b[35m[2020-11-17:19:23:57:INFO] Sniff delimiter as ','\u001b[0m\n",
      "\u001b[35m[2020-11-17:19:23:57:INFO] Determined delimiter of CSV input is ','\u001b[0m\n",
      "\u001b[34m[2020-11-17:19:23:58:INFO] Sniff delimiter as ','\u001b[0m\n",
      "\u001b[35m[2020-11-17:19:23:58:INFO] Sniff delimiter as ','\u001b[0m\n",
      "\u001b[34m[2020-11-17:19:23:58:INFO] Determined delimiter of CSV input is ','\u001b[0m\n",
      "\u001b[34m[2020-11-17:19:23:58:INFO] Sniff delimiter as ','\u001b[0m\n",
      "\u001b[34m[2020-11-17:19:23:58:INFO] Determined delimiter of CSV input is ','\u001b[0m\n",
      "\u001b[35m[2020-11-17:19:23:58:INFO] Determined delimiter of CSV input is ','\u001b[0m\n",
      "\u001b[35m[2020-11-17:19:23:58:INFO] Sniff delimiter as ','\u001b[0m\n",
      "\u001b[35m[2020-11-17:19:23:58:INFO] Determined delimiter of CSV input is ','\u001b[0m\n"
     ]
    },
    {
     "name": "stdout",
     "output_type": "stream",
     "text": [
      "\u001b[34m[2020-11-17:19:24:00:INFO] Determined delimiter of CSV input is ','\u001b[0m\n",
      "\u001b[34m[2020-11-17:19:24:00:INFO] Sniff delimiter as ','\u001b[0m\n",
      "\u001b[34m[2020-11-17:19:24:00:INFO] Determined delimiter of CSV input is ','\u001b[0m\n",
      "\u001b[34m[2020-11-17:19:24:00:INFO] Sniff delimiter as ','\u001b[0m\n",
      "\u001b[34m[2020-11-17:19:24:00:INFO] Determined delimiter of CSV input is ','\u001b[0m\n",
      "\u001b[35m[2020-11-17:19:24:00:INFO] Determined delimiter of CSV input is ','\u001b[0m\n",
      "\u001b[35m[2020-11-17:19:24:00:INFO] Sniff delimiter as ','\u001b[0m\n",
      "\u001b[35m[2020-11-17:19:24:00:INFO] Determined delimiter of CSV input is ','\u001b[0m\n",
      "\u001b[35m[2020-11-17:19:24:00:INFO] Sniff delimiter as ','\u001b[0m\n",
      "\u001b[35m[2020-11-17:19:24:00:INFO] Determined delimiter of CSV input is ','\u001b[0m\n"
     ]
    }
   ],
   "source": [
    "xgb_transformer.wait()"
   ]
  },
  {
   "cell_type": "markdown",
   "metadata": {},
   "source": [
    "Now the transform job has executed and the result, the estimated sentiment of each review, has been saved on S3. Since we would rather work on this file locally we can perform a bit of notebook magic to copy the file to the `data_dir`."
   ]
  },
  {
   "cell_type": "code",
   "execution_count": 32,
   "metadata": {},
   "outputs": [
    {
     "name": "stdout",
     "output_type": "stream",
     "text": [
      "Completed 256.0 KiB/370.9 KiB (3.2 MiB/s) with 1 file(s) remaining\r",
      "Completed 370.9 KiB/370.9 KiB (4.0 MiB/s) with 1 file(s) remaining\r",
      "download: s3://sagemaker-eu-west-1-005638967662/xgboost-2020-11-17-19-19-11-104/test.csv.out to ../data/xgboost/test.csv.out\r\n"
     ]
    }
   ],
   "source": [
    "!aws s3 cp --recursive $xgb_transformer.output_path $data_dir"
   ]
  },
  {
   "cell_type": "markdown",
   "metadata": {},
   "source": [
    "The last step is now to read in the output from our model, convert the output to something a little more usable, in this case we want the sentiment to be either `1` (positive) or `0` (negative), and then compare to the ground truth labels."
   ]
  },
  {
   "cell_type": "code",
   "execution_count": 33,
   "metadata": {},
   "outputs": [],
   "source": [
    "predictions = pd.read_csv(os.path.join(data_dir, 'test.csv.out'), header=None)\n",
    "predictions = [round(num) for num in predictions.squeeze().values]"
   ]
  },
  {
   "cell_type": "code",
   "execution_count": 34,
   "metadata": {},
   "outputs": [
    {
     "data": {
      "text/plain": [
       "0.86448"
      ]
     },
     "execution_count": 34,
     "metadata": {},
     "output_type": "execute_result"
    }
   ],
   "source": [
    "from sklearn.metrics import accuracy_score\n",
    "accuracy_score(test_y, predictions)"
   ]
  },
  {
   "cell_type": "markdown",
   "metadata": {},
   "source": [
    "## Optional: Clean up\n",
    "\n",
    "The default notebook instance on SageMaker doesn't have a lot of excess disk space available. As you continue to complete and execute notebooks you will eventually fill up this disk space, leading to errors which can be difficult to diagnose. Once you are completely finished using a notebook it is a good idea to remove the files that you created along the way. Of course, you can do this from the terminal or from the notebook hub if you would like. The cell below contains some commands to clean up the created files from within the notebook."
   ]
  },
  {
   "cell_type": "code",
   "execution_count": 35,
   "metadata": {},
   "outputs": [],
   "source": [
    "# First we will remove all of the files contained in the data_dir directory\n",
    "!rm $data_dir/*\n",
    "\n",
    "# And then we delete the directory itself\n",
    "!rmdir $data_dir\n",
    "\n",
    "# Similarly we will remove the files in the cache_dir directory and the directory itself\n",
    "!rm $cache_dir/*\n",
    "!rmdir $cache_dir"
   ]
  },
  {
   "cell_type": "code",
   "execution_count": 36,
   "metadata": {},
   "outputs": [
    {
     "data": {
      "text/plain": [
       "25000"
      ]
     },
     "execution_count": 36,
     "metadata": {},
     "output_type": "execute_result"
    }
   ],
   "source": [
    "len(predictions)"
   ]
  },
  {
   "cell_type": "code",
   "execution_count": null,
   "metadata": {},
   "outputs": [],
   "source": []
  }
 ],
 "metadata": {
  "kernelspec": {
   "display_name": "conda_python3",
   "language": "python",
   "name": "conda_python3"
  },
  "language_info": {
   "codemirror_mode": {
    "name": "ipython",
    "version": 3
   },
   "file_extension": ".py",
   "mimetype": "text/x-python",
   "name": "python",
   "nbconvert_exporter": "python",
   "pygments_lexer": "ipython3",
   "version": "3.6.10"
  }
 },
 "nbformat": 4,
 "nbformat_minor": 2
}
